{
 "cells": [
  {
   "cell_type": "markdown",
   "metadata": {},
   "source": [
    "Auxiliary notebook for computing state-space sizes for use in my note 2 on state-space sizes"
   ]
  },
  {
   "cell_type": "code",
   "execution_count": 1,
   "metadata": {
    "collapsed": false
   },
   "outputs": [],
   "source": [
    "import numpy as np\n",
    "from fractions import gcd\n",
    "from scipy import pi, e\n",
    "from bigfloat import *"
   ]
  },
  {
   "cell_type": "code",
   "execution_count": 2,
   "metadata": {
    "collapsed": false
   },
   "outputs": [],
   "source": [
    "import sys\n",
    "simulations_dir = '../../coalescent-simulations'\n",
    "sys.path.append(simulations_dir)\n",
    "from recursionEquation import partitions,partitionToMultiset"
   ]
  },
  {
   "cell_type": "code",
   "execution_count": 3,
   "metadata": {
    "collapsed": false
   },
   "outputs": [
    {
     "data": {
      "text/plain": [
       "[(4, 4), (3, 5), (2, 6), (1, 7)]"
      ]
     },
     "execution_count": 3,
     "metadata": {},
     "output_type": "execute_result"
    }
   ],
   "source": [
    "partitions(8,2)[::-1]"
   ]
  },
  {
   "cell_type": "code",
   "execution_count": 4,
   "metadata": {
    "collapsed": false
   },
   "outputs": [],
   "source": [
    "class IntegerPartitions(object):\n",
    "    '''Iterator over all partitions of N sorted in reverse lexicographical order.'''\n",
    "    \n",
    "    def __init__(self,N):\n",
    "\n",
    "        assert N >= 0\n",
    "        assert isinstance(N,int)\n",
    "        \n",
    "        self.N = N\n",
    "        self.n_parts = 1\n",
    "        self.parts = [(N,)]\n",
    "        self.partitions_local = partitions\n",
    "        \n",
    "#         self.part = (N,)\n",
    "#         #self.part_rev = (N,)\n",
    "#         self.parts = 1\n",
    "#         #self.nextPart_index = 0\n",
    "    \n",
    "    def __iter__(self):\n",
    "        return self\n",
    "    \n",
    "    def next(self):\n",
    "\n",
    "        if len(self.parts) == 0:\n",
    "            if self.n_parts == self.N:\n",
    "                raise StopIteration\n",
    "            self.n_parts += 1\n",
    "            self.parts = self.partitions_local(self.N,self.n_parts)[::-1]\n",
    "        \n",
    "        return self.parts.pop()[::-1]\n",
    "            \n",
    "def s_subpartitions(s,part):\n",
    "    '''generate all sub-partitions of part summing to s\n",
    "    part must be sorted in non-ascending order.\n",
    "    By convention '()' is a valid sub-partition summing to 0 '''\n",
    "    if s == 0:\n",
    "        return [()]\n",
    "    elif 0 < s <= sum(part):\n",
    "        if part[0]==part[-1]:\n",
    "            return [(part[0],)*(s/part[0])] if s%part[0]==0 else []\n",
    "        else:\n",
    "            #a = [(part[0],)] if part[0] == s else [(part[0],) + x for x in s_subpartitions(s-part[0],part[1:])]\n",
    "            \n",
    "            a = [(part[0],) + x for x in s_subpartitions(s-part[0],part[1:])]\n",
    "            \n",
    "            i_next = 1\n",
    "            while part[0] == part[i_next]:\n",
    "                i_next += 1\n",
    "            \n",
    "            b = s_subpartitions(s,part[i_next:])\n",
    "            \n",
    "            return a + b \n",
    "    else:\n",
    "        return []\n",
    "    \n",
    "            "
   ]
  },
  {
   "cell_type": "code",
   "execution_count": 5,
   "metadata": {
    "collapsed": false
   },
   "outputs": [
    {
     "name": "stdout",
     "output_type": "stream",
     "text": [
      "(4,) []\n",
      "(3, 1) []\n",
      "(2, 2) [(0, 0, 1)]\n",
      "(2, 1, 1) [(0, 0, 1), (0, 2, 0)]\n",
      "(1, 1, 1, 1) [(0, 2, 0)]\n"
     ]
    }
   ],
   "source": [
    "for p in IntegerPartitions(4):\n",
    "    print p,map(partitionToMultiset ,s_subpartitions(2,p) )"
   ]
  },
  {
   "cell_type": "code",
   "execution_count": null,
   "metadata": {
    "collapsed": false
   },
   "outputs": [],
   "source": []
  },
  {
   "cell_type": "code",
   "execution_count": 6,
   "metadata": {
    "collapsed": false
   },
   "outputs": [
    {
     "name": "stdout",
     "output_type": "stream",
     "text": [
      "(8,)\n",
      "(7, 1)\n",
      "(6, 2)\n",
      "(5, 3)\n",
      "(4, 4)\n",
      "(6, 1, 1)\n",
      "(5, 2, 1)\n",
      "(4, 3, 1)\n",
      "(4, 2, 2)\n",
      "(3, 3, 2)\n",
      "(5, 1, 1, 1)\n",
      "(4, 2, 1, 1)\n",
      "(3, 3, 1, 1)\n",
      "(3, 2, 2, 1)\n",
      "(2, 2, 2, 2)\n",
      "(4, 1, 1, 1, 1)\n",
      "(3, 2, 1, 1, 1)\n",
      "(2, 2, 2, 1, 1)\n",
      "(3, 1, 1, 1, 1, 1)\n",
      "(2, 2, 1, 1, 1, 1)\n",
      "(2, 1, 1, 1, 1, 1, 1)\n",
      "(1, 1, 1, 1, 1, 1, 1, 1)\n"
     ]
    }
   ],
   "source": [
    "for p in IntegerPartitions(8):\n",
    "    print p"
   ]
  },
  {
   "cell_type": "code",
   "execution_count": 7,
   "metadata": {
    "collapsed": false
   },
   "outputs": [],
   "source": [
    "def factorial(k,start = 1):\n",
    "    assert isinstance(k,int)\n",
    "    assert k >= 0\n",
    "    return reduce(lambda x,y: x*y, range(start,k+1),1)\n",
    "\n",
    "def prod(x):\n",
    "    'return x[0] * x[1] * ... * x[n] (returns 1 if x empty)'\n",
    "    return reduce(lambda a,b: a*b, x, 1)\n",
    "\n",
    "def fProd(x):\n",
    "    'return x[0]! * x[1]! * ... * x[n]! (returns 1 if x empty)'\n",
    "    return reduce(lambda a,b: a*factorial(b), x, 1)\n",
    "\n",
    "def binomial(n,k,base = None,alwaysInt = False):\n",
    "    if n<100 or alwaysInt: # can be handled without overflow-errors\n",
    "        a = factorial(n,n-k+1)\n",
    "        b = factorial(k)\n",
    "        #assert a%b == 0\n",
    "        return a/b\n",
    "    else:\n",
    "        return exp(log_binomial(n,k,base))\n",
    "    \n",
    "def log_binomial(n,k,base = None):\n",
    "    assert (base is None) or base > 1.0\n",
    "    a = stirling_log_factorial(n)\n",
    "    b = stirling_log_factorial(k)\n",
    "    c = stirling_log_factorial(n-k)\n",
    "    if base is None:\n",
    "        return (a -  b) - c\n",
    "    else:\n",
    "        return ((a - b)  - c)/log(base)\n",
    "\n",
    "def stirling_approximation(n):\n",
    "    '''returns stirling's approximation of n!'''\n",
    "    n = float(n)\n",
    "    return sqrt(2*pi*n)*(n/e)**n\n",
    "#     a = sqrt(2*pi*n)\n",
    "#     x = n*log(n) - n\n",
    "#     b = exp(x)\n",
    "#     return a*b\n",
    "    \n",
    "def stirling_log_factorial(n):\n",
    "    '''returns stirling's approximation of ln(n!)'''\n",
    "    #return n*log(n) - n\n",
    "    return n*log(n) - n + log(sqrt(2*pi*n))"
   ]
  },
  {
   "cell_type": "code",
   "execution_count": 12,
   "metadata": {
    "collapsed": false
   },
   "outputs": [
    {
     "data": {
      "text/plain": [
       "210"
      ]
     },
     "execution_count": 12,
     "metadata": {},
     "output_type": "execute_result"
    }
   ],
   "source": [
    "sum([binomial(2+i,i) for i in range(5)])"
   ]
  },
  {
   "cell_type": "code",
   "execution_count": 8,
   "metadata": {
    "collapsed": true
   },
   "outputs": [],
   "source": [
    "def print_array_as_latex(data,rownames = None, colnames = None, element2str = None):\n",
    "\n",
    "    sep = '    & '# the string used to separate row-entries\n",
    "    if element2str is None:\n",
    "        element2str = lambda x: '%.4g'%x # map applied to turn any element into a string\n",
    "    \n",
    "    assert isinstance(data,np.ndarray)\n",
    "    assert len(data.shape) == 2\n",
    "    \n",
    "    rows,cols = data.shape\n",
    "\n",
    "    if colnames is not None:\n",
    "        assert cols == len(colnames)\n",
    "    if rownames is not None:\n",
    "        assert rows == len(rownames)\n",
    "\n",
    "    #indicate if extra rows/columns for names are needed.\n",
    "    extra_row = (colnames is not None)\n",
    "    extra_col = (rownames is not None)\n",
    "    \n",
    "    #Build header\n",
    "    headlines = [\n",
    "        '\\\\begin{table}',\n",
    "        '    \\\\begin{tabular}{%s}'%('r'*(cols+int(extra_col)))\n",
    "    ]\n",
    "\n",
    "    footlines = [\n",
    "        '    \\\\end{tabular}',\n",
    "        '\\\\end{table}'\n",
    "    ]\n",
    "\n",
    "    data_lines = []\n",
    "    \n",
    "    if colnames is not None:\n",
    "        data_lines.append('       ' +sep*int(extra_col)+sep.join(map(str,colnames)) + r' \\\\')\n",
    "    \n",
    "    #Build the data-part of the table\n",
    "    if rownames is None:\n",
    "        for row in data:\n",
    "            data_lines.append( '      ' + sep.join( map(element2str, row) ) + r' \\\\' )\n",
    "    else:\n",
    "        for i,row in enumerate(data):\n",
    "            data_lines.append( '      ' + sep.join( [str(rownames[i])] + map(element2str,row) ) + r' \\\\' )\n",
    "    \n",
    "    #what comes after the table\n",
    "    \n",
    "    \n",
    "    lines = headlines + data_lines + footlines\n",
    "    \n",
    "    outstr = '\\n'.join(lines)\n",
    "    \n",
    "    print outstr"
   ]
  },
  {
   "cell_type": "code",
   "execution_count": 9,
   "metadata": {
    "collapsed": false
   },
   "outputs": [],
   "source": [
    "A = np.zeros((4,5))"
   ]
  },
  {
   "cell_type": "code",
   "execution_count": 10,
   "metadata": {
    "collapsed": false
   },
   "outputs": [
    {
     "name": "stdout",
     "output_type": "stream",
     "text": [
      "\\begin{table}\n",
      "    \\begin{tabular}{rrrrrr}\n",
      "           & 0    & 1    & 2    & 3    & 4 \\\\\n",
      "      a    & 0    & 0    & 0    & 0    & 0 \\\\\n",
      "      b    & 0    & 0    & 0    & 0    & 0 \\\\\n",
      "      c    & 0    & 0    & 0    & 0    & 0 \\\\\n",
      "      d    & 0    & 0    & 0    & 0    & 0 \\\\\n",
      "    \\end{tabular}\n",
      "\\end{table}\n"
     ]
    }
   ],
   "source": [
    "print_array_as_latex(A,rownames=['a','b','c','d'],colnames=range(5))"
   ]
  },
  {
   "cell_type": "code",
   "execution_count": null,
   "metadata": {
    "collapsed": true
   },
   "outputs": [],
   "source": []
  },
  {
   "cell_type": "code",
   "execution_count": 57,
   "metadata": {
    "collapsed": true
   },
   "outputs": [],
   "source": [
    "def state_space_size_s_seg(n,L,k,s):\n",
    "    '''computes the state-space size when rows and columns are non-exchangeable'''\n",
    "    return binomial(L,s)*((k**n - k)**s)*(k**(L-s)) if s <= L else 0"
   ]
  },
  {
   "cell_type": "code",
   "execution_count": 74,
   "metadata": {
    "collapsed": true
   },
   "outputs": [],
   "source": [
    "def state_space_size_s_seg_exch_rows(n,L,k,s):\n",
    "    a = k**(L-s)\n",
    "    b = binomial(L,s)\n",
    "    accumulator = 0\n",
    "    for l_sigma in IntegerPartitions(n):\n",
    "        x =(k**len(l_sigma) - k)**s\n",
    "        y = prod(l_sigma) * fProd(partitionToMultiset(l_sigma))\n",
    "        assert (factorial(n)*factorial(L)*x)%y == 0\n",
    "        #print l_sigma, x,y,(factorial(n)*factorial(L)*x)/y\n",
    "        accumulator += (factorial(n)*factorial(L)*x)/y\n",
    "    return (a*b*accumulator)/(factorial(n)*factorial(L))"
   ]
  },
  {
   "cell_type": "code",
   "execution_count": 72,
   "metadata": {
    "collapsed": false
   },
   "outputs": [
    {
     "name": "stdout",
     "output_type": "stream",
     "text": [
      "(4,) 1 4 12\n",
      "(3, 1) 1 3 16\n",
      "(2, 2) 1 8 6\n",
      "(2, 1, 1) 1 4 12\n",
      "(1, 1, 1, 1) 1 24 2\n"
     ]
    },
    {
     "data": {
      "text/plain": [
       "4"
      ]
     },
     "execution_count": 72,
     "metadata": {},
     "output_type": "execute_result"
    }
   ],
   "source": [
    "state_space_size_s_seg_exch_rows(4,2,2,0)"
   ]
  },
  {
   "cell_type": "code",
   "execution_count": 58,
   "metadata": {
    "collapsed": false
   },
   "outputs": [
    {
     "name": "stdout",
     "output_type": "stream",
     "text": [
      "\\begin{table}\n",
      "    \\begin{tabular}{rrrr}\n",
      "           & 0    & 1    & 2 \\\\\n",
      "      1    & 4    & 0    & 0 \\\\\n",
      "      2    & 4    & 8    & 4 \\\\\n",
      "      3    & 4    & 24    & 36 \\\\\n",
      "      4    & 4    & 56    & 196 \\\\\n",
      "      5    & 4    & 120    & 900 \\\\\n",
      "      10    & 4    & 4088    & 1044484 \\\\\n",
      "      20    & 4    & 4194296    & 1099507433476 \\\\\n",
      "    \\end{tabular}\n",
      "\\end{table}\n"
     ]
    }
   ],
   "source": [
    "ns = [1,2,3,4,5,10,20]\n",
    "#ss = [0,1,2,3,4,5]\n",
    "ss = [0,1,2]\n",
    "L = 2\n",
    "k = 2\n",
    "A = np.zeros((len(ns),len(ss)))\n",
    "for i,n in enumerate(ns):\n",
    "    for j,s in enumerate(ss):\n",
    "        A[i,j] = state_space_size_s_seg(n,L,k,s)\n",
    "print_array_as_latex(A,rownames = map(lambda n: '%i'%n, ns),colnames = map(lambda s: '%i'%s, ss), element2str = lambda x: str(int(x)))"
   ]
  },
  {
   "cell_type": "code",
   "execution_count": 79,
   "metadata": {
    "collapsed": false
   },
   "outputs": [
    {
     "name": "stdout",
     "output_type": "stream",
     "text": [
      "\\begin{table}\n",
      "    \\begin{tabular}{rrrrrrr}\n",
      "           & 0    & 1    & 2    & 3    & 4    & 5 \\\\\n",
      "      1    & 32    & 0    & 0    & 0    & 0    & 0 \\\\\n",
      "      2    & 32    & 80    & 160    & 160    & 80    & 16 \\\\\n",
      "      3    & 32    & 160    & 640    & 1600    & 2240    & 1312 \\\\\n",
      "      4    & 32    & 240    & 1520    & 6880    & 19320    & 24368 \\\\\n",
      "      5    & 32    & 320    & 2880    & 20800    & 103360    & 249600 \\\\\n",
      "      10    & 32    & 720    & 19680    & 714240    & 31197040    & 1089167696 \\\\\n",
      "      20    & 32    & 1520    & 135280    & 35105920    & 32408807680    & 77502711576728 \\\\\n",
      "    \\end{tabular}\n",
      "\\end{table}\n"
     ]
    }
   ],
   "source": [
    "ns = [1,2,3,4,5,10,20]\n",
    "#ss = [0,1,2,3,4,5]\n",
    "ss = [0,1,2,3,4,5]\n",
    "L = 5\n",
    "k = 2\n",
    "B = np.zeros((len(ns),len(ss)))\n",
    "for i,n in enumerate(ns):\n",
    "    for j,s in enumerate(ss):\n",
    "        B[i,j] = state_space_size_s_seg_exch_rows(n,L,k,s)\n",
    "print_array_as_latex(B,rownames = map(lambda n: '%i'%n, ns),colnames = map(lambda s: '%i'%s, ss), element2str = lambda x: str(int(x)))"
   ]
  },
  {
   "cell_type": "code",
   "execution_count": 18,
   "metadata": {
    "collapsed": true
   },
   "outputs": [],
   "source": [
    "def summand_E_n_exch_rows_cols(l_sigma, l_mu, k):\n",
    "    n = sum(l_sigma)\n",
    "    L = sum(l_mu)\n",
    "    gcd_sum = sum([gcd(i,j) for i in l_sigma for j in l_mu])\n",
    "    a = k**(gcd_sum)\n",
    "    b = prod(l_sigma)*fProd(partitionToMultiset(l_sigma))\n",
    "    c = prod(l_mu)*fProd(partitionToMultiset(l_mu))\n",
    "    assert (factorial(n)*factorial(L)*a)%(b*c) == 0\n",
    "    return (factorial(n)*factorial(L)*a)/(b*c)\n",
    "\n",
    "# def product_term_prop_3(l_sigma,l_seg):\n",
    "#     return prod([k**sum([gcd(a,b) for a in l_sigma]) - k for b in l_seg])\n",
    "\n",
    "def summand_E_n_seg_s_exch_rows_cols(l_sigma,l_mu,k,s):\n",
    "    n = sum(l_sigma)\n",
    "    L = sum(l_mu)\n",
    "    alpha_sigma = partitionToMultiset(l_sigma)\n",
    "    alpha_mu = partitionToMultiset(l_mu)\n",
    "    \n",
    "    accumulator = 0\n",
    "    for l_sub in s_subpartitions(s,l_mu):\n",
    "        alpha_sub = partitionToMultiset(l_sub)\n",
    "        x = prod([binomial(alpha_mu[i],alpha_sub[i]) for i in range(len(alpha_sub))])\n",
    "        y = k**(len(l_mu) - len(l_sub))\n",
    "        z = prod([k**sum([gcd(a,b) for a in l_sigma]) - k for b in l_sub])\n",
    "        accumulator += x*y*z\n",
    "    \n",
    "    a = prod(l_sigma)*fProd(alpha_sigma)\n",
    "    b = prod(l_mu)*fProd(alpha_mu)\n",
    "    \n",
    "    assert factorial(n)*factorial(L)*accumulator%(a*b) == 0\n",
    "    \n",
    "    return factorial(n)*factorial(L)*accumulator/(a*b)\n",
    "        \n",
    "    #b = prod(l_sigma)*fProd(partitionToMultiset(l_sigma))\n",
    "    #return factorial(n) factorial(L)\n",
    "    \n",
    "    "
   ]
  },
  {
   "cell_type": "code",
   "execution_count": 15,
   "metadata": {
    "collapsed": false
   },
   "outputs": [],
   "source": [
    "def state_space_size_unrestricted_exch_exch(n,L,k):\n",
    "    s = 0\n",
    "    for l_sigma in IntegerPartitions(n):\n",
    "        for l_mu in IntegerPartitions(L):\n",
    "            s += summand_E_n_exch_rows_cols(l_sigma, l_mu, k)\n",
    "    return s/(factorial(n) * factorial(L))\n",
    "\n",
    "def state_space_size_s_seg_exch_exch(n,L,k,s):\n",
    "    accumulator = 0\n",
    "    for l_sigma in IntegerPartitions(n):\n",
    "        for l_mu in IntegerPartitions(L):\n",
    "            accumulator += summand_E_n_seg_s_exch_rows_cols(l_sigma,l_mu,k,s)\n",
    "    return accumulator/(factorial(n) * factorial(L))"
   ]
  },
  {
   "cell_type": "code",
   "execution_count": null,
   "metadata": {
    "collapsed": true
   },
   "outputs": [],
   "source": [
    "k = 2\n",
    "n = 2\n",
    "L = 2\n",
    "sum([summand_E_n_exch_rows_cols(l_sigma, l_mu, k) for l_sigma in IntegerPartitions(n) for l_mu in IntegerPartitions(L)])/4"
   ]
  },
  {
   "cell_type": "code",
   "execution_count": 16,
   "metadata": {
    "collapsed": false
   },
   "outputs": [
    {
     "data": {
      "text/plain": [
       "5624"
      ]
     },
     "execution_count": 16,
     "metadata": {},
     "output_type": "execute_result"
    }
   ],
   "source": [
    "state_space_size_unrestricted_exch_exch(5,5,2)"
   ]
  },
  {
   "cell_type": "code",
   "execution_count": 27,
   "metadata": {
    "collapsed": false
   },
   "outputs": [
    {
     "data": {
      "text/plain": [
       "384"
      ]
     },
     "execution_count": 27,
     "metadata": {},
     "output_type": "execute_result"
    }
   ],
   "source": [
    "state_space_size_s_seg_exch_exch(5,5,2,3)"
   ]
  },
  {
   "cell_type": "code",
   "execution_count": 78,
   "metadata": {
    "collapsed": false
   },
   "outputs": [
    {
     "name": "stdout",
     "output_type": "stream",
     "text": [
      "\\begin{table}\n",
      "    \\begin{tabular}{rrrrrrr}\n",
      "           & 0    & 1    & 2    & 3    & 4    & 5 \\\\\n",
      "      1    & 6    & 0    & 0    & 0    & 0    & 0 \\\\\n",
      "      2    & 6    & 5    & 8    & 6    & 6    & 3 \\\\\n",
      "      3    & 6    & 10    & 24    & 42    & 56    & 52 \\\\\n",
      "      4    & 6    & 15    & 52    & 144    & 330    & 506 \\\\\n",
      "      5    & 6    & 20    & 92    & 384    & 1414    & 3708 \\\\\n",
      "      10    & 6    & 45    & 560    & 10437    & 295170    & 9902525 \\\\\n",
      "      20    & 6    & 95    & 3620    & 463107    & 275786496    & 649321895060 \\\\\n",
      "    \\end{tabular}\n",
      "\\end{table}\n"
     ]
    }
   ],
   "source": [
    "ns = [1,2,3,4,5,10,20]\n",
    "#ss = [0,1,2,3,4,5]\n",
    "ss = [0,1,2,3,4,5]\n",
    "L = 5\n",
    "k = 2\n",
    "A = np.zeros((len(ns),len(ss)))\n",
    "for i,n in enumerate(ns):\n",
    "    for j,s in enumerate(ss):\n",
    "        A[i,j] = state_space_size_s_seg_exch_exch(n,L,k,s)\n",
    "print_array_as_latex(A,rownames = map(lambda n: '%i'%n, ns),colnames = map(lambda s: '%i'%s, ss), element2str = lambda x: str(int(x)))"
   ]
  }
 ],
 "metadata": {
  "kernelspec": {
   "display_name": "Python 2",
   "language": "python",
   "name": "python2"
  },
  "language_info": {
   "codemirror_mode": {
    "name": "ipython",
    "version": 2
   },
   "file_extension": ".py",
   "mimetype": "text/x-python",
   "name": "python",
   "nbconvert_exporter": "python",
   "pygments_lexer": "ipython2",
   "version": "2.7.6"
  }
 },
 "nbformat": 4,
 "nbformat_minor": 0
}
