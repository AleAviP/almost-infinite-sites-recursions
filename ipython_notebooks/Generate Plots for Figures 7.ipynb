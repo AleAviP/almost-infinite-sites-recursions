{
 "cells": [
  {
   "cell_type": "markdown",
   "metadata": {},
   "source": [
    "# We Start by merging code from Two earlier notebooks..."
   ]
  },
  {
   "cell_type": "markdown",
   "metadata": {},
   "source": [
    "## From Explicit Solutions"
   ]
  },
  {
   "cell_type": "code",
   "execution_count": 1,
   "metadata": {
    "collapsed": true
   },
   "outputs": [],
   "source": [
    "%matplotlib inline\n",
    "\n",
    "import matplotlib\n",
    "import numpy as np\n",
    "import matplotlib.pyplot as plt"
   ]
  },
  {
   "cell_type": "markdown",
   "metadata": {},
   "source": [
    "## From Test-recurisons"
   ]
  },
  {
   "cell_type": "code",
   "execution_count": 2,
   "metadata": {
    "collapsed": false
   },
   "outputs": [],
   "source": [
    "import numpy as np\n",
    "import sys, math"
   ]
  },
  {
   "cell_type": "code",
   "execution_count": 3,
   "metadata": {
    "collapsed": false
   },
   "outputs": [],
   "source": [
    "projectPath = '/home/mathias/programming/almost-infinite-sites-recursions'\n",
    "sys.path.insert(0,projectPath)\n",
    "import formula_outline as fo\n",
    "#from configurations import configuration_new as conf"
   ]
  },
  {
   "cell_type": "markdown",
   "metadata": {},
   "source": [
    "# To scale plot-text-size"
   ]
  },
  {
   "cell_type": "code",
   "execution_count": 31,
   "metadata": {
    "collapsed": true
   },
   "outputs": [],
   "source": [
    "matplotlib.rcParams.update({'font.size': 14})"
   ]
  },
  {
   "cell_type": "markdown",
   "metadata": {},
   "source": [
    "## Infinite Sites exact solver"
   ]
  },
  {
   "cell_type": "code",
   "execution_count": 4,
   "metadata": {
    "collapsed": false
   },
   "outputs": [],
   "source": [
    "'''j \\in d_coal[i] signifies that matrix j can be obtained by coalescing two rows from i'''\n",
    "d_coal_FS = {4:set([0]) ,\n",
    "          10:set([2]),\n",
    "          13:set([1]),\n",
    "          19:set([3]) }"
   ]
  },
  {
   "cell_type": "code",
   "execution_count": 5,
   "metadata": {
    "collapsed": false
   },
   "outputs": [
    {
     "data": {
      "text/plain": [
       "True"
      ]
     },
     "execution_count": 5,
     "metadata": {},
     "output_type": "execute_result"
    }
   ],
   "source": [
    "'''\n",
    "j in d_mut_FS[i] signifies that j and i are 1 mutation-event appart in the finite sites-model.\n",
    "Note that the recursion terminates when N = 1, and hence, that for instance 1 in d_mut_FS[0] does not hold.\n",
    "'''\n",
    "d_mut_FS = {\n",
    "         4:set([5,6,7,8]),\n",
    "         5:set([4,9,10,11]),\n",
    "         6:set([4,9,12,13]),\n",
    "         7:set([4,10,12,14]),\n",
    "         8:set([4,11,13,14]),\n",
    "         9:set([5,6,15,16]),\n",
    "         10:set([5,7,15,17]),\n",
    "         11:set([5,8,16,17]),\n",
    "         12:set([6,7,15,18]),\n",
    "         13:set([6,8,16,18]),\n",
    "         14:set([7,8,17,18]),\n",
    "         15:set([9,10,12,19]),\n",
    "         16:set([9,11,13,19]),\n",
    "         17:set([10,11,14,19]),\n",
    "         18:set([12,13,14,19]),\n",
    "         19:set([15,16,17,18])\n",
    "        }\n",
    "\n",
    "def checkSymmetry(d):\n",
    "    '''\n",
    "    An auxiliary function which will catch the odd input-error :p\n",
    "    Returns True if (j in d[i]) implies (i in d[j]) for all i and j, and Flase if not\n",
    "    '''\n",
    "    for key,val in d.iteritems():\n",
    "        for j in val:\n",
    "            if not (key in d[j]):\n",
    "                #print key,val,j,d[j]\n",
    "                return False\n",
    "    return True\n",
    "\n",
    "checkSymmetry(d_mut_FS)"
   ]
  },
  {
   "cell_type": "code",
   "execution_count": 6,
   "metadata": {
    "collapsed": false
   },
   "outputs": [],
   "source": [
    "def coeficientMatrix(theta, d_mut = d_mut_FS, d_coal = d_coal_FS, Nr = lambda x: 1.0, Nc = lambda x: 1.0):\n",
    "    '''\n",
    "    returns the coeffieient matrix for the linear system given by the griffiths-tavare-recursions expressed as a\n",
    "    homogeneous linear system.\n",
    "    \n",
    "    theta : a non-negative float.\n",
    "    \n",
    "    d_mut : a dictionary where d_mut[i] contains a list of all indices of matrices connected to i by one mutation.\n",
    "    \n",
    "    d_coal: a dictionary where d_mut[i] contains a set of all indices of matrices may be transformed into matrix i by\n",
    "            merging two identical rows; e.g. d_coal[0] == set([4]).\n",
    "            \n",
    "    Note that the correct coefficient matrix is only returned if the matricees are as outlined in the above comment!\n",
    "    '''\n",
    "    dim1 = len(d_coal)\n",
    "    dim = len(d_mut) + len(d_coal)\n",
    "    theta = float(theta)\n",
    "    \n",
    "    if theta < 0:\n",
    "        raise ValueError('\\'theta\\' should be a non-negative number.')\n",
    "    \n",
    "    if not checkSymmetry(d_mut):\n",
    "        raise UserWarning('warning: d_mut is not symmetric.')\n",
    "        \n",
    "        \n",
    "    #bdr = np.eye(4,dim)\n",
    "    A = np.r_[np.eye(dim1,dim),\n",
    "              np.zeros((dim-dim1,dim))]\n",
    "\n",
    "    for i in range(dim1,dim):\n",
    "        A[i,i] = -1.0\n",
    "    \n",
    "    for i,neigbours in d_mut.iteritems():\n",
    "        n = 2\n",
    "        p_mut = ( theta / ( n-1 + theta ) )\n",
    "        for j in neigbours:\n",
    "            A[i,j] = p_mut * ( Nr(j) * Nc(j) / 4.0 )\n",
    "    \n",
    "    for i,neighbours in d_coal.iteritems():\n",
    "        n = 2\n",
    "        p_coal = ( n-1 ) / (theta + n-1)\n",
    "        for j in neighbours:\n",
    "            A[i,j] = p_coal\n",
    "            \n",
    "    return A\n",
    "\n",
    "def inhomogeneity(bdr_cnd,zeroDim = 16):\n",
    "    return np.r_[bdr_cnd,np.zeros(zeroDim)]"
   ]
  },
  {
   "cell_type": "markdown",
   "metadata": {},
   "source": [
    "Using this, we can implement a map $(\\theta,\\pi) \\mapsto (x,A,b)$ s.t. $Ax = b$."
   ]
  },
  {
   "cell_type": "code",
   "execution_count": 7,
   "metadata": {
    "collapsed": false
   },
   "outputs": [],
   "source": [
    "def solve_GT_recursions(thetas,pis):\n",
    "    '''\n",
    "    Solve the Griffiths-and tavare-recursions explicitly for any (theta,pi) such that theta is an element of thetas,\n",
    "    and pi is an element of pis.\n",
    "    \n",
    "    Returns three dictionaries:\n",
    "      solutions,\n",
    "      Ms,\n",
    "      bs,\n",
    "    which are indexed by keysets thetas, pis and ((theta,pi) for theta in thetas for pi in pis) respectively.\n",
    "    There satisfy that the linear equation\n",
    "    \n",
    "      bs[pi] = Ms[theta] * solutions[(theta,pi)]\n",
    "    \n",
    "    holds for any choice of pi in pis and theta in thetas.\n",
    "    '''\n",
    "    solutions = {}\n",
    "    Ms = {}\n",
    "    bs = {}\n",
    "    for pi in pis:\n",
    "        b = inhomogeneity(pi)\n",
    "        bs[pi] = b\n",
    "        for theta in thetas:\n",
    "            M = coeficientMatrix(theta)\n",
    "            Ms[theta] = M\n",
    "            solutions[(theta,pi)] = np.linalg.solve(M,b)\n",
    "    return solutions,Ms,bs"
   ]
  },
  {
   "cell_type": "markdown",
   "metadata": {},
   "source": [
    "### Using the Solver to generate Figures"
   ]
  },
  {
   "cell_type": "code",
   "execution_count": 8,
   "metadata": {
    "collapsed": true
   },
   "outputs": [],
   "source": [
    "def generate_figure_paths(figure_name,\n",
    "                          file_prefix = 'explicit_solutions_',\n",
    "                          figurepath = '/home/mathias/Dropbox/doccuments/papers-in-progress/almost-infinite-sites-recursions/infinite-sites-model/graphics/',\n",
    "                          file_extensions = ['.pdf','.png','.eps','.jpeg']):\n",
    "    '''Returns a list of full paths for exporting figures'''\n",
    "    return ['%s%s%s%s'%(figurepath,file_prefix,figure_name,extension) for extension in file_extensions]"
   ]
  },
  {
   "cell_type": "markdown",
   "metadata": {},
   "source": [
    "## The Almost Infinite Sites model"
   ]
  },
  {
   "cell_type": "markdown",
   "metadata": {},
   "source": [
    "### Building a solver"
   ]
  },
  {
   "cell_type": "code",
   "execution_count": 9,
   "metadata": {
    "collapsed": true
   },
   "outputs": [],
   "source": [
    "def Nr_AIS(j):\n",
    "#     return 1.0 + float(j in (3,6,9))\n",
    "    return 1.0 + float(j in (3,6,9,7)) # This is a HACK. The factor in front \n",
    "\n",
    "def Nc_AIS(j):\n",
    "    return 1.0 + float(j in (3,5,9))"
   ]
  },
  {
   "cell_type": "code",
   "execution_count": 10,
   "metadata": {
    "collapsed": true
   },
   "outputs": [],
   "source": [
    "d_coal_AIS = {\n",
    "    3:set([0]),\n",
    "    6:set([1]),\n",
    "    9:set([2])\n",
    "}"
   ]
  },
  {
   "cell_type": "code",
   "execution_count": 11,
   "metadata": {
    "collapsed": false
   },
   "outputs": [
    {
     "data": {
      "text/plain": [
       "True"
      ]
     },
     "execution_count": 11,
     "metadata": {},
     "output_type": "execute_result"
    }
   ],
   "source": [
    "d_mut_AIS = {\n",
    "    3:set([4]),\n",
    "    4:set([3,5,6,7]),\n",
    "    5:set([4,8]),\n",
    "    6:set([4,8]),\n",
    "    7:set([4,8]),\n",
    "    8:set([5,6,7,9]),\n",
    "    9:set([8])\n",
    "}\n",
    "checkSymmetry(d_mut_AIS)"
   ]
  },
  {
   "cell_type": "markdown",
   "metadata": {},
   "source": [
    "This is really all we need to implement the explicit solution of the almost infinite sites model."
   ]
  },
  {
   "cell_type": "code",
   "execution_count": 12,
   "metadata": {
    "collapsed": false
   },
   "outputs": [],
   "source": [
    "pi1_AIS = [0.25, 0.5, 0.25]\n",
    "pi2_AIS = [1.0 , 0.0 , 0.0]\n",
    "M1_AIS = coeficientMatrix(1.0, d_mut = d_mut_AIS, d_coal = d_coal_AIS, Nr = Nr_AIS, Nc = Nc_AIS)\n",
    "b1_AIS = inhomogeneity(pi1_AIS,7)\n",
    "b2_AIS = inhomogeneity(pi2_AIS,7)\n",
    "x1_AIS = np.linalg.solve(M1_AIS,b1_AIS)\n",
    "x2_AIS = np.linalg.solve(M1_AIS,b2_AIS)"
   ]
  },
  {
   "cell_type": "markdown",
   "metadata": {},
   "source": [
    "Satisfies with brief tests, we now *write* a solver, similar to for the Griffiths-tavare-case:"
   ]
  },
  {
   "cell_type": "code",
   "execution_count": 13,
   "metadata": {
    "collapsed": false
   },
   "outputs": [],
   "source": [
    "def solve_AIS_recursions(thetas,pis):\n",
    "    '''\n",
    "    Solve the Almost Infinite Sites-recursions explicitly for any (theta,pi) such that theta is an element of thetas,\n",
    "    and pi is an element of pis.\n",
    "    \n",
    "    Returns three dictionaries:\n",
    "      solutions,\n",
    "      Ms,\n",
    "      bs,\n",
    "    which are indexed by keysets thetas, pis and ((theta,pi) for theta in thetas for pi in pis) respectively.\n",
    "    There satisfy that the linear equation\n",
    "    \n",
    "      bs[pi] = Ms[theta] * solutions[(theta,pi)]\n",
    "    \n",
    "    holds for any choice of pi in pis and theta in thetas.\n",
    "    '''\n",
    "    solutions = {}\n",
    "    Ms = {}\n",
    "    bs = {}\n",
    "    for pi in pis:\n",
    "        b = inhomogeneity(pi,7)\n",
    "        bs[pi] = b\n",
    "        for theta in thetas:\n",
    "            M = coeficientMatrix(theta, d_mut = d_mut_AIS, d_coal = d_coal_AIS, Nr = Nr_AIS, Nc = Nc_AIS)\n",
    "            Ms[theta] = M\n",
    "            solutions[(theta,pi)] = np.linalg.solve(M,b)\n",
    "    return solutions,Ms,bs"
   ]
  },
  {
   "cell_type": "markdown",
   "metadata": {},
   "source": [
    "### PLOTS!"
   ]
  },
  {
   "cell_type": "code",
   "execution_count": 54,
   "metadata": {
    "collapsed": false
   },
   "outputs": [],
   "source": [
    "thetas = np.logspace(-4,3,num=100)\n",
    "pi1_AIS = (0.25, 0.5, 0.25)\n",
    "pi2_AIS = (1.0 , 0.0 , 0.0)\n",
    "pis_AIS = (pi1_AIS,pi2_AIS)\n",
    "\n",
    "solutions_AIS,Ms_AIS,bs_AIS = solve_AIS_recursions(thetas,pis_AIS)"
   ]
  },
  {
   "cell_type": "code",
   "execution_count": 56,
   "metadata": {
    "collapsed": false,
    "scrolled": true
   },
   "outputs": [
    {
     "data": {
      "image/png": "[encoded data removed]",
      "text/plain": [
       "<matplotlib.figure.Figure at 0x7f57b1218ed0>"
      ]
     },
     "metadata": {},
     "output_type": "display_data"
    },
    {
     "data": {
      "image/png": "[encoded data removed]",
      "text/plain": [
       "<matplotlib.figure.Figure at 0x7f57b1235ed0>"
      ]
     },
     "metadata": {},
     "output_type": "display_data"
    }
   ],
   "source": [
    "labels = {\n",
    "    3: r'$\\psi_1$',\n",
    "    4: r'$\\psi_2$',\n",
    "    5: r'$\\psi_3$',\n",
    "    6: r'$\\psi_4$',\n",
    "    7: r'$\\psi_5$',\n",
    "    8: r'$\\psi_6$',\n",
    "    9: r'$\\psi_7$'\n",
    "#     3: r'$q(\\psi_1)$',\n",
    "#     4: r'$q(\\psi_2)$',\n",
    "#     5: r'$q(\\psi_3)$',\n",
    "#     6: r'$q(\\psi_4)$',\n",
    "#     7: r'$q(\\psi_5)$',\n",
    "#     8: r'$q(\\psi_6)$',\n",
    "#     9: r'$q(\\psi_7)$'\n",
    "}\n",
    "'''\n",
    "[‘solid’ | ‘dashed’, ‘dashdot’, ‘dotted’ | (offset, on-off-dash-seq) | '-' | '--' | '-.' | ':' | 'None' | ' ' | '']\n",
    "'''\n",
    "styles = {\n",
    "    3: 'solid',\n",
    "    4: 'dashed',\n",
    "    5: 'dashdot',\n",
    "    6: 'dotted',\n",
    "    7: 'dashdot',\n",
    "    8: ':',\n",
    "    9: 'solid'    \n",
    "}\n",
    "\n",
    "# colors ={\n",
    "#     3: 'blue',\n",
    "#     4: 'red',\n",
    "#     5: 'darkgreen',\n",
    "#     6: 'magenta',\n",
    "#     7: 'brown',\n",
    "#     8: 'darkorange',\n",
    "#     9: 'orchid'\n",
    "# }\n",
    "\n",
    "colors ={\n",
    "    3: 'black',\n",
    "    4: 'black',\n",
    "    5: 'black',\n",
    "    6: 'black',\n",
    "    7: 'black',\n",
    "    8: 'black',\n",
    "    9: 'black'\n",
    "}\n",
    "\n",
    "\n",
    "\n",
    "\n",
    "\n",
    "plt.figure(3)\n",
    "#plt.subplot(211)\n",
    "for i in (3,4,5,6):\n",
    "    likelihhods = [solutions_AIS[(theta,pi1_AIS)][i] for theta in thetas]\n",
    "    plt.plot(thetas,likelihhods, label = labels[i], linestyle = styles[i], color = colors[i])\n",
    "#plt.legendnd()\n",
    "plt.legend()\n",
    "plt.xscale('log')\n",
    "plt.xlabel('$\\\\theta$ (log-scale)')\n",
    "plt.title('$\\pi = \\\\frac{1}{4}(\\delta_{[0 , 0]} + 2\\delta_{[1 , 0]} + \\delta_{[1 , 1]})$')\n",
    "\n",
    "figure_paths = generate_figure_paths('AIS_symetric_boundary_no_color')\n",
    "for path in figure_paths:\n",
    "    plt.savefig(path)\n",
    "\n",
    "plt.show()\n",
    "plt.close()\n",
    "\n",
    "plt.figure(4)\n",
    "#plt.subplot(212)\n",
    "for i in (3,4,5,6):\n",
    "    likelihhods = [solutions_AIS[(theta,pi1_AIS)][i] for theta in thetas]\n",
    "    #plt.plot(thetas,likelihhods, label = 'i = %i'%i)\n",
    "    plt.plot(thetas,likelihhods, label = labels[i], linestyle = styles[i], color = colors[i])\n",
    "#plt.legendnd()\n",
    "plt.legend(bbox_to_anchor=(0.99, 0.50))\n",
    "plt.xscale('log')\n",
    "plt.yscale('log')\n",
    "plt.xlabel('$\\\\theta$ (log-scale)')\n",
    "plt.ylabel('(log-scale)')\n",
    "#plt.title('$q_i$ for $i \\\\in \\\\{ 3,4,5\\\\}$, $\\pi = \\\\frac{1}{4}(\\delta_0 + 2\\delta_1 + \\delta_2)$')\n",
    "plt.title('$\\pi = \\\\frac{1}{4}(\\delta_{[0 , 0]} + 2\\delta_{[1 , 0]} + \\delta_{[1 , 1]})$')\n",
    "\n",
    "figure_paths = generate_figure_paths('AIS_symetric_boundary_log-log_no_color')\n",
    "for path in figure_paths:\n",
    "    plt.savefig(path)\n",
    "\n",
    "plt.show()\n",
    "plt.close()"
   ]
  },
  {
   "cell_type": "code",
   "execution_count": 68,
   "metadata": {
    "collapsed": false
   },
   "outputs": [
    {
     "data": {
      "image/png": "[encoded data removed]",
      "text/plain": [
       "<matplotlib.figure.Figure at 0x7f57b0e02f90>"
      ]
     },
     "metadata": {},
     "output_type": "display_data"
    },
    {
     "data": {
      "image/png": "[encoded data removed]",
      "text/plain": [
       "<matplotlib.figure.Figure at 0x7f57b17a2350>"
      ]
     },
     "metadata": {},
     "output_type": "display_data"
    }
   ],
   "source": [
    "plt.figure(3)\n",
    "for i in (3,4,5,8,9):\n",
    "    likelihhods = [solutions_AIS[(theta,pi2_AIS)][i] for theta in thetas]\n",
    "    plt.plot(thetas,likelihhods, label = labels[i], linestyle = styles[i], color = colors[i])\n",
    "plt.xscale('log')\n",
    "plt.xlabel(r'$\\theta$ (log-scale)',size='16')\n",
    "plt.ylabel(r'$P_2(\\psi)$',size='16')\n",
    "#plt.title(r'$\\pi = \\delta_{[0, 0]}$')\n",
    "plt.legend(bbox_to_anchor=(0.28,1.0))\n",
    "\n",
    "figure_paths = generate_figure_paths('AIS_non-symetric_boundary_no_color')\n",
    "for path in figure_paths:\n",
    "    plt.savefig(path)\n",
    "\n",
    "plt.show()\n",
    "plt.close()\n",
    "\n",
    "plt.figure(4)\n",
    "for i in (3,4,5,8,9):\n",
    "    likelihhods = [solutions_AIS[(theta,pi2_AIS)][i] for theta in thetas]\n",
    "    plt.plot(thetas,likelihhods, label = labels[i], linestyle = styles[i], color = colors[i])\n",
    "plt.xscale('log')\n",
    "plt.yscale('log')\n",
    "plt.xlabel(r'$\\theta$ (log-scale)')\n",
    "plt.ylabel('(log-scale)')\n",
    "plt.title(r'$\\pi = \\delta_{[0, 0]}$')\n",
    "plt.legend(bbox_to_anchor=(0.99, 0.75))\n",
    "\n",
    "figure_paths = generate_figure_paths('AIS_non-symetric_boundary_log-log_no_color')\n",
    "for path in figure_paths:\n",
    "    plt.savefig(path)\n",
    "\n",
    "plt.show()\n",
    "plt.close()"
   ]
  },
  {
   "cell_type": "markdown",
   "metadata": {},
   "source": [
    "## Step 1: Set up the environment and test-cases"
   ]
  },
  {
   "cell_type": "markdown",
   "metadata": {},
   "source": [
    "## Test cases"
   ]
  },
  {
   "cell_type": "code",
   "execution_count": 36,
   "metadata": {
    "collapsed": true
   },
   "outputs": [],
   "source": [
    "S1 = np.matrix([0])\n",
    "nR1 = np.array([1])\n",
    "nC1 = np.array([1])\n",
    "nC1_1 = np.array([1000])\n",
    "# phi1 = conf(S1,nR1,nC1)\n",
    "# phi2 = conf(S1,nR1,nC1)\n",
    "\n",
    "S2 = np.matrix([[1,1,0,0],[0,1,1,0]])\n",
    "nC2 = np.array([1,1,1,1])\n",
    "nR2 = np.array([1,1])"
   ]
  },
  {
   "cell_type": "markdown",
   "metadata": {},
   "source": [
    "## Tests"
   ]
  },
  {
   "cell_type": "markdown",
   "metadata": {},
   "source": [
    "### Test 1"
   ]
  },
  {
   "cell_type": "code",
   "execution_count": null,
   "metadata": {
    "collapsed": false
   },
   "outputs": [],
   "source": [
    "prob,table = fo.prob_External(S1,nR1,nC1_1,b = 3)"
   ]
  },
  {
   "cell_type": "code",
   "execution_count": null,
   "metadata": {
    "collapsed": false
   },
   "outputs": [],
   "source": [
    "prob, table"
   ]
  },
  {
   "cell_type": "code",
   "execution_count": null,
   "metadata": {
    "collapsed": false
   },
   "outputs": [],
   "source": [
    "table.get_all_configurations()"
   ]
  },
  {
   "cell_type": "code",
   "execution_count": null,
   "metadata": {
    "collapsed": false
   },
   "outputs": [],
   "source": [
    "table.get_size()"
   ]
  },
  {
   "cell_type": "markdown",
   "metadata": {},
   "source": [
    "### Test 2"
   ]
  },
  {
   "cell_type": "code",
   "execution_count": null,
   "metadata": {
    "collapsed": false
   },
   "outputs": [],
   "source": [
    "prob2, table2 = fo.prob_External(S2,nR2,nC2,b=3)\n",
    "prob3, table3 = fo.prob_External(S2,nR2,nC2,b=4)\n",
    "prob4, table4 = fo.prob_External(S2,nR2,nC2,b=5)"
   ]
  },
  {
   "cell_type": "code",
   "execution_count": null,
   "metadata": {
    "collapsed": false
   },
   "outputs": [],
   "source": [
    "print (len(table2.__node_table__),) + table2.get_size()\n",
    "print table3.get_size()\n",
    "print table4.get_size()"
   ]
  },
  {
   "cell_type": "code",
   "execution_count": null,
   "metadata": {
    "collapsed": false
   },
   "outputs": [],
   "source": [
    "prob2,prob3,prob4"
   ]
  },
  {
   "cell_type": "code",
   "execution_count": null,
   "metadata": {
    "collapsed": false
   },
   "outputs": [],
   "source": [
    "prob3/prob4"
   ]
  },
  {
   "cell_type": "code",
   "execution_count": null,
   "metadata": {
    "collapsed": false
   },
   "outputs": [],
   "source": [
    "prob5, table5 = fo.prob_External(S2,nR2,nC2,b=6)\n",
    "prob6, table6 = fo.prob_External(S2,nR2,nC2,b=7)"
   ]
  },
  {
   "cell_type": "code",
   "execution_count": null,
   "metadata": {
    "collapsed": false
   },
   "outputs": [],
   "source": [
    "print table5.get_size()\n",
    "print table6.get_size()"
   ]
  },
  {
   "cell_type": "code",
   "execution_count": null,
   "metadata": {
    "collapsed": false
   },
   "outputs": [],
   "source": [
    "print prob4/prob5\n",
    "print prob5/prob6\n",
    "print prob2,prob3,prob5,prob5,prob6"
   ]
  },
  {
   "cell_type": "markdown",
   "metadata": {
    "collapsed": true
   },
   "source": [
    "# Test 3"
   ]
  },
  {
   "cell_type": "code",
   "execution_count": 37,
   "metadata": {
    "collapsed": false
   },
   "outputs": [],
   "source": [
    "S3 = np.matrix([[1 , 0] ,[0 , 0]])\n",
    "nR3 = np.array([1 , 2])\n",
    "nC3 = np.array([1, 99])"
   ]
  },
  {
   "cell_type": "code",
   "execution_count": null,
   "metadata": {
    "collapsed": false
   },
   "outputs": [],
   "source": [
    "prob1,table1 = fo.prob_External(S3,nR3,nC3,b = 1)\n",
    "prob2,table2 = fo.prob_External(S3,nR3,nC3,b = 2)\n",
    "prob3,table3 = fo.prob_External(S3,nR3,nC3,b = 3)"
   ]
  },
  {
   "cell_type": "code",
   "execution_count": null,
   "metadata": {
    "collapsed": false
   },
   "outputs": [],
   "source": [
    "print table1.get_size()\n",
    "print table2.get_size()\n",
    "print table3.get_size()"
   ]
  },
  {
   "cell_type": "code",
   "execution_count": null,
   "metadata": {
    "collapsed": false,
    "scrolled": false
   },
   "outputs": [],
   "source": [
    "conf1 = table1.get_all_configurations()\n",
    "i = 0\n",
    "for key,val in conf1.iteritems():\n",
    "    if max(val.values()) > 0: print key,val,'\\n'\n",
    "    #print i,'\\n',key,val,'\\n'\n",
    "    #i+=1"
   ]
  },
  {
   "cell_type": "code",
   "execution_count": null,
   "metadata": {
    "collapsed": false,
    "scrolled": true
   },
   "outputs": [],
   "source": [
    "conf2 = table2.get_all_configurations()\n",
    "i = 0\n",
    "for key,val in conf2.iteritems():\n",
    "    if max(val.values()) > 0:\n",
    "        print key,val,'\\n'\n",
    "        i += 1\n",
    "print i"
   ]
  },
  {
   "cell_type": "code",
   "execution_count": null,
   "metadata": {
    "collapsed": false,
    "scrolled": true
   },
   "outputs": [],
   "source": [
    "conf3 = table3.get_all_configurations()\n",
    "i = 0\n",
    "for key,val in conf3.iteritems():\n",
    "    if max(val.values()) > 0:\n",
    "        print key,val,'\\n'\n",
    "        i += 1\n",
    "print i"
   ]
  },
  {
   "cell_type": "markdown",
   "metadata": {},
   "source": [
    "# Test 4"
   ]
  },
  {
   "cell_type": "code",
   "execution_count": 38,
   "metadata": {
    "collapsed": false
   },
   "outputs": [],
   "source": [
    "S4 = np.matrix([[1 , 0] ,[0 , 0]])\n",
    "nR4 = np.array([1 , 1])\n",
    "nC4 = np.array([1, 1])\n",
    "P4 = np.matrix([[0.0 , 1.0 , 0.0 , 0.0],\n",
    "                [1.0 , 0.0 , 0.0 , 0.0],\n",
    "                [0.0 , 1.0 , 0.0 , 0.0],\n",
    "                [1.0 , 0.0 , 0.0 , 0.0]])"
   ]
  },
  {
   "cell_type": "code",
   "execution_count": null,
   "metadata": {
    "collapsed": true
   },
   "outputs": [],
   "source": [
    "prob1,table1 = fo.prob_External(S4,nR4,nC4,b = 1, P=P4)\n",
    "prob2,table2 = fo.prob_External(S4,nR4,nC4,b = 2, P=P4)\n",
    "prob3,table3 = fo.prob_External(S4,nR4,nC4,b = 3, P=P4)\n",
    "prob4,table4 = fo.prob_External(S4,nR4,nC4,b = 4, P=P4)"
   ]
  },
  {
   "cell_type": "code",
   "execution_count": null,
   "metadata": {
    "collapsed": true
   },
   "outputs": [],
   "source": [
    "prob5,table5 = fo.prob_External(S4,nR4,nC4,b = 5, P=P4)\n",
    "prob6,table6 = fo.prob_External(S4,nR4,nC4,b = 6, P=P4)\n",
    "prob7,table7 = fo.prob_External(S4,nR4,nC4,b = 7, P=P4)"
   ]
  },
  {
   "cell_type": "code",
   "execution_count": null,
   "metadata": {
    "collapsed": false
   },
   "outputs": [],
   "source": [
    "prob8,table8 = fo.prob_External(S4,nR4,nC4,b = 8, P=P4)\n",
    "prob9,table9 = fo.prob_External(S4,nR4,nC4,b = 9, P=P4)\n",
    "prob10,table10 = fo.prob_External(S4,nR4,nC4,b = 10, P=P4)"
   ]
  },
  {
   "cell_type": "code",
   "execution_count": null,
   "metadata": {
    "collapsed": true
   },
   "outputs": [],
   "source": [
    "prob100,table100 = fo.prob_External(S4,nR4,nC4,b = 100, P=P4)"
   ]
  },
  {
   "cell_type": "code",
   "execution_count": null,
   "metadata": {
    "collapsed": false,
    "scrolled": true
   },
   "outputs": [],
   "source": [
    "conf100 = table100.get_all_configurations()\n",
    "i = 0\n",
    "\n",
    "def mylog(p):\n",
    "    if p> 0: return math.log10(p)\n",
    "    else: return float('-inf')\n",
    "\n",
    "for key,val in conf100.iteritems():\n",
    "    if max(val.values()) > 0:\n",
    "        print key,'\\n'\n",
    "        for b,p in val.iteritems():\n",
    "            print '\\tb=%i\\tp=%.15f\\tlog(p) = %.15f'%(b,p,mylog(p))\n",
    "        print '\\n\\n'"
   ]
  },
  {
   "cell_type": "markdown",
   "metadata": {
    "collapsed": false
   },
   "source": [
    "# Notes\n",
    "\n",
    "* TakeGenerate a figure like Lyngsoe (split figure 7)\n",
    "* Real data and a likelihood curve\n",
    "* How big data can we run (a table that a researcher can look at and say: 'Will my dataset run on this?')"
   ]
  },
  {
   "cell_type": "code",
   "execution_count": 32,
   "metadata": {
    "collapsed": false
   },
   "outputs": [],
   "source": [
    "from configurations import configuration_new as conf\n",
    "import formula_outline as fo"
   ]
  },
  {
   "cell_type": "code",
   "execution_count": 42,
   "metadata": {
    "collapsed": false,
    "scrolled": true
   },
   "outputs": [
    {
     "data": {
      "text/plain": [
       "(0.25, <configurationTable.configTable at 0x7f57b0de0a50>)"
      ]
     },
     "execution_count": 42,
     "metadata": {},
     "output_type": "execute_result"
    }
   ],
   "source": [
    "psi_test = conf(S4,nR4,nC4)\n",
    "# psi_2_no_mut = conf(np.matrix([0]), np.array([2]), np.array([2]))\n",
    "# print psi_test\n",
    "# print psi_2_no_mut\n",
    "fo.prob_External(S4,nR4,nC4,b=1,P = P4)\n",
    "# p, table = fo.prob_External(np.matrix([0]), np.array([2]), np.array([2]), b = 6, P = P4)"
   ]
  },
  {
   "cell_type": "code",
   "execution_count": 43,
   "metadata": {
    "collapsed": false
   },
   "outputs": [
    {
     "name": "stdout",
     "output_type": "stream",
     "text": [
      " 1 1 \n",
      "=====\n",
      " + -  ||  1\n",
      " - -  ||  1\n"
     ]
    }
   ],
   "source": [
    "print psi_test"
   ]
  },
  {
   "cell_type": "code",
   "execution_count": null,
   "metadata": {
    "collapsed": false,
    "scrolled": true
   },
   "outputs": [],
   "source": [
    "# for x in table.get_all_configurations():\n",
    "#     print x,'\\n',table.__node_table__[x],'\\n'"
   ]
  },
  {
   "cell_type": "code",
   "execution_count": 39,
   "metadata": {
    "collapsed": false
   },
   "outputs": [],
   "source": [
    "#thetas_small_example = [0.0001 , 0.001, 0.01, 0.1, 1.0, 10, 100, 1000]\n",
    "thetas_small_example = list(np.logspace(-4.5,4.5,num=1001))\n",
    "pis_small_example = [(1.0 , 0.0 , 0.0)]\n",
    "solutions_AIS,Ms_AIS,bs_AIS = solve_AIS_recursions(thetas_small_example,pis_AIS)"
   ]
  },
  {
   "cell_type": "code",
   "execution_count": 40,
   "metadata": {
    "collapsed": false
   },
   "outputs": [],
   "source": [
    "probs_and_tables_b_up_to_100 = [fo.prob_External(S4,nR4,nC4,b = 99, theta = t, returnTable=True, P=P4) for t in thetas_small_example]"
   ]
  },
  {
   "cell_type": "code",
   "execution_count": 44,
   "metadata": {
    "collapsed": false
   },
   "outputs": [],
   "source": [
    "def q_approx(b_max, thetaIndex, configuration = psi_test):\n",
    "    try:\n",
    "        return probs_and_tables_b_up_to_100[thetaIndex][1].get_p(configuration,b_max)\n",
    "    except KeyError:\n",
    "        if b_max == 0:\n",
    "            return 0.0\n",
    "        else:\n",
    "            return probs_and_tables_b_up_to_100[thetaIndex][1].get_p(configuration,b_max - 1)"
   ]
  },
  {
   "cell_type": "code",
   "execution_count": null,
   "metadata": {
    "collapsed": false,
    "scrolled": true
   },
   "outputs": [],
   "source": [
    "[[q_approx(b_max,i) for b_max in (0,2,4,6) ] for i in range(len(thetas_small_example))]"
   ]
  },
  {
   "cell_type": "code",
   "execution_count": null,
   "metadata": {
    "collapsed": false
   },
   "outputs": [],
   "source": [
    "# table0 = probs_and_tables_b_up_to_100[0][1]\n",
    "# table0_01 = probs_and_tables_b_up_to_100[2][1]\n",
    "# table1000 = probs_and_tables_b_up_to_100[-1][1]\n",
    "# table1= probs_and_tables_b_up_to_100[4][1]"
   ]
  },
  {
   "cell_type": "code",
   "execution_count": null,
   "metadata": {
    "collapsed": false
   },
   "outputs": [],
   "source": [
    "#table1.get_all_configurations()[psi_2_no_mut]\n",
    "# b: blue\n",
    "# g: green\n",
    "# r: red\n",
    "# c: cyan\n",
    "# m: magenta\n",
    "# y: yellow\n",
    "# k: black"
   ]
  },
  {
   "cell_type": "code",
   "execution_count": 52,
   "metadata": {
    "collapsed": false
   },
   "outputs": [
    {
     "data": {
      "image/png": "[encoded data removed]",
      "text/plain": [
       "<matplotlib.figure.Figure at 0x7f57b11e47d0>"
      ]
     },
     "metadata": {},
     "output_type": "display_data"
    }
   ],
   "source": [
    "#matplotlib.rcParams.update({'font.size': 14})\n",
    "\n",
    "x_values = np.array(thetas_small_example)\n",
    "y_values_dict = {}\n",
    "#b_list = (1,3,5,7,9,11,13,15,50,99)\n",
    "b_list = (1,3,5,15,50,99)\n",
    "y_labels = {}\n",
    "#colors = {0:'b',1:'g',3:'r',5:'c',7:'m',9:'y',11:'b',13:'teal',15:'darkgreen',50:'plum',99:'orange'}\n",
    "colors = {}\n",
    "styles = {}\n",
    "color_list = ['black','darkgrey']\n",
    "style_list = ['-','--',':']\n",
    "for i,b in enumerate(b_list):\n",
    "    y_values = np.array([q_approx(b,t) for t in range(len(thetas_small_example))])\n",
    "    y_values_dict[b] = y_values\n",
    "    y_labels[b] = '$b = %i$'%b\n",
    "    colors[b] = color_list[i%len(color_list)]\n",
    "    styles[b] = style_list[i%len(style_list)]\n",
    "\n",
    "y_values_true = [solutions_AIS[(theta,(1.0 , 0.0 , 0.0))][4] for theta in thetas_small_example]\n",
    "#y_values_1 = np.array( [probs_and_tables_b_up_to_100[i][1] )\n",
    "\n",
    "plt.figure(4,figsize=(12,4),dpi=120)\n",
    "plt.subplot(121)\n",
    "#plt.subplot(111)\n",
    "#plt.plot(x_values,x_values)\n",
    "\n",
    "plt.plot(x_values, y_values_true,color = 'darkgrey',lw = 3.0, label = 'b = \\\\infty')\n",
    "for b in b_list:\n",
    "    plt.plot(x_values,y_values_dict[b], linestyle = styles[b], color = colors[b], label = y_labels[b])\n",
    "    \n",
    "# for i in (3,4,5,8,9):\n",
    "#     likelihhods = [solutions_AIS[(theta,pi2_AIS)][i] for theta in thetas]\n",
    "#     plt.plot(thetas,likelihhods, label = labels[i], linestyle = styles[i], color = colors[i])\n",
    "plt.xscale('log')\n",
    "# plt.yscale('log')\n",
    "plt.xlabel(r'$\\theta$ (log-scale)',size='16')\n",
    "# plt.ylabel('(log-scale)')\n",
    "# plt.title(r'$\\pi = \\delta_{[0, 0]}$')\n",
    "\n",
    "#plt.legend(bbox_to_anchor=(1.05, 1), loc=2, borderaxespad=0.)\n",
    "#plt.legend()\n",
    "\n",
    "# figure_paths = generate_figure_paths('AIS_non-symetric_boundary_log-log')\n",
    "# #for path in figure_paths:\n",
    "#     #plt.savefig(path)\n",
    "plt.subplot(122)\n",
    "\n",
    "#slicemin = 95\n",
    "#slicemax =114\n",
    "slicemin = 475\n",
    "slicemax =553\n",
    "plt.plot(x_values[slicemin:slicemax], y_values_true[slicemin:slicemax],color = 'darkgrey',lw = 3.0, label = '$b = \\\\infty$')\n",
    "plt.axvline(x_values[np.array(y_values_true).argmax()],color = 'darkgrey',lw = 2.0, linestyle='dotted')\n",
    "for b in b_list:\n",
    "    plt.plot(x_values[slicemin:slicemax],y_values_dict[b][slicemin:slicemax], linestyle = styles[b] ,color = colors[b], label = y_labels[b])\n",
    "    #plt.axvline(x_values[y_values_dict[b].argmax()],color = colors[b], linestyle='dotted')\n",
    "    plt.axvline(x_values[y_values_dict[b].argmax()],color = 'darkgrey', linestyle='dotted')\n",
    "\n",
    "#plt.xscale('log')\n",
    "plt.xlabel(r'$\\theta$',size='15')\n",
    "#plt.gca().get_yaxis().set_ticklabels([])\n",
    "plt.legend(bbox_to_anchor=(1.02, 1), loc=2, borderaxespad=0.)\n",
    "\n",
    "figure_paths = generate_figure_paths('fig7_no_color','')\n",
    "for path in figure_paths:\n",
    "    plt.savefig(path)\n",
    "    \n",
    "plt.show()\n",
    "plt.close()"
   ]
  },
  {
   "cell_type": "code",
   "execution_count": null,
   "metadata": {
    "collapsed": false,
    "scrolled": true
   },
   "outputs": [],
   "source": [
    "print min(thetas),max(thetas)\n",
    "#print [solutions_AIS[(lolo,pi2_AIS)][4] for lolo in thetas_small_example]\n",
    "print [solutions_AIS[(theta,(1.0 , 0.0 , 0.0))][4] for theta in thetas_small_example]\n",
    "x_values[45:55]"
   ]
  },
  {
   "cell_type": "code",
   "execution_count": null,
   "metadata": {
    "collapsed": false
   },
   "outputs": [],
   "source": [
    "probs_and_tables_b_up_to_100[len(thetas_small_example)/2][1].get_p(psi_test,1)"
   ]
  },
  {
   "cell_type": "code",
   "execution_count": null,
   "metadata": {
    "collapsed": false
   },
   "outputs": [],
   "source": [
    "print matplotlib.__version__"
   ]
  },
  {
   "cell_type": "code",
   "execution_count": null,
   "metadata": {
    "collapsed": false
   },
   "outputs": [],
   "source": [
    "c = matplotlib.colors.BoundaryNorm((0,1),5)"
   ]
  },
  {
   "cell_type": "code",
   "execution_count": null,
   "metadata": {
    "collapsed": false
   },
   "outputs": [],
   "source": [
    "c."
   ]
  },
  {
   "cell_type": "code",
   "execution_count": null,
   "metadata": {
    "collapsed": true
   },
   "outputs": [],
   "source": [
    "l = []"
   ]
  },
  {
   "cell_type": "code",
   "execution_count": null,
   "metadata": {
    "collapsed": true
   },
   "outputs": [],
   "source": [
    "l.append([1,2,3])"
   ]
  },
  {
   "cell_type": "code",
   "execution_count": null,
   "metadata": {
    "collapsed": false
   },
   "outputs": [],
   "source": [
    "l"
   ]
  },
  {
   "cell_type": "code",
   "execution_count": null,
   "metadata": {
    "collapsed": false
   },
   "outputs": [],
   "source": [
    "zip(range(5),range(1,6))"
   ]
  },
  {
   "cell_type": "code",
   "execution_count": null,
   "metadata": {
    "collapsed": true
   },
   "outputs": [],
   "source": []
  },
  {
   "cell_type": "code",
   "execution_count": null,
   "metadata": {
    "collapsed": true
   },
   "outputs": [],
   "source": []
  }
 ],
 "metadata": {
  "kernelspec": {
   "display_name": "Python 2",
   "language": "python",
   "name": "python2"
  },
  "language_info": {
   "codemirror_mode": {
    "name": "ipython",
    "version": 2
   },
   "file_extension": ".py",
   "mimetype": "text/x-python",
   "name": "python",
   "nbconvert_exporter": "python",
   "pygments_lexer": "ipython2",
   "version": "2.7.6"
  }
 },
 "nbformat": 4,
 "nbformat_minor": 0
}
