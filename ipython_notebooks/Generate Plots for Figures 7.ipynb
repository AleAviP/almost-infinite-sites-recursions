{
 "cells": [
  {
   "cell_type": "markdown",
   "metadata": {},
   "source": [
    "# We Start by merging code from Two earlier notebooks..."
   ]
  },
  {
   "cell_type": "markdown",
   "metadata": {},
   "source": [
    "## From Explicit Solutions"
   ]
  },
  {
   "cell_type": "code",
   "execution_count": 1,
   "metadata": {
    "collapsed": true
   },
   "outputs": [],
   "source": [
    "%matplotlib inline\n",
    "\n",
    "import matplotlib\n",
    "import numpy as np\n",
    "import matplotlib.pyplot as plt"
   ]
  },
  {
   "cell_type": "markdown",
   "metadata": {},
   "source": [
    "## From Test-recurisons"
   ]
  },
  {
   "cell_type": "code",
   "execution_count": 2,
   "metadata": {
    "collapsed": false
   },
   "outputs": [],
   "source": [
    "import numpy as np\n",
    "import sys, math"
   ]
  },
  {
   "cell_type": "code",
   "execution_count": 3,
   "metadata": {
    "collapsed": false
   },
   "outputs": [],
   "source": [
    "projectPath = '/home/mathias/programming/almost-infinite-sites-recursions'\n",
    "sys.path.insert(0,projectPath)\n",
    "import formula_outline as fo\n",
    "#from configurations import configuration_new as conf"
   ]
  },
  {
   "cell_type": "markdown",
   "metadata": {},
   "source": [
    "## Infinite Sites exact solver"
   ]
  },
  {
   "cell_type": "code",
   "execution_count": 4,
   "metadata": {
    "collapsed": false
   },
   "outputs": [],
   "source": [
    "'''j \\in d_coal[i] signifies that matrix j can be obtained by coalescing two rows from i'''\n",
    "d_coal_FS = {4:set([0]) ,\n",
    "          10:set([2]),\n",
    "          13:set([1]),\n",
    "          19:set([3]) }"
   ]
  },
  {
   "cell_type": "code",
   "execution_count": 5,
   "metadata": {
    "collapsed": false
   },
   "outputs": [
    {
     "data": {
      "text/plain": [
       "True"
      ]
     },
     "execution_count": 5,
     "metadata": {},
     "output_type": "execute_result"
    }
   ],
   "source": [
    "'''\n",
    "j in d_mut_FS[i] signifies that j and i are 1 mutation-event appart in the finite sites-model.\n",
    "Note that the recursion terminates when N = 1, and hence, that for instance 1 in d_mut_FS[0] does not hold.\n",
    "'''\n",
    "d_mut_FS = {\n",
    "         4:set([5,6,7,8]),\n",
    "         5:set([4,9,10,11]),\n",
    "         6:set([4,9,12,13]),\n",
    "         7:set([4,10,12,14]),\n",
    "         8:set([4,11,13,14]),\n",
    "         9:set([5,6,15,16]),\n",
    "         10:set([5,7,15,17]),\n",
    "         11:set([5,8,16,17]),\n",
    "         12:set([6,7,15,18]),\n",
    "         13:set([6,8,16,18]),\n",
    "         14:set([7,8,17,18]),\n",
    "         15:set([9,10,12,19]),\n",
    "         16:set([9,11,13,19]),\n",
    "         17:set([10,11,14,19]),\n",
    "         18:set([12,13,14,19]),\n",
    "         19:set([15,16,17,18])\n",
    "        }\n",
    "\n",
    "def checkSymmetry(d):\n",
    "    '''\n",
    "    An auxiliary function which will catch the odd input-error :p\n",
    "    Returns True if (j in d[i]) implies (i in d[j]) for all i and j, and Flase if not\n",
    "    '''\n",
    "    for key,val in d.iteritems():\n",
    "        for j in val:\n",
    "            if not (key in d[j]):\n",
    "                #print key,val,j,d[j]\n",
    "                return False\n",
    "    return True\n",
    "\n",
    "checkSymmetry(d_mut_FS)"
   ]
  },
  {
   "cell_type": "code",
   "execution_count": 6,
   "metadata": {
    "collapsed": false
   },
   "outputs": [],
   "source": [
    "def coeficientMatrix(theta, d_mut = d_mut_FS, d_coal = d_coal_FS, Nr = lambda x: 1.0, Nc = lambda x: 1.0):\n",
    "    '''\n",
    "    returns the coeffieient matrix for the linear system given by the griffiths-tavare-recursions expressed as a\n",
    "    homogeneous linear system.\n",
    "    \n",
    "    theta : a non-negative float.\n",
    "    \n",
    "    d_mut : a dictionary where d_mut[i] contains a list of all indices of matrices connected to i by one mutation.\n",
    "    \n",
    "    d_coal: a dictionary where d_mut[i] contains a set of all indices of matrices may be transformed into matrix i by\n",
    "            merging two identical rows; e.g. d_coal[0] == set([4]).\n",
    "            \n",
    "    Note that the correct coefficient matrix is only returned if the matricees are as outlined in the above comment!\n",
    "    '''\n",
    "    dim1 = len(d_coal)\n",
    "    dim = len(d_mut) + len(d_coal)\n",
    "    theta = float(theta)\n",
    "    \n",
    "    if theta < 0:\n",
    "        raise ValueError('\\'theta\\' should be a non-negative number.')\n",
    "    \n",
    "    if not checkSymmetry(d_mut):\n",
    "        raise UserWarning('warning: d_mut is not symmetric.')\n",
    "        \n",
    "        \n",
    "    #bdr = np.eye(4,dim)\n",
    "    A = np.r_[np.eye(dim1,dim),\n",
    "              np.zeros((dim-dim1,dim))]\n",
    "\n",
    "    for i in range(dim1,dim):\n",
    "        A[i,i] = -1.0\n",
    "    \n",
    "    for i,neigbours in d_mut.iteritems():\n",
    "        n = 2\n",
    "        p_mut = ( theta / ( n-1 + theta ) )\n",
    "        for j in neigbours:\n",
    "            A[i,j] = p_mut * ( Nr(j) * Nc(j) / 4.0 )\n",
    "    \n",
    "    for i,neighbours in d_coal.iteritems():\n",
    "        n = 2\n",
    "        p_coal = ( n-1 ) / (theta + n-1)\n",
    "        for j in neighbours:\n",
    "            A[i,j] = p_coal\n",
    "            \n",
    "    return A\n",
    "\n",
    "def inhomogeneity(bdr_cnd,zeroDim = 16):\n",
    "    return np.r_[bdr_cnd,np.zeros(zeroDim)]"
   ]
  },
  {
   "cell_type": "markdown",
   "metadata": {},
   "source": [
    "Using this, we can implement a map $(\\theta,\\pi) \\mapsto (x,A,b)$ s.t. $Ax = b$."
   ]
  },
  {
   "cell_type": "code",
   "execution_count": 7,
   "metadata": {
    "collapsed": false
   },
   "outputs": [],
   "source": [
    "def solve_GT_recursions(thetas,pis):\n",
    "    '''\n",
    "    Solve the Griffiths-and tavare-recursions explicitly for any (theta,pi) such that theta is an element of thetas,\n",
    "    and pi is an element of pis.\n",
    "    \n",
    "    Returns three dictionaries:\n",
    "      solutions,\n",
    "      Ms,\n",
    "      bs,\n",
    "    which are indexed by keysets thetas, pis and ((theta,pi) for theta in thetas for pi in pis) respectively.\n",
    "    There satisfy that the linear equation\n",
    "    \n",
    "      bs[pi] = Ms[theta] * solutions[(theta,pi)]\n",
    "    \n",
    "    holds for any choice of pi in pis and theta in thetas.\n",
    "    '''\n",
    "    solutions = {}\n",
    "    Ms = {}\n",
    "    bs = {}\n",
    "    for pi in pis:\n",
    "        b = inhomogeneity(pi)\n",
    "        bs[pi] = b\n",
    "        for theta in thetas:\n",
    "            M = coeficientMatrix(theta)\n",
    "            Ms[theta] = M\n",
    "            solutions[(theta,pi)] = np.linalg.solve(M,b)\n",
    "    return solutions,Ms,bs"
   ]
  },
  {
   "cell_type": "markdown",
   "metadata": {},
   "source": [
    "### Using the Solver to generate Figures"
   ]
  },
  {
   "cell_type": "code",
   "execution_count": 8,
   "metadata": {
    "collapsed": true
   },
   "outputs": [],
   "source": [
    "def generate_figure_paths(figure_name,\n",
    "                          file_prefix = 'explicit_solutions_',\n",
    "                          figurepath = '/home/mathias/Dropbox/doccuments/papers-in-progress/almost-infinite-sites-recursions/infinite-sites-model/graphics/',\n",
    "                          file_extensions = ['.pdf','.png','.eps','.jpeg']):\n",
    "    '''Returns a list of full paths for exporting figures'''\n",
    "    return ['%s%s%s%s'%(figurepath,file_prefix,figure_name,extension) for extension in file_extensions]"
   ]
  },
  {
   "cell_type": "markdown",
   "metadata": {},
   "source": [
    "## The Almost Infinite Sites model"
   ]
  },
  {
   "cell_type": "markdown",
   "metadata": {},
   "source": [
    "### Building a solver"
   ]
  },
  {
   "cell_type": "code",
   "execution_count": 9,
   "metadata": {
    "collapsed": true
   },
   "outputs": [],
   "source": [
    "def Nr_AIS(j):\n",
    "#     return 1.0 + float(j in (3,6,9))\n",
    "    return 1.0 + float(j in (3,6,9,7)) # This is a HACK. The factor in front \n",
    "\n",
    "def Nc_AIS(j):\n",
    "    return 1.0 + float(j in (3,5,9))"
   ]
  },
  {
   "cell_type": "code",
   "execution_count": 10,
   "metadata": {
    "collapsed": true
   },
   "outputs": [],
   "source": [
    "d_coal_AIS = {\n",
    "    3:set([0]),\n",
    "    6:set([1]),\n",
    "    9:set([2])\n",
    "}"
   ]
  },
  {
   "cell_type": "code",
   "execution_count": 11,
   "metadata": {
    "collapsed": false
   },
   "outputs": [
    {
     "data": {
      "text/plain": [
       "True"
      ]
     },
     "execution_count": 11,
     "metadata": {},
     "output_type": "execute_result"
    }
   ],
   "source": [
    "d_mut_AIS = {\n",
    "    3:set([4]),\n",
    "    4:set([3,5,6,7]),\n",
    "    5:set([4,8]),\n",
    "    6:set([4,8]),\n",
    "    7:set([4,8]),\n",
    "    8:set([5,6,7,9]),\n",
    "    9:set([8])\n",
    "}\n",
    "checkSymmetry(d_mut_AIS)"
   ]
  },
  {
   "cell_type": "markdown",
   "metadata": {},
   "source": [
    "This is really all we need to implement the explicit solution of the almost infinite sites model."
   ]
  },
  {
   "cell_type": "code",
   "execution_count": 12,
   "metadata": {
    "collapsed": false
   },
   "outputs": [],
   "source": [
    "pi1_AIS = [0.25, 0.5, 0.25]\n",
    "pi2_AIS = [1.0 , 0.0 , 0.0]\n",
    "M1_AIS = coeficientMatrix(1.0, d_mut = d_mut_AIS, d_coal = d_coal_AIS, Nr = Nr_AIS, Nc = Nc_AIS)\n",
    "b1_AIS = inhomogeneity(pi1_AIS,7)\n",
    "b2_AIS = inhomogeneity(pi2_AIS,7)\n",
    "x1_AIS = np.linalg.solve(M1_AIS,b1_AIS)\n",
    "x2_AIS = np.linalg.solve(M1_AIS,b2_AIS)"
   ]
  },
  {
   "cell_type": "markdown",
   "metadata": {},
   "source": [
    "Satisfies with brief tests, we now *write* a solver, similar to for the Griffiths-tavare-case:"
   ]
  },
  {
   "cell_type": "code",
   "execution_count": 13,
   "metadata": {
    "collapsed": false
   },
   "outputs": [],
   "source": [
    "def solve_AIS_recursions(thetas,pis):\n",
    "    '''\n",
    "    Solve the Almost Infinite Sites-recursions explicitly for any (theta,pi) such that theta is an element of thetas,\n",
    "    and pi is an element of pis.\n",
    "    \n",
    "    Returns three dictionaries:\n",
    "      solutions,\n",
    "      Ms,\n",
    "      bs,\n",
    "    which are indexed by keysets thetas, pis and ((theta,pi) for theta in thetas for pi in pis) respectively.\n",
    "    There satisfy that the linear equation\n",
    "    \n",
    "      bs[pi] = Ms[theta] * solutions[(theta,pi)]\n",
    "    \n",
    "    holds for any choice of pi in pis and theta in thetas.\n",
    "    '''\n",
    "    solutions = {}\n",
    "    Ms = {}\n",
    "    bs = {}\n",
    "    for pi in pis:\n",
    "        b = inhomogeneity(pi,7)\n",
    "        bs[pi] = b\n",
    "        for theta in thetas:\n",
    "            M = coeficientMatrix(theta, d_mut = d_mut_AIS, d_coal = d_coal_AIS, Nr = Nr_AIS, Nc = Nc_AIS)\n",
    "            Ms[theta] = M\n",
    "            solutions[(theta,pi)] = np.linalg.solve(M,b)\n",
    "    return solutions,Ms,bs"
   ]
  },
  {
   "cell_type": "markdown",
   "metadata": {},
   "source": [
    "### PLOTS!"
   ]
  },
  {
   "cell_type": "code",
   "execution_count": 15,
   "metadata": {
    "collapsed": false
   },
   "outputs": [],
   "source": [
    "thetas = np.logspace(-4,3,num=100)\n",
    "pi1_AIS = (0.25, 0.5, 0.25)\n",
    "pi2_AIS = (1.0 , 0.0 , 0.0)\n",
    "pis_AIS = (pi1_AIS,pi2_AIS)\n",
    "\n",
    "solutions_AIS,Ms_AIS,bs_AIS = solve_AIS_recursions(thetas,pis_AIS)"
   ]
  },
  {
   "cell_type": "code",
   "execution_count": 16,
   "metadata": {
    "collapsed": false,
    "scrolled": true
   },
   "outputs": [
    {
     "data": {
      "image/png": "[encoded data removed]",
      "text/plain": [
       "<matplotlib.figure.Figure at 0x7f93f602f490>"
      ]
     },
     "metadata": {},
     "output_type": "display_data"
    },
    {
     "data": {
      "image/png": "[encoded data removed]",
      "text/plain": [
       "<matplotlib.figure.Figure at 0x7f93d076dd50>"
      ]
     },
     "metadata": {},
     "output_type": "display_data"
    }
   ],
   "source": [
    "labels = {\n",
    "    3: r'$q(\\psi_1)$',\n",
    "    4: r'$q(\\psi_2)$',\n",
    "    5: r'$q(\\psi_3)$',\n",
    "    6: r'$q(\\psi_4)$',\n",
    "    7: r'$q(\\psi_5)$',\n",
    "    8: r'$q(\\psi_6)$',\n",
    "    9: r'$q(\\psi_7)$'\n",
    "}\n",
    "'''\n",
    "[‘solid’ | ‘dashed’, ‘dashdot’, ‘dotted’ | (offset, on-off-dash-seq) | '-' | '--' | '-.' | ':' | 'None' | ' ' | '']\n",
    "'''\n",
    "styles = {\n",
    "    3: 'solid',\n",
    "    4: 'dashed',\n",
    "    5: 'dashdot',\n",
    "    6: 'dotted',\n",
    "    7: 'dashdot',\n",
    "    8: ':',\n",
    "    9: 'solid'    \n",
    "}\n",
    "\n",
    "colors ={\n",
    "    3: 'blue',\n",
    "    4: 'red',\n",
    "    5: 'darkgreen',\n",
    "    6: 'magenta',\n",
    "    7: 'brown',\n",
    "    8: 'darkorange',\n",
    "    9: 'orchid'\n",
    "}\n",
    "\n",
    "\n",
    "plt.figure(3)\n",
    "#plt.subplot(211)\n",
    "for i in (3,4,5,6):\n",
    "    likelihhods = [solutions_AIS[(theta,pi1_AIS)][i] for theta in thetas]\n",
    "    plt.plot(thetas,likelihhods, label = labels[i], linestyle = styles[i], color = colors[i])\n",
    "#plt.legendnd()\n",
    "plt.legend()\n",
    "plt.xscale('log')\n",
    "plt.xlabel('$\\\\theta$ (log-scale)')\n",
    "plt.title('$\\pi = \\\\frac{1}{4}(\\delta_{[0 , 0]} + 2\\delta_{[1 , 0]} + \\delta_{[1 , 1]})$')\n",
    "\n",
    "figure_paths = generate_figure_paths('AIS_symetric_boundary')\n",
    "#for path in figure_paths:\n",
    "    #plt.savefig(path)\n",
    "\n",
    "plt.show()\n",
    "plt.close()\n",
    "\n",
    "plt.figure(4)\n",
    "#plt.subplot(212)\n",
    "for i in (3,4,5,6):\n",
    "    likelihhods = [solutions_AIS[(theta,pi1_AIS)][i] for theta in thetas]\n",
    "    #plt.plot(thetas,likelihhods, label = 'i = %i'%i)\n",
    "    plt.plot(thetas,likelihhods, label = labels[i], linestyle = styles[i], color = colors[i])\n",
    "#plt.legendnd()\n",
    "plt.legend(bbox_to_anchor=(0.99, 0.50))\n",
    "plt.xscale('log')\n",
    "plt.yscale('log')\n",
    "plt.xlabel('$\\\\theta$ (log-scale)')\n",
    "plt.ylabel('(log-scale)')\n",
    "#plt.title('$q_i$ for $i \\\\in \\\\{ 3,4,5\\\\}$, $\\pi = \\\\frac{1}{4}(\\delta_0 + 2\\delta_1 + \\delta_2)$')\n",
    "plt.title('$\\pi = \\\\frac{1}{4}(\\delta_{[0 , 0]} + 2\\delta_{[1 , 0]} + \\delta_{[1 , 1]})$')\n",
    "\n",
    "figure_paths = generate_figure_paths('AIS_symetric_boundary_log-log')\n",
    "#for path in figure_paths:\n",
    "    #plt.savefig(path)\n",
    "\n",
    "plt.show()\n",
    "plt.close()"
   ]
  },
  {
   "cell_type": "code",
   "execution_count": 17,
   "metadata": {
    "collapsed": false
   },
   "outputs": [
    {
     "data": {
      "image/png": "[encoded data removed]",
      "text/plain": [
       "<matplotlib.figure.Figure at 0x7f93d0733290>"
      ]
     },
     "metadata": {},
     "output_type": "display_data"
    },
    {
     "data": {
      "image/png": "[encoded data removed]",
      "text/plain": [
       "<matplotlib.figure.Figure at 0x7f93d0817a90>"
      ]
     },
     "metadata": {},
     "output_type": "display_data"
    }
   ],
   "source": [
    "plt.figure(3)\n",
    "for i in (3,4,5,8,9):\n",
    "    likelihhods = [solutions_AIS[(theta,pi2_AIS)][i] for theta in thetas]\n",
    "    plt.plot(thetas,likelihhods, label = labels[i], linestyle = styles[i], color = colors[i])\n",
    "plt.xscale('log')\n",
    "plt.xlabel(r'$\\theta$ (log-scale)')\n",
    "plt.title(r'$\\pi = \\delta_{[0, 0]}$')\n",
    "plt.legend()\n",
    "\n",
    "figure_paths = generate_figure_paths('AIS_non-symetric_boundary')\n",
    "#for path in figure_paths:\n",
    "    #plt.savefig(path)\n",
    "\n",
    "plt.show()\n",
    "plt.close()\n",
    "\n",
    "plt.figure(4)\n",
    "for i in (3,4,5,8,9):\n",
    "    likelihhods = [solutions_AIS[(theta,pi2_AIS)][i] for theta in thetas]\n",
    "    plt.plot(thetas,likelihhods, label = labels[i], linestyle = styles[i], color = colors[i])\n",
    "plt.xscale('log')\n",
    "plt.yscale('log')\n",
    "plt.xlabel(r'$\\theta$ (log-scale)')\n",
    "plt.ylabel('(log-scale)')\n",
    "plt.title(r'$\\pi = \\delta_{[0, 0]}$')\n",
    "plt.legend(bbox_to_anchor=(0.99, 0.725))\n",
    "\n",
    "figure_paths = generate_figure_paths('AIS_non-symetric_boundary_log-log')\n",
    "#for path in figure_paths:\n",
    "    #plt.savefig(path)\n",
    "\n",
    "plt.show()\n",
    "plt.close()"
   ]
  },
  {
   "cell_type": "markdown",
   "metadata": {},
   "source": [
    "## Step 1: Set up the environment and test-cases"
   ]
  },
  {
   "cell_type": "markdown",
   "metadata": {},
   "source": [
    "## Test cases"
   ]
  },
  {
   "cell_type": "code",
   "execution_count": 18,
   "metadata": {
    "collapsed": true
   },
   "outputs": [],
   "source": [
    "S1 = np.matrix([0])\n",
    "nR1 = np.array([1])\n",
    "nC1 = np.array([1])\n",
    "nC1_1 = np.array([1000])\n",
    "# phi1 = conf(S1,nR1,nC1)\n",
    "# phi2 = conf(S1,nR1,nC1)\n",
    "\n",
    "S2 = np.matrix([[1,1,0,0],[0,1,1,0]])\n",
    "nC2 = np.array([1,1,1,1])\n",
    "nR2 = np.array([1,1])"
   ]
  },
  {
   "cell_type": "markdown",
   "metadata": {},
   "source": [
    "## Tests"
   ]
  },
  {
   "cell_type": "markdown",
   "metadata": {},
   "source": [
    "### Test 1"
   ]
  },
  {
   "cell_type": "code",
   "execution_count": 19,
   "metadata": {
    "collapsed": false
   },
   "outputs": [],
   "source": [
    "prob,table = fo.prob_External(S1,nR1,nC1_1,b = 3)"
   ]
  },
  {
   "cell_type": "code",
   "execution_count": 20,
   "metadata": {
    "collapsed": false
   },
   "outputs": [
    {
     "data": {
      "text/plain": [
       "(1.0, <configurationTable.configTable at 0x7f93d070cd10>)"
      ]
     },
     "execution_count": 20,
     "metadata": {},
     "output_type": "execute_result"
    }
   ],
   "source": [
    "prob, table"
   ]
  },
  {
   "cell_type": "code",
   "execution_count": 21,
   "metadata": {
    "collapsed": false
   },
   "outputs": [
    {
     "data": {
      "text/plain": [
       "{<class 'configurationTable.node'>\n",
       " ({'rows': 1, 'S': matrix([[0]]), 'nC': array([1000]), 'nR': array([1]), 'columns': 1}): {3: 1.0}}"
      ]
     },
     "execution_count": 21,
     "metadata": {},
     "output_type": "execute_result"
    }
   ],
   "source": [
    "table.get_all_configurations()"
   ]
  },
  {
   "cell_type": "code",
   "execution_count": 22,
   "metadata": {
    "collapsed": false
   },
   "outputs": [
    {
     "data": {
      "text/plain": [
       "(1, 1)"
      ]
     },
     "execution_count": 22,
     "metadata": {},
     "output_type": "execute_result"
    }
   ],
   "source": [
    "table.get_size()"
   ]
  },
  {
   "cell_type": "markdown",
   "metadata": {},
   "source": [
    "### Test 2"
   ]
  },
  {
   "cell_type": "code",
   "execution_count": 23,
   "metadata": {
    "collapsed": false
   },
   "outputs": [],
   "source": [
    "prob2, table2 = fo.prob_External(S2,nR2,nC2,b=3)\n",
    "prob3, table3 = fo.prob_External(S2,nR2,nC2,b=4)\n",
    "prob4, table4 = fo.prob_External(S2,nR2,nC2,b=5)"
   ]
  },
  {
   "cell_type": "code",
   "execution_count": 24,
   "metadata": {
    "collapsed": false
   },
   "outputs": [
    {
     "name": "stdout",
     "output_type": "stream",
     "text": [
      "(32, 32, 38)\n",
      "(111, 165)\n",
      "(302, 515)\n"
     ]
    }
   ],
   "source": [
    "print (len(table2.__node_table__),) + table2.get_size()\n",
    "print table3.get_size()\n",
    "print table4.get_size()"
   ]
  },
  {
   "cell_type": "code",
   "execution_count": 25,
   "metadata": {
    "collapsed": false
   },
   "outputs": [
    {
     "data": {
      "text/plain": [
       "(0.0, 0.00010850694444444444, 0.00015371817129629625)"
      ]
     },
     "execution_count": 25,
     "metadata": {},
     "output_type": "execute_result"
    }
   ],
   "source": [
    "prob2,prob3,prob4"
   ]
  },
  {
   "cell_type": "code",
   "execution_count": 26,
   "metadata": {
    "collapsed": false
   },
   "outputs": [
    {
     "data": {
      "text/plain": [
       "0.70588235294117663"
      ]
     },
     "execution_count": 26,
     "metadata": {},
     "output_type": "execute_result"
    }
   ],
   "source": [
    "prob3/prob4"
   ]
  },
  {
   "cell_type": "code",
   "execution_count": 27,
   "metadata": {
    "collapsed": false
   },
   "outputs": [],
   "source": [
    "prob5, table5 = fo.prob_External(S2,nR2,nC2,b=6)\n",
    "prob6, table6 = fo.prob_External(S2,nR2,nC2,b=7)"
   ]
  },
  {
   "cell_type": "code",
   "execution_count": 28,
   "metadata": {
    "collapsed": false
   },
   "outputs": [
    {
     "name": "stdout",
     "output_type": "stream",
     "text": [
      "(591, 1128)\n",
      "(963, 2110)\n"
     ]
    }
   ],
   "source": [
    "print table5.get_size()\n",
    "print table6.get_size()"
   ]
  },
  {
   "cell_type": "code",
   "execution_count": 29,
   "metadata": {
    "collapsed": false
   },
   "outputs": [
    {
     "name": "stdout",
     "output_type": "stream",
     "text": [
      "0.867162592986\n",
      "0.945768248252\n",
      "0.0 0.000108506944444 0.000177265685282 0.000177265685282 0.000187430362152\n"
     ]
    }
   ],
   "source": [
    "print prob4/prob5\n",
    "print prob5/prob6\n",
    "print prob2,prob3,prob5,prob5,prob6"
   ]
  },
  {
   "cell_type": "markdown",
   "metadata": {
    "collapsed": true
   },
   "source": [
    "# Test 3"
   ]
  },
  {
   "cell_type": "code",
   "execution_count": 30,
   "metadata": {
    "collapsed": false
   },
   "outputs": [],
   "source": [
    "S3 = np.matrix([[1 , 0] ,[0 , 0]])\n",
    "nR3 = np.array([1 , 2])\n",
    "nC3 = np.array([1, 99])"
   ]
  },
  {
   "cell_type": "code",
   "execution_count": 31,
   "metadata": {
    "collapsed": false
   },
   "outputs": [],
   "source": [
    "prob1,table1 = fo.prob_External(S3,nR3,nC3,b = 1)\n",
    "prob2,table2 = fo.prob_External(S3,nR3,nC3,b = 2)\n",
    "prob3,table3 = fo.prob_External(S3,nR3,nC3,b = 3)"
   ]
  },
  {
   "cell_type": "code",
   "execution_count": 32,
   "metadata": {
    "collapsed": false
   },
   "outputs": [
    {
     "name": "stdout",
     "output_type": "stream",
     "text": [
      "(27, 27)\n",
      "(58, 83)\n",
      "(165, 259)\n"
     ]
    }
   ],
   "source": [
    "print table1.get_size()\n",
    "print table2.get_size()\n",
    "print table3.get_size()"
   ]
  },
  {
   "cell_type": "code",
   "execution_count": 33,
   "metadata": {
    "collapsed": false
   },
   "outputs": [
    {
     "name": "stdout",
     "output_type": "stream",
     "text": [
      " 100 \n",
      "=====\n",
      " -  ||  1 {0: 1.0} \n",
      "\n",
      " 100 \n",
      "=====\n",
      " -  ||  2 {0: 0.5} \n",
      "\n",
      " 1 99 \n",
      "======\n",
      " + -  ||  1\n",
      " - -  ||  1 {1: 0.083333333333333329} \n",
      "\n",
      " 100 \n",
      "=====\n",
      " -  ||  3 {0: 0.33333333333333331} \n",
      "\n",
      " 1 99 \n",
      "======\n",
      " + -  ||  1\n",
      " - -  ||  2 {1: 0.064814814814814811} \n",
      "\n"
     ]
    }
   ],
   "source": [
    "conf1 = table1.get_all_configurations()\n",
    "i = 0\n",
    "for key,val in conf1.iteritems():\n",
    "    if max(val.values()) > 0: print key,val,'\\n'\n",
    "    #print i,'\\n',key,val,'\\n'\n",
    "    #i+=1"
   ]
  },
  {
   "cell_type": "code",
   "execution_count": 34,
   "metadata": {
    "collapsed": false,
    "scrolled": true
   },
   "outputs": [
    {
     "name": "stdout",
     "output_type": "stream",
     "text": [
      " 99 1 \n",
      "======\n",
      " - -  ||  2\n",
      " - o  ||  1 {0: 0.0, 1: 0.064814814814814811} \n",
      "\n",
      " 100 \n",
      "=====\n",
      " -  ||  2 {0: 0.5, 1: 0.5} \n",
      "\n",
      " 100 \n",
      "=====\n",
      " -  ||  1 {0: 1.0, 1: 1.0} \n",
      "\n",
      " 99 1 \n",
      "======\n",
      " - -  ||  2\n",
      " - x  ||  1 {0: 0.0, 1: 0.064814814814814811} \n",
      "\n",
      " 100 \n",
      "=====\n",
      " -  ||  3 {0: 0.33333333333333331, 1: 0.33333333333333331} \n",
      "\n",
      " 99 1 \n",
      "======\n",
      " - +  ||  2\n",
      " - -  ||  1 {1: 0.027777777777777776} \n",
      "\n",
      " 99 1 \n",
      "======\n",
      " - -  ||  1\n",
      " - x  ||  1 {0: 0.0, 1: 0.083333333333333329} \n",
      "\n",
      " 99 1 \n",
      "======\n",
      " - -  ||  1\n",
      " - o  ||  1 {0: 0.0, 1: 0.083333333333333329} \n",
      "\n",
      " 99 1 \n",
      "======\n",
      " - -  ||  1\n",
      " - +  ||  1 {0: 0.0, 1: 0.083333333333333329, 2: 0.083472222222222212} \n",
      "\n",
      " 99 1 \n",
      "======\n",
      " - -  ||  2\n",
      " - +  ||  1 {0: 0.0, 2: 0.064929698216735249} \n",
      "\n",
      "10\n"
     ]
    }
   ],
   "source": [
    "conf2 = table2.get_all_configurations()\n",
    "i = 0\n",
    "for key,val in conf2.iteritems():\n",
    "    if max(val.values()) > 0:\n",
    "        print key,val,'\\n'\n",
    "        i += 1\n",
    "print i"
   ]
  },
  {
   "cell_type": "code",
   "execution_count": 35,
   "metadata": {
    "collapsed": false,
    "scrolled": true
   },
   "outputs": [
    {
     "name": "stdout",
     "output_type": "stream",
     "text": [
      " 99 1 \n",
      "======\n",
      " - -  ||  2\n",
      " - +  ||  1 {0: 0.0, 1: 0.064814814814814811, 3: 0.065009008567037563} \n",
      "\n",
      " 98 1 1 \n",
      "========\n",
      " - + -  ||  1\n",
      " - - +  ||  1 {0: 0.0, 1: 0.0, 2: 0.013749999999999998} \n",
      "\n",
      " 99 1 \n",
      "======\n",
      " - +  ||  1\n",
      " - o  ||  1 {0: 0.0, 1: 0.0, 2: 0.00013888888888888886} \n",
      "\n",
      " 100 \n",
      "=====\n",
      " -  ||  1 {0: 1.0, 1: 1.0, 2: 1.0} \n",
      "\n",
      " 98 2 \n",
      "======\n",
      " - -  ||  2\n",
      " - +  ||  1 {0: 0.0, 1: 0.0, 2: 0.0046682098765432091} \n",
      "\n",
      " 99 1 \n",
      "======\n",
      " - -  ||  1\n",
      " - +  ||  1\n",
      " - o  ||  1 {0: 0.0, 1: 0.0, 2: 0.0001371742112482853} \n",
      "\n",
      " 99 1 \n",
      "======\n",
      " - -  ||  1\n",
      " - +  ||  2 {0: 0.0, 1: 0.027777777777777776, 2: 0.027872085048010972} \n",
      "\n",
      " 98 1 1 \n",
      "========\n",
      " - - -  ||  1\n",
      " - + -  ||  1\n",
      " - - o  ||  1 {0: 0.0, 1: 0.0, 2: 0.0095061728395061731} \n",
      "\n",
      " 99 1 \n",
      "======\n",
      " - -  ||  1\n",
      " - +  ||  1\n",
      " - x  ||  1 {0: 0.0, 1: 0.0, 2: 0.0001371742112482853} \n",
      "\n",
      " 98 1 1 \n",
      "========\n",
      " - + -  ||  1\n",
      " - - o  ||  1 {0: 0.0, 1: 0.0, 2: 0.013749999999999998} \n",
      "\n",
      " 98 2 \n",
      "======\n",
      " - -  ||  1\n",
      " - +  ||  1 {0: 0.0, 1: 0.0, 2: 0.0068749999999999992} \n",
      "\n",
      " 99 1 \n",
      "======\n",
      " - -  ||  2\n",
      " - o  ||  1 {0: 0.0, 1: 0.064814814814814811, 2: 0.064929698216735249} \n",
      "\n",
      " 98 1 1 \n",
      "========\n",
      " - - -  ||  2\n",
      " - + o  ||  1 {0: 0.0, 1: 0.0, 2: 0.0093364197530864182} \n",
      "\n",
      " 99 1 \n",
      "======\n",
      " - -  ||  1\n",
      " - +  ||  1 {0: 0.0, 1: 0.083333333333333329, 2: 0.083472222222222212, 3: 0.083576273148148181} \n",
      "\n",
      " 98 1 1 \n",
      "========\n",
      " - - -  ||  1\n",
      " - + o  ||  1 {0: 0.0, 1: 0.0, 2: 0.013749999999999998} \n",
      "\n",
      " 99 1 \n",
      "======\n",
      " - -  ||  1\n",
      " - o  ||  2 {0: 0.0, 1: 0.027777777777777776} \n",
      "\n",
      " 98 1 1 \n",
      "========\n",
      " - - -  ||  1\n",
      " - + -  ||  1\n",
      " - - x  ||  1 {0: 0.0, 1: 0.0, 2: 0.0095061728395061731} \n",
      "\n",
      " 99 1 \n",
      "======\n",
      " - +  ||  1\n",
      " - x  ||  1 {0: 0.0, 1: 0.0, 2: 0.00013888888888888886} \n",
      "\n",
      " 98 1 1 \n",
      "========\n",
      " - - -  ||  2\n",
      " - + x  ||  1 {0: 0.0, 1: 0.0, 2: 0.0093364197530864182} \n",
      "\n",
      " 98 1 1 \n",
      "========\n",
      " - - -  ||  1\n",
      " - + x  ||  1 {0: 0.0, 1: 0.0, 2: 0.013749999999999998} \n",
      "\n",
      " 99 1 \n",
      "======\n",
      " - -  ||  1\n",
      " - x  ||  2 {0: 0.0, 1: 0.027777777777777776} \n",
      "\n",
      " 98 1 1 \n",
      "========\n",
      " - - -  ||  1\n",
      " - + -  ||  1\n",
      " - - +  ||  1 {0: 0.0, 1: 0.0, 2: 0.0095061728395061731} \n",
      "\n",
      " 99 1 \n",
      "======\n",
      " - -  ||  1\n",
      " - o  ||  1 {0: 0.0, 1: 0.083333333333333329, 2: 0.083472222222222212} \n",
      "\n",
      " 98 1 1 \n",
      "========\n",
      " - + -  ||  1\n",
      " - - x  ||  1 {0: 0.0, 1: 0.0, 2: 0.013749999999999998} \n",
      "\n",
      " 99 1 \n",
      "======\n",
      " - +  ||  2 {0: 0.0, 1: 0.0, 2: 6.9444444444444431e-05} \n",
      "\n",
      " 100 \n",
      "=====\n",
      " -  ||  2 {0: 0.5, 1: 0.5, 2: 0.50020833333333337} \n",
      "\n",
      " 99 1 \n",
      "======\n",
      " - -  ||  2\n",
      " - x  ||  1 {0: 0.0, 1: 0.064814814814814811, 2: 0.064929698216735249} \n",
      "\n",
      " 100 \n",
      "=====\n",
      " -  ||  3 {0: 0.33333333333333331, 1: 0.33333333333333331, 2: 0.3335442386831276} \n",
      "\n",
      " 99 1 \n",
      "======\n",
      " - -  ||  1\n",
      " - x  ||  1 {0: 0.0, 1: 0.083333333333333329, 2: 0.083472222222222212} \n",
      "\n",
      "29\n"
     ]
    }
   ],
   "source": [
    "conf3 = table3.get_all_configurations()\n",
    "i = 0\n",
    "for key,val in conf3.iteritems():\n",
    "    if max(val.values()) > 0:\n",
    "        print key,val,'\\n'\n",
    "        i += 1\n",
    "print i"
   ]
  },
  {
   "cell_type": "markdown",
   "metadata": {},
   "source": [
    "# Test 4"
   ]
  },
  {
   "cell_type": "code",
   "execution_count": 36,
   "metadata": {
    "collapsed": false
   },
   "outputs": [],
   "source": [
    "S4 = np.matrix([[1 , 0] ,[0 , 0]])\n",
    "nR4 = np.array([1 , 1])\n",
    "nC4 = np.array([1, 1])\n",
    "P4 = np.matrix([[0.0 , 1.0 , 0.0 , 0.0],\n",
    "                [1.0 , 0.0 , 0.0 , 0.0],\n",
    "                [0.0 , 1.0 , 0.0 , 0.0],\n",
    "                [1.0 , 0.0 , 0.0 , 0.0]])"
   ]
  },
  {
   "cell_type": "code",
   "execution_count": 37,
   "metadata": {
    "collapsed": true
   },
   "outputs": [],
   "source": [
    "prob1,table1 = fo.prob_External(S4,nR4,nC4,b = 1, P=P4)\n",
    "prob2,table2 = fo.prob_External(S4,nR4,nC4,b = 2, P=P4)\n",
    "prob3,table3 = fo.prob_External(S4,nR4,nC4,b = 3, P=P4)\n",
    "prob4,table4 = fo.prob_External(S4,nR4,nC4,b = 4, P=P4)"
   ]
  },
  {
   "cell_type": "code",
   "execution_count": 38,
   "metadata": {
    "collapsed": true
   },
   "outputs": [],
   "source": [
    "prob5,table5 = fo.prob_External(S4,nR4,nC4,b = 5, P=P4)\n",
    "prob6,table6 = fo.prob_External(S4,nR4,nC4,b = 6, P=P4)\n",
    "prob7,table7 = fo.prob_External(S4,nR4,nC4,b = 7, P=P4)"
   ]
  },
  {
   "cell_type": "code",
   "execution_count": 39,
   "metadata": {
    "collapsed": false
   },
   "outputs": [],
   "source": [
    "prob8,table8 = fo.prob_External(S4,nR4,nC4,b = 8, P=P4)\n",
    "prob9,table9 = fo.prob_External(S4,nR4,nC4,b = 9, P=P4)\n",
    "prob10,table10 = fo.prob_External(S4,nR4,nC4,b = 10, P=P4)"
   ]
  },
  {
   "cell_type": "code",
   "execution_count": 41,
   "metadata": {
    "collapsed": true
   },
   "outputs": [],
   "source": [
    "prob100,table100 = fo.prob_External(S4,nR4,nC4,b = 100, P=P4)"
   ]
  },
  {
   "cell_type": "code",
   "execution_count": 42,
   "metadata": {
    "collapsed": true
   },
   "outputs": [
    {
     "name": "stdout",
     "output_type": "stream",
     "text": [
      " 1 1 \n",
      "=====\n",
      " + -  ||  1\n",
      " - +  ||  1 \n",
      "\n",
      "\tb=1\tp=0.000000000000000\tlog(p) = -inf\n",
      "\tb=3\tp=0.062500000000000\tlog(p) = -1.204119982655925\n",
      "\tb=5\tp=0.078125000000000\tlog(p) = -1.107209969647868\n",
      "\tb=7\tp=0.082031250000000\tlog(p) = -1.086020670577930\n",
      "\tb=9\tp=0.083007812500000\tlog(p) = -1.080881030925519\n",
      "\tb=11\tp=0.083251953125000\tlog(p) = -1.079605568975277\n",
      "\tb=13\tp=0.083312988281250\tlog(p) = -1.079287287918962\n",
      "\tb=15\tp=0.083328247070312\tlog(p) = -1.079207754088156\n",
      "\tb=17\tp=0.083332061767578\tlog(p) = -1.079187872906074\n",
      "\tb=19\tp=0.083333015441895\tlog(p) = -1.079182902752757\n",
      "\tb=21\tp=0.083333253860474\tlog(p) = -1.079181660223316\n",
      "\tb=23\tp=0.083333313465118\tlog(p) = -1.079181349591511\n",
      "\tb=25\tp=0.083333328366280\tlog(p) = -1.079181271933594\n",
      "\tb=27\tp=0.083333332091570\tlog(p) = -1.079181252519117\n",
      "\tb=29\tp=0.083333333022892\tlog(p) = -1.079181247665498\n",
      "\tb=31\tp=0.083333333255723\tlog(p) = -1.079181246452093\n",
      "\tb=33\tp=0.083333333313931\tlog(p) = -1.079181246148742\n",
      "\tb=35\tp=0.083333333328483\tlog(p) = -1.079181246072904\n",
      "\tb=37\tp=0.083333333332121\tlog(p) = -1.079181246053945\n",
      "\tb=39\tp=0.083333333333030\tlog(p) = -1.079181246049205\n",
      "\tb=41\tp=0.083333333333258\tlog(p) = -1.079181246048020\n",
      "\tb=43\tp=0.083333333333314\tlog(p) = -1.079181246047724\n",
      "\tb=45\tp=0.083333333333329\tlog(p) = -1.079181246047650\n",
      "\tb=47\tp=0.083333333333332\tlog(p) = -1.079181246047631\n",
      "\tb=49\tp=0.083333333333333\tlog(p) = -1.079181246047626\n",
      "\tb=51\tp=0.083333333333333\tlog(p) = -1.079181246047625\n",
      "\tb=53\tp=0.083333333333333\tlog(p) = -1.079181246047625\n",
      "\tb=55\tp=0.083333333333333\tlog(p) = -1.079181246047625\n",
      "\tb=57\tp=0.083333333333333\tlog(p) = -1.079181246047625\n",
      "\tb=59\tp=0.083333333333333\tlog(p) = -1.079181246047625\n",
      "\tb=61\tp=0.083333333333333\tlog(p) = -1.079181246047625\n",
      "\tb=63\tp=0.083333333333333\tlog(p) = -1.079181246047625\n",
      "\tb=65\tp=0.083333333333333\tlog(p) = -1.079181246047625\n",
      "\tb=67\tp=0.083333333333333\tlog(p) = -1.079181246047625\n",
      "\tb=69\tp=0.083333333333333\tlog(p) = -1.079181246047625\n",
      "\tb=71\tp=0.083333333333333\tlog(p) = -1.079181246047625\n",
      "\tb=73\tp=0.083333333333333\tlog(p) = -1.079181246047625\n",
      "\tb=75\tp=0.083333333333333\tlog(p) = -1.079181246047625\n",
      "\tb=77\tp=0.083333333333333\tlog(p) = -1.079181246047625\n",
      "\tb=79\tp=0.083333333333333\tlog(p) = -1.079181246047625\n",
      "\tb=81\tp=0.083333333333333\tlog(p) = -1.079181246047625\n",
      "\tb=83\tp=0.083333333333333\tlog(p) = -1.079181246047625\n",
      "\tb=85\tp=0.083333333333333\tlog(p) = -1.079181246047625\n",
      "\tb=87\tp=0.083333333333333\tlog(p) = -1.079181246047625\n",
      "\tb=89\tp=0.083333333333333\tlog(p) = -1.079181246047625\n",
      "\tb=91\tp=0.083333333333333\tlog(p) = -1.079181246047625\n",
      "\tb=93\tp=0.083333333333333\tlog(p) = -1.079181246047625\n",
      "\tb=95\tp=0.083333333333333\tlog(p) = -1.079181246047625\n",
      "\tb=97\tp=0.083333333333333\tlog(p) = -1.079181246047625\n",
      "\tb=99\tp=0.083333333333333\tlog(p) = -1.079181246047625\n",
      "\n",
      "\n",
      "\n",
      " 1 1 \n",
      "=====\n",
      " + -  ||  1\n",
      " + +  ||  1 \n",
      "\n",
      "\tb=0\tp=0.000000000000000\tlog(p) = -inf\n",
      "\tb=2\tp=0.000000000000000\tlog(p) = -inf\n",
      "\tb=4\tp=0.023437500000000\tlog(p) = -1.630088714928206\n",
      "\tb=6\tp=0.030761718750000\tlog(p) = -1.511989402850211\n",
      "\tb=8\tp=0.032684326171875\tlog(p) = -1.485660464127862\n",
      "\tb=10\tp=0.033170700073242\tlog(p) = -1.479245362525209\n",
      "\tb=12\tp=0.033292651176453\tlog(p) = -1.477651619518651\n",
      "\tb=14\tp=0.033323161303997\tlog(p) = -1.477253804631530\n",
      "\tb=16\tp=0.033330790232867\tlog(p) = -1.477154389618643\n",
      "\tb=18\tp=0.033332697552396\tlog(p) = -1.477129538283244\n",
      "\tb=20\tp=0.033333174387735\tlog(p) = -1.477123325600486\n",
      "\tb=22\tp=0.033333293596911\tlog(p) = -1.477121772439239\n",
      "\tb=24\tp=0.033333323399226\tlog(p) = -1.477121384149517\n",
      "\tb=26\tp=0.033333330849806\tlog(p) = -1.477121287077124\n",
      "\tb=28\tp=0.033333332712452\tlog(p) = -1.477121262809028\n",
      "\tb=30\tp=0.033333333178113\tlog(p) = -1.477121256742004\n",
      "\tb=32\tp=0.033333333294528\tlog(p) = -1.477121255225248\n",
      "\tb=34\tp=0.033333333323632\tlog(p) = -1.477121254846059\n",
      "\tb=36\tp=0.033333333330908\tlog(p) = -1.477121254751262\n",
      "\tb=38\tp=0.033333333332727\tlog(p) = -1.477121254727562\n",
      "\tb=40\tp=0.033333333333182\tlog(p) = -1.477121254721637\n",
      "\tb=42\tp=0.033333333333295\tlog(p) = -1.477121254720156\n",
      "\tb=44\tp=0.033333333333324\tlog(p) = -1.477121254719786\n",
      "\tb=46\tp=0.033333333333331\tlog(p) = -1.477121254719693\n",
      "\tb=48\tp=0.033333333333333\tlog(p) = -1.477121254719670\n",
      "\tb=50\tp=0.033333333333333\tlog(p) = -1.477121254719664\n",
      "\tb=52\tp=0.033333333333333\tlog(p) = -1.477121254719663\n",
      "\tb=54\tp=0.033333333333333\tlog(p) = -1.477121254719663\n",
      "\tb=56\tp=0.033333333333333\tlog(p) = -1.477121254719663\n",
      "\tb=58\tp=0.033333333333333\tlog(p) = -1.477121254719662\n",
      "\tb=60\tp=0.033333333333333\tlog(p) = -1.477121254719663\n",
      "\tb=62\tp=0.033333333333333\tlog(p) = -1.477121254719662\n",
      "\tb=64\tp=0.033333333333333\tlog(p) = -1.477121254719663\n",
      "\tb=66\tp=0.033333333333333\tlog(p) = -1.477121254719662\n",
      "\tb=68\tp=0.033333333333333\tlog(p) = -1.477121254719663\n",
      "\tb=70\tp=0.033333333333333\tlog(p) = -1.477121254719662\n",
      "\tb=72\tp=0.033333333333333\tlog(p) = -1.477121254719663\n",
      "\tb=74\tp=0.033333333333333\tlog(p) = -1.477121254719662\n",
      "\tb=76\tp=0.033333333333333\tlog(p) = -1.477121254719663\n",
      "\tb=78\tp=0.033333333333333\tlog(p) = -1.477121254719662\n",
      "\tb=80\tp=0.033333333333333\tlog(p) = -1.477121254719663\n",
      "\tb=82\tp=0.033333333333333\tlog(p) = -1.477121254719662\n",
      "\tb=84\tp=0.033333333333333\tlog(p) = -1.477121254719663\n",
      "\tb=86\tp=0.033333333333333\tlog(p) = -1.477121254719662\n",
      "\tb=88\tp=0.033333333333333\tlog(p) = -1.477121254719663\n",
      "\tb=90\tp=0.033333333333333\tlog(p) = -1.477121254719662\n",
      "\tb=92\tp=0.033333333333333\tlog(p) = -1.477121254719663\n",
      "\tb=94\tp=0.033333333333333\tlog(p) = -1.477121254719662\n",
      "\tb=96\tp=0.033333333333333\tlog(p) = -1.477121254719663\n",
      "\tb=98\tp=0.033333333333333\tlog(p) = -1.477121254719662\n",
      "\n",
      "\n",
      "\n",
      " 2 \n",
      "===\n",
      " -  ||  1 \n",
      "\n",
      "\tb=1\tp=1.000000000000000\tlog(p) = 0.000000000000000\n",
      "\tb=3\tp=1.000000000000000\tlog(p) = 0.000000000000000\n",
      "\tb=5\tp=1.000000000000000\tlog(p) = 0.000000000000000\n",
      "\tb=7\tp=1.000000000000000\tlog(p) = 0.000000000000000\n",
      "\tb=9\tp=1.000000000000000\tlog(p) = 0.000000000000000\n",
      "\tb=11\tp=1.000000000000000\tlog(p) = 0.000000000000000\n",
      "\tb=13\tp=1.000000000000000\tlog(p) = 0.000000000000000\n",
      "\tb=15\tp=1.000000000000000\tlog(p) = 0.000000000000000\n",
      "\tb=17\tp=1.000000000000000\tlog(p) = 0.000000000000000\n",
      "\tb=19\tp=1.000000000000000\tlog(p) = 0.000000000000000\n",
      "\tb=21\tp=1.000000000000000\tlog(p) = 0.000000000000000\n",
      "\tb=23\tp=1.000000000000000\tlog(p) = 0.000000000000000\n",
      "\tb=25\tp=1.000000000000000\tlog(p) = 0.000000000000000\n",
      "\tb=27\tp=1.000000000000000\tlog(p) = 0.000000000000000\n",
      "\tb=29\tp=1.000000000000000\tlog(p) = 0.000000000000000\n",
      "\tb=31\tp=1.000000000000000\tlog(p) = 0.000000000000000\n",
      "\tb=33\tp=1.000000000000000\tlog(p) = 0.000000000000000\n",
      "\tb=35\tp=1.000000000000000\tlog(p) = 0.000000000000000\n",
      "\tb=37\tp=1.000000000000000\tlog(p) = 0.000000000000000\n",
      "\tb=39\tp=1.000000000000000\tlog(p) = 0.000000000000000\n",
      "\tb=41\tp=1.000000000000000\tlog(p) = 0.000000000000000\n",
      "\tb=43\tp=1.000000000000000\tlog(p) = 0.000000000000000\n",
      "\tb=45\tp=1.000000000000000\tlog(p) = 0.000000000000000\n",
      "\tb=47\tp=1.000000000000000\tlog(p) = 0.000000000000000\n",
      "\tb=49\tp=1.000000000000000\tlog(p) = 0.000000000000000\n",
      "\tb=51\tp=1.000000000000000\tlog(p) = 0.000000000000000\n",
      "\tb=53\tp=1.000000000000000\tlog(p) = 0.000000000000000\n",
      "\tb=55\tp=1.000000000000000\tlog(p) = 0.000000000000000\n",
      "\tb=57\tp=1.000000000000000\tlog(p) = 0.000000000000000\n",
      "\tb=59\tp=1.000000000000000\tlog(p) = 0.000000000000000\n",
      "\tb=61\tp=1.000000000000000\tlog(p) = 0.000000000000000\n",
      "\tb=63\tp=1.000000000000000\tlog(p) = 0.000000000000000\n",
      "\tb=65\tp=1.000000000000000\tlog(p) = 0.000000000000000\n",
      "\tb=67\tp=1.000000000000000\tlog(p) = 0.000000000000000\n",
      "\tb=69\tp=1.000000000000000\tlog(p) = 0.000000000000000\n",
      "\tb=71\tp=1.000000000000000\tlog(p) = 0.000000000000000\n",
      "\tb=73\tp=1.000000000000000\tlog(p) = 0.000000000000000\n",
      "\tb=75\tp=1.000000000000000\tlog(p) = 0.000000000000000\n",
      "\tb=77\tp=1.000000000000000\tlog(p) = 0.000000000000000\n",
      "\tb=79\tp=1.000000000000000\tlog(p) = 0.000000000000000\n",
      "\tb=81\tp=1.000000000000000\tlog(p) = 0.000000000000000\n",
      "\tb=83\tp=1.000000000000000\tlog(p) = 0.000000000000000\n",
      "\tb=85\tp=1.000000000000000\tlog(p) = 0.000000000000000\n",
      "\tb=87\tp=1.000000000000000\tlog(p) = 0.000000000000000\n",
      "\tb=89\tp=1.000000000000000\tlog(p) = 0.000000000000000\n",
      "\tb=91\tp=1.000000000000000\tlog(p) = 0.000000000000000\n",
      "\tb=93\tp=1.000000000000000\tlog(p) = 0.000000000000000\n",
      "\tb=95\tp=1.000000000000000\tlog(p) = 0.000000000000000\n",
      "\tb=97\tp=1.000000000000000\tlog(p) = 0.000000000000000\n",
      "\tb=99\tp=1.000000000000000\tlog(p) = 0.000000000000000\n",
      "\n",
      "\n",
      "\n",
      " 1 1 \n",
      "=====\n",
      " - +  ||  1\n",
      " - -  ||  1 \n",
      "\n",
      "\tb=0\tp=0.000000000000000\tlog(p) = -inf\n",
      "\tb=2\tp=0.250000000000000\tlog(p) = -0.602059991327962\n",
      "\tb=4\tp=0.289062500000000\tlog(p) = -0.539008245580873\n",
      "\tb=6\tp=0.297363281250000\tlog(p) = -0.526712659670918\n",
      "\tb=8\tp=0.299346923828125\tlog(p) = -0.523825200425713\n",
      "\tb=10\tp=0.299837112426758\tlog(p) = -0.523114613233497\n",
      "\tb=12\tp=0.299959301948547\tlog(p) = -0.522937665740908\n",
      "\tb=14\tp=0.299989826977253\tlog(p) = -0.522893472488850\n",
      "\tb=16\tp=0.299997456837445\tlog(p) = -0.522882426900823\n",
      "\tb=18\tp=0.299999364215182\tlog(p) = -0.522879665674106\n",
      "\tb=20\tp=0.299999841054159\tlog(p) = -0.522878975378070\n",
      "\tb=22\tp=0.299999960263563\tlog(p) = -0.522878802804726\n",
      "\tb=24\tp=0.299999990065892\tlog(p) = -0.522878759661432\n",
      "\tb=26\tp=0.299999997516473\tlog(p) = -0.522878748875611\n",
      "\tb=28\tp=0.299999999379118\tlog(p) = -0.522878746179156\n",
      "\tb=30\tp=0.299999999844780\tlog(p) = -0.522878745505042\n",
      "\tb=32\tp=0.299999999961195\tlog(p) = -0.522878745336514\n",
      "\tb=34\tp=0.299999999990299\tlog(p) = -0.522878745294382\n",
      "\tb=36\tp=0.299999999997575\tlog(p) = -0.522878745283849\n",
      "\tb=38\tp=0.299999999999394\tlog(p) = -0.522878745281215\n",
      "\tb=40\tp=0.299999999999848\tlog(p) = -0.522878745280557\n",
      "\tb=42\tp=0.299999999999962\tlog(p) = -0.522878745280392\n",
      "\tb=44\tp=0.299999999999990\tlog(p) = -0.522878745280351\n",
      "\tb=46\tp=0.299999999999998\tlog(p) = -0.522878745280341\n",
      "\tb=48\tp=0.299999999999999\tlog(p) = -0.522878745280339\n",
      "\tb=50\tp=0.300000000000000\tlog(p) = -0.522878745280338\n",
      "\tb=52\tp=0.300000000000000\tlog(p) = -0.522878745280338\n",
      "\tb=54\tp=0.300000000000000\tlog(p) = -0.522878745280338\n",
      "\tb=56\tp=0.300000000000000\tlog(p) = -0.522878745280338\n",
      "\tb=58\tp=0.300000000000000\tlog(p) = -0.522878745280338\n",
      "\tb=60\tp=0.300000000000000\tlog(p) = -0.522878745280338\n",
      "\tb=62\tp=0.300000000000000\tlog(p) = -0.522878745280338\n",
      "\tb=64\tp=0.300000000000000\tlog(p) = -0.522878745280338\n",
      "\tb=66\tp=0.300000000000000\tlog(p) = -0.522878745280338\n",
      "\tb=68\tp=0.300000000000000\tlog(p) = -0.522878745280338\n",
      "\tb=70\tp=0.300000000000000\tlog(p) = -0.522878745280338\n",
      "\tb=72\tp=0.300000000000000\tlog(p) = -0.522878745280338\n",
      "\tb=74\tp=0.300000000000000\tlog(p) = -0.522878745280338\n",
      "\tb=76\tp=0.300000000000000\tlog(p) = -0.522878745280338\n",
      "\tb=78\tp=0.300000000000000\tlog(p) = -0.522878745280338\n",
      "\tb=80\tp=0.300000000000000\tlog(p) = -0.522878745280338\n",
      "\tb=82\tp=0.300000000000000\tlog(p) = -0.522878745280338\n",
      "\tb=84\tp=0.300000000000000\tlog(p) = -0.522878745280338\n",
      "\tb=86\tp=0.300000000000000\tlog(p) = -0.522878745280338\n",
      "\tb=88\tp=0.300000000000000\tlog(p) = -0.522878745280338\n",
      "\tb=90\tp=0.300000000000000\tlog(p) = -0.522878745280338\n",
      "\tb=92\tp=0.300000000000000\tlog(p) = -0.522878745280338\n",
      "\tb=94\tp=0.300000000000000\tlog(p) = -0.522878745280338\n",
      "\tb=96\tp=0.300000000000000\tlog(p) = -0.522878745280338\n",
      "\tb=98\tp=0.300000000000000\tlog(p) = -0.522878745280338\n",
      "\tb=100\tp=0.300000000000000\tlog(p) = -0.522878745280338\n",
      "\n",
      "\n",
      "\n",
      " 2 \n",
      "===\n",
      " -  ||  1\n",
      " +  ||  1 \n",
      "\n",
      "\tb=1\tp=0.000000000000000\tlog(p) = -inf\n",
      "\tb=3\tp=0.031250000000000\tlog(p) = -1.505149978319906\n",
      "\tb=5\tp=0.039062500000000\tlog(p) = -1.408239965311850\n",
      "\tb=7\tp=0.041015625000000\tlog(p) = -1.387050666241912\n",
      "\tb=9\tp=0.041503906250000\tlog(p) = -1.381911026589500\n",
      "\tb=11\tp=0.041625976562500\tlog(p) = -1.380635564639258\n",
      "\tb=13\tp=0.041656494140625\tlog(p) = -1.380317283582943\n",
      "\tb=15\tp=0.041664123535156\tlog(p) = -1.380237749752137\n",
      "\tb=17\tp=0.041666030883789\tlog(p) = -1.380217868570055\n",
      "\tb=19\tp=0.041666507720947\tlog(p) = -1.380212898416739\n",
      "\tb=21\tp=0.041666626930237\tlog(p) = -1.380211655887297\n",
      "\tb=23\tp=0.041666656732559\tlog(p) = -1.380211345255492\n",
      "\tb=25\tp=0.041666664183140\tlog(p) = -1.380211267597575\n",
      "\tb=27\tp=0.041666666045785\tlog(p) = -1.380211248183098\n",
      "\tb=29\tp=0.041666666511446\tlog(p) = -1.380211243329479\n",
      "\tb=31\tp=0.041666666627862\tlog(p) = -1.380211242116074\n",
      "\tb=33\tp=0.041666666656965\tlog(p) = -1.380211241812723\n",
      "\tb=35\tp=0.041666666664241\tlog(p) = -1.380211241736885\n",
      "\tb=37\tp=0.041666666666060\tlog(p) = -1.380211241717926\n",
      "\tb=39\tp=0.041666666666515\tlog(p) = -1.380211241713186\n",
      "\tb=41\tp=0.041666666666629\tlog(p) = -1.380211241712001\n",
      "\tb=43\tp=0.041666666666657\tlog(p) = -1.380211241711705\n",
      "\tb=45\tp=0.041666666666664\tlog(p) = -1.380211241711631\n",
      "\tb=47\tp=0.041666666666666\tlog(p) = -1.380211241711612\n",
      "\tb=49\tp=0.041666666666667\tlog(p) = -1.380211241711608\n",
      "\tb=51\tp=0.041666666666667\tlog(p) = -1.380211241711606\n",
      "\tb=53\tp=0.041666666666667\tlog(p) = -1.380211241711606\n",
      "\tb=55\tp=0.041666666666667\tlog(p) = -1.380211241711606\n",
      "\tb=57\tp=0.041666666666667\tlog(p) = -1.380211241711606\n",
      "\tb=59\tp=0.041666666666667\tlog(p) = -1.380211241711606\n",
      "\tb=61\tp=0.041666666666667\tlog(p) = -1.380211241711606\n",
      "\tb=63\tp=0.041666666666667\tlog(p) = -1.380211241711606\n",
      "\tb=65\tp=0.041666666666667\tlog(p) = -1.380211241711606\n",
      "\tb=67\tp=0.041666666666667\tlog(p) = -1.380211241711606\n",
      "\tb=69\tp=0.041666666666667\tlog(p) = -1.380211241711606\n",
      "\tb=71\tp=0.041666666666667\tlog(p) = -1.380211241711606\n",
      "\tb=73\tp=0.041666666666667\tlog(p) = -1.380211241711606\n",
      "\tb=75\tp=0.041666666666667\tlog(p) = -1.380211241711606\n",
      "\tb=77\tp=0.041666666666667\tlog(p) = -1.380211241711606\n",
      "\tb=79\tp=0.041666666666667\tlog(p) = -1.380211241711606\n",
      "\tb=81\tp=0.041666666666667\tlog(p) = -1.380211241711606\n",
      "\tb=83\tp=0.041666666666667\tlog(p) = -1.380211241711606\n",
      "\tb=85\tp=0.041666666666667\tlog(p) = -1.380211241711606\n",
      "\tb=87\tp=0.041666666666667\tlog(p) = -1.380211241711606\n",
      "\tb=89\tp=0.041666666666667\tlog(p) = -1.380211241711606\n",
      "\tb=91\tp=0.041666666666667\tlog(p) = -1.380211241711606\n",
      "\tb=93\tp=0.041666666666667\tlog(p) = -1.380211241711606\n",
      "\tb=95\tp=0.041666666666667\tlog(p) = -1.380211241711606\n",
      "\tb=97\tp=0.041666666666667\tlog(p) = -1.380211241711606\n",
      "\tb=99\tp=0.041666666666667\tlog(p) = -1.380211241711606\n",
      "\n",
      "\n",
      "\n",
      " 1 1 \n",
      "=====\n",
      " - +  ||  2 \n",
      "\n",
      "\tb=1\tp=0.000000000000000\tlog(p) = -inf\n",
      "\tb=3\tp=0.031250000000000\tlog(p) = -1.505149978319906\n",
      "\tb=5\tp=0.039062500000000\tlog(p) = -1.408239965311850\n",
      "\tb=7\tp=0.041015625000000\tlog(p) = -1.387050666241912\n",
      "\tb=9\tp=0.041503906250000\tlog(p) = -1.381911026589500\n",
      "\tb=11\tp=0.041625976562500\tlog(p) = -1.380635564639258\n",
      "\tb=13\tp=0.041656494140625\tlog(p) = -1.380317283582943\n",
      "\tb=15\tp=0.041664123535156\tlog(p) = -1.380237749752137\n",
      "\tb=17\tp=0.041666030883789\tlog(p) = -1.380217868570055\n",
      "\tb=19\tp=0.041666507720947\tlog(p) = -1.380212898416739\n",
      "\tb=21\tp=0.041666626930237\tlog(p) = -1.380211655887297\n",
      "\tb=23\tp=0.041666656732559\tlog(p) = -1.380211345255492\n",
      "\tb=25\tp=0.041666664183140\tlog(p) = -1.380211267597575\n",
      "\tb=27\tp=0.041666666045785\tlog(p) = -1.380211248183098\n",
      "\tb=29\tp=0.041666666511446\tlog(p) = -1.380211243329479\n",
      "\tb=31\tp=0.041666666627862\tlog(p) = -1.380211242116074\n",
      "\tb=33\tp=0.041666666656965\tlog(p) = -1.380211241812723\n",
      "\tb=35\tp=0.041666666664241\tlog(p) = -1.380211241736885\n",
      "\tb=37\tp=0.041666666666060\tlog(p) = -1.380211241717926\n",
      "\tb=39\tp=0.041666666666515\tlog(p) = -1.380211241713186\n",
      "\tb=41\tp=0.041666666666629\tlog(p) = -1.380211241712001\n",
      "\tb=43\tp=0.041666666666657\tlog(p) = -1.380211241711705\n",
      "\tb=45\tp=0.041666666666664\tlog(p) = -1.380211241711631\n",
      "\tb=47\tp=0.041666666666666\tlog(p) = -1.380211241711612\n",
      "\tb=49\tp=0.041666666666667\tlog(p) = -1.380211241711608\n",
      "\tb=51\tp=0.041666666666667\tlog(p) = -1.380211241711606\n",
      "\tb=53\tp=0.041666666666667\tlog(p) = -1.380211241711606\n",
      "\tb=55\tp=0.041666666666667\tlog(p) = -1.380211241711606\n",
      "\tb=57\tp=0.041666666666667\tlog(p) = -1.380211241711606\n",
      "\tb=59\tp=0.041666666666667\tlog(p) = -1.380211241711606\n",
      "\tb=61\tp=0.041666666666667\tlog(p) = -1.380211241711606\n",
      "\tb=63\tp=0.041666666666667\tlog(p) = -1.380211241711606\n",
      "\tb=65\tp=0.041666666666667\tlog(p) = -1.380211241711606\n",
      "\tb=67\tp=0.041666666666667\tlog(p) = -1.380211241711606\n",
      "\tb=69\tp=0.041666666666667\tlog(p) = -1.380211241711606\n",
      "\tb=71\tp=0.041666666666667\tlog(p) = -1.380211241711606\n",
      "\tb=73\tp=0.041666666666667\tlog(p) = -1.380211241711606\n",
      "\tb=75\tp=0.041666666666667\tlog(p) = -1.380211241711606\n",
      "\tb=77\tp=0.041666666666667\tlog(p) = -1.380211241711606\n",
      "\tb=79\tp=0.041666666666667\tlog(p) = -1.380211241711606\n",
      "\tb=81\tp=0.041666666666667\tlog(p) = -1.380211241711606\n",
      "\tb=83\tp=0.041666666666667\tlog(p) = -1.380211241711606\n",
      "\tb=85\tp=0.041666666666667\tlog(p) = -1.380211241711606\n",
      "\tb=87\tp=0.041666666666667\tlog(p) = -1.380211241711606\n",
      "\tb=89\tp=0.041666666666667\tlog(p) = -1.380211241711606\n",
      "\tb=91\tp=0.041666666666667\tlog(p) = -1.380211241711606\n",
      "\tb=93\tp=0.041666666666667\tlog(p) = -1.380211241711606\n",
      "\tb=95\tp=0.041666666666667\tlog(p) = -1.380211241711606\n",
      "\tb=97\tp=0.041666666666667\tlog(p) = -1.380211241711606\n",
      "\tb=99\tp=0.041666666666667\tlog(p) = -1.380211241711606\n",
      "\n",
      "\n",
      "\n",
      " 2 \n",
      "===\n",
      " -  ||  2 \n",
      "\n",
      "\tb=1\tp=0.500000000000000\tlog(p) = -0.301029995663981\n",
      "\tb=3\tp=0.531250000000000\tlog(p) = -0.274701056941632\n",
      "\tb=5\tp=0.536132812500000\tlog(p) = -0.270727612189720\n",
      "\tb=7\tp=0.537170410156250\tlog(p) = -0.269887918303756\n",
      "\tb=9\tp=0.537418365478516\tlog(p) = -0.269687496277076\n",
      "\tb=11\tp=0.537479639053345\tlog(p) = -0.269637983159829\n",
      "\tb=13\tp=0.537494912743568\tlog(p) = -0.269625641882779\n",
      "\tb=15\tp=0.537498728372157\tlog(p) = -0.269622558875815\n",
      "\tb=17\tp=0.537499682104681\tlog(p) = -0.269621788268587\n",
      "\tb=19\tp=0.537499920526898\tlog(p) = -0.269621595625813\n",
      "\tb=21\tp=0.537499980131770\tlog(p) = -0.269621547465683\n",
      "\tb=23\tp=0.537499995032945\tlog(p) = -0.269621535425686\n",
      "\tb=25\tp=0.537499998758237\tlog(p) = -0.269621532415689\n",
      "\tb=27\tp=0.537499999689559\tlog(p) = -0.269621531663190\n",
      "\tb=29\tp=0.537499999922390\tlog(p) = -0.269621531475065\n",
      "\tb=31\tp=0.537499999980597\tlog(p) = -0.269621531428034\n",
      "\tb=33\tp=0.537499999995149\tlog(p) = -0.269621531416276\n",
      "\tb=35\tp=0.537499999998787\tlog(p) = -0.269621531413337\n",
      "\tb=37\tp=0.537499999999697\tlog(p) = -0.269621531412602\n",
      "\tb=39\tp=0.537499999999924\tlog(p) = -0.269621531412418\n",
      "\tb=41\tp=0.537499999999981\tlog(p) = -0.269621531412372\n",
      "\tb=43\tp=0.537499999999995\tlog(p) = -0.269621531412361\n",
      "\tb=45\tp=0.537499999999999\tlog(p) = -0.269621531412358\n",
      "\tb=47\tp=0.537500000000000\tlog(p) = -0.269621531412357\n",
      "\tb=49\tp=0.537500000000000\tlog(p) = -0.269621531412357\n",
      "\tb=51\tp=0.537500000000000\tlog(p) = -0.269621531412357\n",
      "\tb=53\tp=0.537500000000000\tlog(p) = -0.269621531412357\n",
      "\tb=55\tp=0.537500000000000\tlog(p) = -0.269621531412357\n",
      "\tb=57\tp=0.537500000000000\tlog(p) = -0.269621531412357\n",
      "\tb=59\tp=0.537500000000000\tlog(p) = -0.269621531412357\n",
      "\tb=61\tp=0.537500000000000\tlog(p) = -0.269621531412357\n",
      "\tb=63\tp=0.537500000000000\tlog(p) = -0.269621531412357\n",
      "\tb=65\tp=0.537500000000000\tlog(p) = -0.269621531412357\n",
      "\tb=67\tp=0.537500000000000\tlog(p) = -0.269621531412357\n",
      "\tb=69\tp=0.537500000000000\tlog(p) = -0.269621531412357\n",
      "\tb=71\tp=0.537500000000000\tlog(p) = -0.269621531412357\n",
      "\tb=73\tp=0.537500000000000\tlog(p) = -0.269621531412357\n",
      "\tb=75\tp=0.537500000000000\tlog(p) = -0.269621531412357\n",
      "\tb=77\tp=0.537500000000000\tlog(p) = -0.269621531412357\n",
      "\tb=79\tp=0.537500000000000\tlog(p) = -0.269621531412357\n",
      "\tb=81\tp=0.537500000000000\tlog(p) = -0.269621531412357\n",
      "\tb=83\tp=0.537500000000000\tlog(p) = -0.269621531412357\n",
      "\tb=85\tp=0.537500000000000\tlog(p) = -0.269621531412357\n",
      "\tb=87\tp=0.537500000000000\tlog(p) = -0.269621531412357\n",
      "\tb=89\tp=0.537500000000000\tlog(p) = -0.269621531412357\n",
      "\tb=91\tp=0.537500000000000\tlog(p) = -0.269621531412357\n",
      "\tb=93\tp=0.537500000000000\tlog(p) = -0.269621531412357\n",
      "\tb=95\tp=0.537500000000000\tlog(p) = -0.269621531412357\n",
      "\tb=97\tp=0.537500000000000\tlog(p) = -0.269621531412357\n",
      "\tb=99\tp=0.537500000000000\tlog(p) = -0.269621531412357\n",
      "\n",
      "\n",
      "\n",
      " 2 \n",
      "===\n",
      " +  ||  2 \n",
      "\n",
      "\tb=1\tp=0.000000000000000\tlog(p) = -inf\n",
      "\tb=3\tp=0.000000000000000\tlog(p) = -inf\n",
      "\tb=5\tp=0.002929687500000\tlog(p) = -2.533178701920149\n",
      "\tb=7\tp=0.003845214843750\tlog(p) = -2.415079389842155\n",
      "\tb=9\tp=0.004085540771484\tlog(p) = -2.388750451119806\n",
      "\tb=11\tp=0.004146337509155\tlog(p) = -2.382335349517152\n",
      "\tb=13\tp=0.004161581397057\tlog(p) = -2.380741606510595\n",
      "\tb=15\tp=0.004165395163000\tlog(p) = -2.380343791623474\n",
      "\tb=17\tp=0.004166348779108\tlog(p) = -2.380244376610587\n",
      "\tb=19\tp=0.004166587194049\tlog(p) = -2.380219525275188\n",
      "\tb=21\tp=0.004166646798467\tlog(p) = -2.380213312592429\n",
      "\tb=23\tp=0.004166661699614\tlog(p) = -2.380211759431182\n",
      "\tb=25\tp=0.004166665424903\tlog(p) = -2.380211371141461\n",
      "\tb=27\tp=0.004166666356226\tlog(p) = -2.380211274069067\n",
      "\tb=29\tp=0.004166666589056\tlog(p) = -2.380211249800971\n",
      "\tb=31\tp=0.004166666647264\tlog(p) = -2.380211243733947\n",
      "\tb=33\tp=0.004166666661816\tlog(p) = -2.380211242217191\n",
      "\tb=35\tp=0.004166666665454\tlog(p) = -2.380211241838002\n",
      "\tb=37\tp=0.004166666666364\tlog(p) = -2.380211241743205\n",
      "\tb=39\tp=0.004166666666591\tlog(p) = -2.380211241719506\n",
      "\tb=41\tp=0.004166666666648\tlog(p) = -2.380211241713581\n",
      "\tb=43\tp=0.004166666666662\tlog(p) = -2.380211241712100\n",
      "\tb=45\tp=0.004166666666665\tlog(p) = -2.380211241711729\n",
      "\tb=47\tp=0.004166666666666\tlog(p) = -2.380211241711637\n",
      "\tb=49\tp=0.004166666666667\tlog(p) = -2.380211241711614\n",
      "\tb=51\tp=0.004166666666667\tlog(p) = -2.380211241711608\n",
      "\tb=53\tp=0.004166666666667\tlog(p) = -2.380211241711606\n",
      "\tb=55\tp=0.004166666666667\tlog(p) = -2.380211241711606\n",
      "\tb=57\tp=0.004166666666667\tlog(p) = -2.380211241711606\n",
      "\tb=59\tp=0.004166666666667\tlog(p) = -2.380211241711606\n",
      "\tb=61\tp=0.004166666666667\tlog(p) = -2.380211241711606\n",
      "\tb=63\tp=0.004166666666667\tlog(p) = -2.380211241711606\n",
      "\tb=65\tp=0.004166666666667\tlog(p) = -2.380211241711606\n",
      "\tb=67\tp=0.004166666666667\tlog(p) = -2.380211241711606\n",
      "\tb=69\tp=0.004166666666667\tlog(p) = -2.380211241711606\n",
      "\tb=71\tp=0.004166666666667\tlog(p) = -2.380211241711606\n",
      "\tb=73\tp=0.004166666666667\tlog(p) = -2.380211241711606\n",
      "\tb=75\tp=0.004166666666667\tlog(p) = -2.380211241711606\n",
      "\tb=77\tp=0.004166666666667\tlog(p) = -2.380211241711606\n",
      "\tb=79\tp=0.004166666666667\tlog(p) = -2.380211241711606\n",
      "\tb=81\tp=0.004166666666667\tlog(p) = -2.380211241711606\n",
      "\tb=83\tp=0.004166666666667\tlog(p) = -2.380211241711606\n",
      "\tb=85\tp=0.004166666666667\tlog(p) = -2.380211241711606\n",
      "\tb=87\tp=0.004166666666667\tlog(p) = -2.380211241711606\n",
      "\tb=89\tp=0.004166666666667\tlog(p) = -2.380211241711606\n",
      "\tb=91\tp=0.004166666666667\tlog(p) = -2.380211241711606\n",
      "\tb=93\tp=0.004166666666667\tlog(p) = -2.380211241711606\n",
      "\tb=95\tp=0.004166666666667\tlog(p) = -2.380211241711606\n",
      "\tb=97\tp=0.004166666666667\tlog(p) = -2.380211241711606\n",
      "\n",
      "\n",
      "\n"
     ]
    }
   ],
   "source": [
    "conf100 = table100.get_all_configurations()\n",
    "i = 0\n",
    "\n",
    "def mylog(p):\n",
    "    if p> 0: return math.log10(p)\n",
    "    else: return float('-inf')\n",
    "\n",
    "for key,val in conf100.iteritems():\n",
    "    if max(val.values()) > 0:\n",
    "        print key,'\\n'\n",
    "        for b,p in val.iteritems():\n",
    "            print '\\tb=%i\\tp=%.15f\\tlog(p) = %.15f'%(b,p,mylog(p))\n",
    "        print '\\n\\n'"
   ]
  },
  {
   "cell_type": "markdown",
   "metadata": {
    "collapsed": false
   },
   "source": [
    "# Notes\n",
    "\n",
    "* TakeGenerate a figure like Lyngsoe (split figure 7)\n",
    "* Real data and a likelihood curve\n",
    "* How big data can we run (a table that a researcher can look at and say: 'Will my dataset run on this?')"
   ]
  },
  {
   "cell_type": "code",
   "execution_count": 308,
   "metadata": {
    "collapsed": false
   },
   "outputs": [],
   "source": [
    "from configurations import configuration_new as conf\n",
    "import formula_outline as fo"
   ]
  },
  {
   "cell_type": "code",
   "execution_count": 309,
   "metadata": {
    "collapsed": false
   },
   "outputs": [
    {
     "data": {
      "text/plain": [
       "(0.25, <configurationTable.configTable at 0x7f93ce9e1910>)"
      ]
     },
     "execution_count": 309,
     "metadata": {},
     "output_type": "execute_result"
    }
   ],
   "source": [
    "psi_test = conf(S4,nR4,nC4)\n",
    "# psi_2_no_mut = conf(np.matrix([0]), np.array([2]), np.array([2]))\n",
    "# print psi_test\n",
    "# print psi_2_no_mut\n",
    "fo.prob_External(S4,nR4,nC4,b=1,P = P4)\n",
    "# p, table = fo.prob_External(np.matrix([0]), np.array([2]), np.array([2]), b = 6, P = P4)"
   ]
  },
  {
   "cell_type": "code",
   "execution_count": 310,
   "metadata": {
    "collapsed": false
   },
   "outputs": [
    {
     "name": "stdout",
     "output_type": "stream",
     "text": [
      " 1 1 \n",
      "=====\n",
      " + -  ||  1\n",
      " - -  ||  1\n"
     ]
    }
   ],
   "source": [
    "print psi_test"
   ]
  },
  {
   "cell_type": "code",
   "execution_count": 311,
   "metadata": {
    "collapsed": false,
    "scrolled": true
   },
   "outputs": [],
   "source": [
    "# for x in table.get_all_configurations():\n",
    "#     print x,'\\n',table.__node_table__[x],'\\n'"
   ]
  },
  {
   "cell_type": "code",
   "execution_count": 312,
   "metadata": {
    "collapsed": false
   },
   "outputs": [],
   "source": [
    "#thetas_small_example = [0.0001 , 0.001, 0.01, 0.1, 1.0, 10, 100, 1000]\n",
    "thetas_small_example = list(np.logspace(-4.5,4.5,num=201))\n",
    "pis_small_example = [(1.0 , 0.0 , 0.0)]\n",
    "solutions_AIS,Ms_AIS,bs_AIS = solve_AIS_recursions(thetas,pis_AIS)"
   ]
  },
  {
   "cell_type": "code",
   "execution_count": 313,
   "metadata": {
    "collapsed": true
   },
   "outputs": [],
   "source": [
    "probs_and_tables_b_up_to_100 = [fo.prob_External(S4,nR4,nC4,b = 99, theta = t, returnTable=True, P=P4) for t in thetas_small_example]"
   ]
  },
  {
   "cell_type": "code",
   "execution_count": 314,
   "metadata": {
    "collapsed": false
   },
   "outputs": [],
   "source": [
    "def q_approx(b_max, thetaIndex, configuration = psi_test):\n",
    "    try:\n",
    "        return probs_and_tables_b_up_to_100[thetaIndex][1].get_p(configuration,b_max)\n",
    "    except KeyError:\n",
    "        if b_max == 0:\n",
    "            return 0.0\n",
    "        else:\n",
    "            return probs_and_tables_b_up_to_100[thetaIndex][1].get_p(configuration,b_max - 1)"
   ]
  },
  {
   "cell_type": "code",
   "execution_count": 315,
   "metadata": {
    "collapsed": true
   },
   "outputs": [
    {
     "data": {
      "text/plain": [
       "[[0.0, 3.162077669654812e-05, 3.1620776716309846e-05, 3.1620776716309853e-05],\n",
       " [0.0, 3.5072726987164843e-05, 3.5072727014131011e-05, 3.5072727014131004e-05],\n",
       " [0.0, 3.8901487553575101e-05, 3.8901487590372103e-05, 3.8901487590372096e-05],\n",
       " [0.0, 4.3148183749547154e-05, 4.3148183799758868e-05, 4.3148183799758874e-05],\n",
       " [0.0, 4.7858427825880742e-05, 4.7858427894397508e-05, 4.7858427894397508e-05],\n",
       " [0.0, 5.3082808106075177e-05, 5.3082808199570057e-05, 5.3082808199570051e-05],\n",
       " [0.0, 5.8877431411023081e-05, 5.8877431538601659e-05, 5.8877431538601652e-05],\n",
       " [0.0, 6.5304524510134825e-05, 6.5304524684221916e-05, 6.5304524684221916e-05],\n",
       " [0.0, 7.2433100998752089e-05, 7.2433101236301598e-05, 7.2433101236301612e-05],\n",
       " [0.0, 8.0339700690214459e-05, 8.033970101436028e-05, 8.033970101436028e-05],\n",
       " [0.0, 8.9109209372265121e-05, 8.9109209814573529e-05, 8.9109209814573529e-05],\n",
       " [0.0, 9.8835767619045488e-05, 9.8835768222588582e-05, 9.8835768222588596e-05],\n",
       " [0.0, 0.0001096237782798183, 0.00010962377910336749, 0.0001096237791033675],\n",
       " [0.0, 0.00012158902329261123, 0.00012158902441635878, 0.00012158902441635878],\n",
       " [0.0, 0.00013485990160479555, 0.0001348599031381611, 0.0001348599031381611],\n",
       " [0.0, 0.00014957880123363067, 0.0001495788033259122, 0.00014957880332591223],\n",
       " [0.0, 0.00016590361987930125, 0.0001659036227342068, 0.00016590362273420685],\n",
       " [0.0, 0.00018400945002312129, 0.00018400945391859494, 0.00018400945391859507],\n",
       " [0.0, 0.00020409044611745063, 0.00020409045143272104, 0.00020409045143272126],\n",
       " [0.0, 0.00022636189331544802, 0.00022636190056792992, 0.00022636190056793022],\n",
       " [0.0, 0.00025106249921293849, 0.0002510625091085745, 0.00025106250910857504],\n",
       " [0.0, 0.00027845693229711294, 0.00027845694579905014, 0.00027845694579905106],\n",
       " [0.0, 0.0003088386332339654, 0.00030883865165624034, 0.00030883865165624191],\n",
       " [0.0, 0.00034253292779538121, 0.00034253295293071577, 0.00034253295293071827],\n",
       " [0.0, 0.00037990047314514217, 0.00037990050743926402, 0.00037990050743926819],\n",
       " [0.0, 0.00042134107238841285, 0.00042134111917782737, 0.00042134111917783437],\n",
       " [0.0, 0.00046729789575896574, 0.00046729795959526011, 0.00046729795959527188],\n",
       " [0.0, 0.00051826215058909742, 0.00051826223768124569, 0.00051826223768126553],\n",
       " [0.0, 0.00057477824629413078, 0.00057477836511169995, 0.00057477836511173345],\n",
       " [0.0, 0.00063744950501950343, 0.00063744966711524065, 0.00063744966711529671],\n",
       " [0.0, 0.00070694447335318427, 0.00070694469448469093, 0.00070694469448478493],\n",
       " [0.0, 0.00078400389560418535, 0.00078400419726330458, 0.00078400419726346233],\n",
       " [0.0, 0.00086944841458710996, 0.00086944882608504205, 0.00086944882608530703],\n",
       " [0.0, 0.00096418707162197986, 0.00096418763293178058, 0.00096418763293222489],\n",
       " [0.0, 0.0010692266835349525, 0.0010692274491661017, 0.0010692274491668474],\n",
       " [0.0, 0.0011856821807906188, 0.00118568322506976, 0.0011856832250710112],\n",
       " [0.0, 0.0013147879974419344, 0.0013147894217091544, 0.0013147894217112525],\n",
       " [0.0, 0.0014579106102656462, 0.0014579125526796956, 0.001457912552683215],\n",
       " [0.0, 0.0016165623311434564, 0.0016165649800395743, 0.0016165649800454771],\n",
       " [0.0, 0.0017924164632955653, 0.0017924200753797683, 0.0017924200753896679],\n",
       " [0.0, 0.0019873239381668598, 0.0019873288632928526, 0.0019873288633094534],\n",
       " [0.0, 0.0022033315553371103, 0.0022033382702398392, 0.0022033382702676715],\n",
       " [0.0, 0.0024427019524282815, 0.0024427111066405026, 0.0024427111066871589],\n",
       " [0.0, 0.0027079354351721339, 0.0027079479135067672, 0.0027079479135849686],\n",
       " [0.0, 0.0030017937990218981, 0.003001810806570848, 0.003001810806701899],\n",
       " [0.0, 0.0033273262722433986, 0.0033273494499678627, 0.0033273494501874388],\n",
       " [0.0, 0.0036878977054345926, 0.0036879292872979081, 0.003687929287665728],\n",
       " [0.0, 0.0040872191228235296, 0.0040872621493077584, 0.0040872621499237613],\n",
       " [0.0, 0.00452938073516603, 0.0045294393432703684, 0.0045294393443017422],\n",
       " [0.0, 0.0050188874909983866, 0.0050189673079133476, 0.0050189673096396681],\n",
       " [0.0, 0.0055606972104517011, 0.0055608058876697323, 0.005560805890558327],\n",
       " [0.0, 0.0061602613014611566, 0.0061604092389646843, 0.0061604092437963429],\n",
       " [0.0, 0.0068235679992107124, 0.0068237693266941469, 0.0068237693347726986],\n",
       " [0.0, 0.0075571879927282563, 0.0075574618980492284, 0.007557461911550655],\n",
       " [0.0, 0.0083683222037990272, 0.0083686947299833978, 0.0083686947525369055],\n",
       " [0.0, 0.0092648513582737502, 0.0092653578320099905, 0.0092653578696642678],\n",
       " [0.0, 0.010255386833216118, 0.010256075143265837, 0.010256075206094105],\n",
       " [0.0, 0.0113493220692743, 0.011350257087030708, 0.011350257191793899],\n",
       " [0.0, 0.012556883599612061, 0.012558153131910124, 0.01255815330647005],\n",
       " [0.0, 0.013889180457545813, 0.013890903251180699, 0.013890903541802913],\n",
       " [0.0, 0.015358250377121461, 0.015360586864848305, 0.015360587348267812],\n",
       " [0.0, 0.016977100786502164, 0.016980267487589209, 0.016980268290910951],\n",
       " [0.0, 0.018759742105797273, 0.018764030885558985, 0.018764032219017578],\n",
       " [0.0, 0.020721210292379028, 0.020727014063188564, 0.020727016273962309],\n",
       " [0.0, 0.022877574923250089, 0.022885421857072794, 0.022885425517475796],\n",
       " [0.0, 0.025245928364294436, 0.025256527311001555, 0.025256533362640086],\n",
       " [0.0, 0.027844350753864461, 0.027858651352215814, 0.027858661340944821],\n",
       " [0.0, 0.030691844633928492, 0.030711116598983457, 0.03071113305663703],\n",
       " [0.0, 0.033808232116769026, 0.033834169427219035, 0.033834196489620195],\n",
       " [0.0, 0.037214006513335625, 0.037248863743648337, 0.037248908147253373],\n",
       " [0.0, 0.040930129422759837, 0.040976899302494485, 0.040976971984733372],\n",
       " [0.0, 0.044977763465320009, 0.04504040692424377, 0.045040525581010918],\n",
       " [0.0, 0.049377930234348402, 0.049461672707139047, 0.049461865858418046],\n",
       " [0.0, 0.05415108277872805, 0.054262793358896048, 0.05426310677432912],\n",
       " [0.0, 0.059316582174299561, 0.059465255225788952, 0.059465762014929251],\n",
       " [0.0, 0.064892068703658518, 0.065089430575723112, 0.065090246920843239],\n",
       " [0.0, 0.070892720077556745, 0.071153986318955323, 0.071155295814012004],\n",
       " [0.0, 0.077330392261601932, 0.077675202730946039, 0.077677293709519354],\n",
       " [0.0, 0.084212643093394143, 0.08466620295485229, 0.084669525193591069],\n",
       " [0.0, 0.091541645245199671, 0.092136098137579253, 0.092141348086570485],\n",
       " [0.0, 0.09931300340704402, 0.1000890579565489, 0.10009730536096403],\n",
       " [0.0, 0.10751450092582615, 0.1085233219022257, 0.10853619550406525],\n",
       " [0.0, 0.11612481345087364, 0.11743017277601528, 0.11745012880063441],\n",
       " [0.0, 0.12511224106240026, 0.12679290013472924, 0.12682360437481838],\n",
       " [0.0, 0.13443352521734858, 0.13658578748389513, 0.13663264957937954],\n",
       " [0.0, 0.14403283155252777, 0.14677316249481631, 0.1468440685686993],\n",
       " [0.0, 0.15384099260989073, 0.15730855404393548, 0.15741484961346511],\n",
       " [0.0, 0.16377511393989982, 0.16813400322170205, 0.16829177985105034],\n",
       " [0.0, 0.17373865051777312, 0.17917957759336767, 0.17941131080184516],\n",
       " [0.0, 0.18362205557629804, 0.19036313908185801, 0.19069970758989147],\n",
       " [0.0, 0.19330408862266585, 0.20159041618831783, 0.20207349953135395],\n",
       " [0.0, 0.20265384199853992, 0.21275543114269876, 0.21344023069564205],\n",
       " [0.0, 0.21153350540977328, 0.22374133195555956, 0.22469948843771737],\n",
       " [0.0, 0.21980183652300248, 0.23442167757350063, 0.23574416908577903],\n",
       " [0.0, 0.22731824604489972, 0.244662219900742, 0.24646192701053424],\n",
       " [0.0, 0.23394734270480666, 0.25432321690148901, 0.25673675018847286],\n",
       " [0.0, 0.23956372399890585, 0.26326229331494749, 0.26645061482883631],\n",
       " [0.0, 0.24405675017112108, 0.27133783683918111, 0.27548519378548553],\n",
       " [0.0, 0.24733500936303307, 0.27841287640515522, 0.28372362476395091],\n",
       " [0.0, 0.24933017741620656, 0.28435933632052818, 0.29105237725650135],\n",
       " [0.0, 0.25, 0.2890625, 0.29736328125],\n",
       " [0.0, 0.24933017741620644, 0.29242545768401762, 0.30255578507890385],\n",
       " [0.0, 0.24733500936303299, 0.29437326460204188, 0.30653948622919647],\n",
       " [0.0, 0.24405675017112108, 0.29485651072990038, 0.30923692558254057],\n",
       " [0.0, 0.23956372399890596, 0.29385400986190058, 0.31058655902353749],\n",
       " [0.0, 0.23394734270480683, 0.2913743587503283, 0.31054573510331024],\n",
       " [0.0, 0.22731824604489986, 0.2874561947359579, 0.30909343324427113],\n",
       " [0.0, 0.21980183652300267, 0.28216708412577518, 0.30623247352975047],\n",
       " [0.0, 0.21153350540977345, 0.27560108985641218, 0.30199091071089634],\n",
       " [0.0, 0.20265384199853992, 0.26787517950750711, 0.29642237625113155],\n",
       " [0.0, 0.19330408862266582, 0.25912472809838072, 0.28960522642684855],\n",
       " [0.0, 0.18362205557629804, 0.24949843268834296, 0.28164047567436645],\n",
       " [0.0, 0.17373865051777318, 0.2391529816611157, 0.27264862123471001],\n",
       " [0.0, 0.16377511393989985, 0.22824781093800112, 0.26276557642243686],\n",
       " [0.0, 0.15384099260989081, 0.2169402377980322, 0.2521380089450041],\n",
       " [0.0, 0.14403283155252786, 0.20538119962427062, 0.24091841864105504],\n",
       " [0.0, 0.13443352521734867, 0.19371175033369059, 0.2292602850870345],\n",
       " [0.0, 0.12511224106240035, 0.18206039157450132, 0.2173135760281209],\n",
       " [0.0, 0.11612481345087372, 0.17054124715877791, 0.20522084328045981],\n",
       " [0.0, 0.10751450092582622, 0.15925303314140618, 0.19311405600036308],\n",
       " [0.0, 0.099313003407044201, 0.14827873517978243, 0.18111224354091188],\n",
       " [0.0, 0.091541645245199824, 0.13768587961332263, 0.16931995052405252],\n",
       " [0.0, 0.084212643093394129, 0.1275272735943381, 0.15782645100122139],\n",
       " [0.0, 0.077330392261601932, 0.11784208999659251, 0.14670562919905944],\n",
       " [0.0, 0.070892720077556759, 0.10865718168463763, 0.13601641123769975],\n",
       " [0.0, 0.064892068703658518, 0.099988524045580063, 0.12580362340913831],\n",
       " [0.0, 0.059316582174299567, 0.091842701830696857, 0.11609915513138104],\n",
       " [0.0, 0.054151082778728085, 0.084218374227629345, 0.10692331524466267],\n",
       " [0.0, 0.049377930234348437, 0.077107669165240339, 0.098286285762481232],\n",
       " [0.0, 0.04497776346532005, 0.070497473164293459, 0.090189594888530719],\n",
       " [0.0, 0.040930129422759871, 0.064370596064045299, 0.082627549032186332],\n",
       " [0.0, 0.037214006513335667, 0.058706800502889497, 0.075588580294703542],\n",
       " [0.0, 0.033808232116769046, 0.053483694180723025, 0.069056480604056406],\n",
       " [0.0, 0.030691844633928548, 0.048677488906287404, 0.063011505942414434],\n",
       " [0.0, 0.027844350753864513, 0.044263634540548193, 0.05743134385914745],\n",
       " [0.0, 0.025245928364294446, 0.040217338521552501, 0.052291944836400719],\n",
       " [0.0, 0.022877574923250092, 0.036513983023497537, 0.047568223345753891],\n",
       " [0.0, 0.020721210292379028, 0.033129452259330137, 0.043234637935823397],\n",
       " [0.0, 0.018759742105797273, 0.030040382237313826, 0.039265661766233466],\n",
       " [0.0, 0.016977100786502167, 0.027224344638085169, 0.035636155977905731],\n",
       " [0.0, 0.015358250377121477, 0.024659975556787617, 0.032321658450551072],\n",
       " [0.0, 0.013889180457545827, 0.022327058782649241, 0.029298600087894072],\n",
       " [0.0, 0.012556883599612073, 0.020206572159903798, 0.02654445998558386],\n",
       " [0.0, 0.01134932206927431, 0.0182807044555242, 0.024037869828749225],\n",
       " [0.0, 0.010255386833216125, 0.016532849095052853, 0.021758676750501686],\n",
       " [0.0, 0.0092648513582737572, 0.014947580145094981, 0.019687972742175312],\n",
       " [0.0, 0.0083683222037990463, 0.013510615034355839, 0.01780809759767539],\n",
       " [0.0, 0.007557187992728271, 0.012208767719915669, 0.016102621334740781],\n",
       " [0.0, 0.0068235679992107133, 0.011029895320934159, 0.014556311086667318],\n",
       " [0.0, 0.0061602613014611566, 0.0099628406532430019, 0.013155086609353406],\n",
       " [0.0, 0.0055606972104517019, 0.0089973725979330781, 0.01188596780278272],\n",
       " [0.0, 0.0050188874909983874, 0.0081241258163982921, 0.010737017000303953],\n",
       " [0.0, 0.00452938073516603, 0.0073345409742353431, 0.0096972782269982346],\n",
       " [0.0, 0.004087219122823533, 0.0066208063479065438, 0.0087567151618265573],\n",
       " [0.0, 0.0036878977054345956, 0.0059758014526107156, 0.0079061491480294857],\n",
       " [0.0, 0.0033273262722434017, 0.005393043139518613, 0.0071371982731541182],\n",
       " [0.0, 0.0030017937990219007, 0.0048666344583468317, 0.0064422182751613767],\n",
       " [0.0, 0.0027079354351721395, 0.0043912164609187666, 0.005814245815968201],\n",
       " [0.0, 0.0024427019524282862, 0.0039619230274482477, 0.0052469444909087962],\n",
       " [0.0, 0.002203331555337115, 0.0035743387250916519, 0.0047345538051837737],\n",
       " [0.0, 0.0019873239381668632, 0.0032244596538511449, 0.0042718412404632667],\n",
       " [0.0, 0.0017924164632955658, 0.0029086571947987251, 0.0038540574512720971],\n",
       " [0.0, 0.0016165623311434564, 0.0026236445469989085, 0.0034768945672031485],\n",
       " [0.0, 0.0014579106102656464, 0.0023664459200832197, 0.0031364475296383337],\n",
       " [0.0, 0.0013147879974419339, 0.002134368237228151, 0.0028291783573590732],\n",
       " [0.0, 0.0011856821807906186, 0.0019249751967133082, 0.0025518832115723703],\n",
       " [0.0, 0.0010692266835349523, 0.0017360635379871695, 0.0023016621152883122],\n",
       " [0.0, 0.00096418707162198062, 0.0015656413591895642, 0.0020758911728671618],\n",
       " [0.0, 0.00086944841458711072, 0.0014119083365240878, 0.0018721971314432815],\n",
       " [0.0, 0.000784003895604186, 0.0012732377010622798, 0.0016884341256377406],\n",
       " [0.0, 0.00070694447335318568, 0.0011481598349569143, 0.0015226624495296992],\n",
       " [0.0, 0.00063744950501950473, 0.001035347356221646, 0.0013731292044976977],\n",
       " [0.0, 0.00057477824629413197, 0.00093360156886987899, 0.0012382506776523277],\n",
       " [0.0, 0.00051826215058909731, 0.00084184016304421827, 0.0011165963126772462],\n",
       " [0.0, 0.00046729789575896568, 0.00075908605761779906, 0.0010068741425978062],\n",
       " [0.0, 0.00042134107238841285, 0.00068445728546765458, 0.00090791756201298059],\n",
       " [0.0, 0.00037990047314514212, 0.0006171578291048642, 0.0008186733244337403],\n",
       " [0.0, 0.00034253292779538115, 0.00055646932152387965, 0.00073819065840188824],\n",
       " [0.0, 0.00030883863323396534, 0.00050174353395619645, 0.0006656114038948313],\n",
       " [0.0, 0.00027845693229711321, 0.00045239557865194127, 0.00060016107806610869],\n",
       " [0.0, 0.00025106249921293865, 0.0004078977608522504, 0.00054114078656892063],\n",
       " [0.0, 0.00022636189331544824, 0.00036777401975168983, 0.00048791990352232441],\n",
       " [0.0, 0.00020409044611745085, 0.00033159490348784167, 0.00043992944958584098],\n",
       " [0.0, 0.00018400945002312145, 0.00029897302804497646, 0.0003966561035995197],\n",
       " [0.0, 0.00016590361987930155, 0.00026955897443509819, 0.00035763678882414168],\n",
       " [0.0, 0.00014957880123363102, 0.00024303758264014578, 0.00032245377998854733],\n",
       " [0.0, 0.00013485990160479584, 0.00021912460458310161, 0.00029073028213141334],\n",
       " [0.0, 0.00012158902329261144, 0.00019756368186351448, 0.00026212643663012692],\n",
       " [0.0, 0.00010962377827981851, 0.00017812361716520043, 0.00023633571385895644],\n",
       " [0.0, 9.8835767619045691e-05, 0.00016059591114120508, 0.00021308165563310174],\n",
       " [0.0, 8.9109209372265283e-05, 0.000144792539223629, 0.00019211493399564594],\n",
       " [0.0, 8.0339700690214622e-05, 0.00013054394521306919, 0.00017321069601225275],\n",
       " [0.0, 7.2433100998751953e-05, 0.00011769723069277201, 0.00015616616707462907],\n",
       " [0.0, 6.5304524510134703e-05, 0.00010611452130372994, 0.0001407984877986902],\n",
       " [0.0, 5.8877431411023081e-05, 9.5671492725421986e-05, 0.00012694276195653571],\n",
       " [0.0, 5.3082808106075198e-05, 8.6256040848231788e-05, 0.00011445029502141124],\n",
       " [0.0, 4.7858427825880735e-05, 7.7767082112146986e-05, 0.0001031870048492463],\n",
       " [0.0, 4.3148183749547141e-05, 7.0113471335601284e-05, 9.3031987785658862e-05],\n",
       " [0.0, 3.8901487553575114e-05, 6.3213025580595211e-05, 8.3876225088797517e-05],\n",
       " [0.0, 3.5072726987164843e-05, 5.6991643706953819e-05, 7.5621416010345475e-05],\n",
       " [0.0, 3.1620776696548127e-05, 5.1382512270230348e-05, 6.8178925192636719e-05]]"
      ]
     },
     "execution_count": 315,
     "metadata": {},
     "output_type": "execute_result"
    }
   ],
   "source": [
    "[[q_approx(b_max,i) for b_max in (0,2,4,6) ] for i in range(len(thetas_small_example))]"
   ]
  },
  {
   "cell_type": "code",
   "execution_count": 316,
   "metadata": {
    "collapsed": false
   },
   "outputs": [],
   "source": [
    "# table0 = probs_and_tables_b_up_to_100[0][1]\n",
    "# table0_01 = probs_and_tables_b_up_to_100[2][1]\n",
    "# table1000 = probs_and_tables_b_up_to_100[-1][1]\n",
    "# table1= probs_and_tables_b_up_to_100[4][1]"
   ]
  },
  {
   "cell_type": "code",
   "execution_count": 317,
   "metadata": {
    "collapsed": false
   },
   "outputs": [],
   "source": [
    "#table1.get_all_configurations()[psi_2_no_mut]\n",
    "# b: blue\n",
    "# g: green\n",
    "# r: red\n",
    "# c: cyan\n",
    "# m: magenta\n",
    "# y: yellow\n",
    "# k: black"
   ]
  },
  {
   "cell_type": "code",
   "execution_count": 354,
   "metadata": {
    "collapsed": false
   },
   "outputs": [
    {
     "data": {
      "image/png": "[encoded data removed]",
      "text/plain": [
       "<matplotlib.figure.Figure at 0x7f93ce463550>"
      ]
     },
     "metadata": {},
     "output_type": "display_data"
    }
   ],
   "source": [
    "x_values = np.array(thetas_small_example)\n",
    "y_values_dict = {}\n",
    "b_list = (1,3,5,7,9,11,13,15,50,99)\n",
    "y_labels = {}\n",
    "colors = {0:'b',1:'g',3:'r',5:'c',7:'m',9:'y',11:'b',13:'teal',15:'darkgreen',50:'plum',99:'orange'}\n",
    "for b in b_list:\n",
    "    y_values = np.array([q_approx(b,t) for t in range(len(thetas_small_example))])\n",
    "    y_values_dict[b] = y_values\n",
    "    y_labels[b] = 'b = %i'%b\n",
    "\n",
    "#y_values_1 = np.array( [probs_and_tables_b_up_to_100[i][1] )\n",
    "\n",
    "plt.figure(4,figsize=(12,4),dpi=120)\n",
    "plt.subplot(121)\n",
    "#plt.subplot(111)\n",
    "#plt.plot(x_values,x_values)\n",
    "\n",
    "for b in b_list:\n",
    "    plt.plot(x_values,y_values_dict[b], '-', color = colors[b], label = y_labels[b])\n",
    "# for i in (3,4,5,8,9):\n",
    "#     likelihhods = [solutions_AIS[(theta,pi2_AIS)][i] for theta in thetas]\n",
    "#     plt.plot(thetas,likelihhods, label = labels[i], linestyle = styles[i], color = colors[i])\n",
    "plt.xscale('log')\n",
    "# plt.yscale('log')\n",
    "plt.xlabel(r'$\\theta$ (log-scale)')\n",
    "# plt.ylabel('(log-scale)')\n",
    "# plt.title(r'$\\pi = \\delta_{[0, 0]}$')\n",
    "\n",
    "#plt.legend(bbox_to_anchor=(1.05, 1), loc=2, borderaxespad=0.)\n",
    "#plt.legend()\n",
    "\n",
    "# figure_paths = generate_figure_paths('AIS_non-symetric_boundary_log-log')\n",
    "# #for path in figure_paths:\n",
    "#     #plt.savefig(path)\n",
    "plt.subplot(122)\n",
    "\n",
    "slicemin = 95\n",
    "slicemax =114\n",
    "for b in b_list:\n",
    "    plt.plot(x_values[slicemin:slicemax],y_values_dict[b][slicemin:slicemax],'|-',color = colors[b], label = y_labels[b])\n",
    "    plt.axvline(x_values[y_values_dict[b].argmax()],color = colors[b], linestyle='dotted')\n",
    "#plt.xscale('log')\n",
    "plt.xlabel(r'$\\theta$')\n",
    "#plt.gca().get_yaxis().set_ticklabels([])\n",
    "plt.legend(bbox_to_anchor=(1.02, 1), loc=2, borderaxespad=0.)\n",
    "\n",
    "figure_paths = generate_figure_paths('fig7','')\n",
    "for path in figure_paths:\n",
    "    plt.savefig(path)\n",
    "    \n",
    "plt.show()\n",
    "plt.close()"
   ]
  },
  {
   "cell_type": "code",
   "execution_count": 319,
   "metadata": {
    "collapsed": false
   },
   "outputs": [
    {
     "data": {
      "text/plain": [
       "array([ 0.00334965,  0.00371535,  0.00412098,  0.00457088,  0.00506991,\n",
       "        0.00562341,  0.00623735,  0.00691831,  0.00767361,  0.00851138])"
      ]
     },
     "execution_count": 319,
     "metadata": {},
     "output_type": "execute_result"
    }
   ],
   "source": [
    "x_values[45:55]"
   ]
  },
  {
   "cell_type": "code",
   "execution_count": 320,
   "metadata": {
    "collapsed": false
   },
   "outputs": [
    {
     "data": {
      "text/plain": [
       "0.25"
      ]
     },
     "execution_count": 320,
     "metadata": {},
     "output_type": "execute_result"
    }
   ],
   "source": [
    "probs_and_tables_b_up_to_100[len(thetas_small_example)/2][1].get_p(psi_test,1)"
   ]
  },
  {
   "cell_type": "code",
   "execution_count": 321,
   "metadata": {
    "collapsed": false
   },
   "outputs": [
    {
     "name": "stdout",
     "output_type": "stream",
     "text": [
      "1.3.1\n"
     ]
    }
   ],
   "source": [
    "print matplotlib.__version__"
   ]
  },
  {
   "cell_type": "code",
   "execution_count": 322,
   "metadata": {
    "collapsed": false
   },
   "outputs": [],
   "source": [
    "c = matplotlib.colors.BoundaryNorm((0,1),5)"
   ]
  },
  {
   "cell_type": "code",
   "execution_count": 323,
   "metadata": {
    "collapsed": false
   },
   "outputs": [
    {
     "ename": "SyntaxError",
     "evalue": "invalid syntax (<ipython-input-323-fcdd94312687>, line 1)",
     "output_type": "error",
     "traceback": [
      "\u001b[1;36m  File \u001b[1;32m\"<ipython-input-323-fcdd94312687>\"\u001b[1;36m, line \u001b[1;32m1\u001b[0m\n\u001b[1;33m    c.\u001b[0m\n\u001b[1;37m      ^\u001b[0m\n\u001b[1;31mSyntaxError\u001b[0m\u001b[1;31m:\u001b[0m invalid syntax\n"
     ]
    }
   ],
   "source": [
    "c."
   ]
  },
  {
   "cell_type": "code",
   "execution_count": 355,
   "metadata": {
    "collapsed": true
   },
   "outputs": [],
   "source": [
    "l = []"
   ]
  },
  {
   "cell_type": "code",
   "execution_count": 356,
   "metadata": {
    "collapsed": true
   },
   "outputs": [],
   "source": [
    "l.append([1,2,3])"
   ]
  },
  {
   "cell_type": "code",
   "execution_count": 357,
   "metadata": {
    "collapsed": false
   },
   "outputs": [
    {
     "data": {
      "text/plain": [
       "[[1, 2, 3]]"
      ]
     },
     "execution_count": 357,
     "metadata": {},
     "output_type": "execute_result"
    }
   ],
   "source": [
    "l"
   ]
  },
  {
   "cell_type": "code",
   "execution_count": 358,
   "metadata": {
    "collapsed": false
   },
   "outputs": [
    {
     "data": {
      "text/plain": [
       "[(0, 1), (1, 2), (2, 3), (3, 4), (4, 5)]"
      ]
     },
     "execution_count": 358,
     "metadata": {},
     "output_type": "execute_result"
    }
   ],
   "source": [
    "zip(range(5),range(1,6))"
   ]
  },
  {
   "cell_type": "code",
   "execution_count": null,
   "metadata": {
    "collapsed": true
   },
   "outputs": [],
   "source": []
  }
 ],
 "metadata": {
  "kernelspec": {
   "display_name": "Python 2",
   "language": "python",
   "name": "python2"
  },
  "language_info": {
   "codemirror_mode": {
    "name": "ipython",
    "version": 2
   },
   "file_extension": ".py",
   "mimetype": "text/x-python",
   "name": "python",
   "nbconvert_exporter": "python",
   "pygments_lexer": "ipython2",
   "version": "2.7.6"
  }
 },
 "nbformat": 4,
 "nbformat_minor": 0
}
