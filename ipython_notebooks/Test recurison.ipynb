{
 "cells": [
  {
   "cell_type": "markdown",
   "metadata": {},
   "source": [
    "## Step 1: Set up the environment and test-cases"
   ]
  },
  {
   "cell_type": "code",
   "execution_count": 1,
   "metadata": {
    "collapsed": false
   },
   "outputs": [],
   "source": [
    "import numpy as np\n",
    "import sys"
   ]
  },
  {
   "cell_type": "code",
   "execution_count": 2,
   "metadata": {
    "collapsed": false
   },
   "outputs": [],
   "source": [
    "projectPath = '/home/mathias/programming/almost-infinite-sites-recursions'\n",
    "sys.path.insert(0,projectPath)\n",
    "import formula_outline as fo\n",
    "#from configurations import configuration_new as conf"
   ]
  },
  {
   "cell_type": "markdown",
   "metadata": {},
   "source": [
    "## Test cases"
   ]
  },
  {
   "cell_type": "code",
   "execution_count": 3,
   "metadata": {
    "collapsed": true
   },
   "outputs": [],
   "source": [
    "S1 = np.matrix([0])\n",
    "nR1 = np.array([1])\n",
    "nC1 = np.array([1])\n",
    "nC1_1 = np.array([1000])\n",
    "# phi1 = conf(S1,nR1,nC1)\n",
    "# phi2 = conf(S1,nR1,nC1)\n",
    "\n",
    "S2 = np.matrix([[1,1,0,0],[0,1,1,0]])\n",
    "nC2 = np.array([1,1,1,1])\n",
    "nR2 = np.array([1,1])"
   ]
  },
  {
   "cell_type": "code",
   "execution_count": 4,
   "metadata": {
    "collapsed": true
   },
   "outputs": [],
   "source": [
    "#insert more..."
   ]
  },
  {
   "cell_type": "markdown",
   "metadata": {},
   "source": [
    "## Tests"
   ]
  },
  {
   "cell_type": "markdown",
   "metadata": {},
   "source": [
    "### Test 1"
   ]
  },
  {
   "cell_type": "code",
   "execution_count": 5,
   "metadata": {
    "collapsed": false
   },
   "outputs": [],
   "source": [
    "prob,table = fo.prob_External(S1,nR1,nC1_1,b = 3)"
   ]
  },
  {
   "cell_type": "code",
   "execution_count": 6,
   "metadata": {
    "collapsed": false
   },
   "outputs": [
    {
     "data": {
      "text/plain": [
       "(1.0, <configurationTable.configTable at 0x7f67c80e8b10>)"
      ]
     },
     "execution_count": 6,
     "metadata": {},
     "output_type": "execute_result"
    }
   ],
   "source": [
    "prob, table"
   ]
  },
  {
   "cell_type": "code",
   "execution_count": 7,
   "metadata": {
    "collapsed": false
   },
   "outputs": [
    {
     "data": {
      "text/plain": [
       "{<class 'configurationTable.node'>\n",
       " ({'rows': 1, 'S': matrix([[0]]), 'nC': array([1000]), 'nR': array([1]), 'columns': 1}): {3: 1.0}}"
      ]
     },
     "execution_count": 7,
     "metadata": {},
     "output_type": "execute_result"
    }
   ],
   "source": [
    "table.get_all_configurations()"
   ]
  },
  {
   "cell_type": "markdown",
   "metadata": {},
   "source": [
    "### Test 2"
   ]
  },
  {
   "cell_type": "code",
   "execution_count": 8,
   "metadata": {
    "collapsed": false
   },
   "outputs": [],
   "source": [
    "prob2, table2 = fo.prob_External(S2,nR2,nC2,b=3)\n",
    "prob3, table3 = fo.prob_External(S2,nR2,nC2,b=4)\n",
    "prob4, table4 = fo.prob_External(S2,nR2,nC2,b=5)"
   ]
  },
  {
   "cell_type": "code",
   "execution_count": 12,
   "metadata": {
    "collapsed": false
   },
   "outputs": [
    {
     "name": "stdout",
     "output_type": "stream",
     "text": [
      "(194, 194, 255)\n",
      "(478, 767)\n",
      "(934, 1763)\n"
     ]
    }
   ],
   "source": [
    "print (len(table2.__node_table__),) + table2.get_size()\n",
    "print table3.get_size()\n",
    "print table4.get_size()"
   ]
  },
  {
   "cell_type": "code",
   "execution_count": 10,
   "metadata": {
    "collapsed": false
   },
   "outputs": [
    {
     "data": {
      "text/plain": [
       "(0.0, 0.00010850694444444444, 0.00015371817129629625)"
      ]
     },
     "execution_count": 10,
     "metadata": {},
     "output_type": "execute_result"
    }
   ],
   "source": [
    "prob2,prob3,prob4"
   ]
  },
  {
   "cell_type": "code",
   "execution_count": 11,
   "metadata": {
    "collapsed": false
   },
   "outputs": [
    {
     "data": {
      "text/plain": [
       "0.70588235294117663"
      ]
     },
     "execution_count": 11,
     "metadata": {},
     "output_type": "execute_result"
    }
   ],
   "source": [
    "prob3/prob4"
   ]
  },
  {
   "cell_type": "code",
   "execution_count": 17,
   "metadata": {
    "collapsed": false
   },
   "outputs": [],
   "source": [
    "prob5, table5 = fo.prob_External(S2,nR2,nC2,b=6)\n",
    "prob6, table6 = fo.prob_External(S2,nR2,nC2,b=7)"
   ]
  },
  {
   "cell_type": "code",
   "execution_count": 18,
   "metadata": {
    "collapsed": false
   },
   "outputs": [
    {
     "name": "stdout",
     "output_type": "stream",
     "text": [
      "(1488, 3302)\n",
      "(1868, 5202)\n"
     ]
    }
   ],
   "source": [
    "print table5.get_size()\n",
    "print table6.get_size()"
   ]
  },
  {
   "cell_type": "code",
   "execution_count": 19,
   "metadata": {
    "collapsed": false
   },
   "outputs": [
    {
     "name": "stdout",
     "output_type": "stream",
     "text": [
      "0.867162592986\n",
      "0.945768248252\n",
      "0.0 0.000108506944444 0.000177265685282 0.000177265685282 0.000187430362152\n"
     ]
    }
   ],
   "source": [
    "print prob4/prob5\n",
    "print prob5/prob6\n",
    "print prob2,prob3,prob5,prob5,prob6"
   ]
  },
  {
   "cell_type": "code",
   "execution_count": null,
   "metadata": {
    "collapsed": true
   },
   "outputs": [],
   "source": []
  }
 ],
 "metadata": {
  "kernelspec": {
   "display_name": "Python 2",
   "language": "python",
   "name": "python2"
  },
  "language_info": {
   "codemirror_mode": {
    "name": "ipython",
    "version": 2
   },
   "file_extension": ".py",
   "mimetype": "text/x-python",
   "name": "python",
   "nbconvert_exporter": "python",
   "pygments_lexer": "ipython2",
   "version": "2.7.6"
  }
 },
 "nbformat": 4,
 "nbformat_minor": 0
}
