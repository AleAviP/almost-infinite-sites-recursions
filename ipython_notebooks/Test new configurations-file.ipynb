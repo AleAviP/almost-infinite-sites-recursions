{
 "cells": [
  {
   "cell_type": "code",
   "execution_count": 24,
   "metadata": {
    "collapsed": false
   },
   "outputs": [],
   "source": [
    "execfile(\"/home/mathias/programming/almost-infinite-sites-recursions/configurations.py\")"
   ]
  },
  {
   "cell_type": "code",
   "execution_count": null,
   "metadata": {
    "collapsed": true
   },
   "outputs": [],
   "source": []
  },
  {
   "cell_type": "code",
   "execution_count": 30,
   "metadata": {
    "collapsed": false
   },
   "outputs": [
    {
     "data": {
      "text/plain": [
       "(matrix([[0, 2],\n",
       "         [3, 1]]), array([999,   2]), array([998,   3]))"
      ]
     },
     "execution_count": 30,
     "metadata": {},
     "output_type": "execute_result"
    }
   ],
   "source": [
    "A, nR, nC = np.matrix([[0,2],[3,1]]), np.array([999,2]), np.array([998,3])\n",
    "A,nR,nC"
   ]
  },
  {
   "cell_type": "code",
   "execution_count": 31,
   "metadata": {
    "collapsed": false
   },
   "outputs": [
    {
     "name": "stdout",
     "output_type": "stream",
     "text": [
      " 998 3 \n",
      "=======\n",
      " - o  ||  999\n",
      " x +  ||  2\n"
     ]
    }
   ],
   "source": [
    "phi = configuration_new(A,nR,nC)\n",
    "print(phi)"
   ]
  },
  {
   "cell_type": "code",
   "execution_count": 32,
   "metadata": {
    "collapsed": false
   },
   "outputs": [
    {
     "name": "stdout",
     "output_type": "stream",
     "text": [
      "After step 1\n",
      "[[0 2 2]\n",
      " [3 1 1]\n",
      " [3 1 0]]\n",
      "[999   1   1]\n",
      "[998   2   1]\n",
      "\n",
      "After step 2.1 (remove rows w multiplicity 0)\n",
      "[[0 2 2]\n",
      " [3 1 1]\n",
      " [3 1 0]]\n",
      "[999   1   1]\n",
      "[998   2   1]\n",
      "\n",
      "After step 2.2 (remove cols w. multiplicity 0)\n",
      "[[0 2 2]\n",
      " [3 1 1]\n",
      " [3 1 0]]\n",
      "[999   1   1]\n",
      "[998   2   1]\n",
      "\n",
      "After step 3.1 (merge identical rows)\n",
      "[[0 2 2]\n",
      " [3 1 1]\n",
      " [3 1 0]]\n",
      "[999   1   1]\n",
      "[998   2   1]\n",
      "\n",
      "After step 3.2 (merge identical columns)\n",
      "[[0 2 2]\n",
      " [3 1 1]\n",
      " [3 1 0]]\n",
      "[999   1   1]\n",
      "[998   2   1]\n",
      "\n"
     ]
    }
   ],
   "source": [
    "phiMut,Nr,Nc = mutation_new(phi,1,1,0)"
   ]
  },
  {
   "cell_type": "code",
   "execution_count": 33,
   "metadata": {
    "collapsed": false
   },
   "outputs": [
    {
     "name": "stdout",
     "output_type": "stream",
     "text": [
      " 998 2 1 \n",
      "=========\n",
      " - o o  ||  999\n",
      " x + +  ||  1\n",
      " x + -  ||  1\n"
     ]
    }
   ],
   "source": [
    "print(phiMut)"
   ]
  },
  {
   "cell_type": "code",
   "execution_count": 34,
   "metadata": {
    "collapsed": false
   },
   "outputs": [
    {
     "data": {
      "text/plain": [
       "(1, 1)"
      ]
     },
     "execution_count": 34,
     "metadata": {},
     "output_type": "execute_result"
    }
   ],
   "source": [
    "Nr,Nc"
   ]
  },
  {
   "cell_type": "code",
   "execution_count": 18,
   "metadata": {
    "collapsed": false
   },
   "outputs": [
    {
     "data": {
      "text/plain": [
       "matrix([[2],\n",
       "        [1]])"
      ]
     },
     "execution_count": 18,
     "metadata": {},
     "output_type": "execute_result"
    }
   ],
   "source": [
    "A[:,-1]"
   ]
  },
  {
   "cell_type": "code",
   "execution_count": 35,
   "metadata": {
    "collapsed": false
   },
   "outputs": [
    {
     "name": "stdout",
     "output_type": "stream",
     "text": [
      "After step 1\n",
      "[[0 2 2 2]\n",
      " [3 1 1 1]\n",
      " [3 1 0 1]\n",
      " [3 1 1 0]]\n",
      "[999   0   1   1]\n",
      "[998   1   1   1]\n",
      "\n",
      "After step 2.1 (remove rows w multiplicity 0)\n",
      "[[0 2 2 2]\n",
      " [3 1 0 1]\n",
      " [3 1 1 0]]\n",
      "[999   1   1]\n",
      "[998   1   1   1]\n",
      "\n",
      "After step 2.2 (remove cols w. multiplicity 0)\n",
      "[[0 2 2 2]\n",
      " [3 1 0 1]\n",
      " [3 1 1 0]]\n",
      "[999   1   1]\n",
      "[998   1   1   1]\n",
      "\n",
      "After step 3.1 (merge identical rows)\n",
      "[[0 2 2 2]\n",
      " [3 1 0 1]\n",
      " [3 1 1 0]]\n",
      "[999   1   1]\n",
      "[998   1   1   1]\n",
      "\n",
      "After step 3.2 (merge identical columns)\n",
      "[[0 2 2 2]\n",
      " [3 1 0 1]\n",
      " [3 1 1 0]]\n",
      "[999   1   1]\n",
      "[998   1   1   1]\n",
      "\n"
     ]
    }
   ],
   "source": [
    "phiMut1,Nr1,Nc1 = mutation_new(phiMut,1,1,0)"
   ]
  },
  {
   "cell_type": "code",
   "execution_count": 36,
   "metadata": {
    "collapsed": false
   },
   "outputs": [
    {
     "name": "stdout",
     "output_type": "stream",
     "text": [
      " 998 1 1 1 \n",
      "===========\n",
      " - o o o  ||  999\n",
      " x + - +  ||  1\n",
      " x + + -  ||  1\n"
     ]
    }
   ],
   "source": [
    "print(phiMut1)"
   ]
  },
  {
   "cell_type": "code",
   "execution_count": 38,
   "metadata": {
    "collapsed": false
   },
   "outputs": [
    {
     "data": {
      "text/plain": [
       "__main__.configuration_new"
      ]
     },
     "execution_count": 38,
     "metadata": {},
     "output_type": "execute_result"
    }
   ],
   "source": [
    "type(phiMut1)"
   ]
  },
  {
   "cell_type": "code",
   "execution_count": null,
   "metadata": {
    "collapsed": true
   },
   "outputs": [],
   "source": []
  }
 ],
 "metadata": {
  "kernelspec": {
   "display_name": "Python 2",
   "language": "python",
   "name": "python2"
  },
  "language_info": {
   "codemirror_mode": {
    "name": "ipython",
    "version": 2
   },
   "file_extension": ".py",
   "mimetype": "text/x-python",
   "name": "python",
   "nbconvert_exporter": "python",
   "pygments_lexer": "ipython2",
   "version": "2.7.6"
  }
 },
 "nbformat": 4,
 "nbformat_minor": 0
}
