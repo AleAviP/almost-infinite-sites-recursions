{
 "cells": [
  {
   "cell_type": "markdown",
   "metadata": {},
   "source": [
    "# Background"
   ]
  },
  {
   "cell_type": "markdown",
   "metadata": {},
   "source": [
    "We aim to compute the following quantity:\n",
    "$$\n",
    "\\mathbb{P}(\\Omega^{\\text{vis}}) \n",
    "  = \\sum_{k=2}^{n} \\mathbb{P}(\\Omega^{\\text{vis}}_k)\n",
    "$$\n",
    "whereby\n",
    "\\begin{equation}\n",
    "\\mathbb{P}(\\Omega^{\\text{vis}}_k) = p^{\\neg \\rho}_{n,k} \\frac{\\rho}{k-1+\\rho} q_{k+1,(0,0)}\n",
    "\\end{equation}"
   ]
  },
  {
   "cell_type": "markdown",
   "metadata": {},
   "source": [
    "In order to do this, we need to compute a series of **auxiliary variables**:\n",
    "\\begin{equation}\n",
    "p^{\\neg \\rho}_{n_1,n_2} = \\prod_{n_2 < k \\leq n_1} \\frac{k-1}{k-1+\\rho}\n",
    "\\end{equation}\n",
    "The probabilities $(q_{k,{i,j}})_{k \\in \\mathbb{N}, i,j \\in \\lbrace 0,1,2 \\rbrace}$ satisfy the following recursive linear system:\n",
    "\\begin{align}\n",
    "q_{k,(0,0)} &= \\frac{(k-2) ( q_{k-1,(1,0)} + q_{k-1,(0,1)}) + \\binom{k-2}{2} q_{k-1,(0,0)} }{\\binom{k}{2} + \\frac{k}{2} \\rho} \\\\\n",
    "%q_{k,(0,0)} &= \\frac{1}{\\binom{k}{2} + \\frac{k}{2} \\rho} \\left( (k-2) ( q_{k-1,(1,0)} + q_{k-1,(0,1)}) + \\binom{k-2}{2} q_{k-1,(0,0)} \\right) \\\\\n",
    "q_{k,(0,1)} &= \\frac{\\frac{1}{2} \\theta_2 \\, q_{k,(0,2)} + (k-2) \\, q_{k-1,(1,1)} + \\binom{k-1}{2} \\, q_{k-1,(0,1)} }{\\binom{k}{2} + \\frac{k}{2} \\rho + \\frac{1}{2}\\theta_2} \\\\\n",
    "q_{k,(1,0)} &= \\frac{\\frac{1}{2} \\theta_1 \\, q_{k,(2,0)} + (k-2) \\, q_{k-1,(1,1)} + \\binom{k-1}{2} \\, q_{k-1,(1,0)} }{\\binom{k}{2} + \\frac{k}{2} \\rho + \\frac{1}{2}\\theta_1} \\\\\n",
    "q_{k,(0,2)} &= \\frac{(k-2) q_{k-1,(1,2)} + \\binom{k-1}{2} q_{k-1,(0,2)} }{\\binom{k}{2} + \\frac{k}{2} \\rho} \\\\\n",
    "q_{k,(2,0)} &= \\frac{(k-2) q_{k-1,(2,1)} + \\binom{k-1}{2} q_{k-1,(2,1)} }{\\binom{k}{2} + \\frac{k}{2} \\rho} \\\\q_{k,(1,1)} &= \\frac{\\frac{1}{2} \\theta_1 \\, q_{k,(2,1)} + \\frac{1}{2} \\theta_2 q_{k,(1,2)} + \\left( \\binom{k}{2} - 1 \\right) \\, q_{k-1,(1,1)} }{\\binom{k}{2} + \\frac{k}{2} \\rho + \\frac{1}{2} ( \\theta_1 + \\theta_2 ) } \\\\\n",
    "q_{k,(1,2)} &= \\frac{\\frac{1}{2} \\theta_1 q_{k,(2,2)} + \\binom{k-1}{2} q_{k-1,(1,2)}}{\\binom{k}{2} + \\frac{k}{2} \\rho + \\frac{1}{2}\\theta_1}\\\\\n",
    "q_{k,(2,1)} &= \\frac{\\frac{1}{2} \\theta_2 q_{k,(2,2)} + \\binom{k-1}{2} q_{k-1,(2,1)}}{\\binom{k}{2} + \\frac{k}{2} \\rho + \\frac{1}{2}\\theta_2}\n",
    "\\end{align}\n",
    "with boundary conditions:\n",
    "\\begin{align}\n",
    "q_{k,(0,0)} &= 0 \\text{ if } k<4 \\\\\n",
    "q_{k,(0,1)} &= 0 \\text{ if } k<3 \\\\\n",
    "q_{k,(1,0)} &= 0 \\text{ if } k<3 \\\\\n",
    "q_{k,(0,2)} &= 0 \\text{ if } k<3 \\\\\n",
    "q_{k,(2,0)} &= 0 \\text{ if } k<3 \\\\\n",
    "q_{k,(1,1)} &= 0 \\text{ if } k<2 \\\\\n",
    "q_{k,(1,2)} &= 0 \\text{ if } k<2 \\\\\n",
    "q_{k,(2,1)} &= 0 \\text{ if } k<2 \\\\\n",
    "q_{k,(2,2)} &= p^{\\neg \\rho}_{k,1} = \\prod_{i = 2}^k \\frac{i-1}{i-1+\\rho}\n",
    "\\end{align}"
   ]
  },
  {
   "cell_type": "markdown",
   "metadata": {},
   "source": [
    "The solution of this system will be a series of rational functions of integers $n \\geq k > 1$ and non-negative reals $\\rho, \\theta_1, \\theta_2$."
   ]
  },
  {
   "cell_type": "code",
   "execution_count": 57,
   "metadata": {
    "collapsed": true
   },
   "outputs": [],
   "source": [
    "def p_neg(n1,n2,rho):\n",
    "    'The probability that a set of n1 lineages will coalesce to n2 lineages before experiencing recurison'\n",
    "    assert n1 >= n2\n",
    "    assert n2 > 0\n",
    "    assert rho >= 0\n",
    "    return reduce( lambda x,y: x*y, [float(k - 1)/float(k-1+rho) for k in range(n1,n2,-1)], 1.0)"
   ]
  },
  {
   "cell_type": "code",
   "execution_count": 58,
   "metadata": {
    "collapsed": false
   },
   "outputs": [],
   "source": [
    "def q_recursive(k,i,j,theta1,theta2,rho):\n",
    "    'compute q_{k,(i,j)} using tail-recursion; theta1,theta2, and rho should be non-negative reals.'\n",
    "    \n",
    "    if   (i,j) == (0,0):\n",
    "        if k < 4:\n",
    "            return float(0)\n",
    "        else:\n",
    "            a = q_recursive(k-1, 1, 0, theta1,theta2,rho)\n",
    "            b = q_recursive(k-1, 0, 1, theta1,theta2,rho)\n",
    "            c = q_recursive(k-1, 0, 0, theta1,theta2,rho)\n",
    "            result = ( (k - 2)*(a+b) + choose2(k-2)*c ) / float(chose2(k) + 0.5*k*rho)\n",
    "            return result\n",
    "            \n",
    "    elif (i,j) == (0,1):\n",
    "        if k < 3:\n",
    "            return float(0)\n",
    "        else:\n",
    "            a = q_recursive(k  , 0, 2, theta1,theta2,rho)\n",
    "            b = q_recursive(k-1, 1, 1, theta1,theta2,rho)\n",
    "            c = q_recursive(k-1, 0, 1, theta1,theta2,rho)\n",
    "            result = ( 0.5*theta2*a + (k - 2)*b + choose2(k-1)*c ) / float(chose2(k) + 0.5*(k*rho + theta2))\n",
    "            return result\n",
    "\n",
    "    elif (i,j) == (1,0):\n",
    "        if k < 3:\n",
    "            return float(0)\n",
    "        else:\n",
    "            a = q_recursive(k  , 2, 0, theta1,theta2,rho)\n",
    "            b = q_recursive(k-1, 1, 1, theta1,theta2,rho)\n",
    "            c = q_recursive(k-1, 1, 0, theta1,theta2,rho)\n",
    "            result = ( 0.5*theta1*a + (k - 2)*b + choose2(k-1)*c ) / float(chose2(k) + 0.5*(k*rho + theta1))\n",
    "            return result\n",
    "\n",
    "    elif (i,j) == (0,2):\n",
    "        if k < 3:\n",
    "            return float(0)\n",
    "        else:\n",
    "            a = q_recursive(k-1, 1, 2, theta1,theta2,rho)\n",
    "            b = q_recursive(k-1, 0, 2, theta1,theta2,rho)\n",
    "            result = ( (k - 2)*a + choose2(k-1)*b ) / float(chose2(k) + 0.5*k*rho)\n",
    "            return result\n",
    "    \n",
    "    elif (i,j) == (2,0):\n",
    "        if k < 3:\n",
    "            return float(0)\n",
    "        else:\n",
    "            a = q_recursive(k-1, 2, 1, theta1,theta2,rho)\n",
    "            b = q_recursive(k-1, 2, 0, theta1,theta2,rho)\n",
    "            result = ( (k - 2)*a + choose2(k-1)*b ) / float(chose2(k) + 0.5*k*rho)\n",
    "            return result\n",
    "    \n",
    "    elif (i,j) == (1,1):\n",
    "        if k < 2:\n",
    "            return float(0)\n",
    "        else:\n",
    "            a = q_recursive(k  , 2, 1, theta1,theta2,rho)\n",
    "            b = q_recursive(k  , 1, 2, theta1,theta2,rho)\n",
    "            c = q_recursive(k-1, 1, 1, theta1,theta2,rho)\n",
    "            result = ( 0.5*theta1*a + 0.5*theta2*b + (choose2(k) - 1)*c ) / float(chose2(k) + 0.5*(k*rho + theta1 + theta2))\n",
    "            return result\n",
    "    \n",
    "    elif (i,j) == (1,2):\n",
    "        if k < 2:\n",
    "            return float(0)\n",
    "        else:\n",
    "            a = q_recursive(k  , 2, 2, theta1,theta2,rho)\n",
    "            b = q_recursive(k-1, 1, 2, theta1,theta2,rho)\n",
    "            result = ( 0.5*theta1*a + choose2(k-1)*b ) / float(chose2(k) + 0.5*(k*rho + theta1))\n",
    "            return result\n",
    "    \n",
    "    elif (i,j) == (2,1):\n",
    "        if k < 2:\n",
    "            return float(0)\n",
    "        else:\n",
    "            a = q_recursive(k  , 2, 2, theta1,theta2,rho)\n",
    "            b = q_recursive(k-1, 2, 1, theta1,theta2,rho)\n",
    "            result = ( 0.5*theta2*a + choose2(k-1)*b ) / float(chose2(k) + 0.5*(k*rho + theta2))\n",
    "            return result\n",
    "    \n",
    "    elif (i,j) == (2,2):\n",
    "        result = p_neg(k,1,rho)\n",
    "        return result\n",
    "    \n",
    "    else:\n",
    "        raise ValueError('0 <= i,j <= 2 must hold; arguments here: i = %i, j=%i'%(i,j))\n",
    "\n",
    "def choose2(k):\n",
    "    return k*(k-1)/2"
   ]
  },
  {
   "cell_type": "code",
   "execution_count": 59,
   "metadata": {
    "collapsed": false
   },
   "outputs": [
    {
     "data": {
      "text/plain": [
       "0.933605437401415"
      ]
     },
     "execution_count": 59,
     "metadata": {},
     "output_type": "execute_result"
    }
   ],
   "source": [
    "q_recursive(50,0,0,1e10,1e10,0.0)"
   ]
  },
  {
   "cell_type": "markdown",
   "metadata": {},
   "source": [
    "## Towards conditionals"
   ]
  },
  {
   "cell_type": "markdown",
   "metadata": {},
   "source": [
    "We now define the following:\n",
    "\n",
    "\\begin{align}\n",
    "\\mathbb{P} (\\Omega_k)\n",
    "   &=  \\frac{\\rho}{k-1 + \\rho} \\frac{k}{k + \\rho} \\prod_{i=2}^n \\frac{i-1}{i - 1 + \\rho} \\\\\n",
    "   &=  \\frac{\\rho}{k-1 + \\rho} \\frac{k}{k + \\rho} p^{\\neg \\rho}_{n,1}\n",
    "\\end{align}\n",
    "and\n",
    "\\begin{align}\n",
    "\\mathbb{P}(\\Omega_{2,\\ldots,n})\n",
    "   &=  \\sum_{k = 2}^n \\mathbb{P} (\\Omega_k) \\\\\n",
    "   &=  p^{\\neg \\rho}_{n,1} \\sum_{k = 2}^n \\frac{\\rho}{k-1 + \\rho} \\frac{k}{k + \\rho}\n",
    "\\end{align}"
   ]
  },
  {
   "cell_type": "code",
   "execution_count": 67,
   "metadata": {
    "collapsed": true
   },
   "outputs": [],
   "source": [
    "def P_omega_k(k,n,rho):\n",
    "    return p_neg(n,1,rho) * ( (rho*k) / ( (k-1+rho) * (k+rho) ) )\n",
    "\n",
    "def P_omega_2toN(n,rho):\n",
    "    return p_neg(n,1,rho) * sum([(rho*k) / ( (k-1+rho) * (k+rho) ) for k in xrange(2,n)])"
   ]
  },
  {
   "cell_type": "code",
   "execution_count": 68,
   "metadata": {
    "collapsed": false
   },
   "outputs": [
    {
     "data": {
      "text/plain": [
       "0.16666666666666666"
      ]
     },
     "execution_count": 68,
     "metadata": {},
     "output_type": "execute_result"
    }
   ],
   "source": [
    "P_omega_k(2,2,1.0)"
   ]
  },
  {
   "cell_type": "code",
   "execution_count": null,
   "metadata": {
    "collapsed": true
   },
   "outputs": [],
   "source": []
  }
 ],
 "metadata": {
  "kernelspec": {
   "display_name": "Python 2",
   "language": "python",
   "name": "python2"
  },
  "language_info": {
   "codemirror_mode": {
    "name": "ipython",
    "version": 2
   },
   "file_extension": ".py",
   "mimetype": "text/x-python",
   "name": "python",
   "nbconvert_exporter": "python",
   "pygments_lexer": "ipython2",
   "version": "2.7.13"
  }
 },
 "nbformat": 4,
 "nbformat_minor": 2
}
