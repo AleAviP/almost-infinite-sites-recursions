{
 "cells": [
  {
   "cell_type": "code",
   "execution_count": null,
   "metadata": {
    "collapsed": true,
    "deletable": true,
    "editable": true
   },
   "outputs": [],
   "source": [
    "# Background"
   ]
  },
  {
   "cell_type": "markdown",
   "metadata": {
    "deletable": true,
    "editable": true
   },
   "source": [
    "We aim to compute the following quantity:\n",
    "$$\n",
    "\\mathbb{P}(\\Omega^{\\text{vis}}) \n",
    "  = \\sum_{k=2}^{n} \\mathbb{P}(\\Omega^{\\text{vis}}_k)\n",
    "$$\n",
    "whereby\n",
    "\\begin{equation}\n",
    "\\mathbb{P}(\\Omega^{\\text{vis}}_k) = p^{\\neg \\rho}_{n,k} \\frac{\\rho}{k-1+\\rho} q_{k+1,(0,0)}\n",
    "\\end{equation}"
   ]
  },
  {
   "cell_type": "markdown",
   "metadata": {
    "deletable": true,
    "editable": true
   },
   "source": [
    "In order to do this, we need to compute a series of **auxiliary variables**:\n",
    "\\begin{equation}\n",
    "p^{\\neg \\rho}_{n_1,n_2} = \\prod_{n_2 < k \\leq n_1} \\frac{k-1}{k-1+\\rho}\n",
    "\\end{equation}"
   ]
  },
  {
   "cell_type": "markdown",
   "metadata": {
    "deletable": true,
    "editable": true
   },
   "source": [
    "The probabilities $(q_{k,{i,j}})_{k \\in \\mathbb{N}, i,j \\in \\lbrace 0,1,2 \\rbrace}$ satisfy the following recursive linear system:\n",
    "\\begin{align}\n",
    "q_{k,(0,0)} &= \\frac{(k-2) ( q_{k-1,(1,0)} + q_{k-1,(0,1)}) + \\binom{k-2}{2} q_{k-1,(0,0)} }{\\binom{k}{2} + \\frac{k}{2} \\rho} \\\\\n",
    "q_{k,(0,1)} &= \\frac{\\frac{1}{2} \\theta_2 \\, q_{k,(0,2)} + (k-2) \\, q_{k-1,(1,1)} + \\binom{k-1}{2} \\, q_{k-1,(0,1)} }{\\binom{k}{2} + \\frac{k}{2} \\rho + \\frac{1}{2}\\theta_2} \\\\\n",
    "q_{k,(1,0)} &= \\frac{\\frac{1}{2} \\theta_1 \\, q_{k,(2,0)} + (k-2) \\, q_{k-1,(1,1)} + \\binom{k-1}{2} \\, q_{k-1,(1,0)} }{\\binom{k}{2} + \\frac{k}{2} \\rho + \\frac{1}{2}\\theta_1} \\\\\n",
    "q_{k,(0,2)} &= \\frac{(k-2) q_{k-1,(1,2)} + \\binom{k-1}{2} q_{k-1,(0,2)} }{\\binom{k}{2} + \\frac{k}{2} \\rho} \\\\\n",
    "q_{k,(2,0)} &= \\frac{(k-2) q_{k-1,(2,1)} + \\binom{k-1}{2} q_{k-1,(2,1)} }{\\binom{k}{2} + \\frac{k}{2} \\rho} \\\\q_{k,(1,1)} &= \\frac{\\frac{1}{2} \\theta_1 \\, q_{k,(2,1)} + \\frac{1}{2} \\theta_2 q_{k,(1,2)} + \\left( \\binom{k}{2} - 1 \\right) \\, q_{k-1,(1,1)} }{\\binom{k}{2} + \\frac{k}{2} \\rho + \\frac{1}{2} ( \\theta_1 + \\theta_2 ) } \\\\\n",
    "q_{k,(1,2)} &= \\frac{\\frac{1}{2} \\theta_1 q_{k,(2,2)} + \\left( \\binom{k}{2} - 1 \\right) q_{k-1,(1,2)}}{\\binom{k}{2} + \\frac{k}{2} \\rho + \\frac{1}{2}\\theta_1}\\\\\n",
    "q_{k,(2,1)} &= \\frac{\\frac{1}{2} \\theta_2 q_{k,(2,2)} + \\left( \\binom{k}{2} - 1 \\right) q_{k-1,(2,1)}}{\\binom{k}{2} + \\frac{k}{2} \\rho + \\frac{1}{2}\\theta_2}\n",
    "\\end{align}"
   ]
  },
  {
   "cell_type": "markdown",
   "metadata": {
    "deletable": true,
    "editable": true
   },
   "source": [
    "with boundary conditions:\n",
    "\\begin{align}\n",
    "q_{k,(0,0)} &= 0 \\text{ if } k<4 \\\\\n",
    "q_{k,(0,1)} &= 0 \\text{ if } k<3 \\\\\n",
    "q_{k,(1,0)} &= 0 \\text{ if } k<3 \\\\\n",
    "q_{k,(0,2)} &= 0 \\text{ if } k<3 \\\\\n",
    "q_{k,(2,0)} &= 0 \\text{ if } k<3 \\\\\n",
    "q_{k,(1,1)} &= 0 \\text{ if } k<2 \\\\\n",
    "q_{k,(1,2)} &= 0 \\text{ if } k<2 \\\\\n",
    "q_{k,(2,1)} &= 0 \\text{ if } k<2 \\\\\n",
    "q_{k,(2,2)} &= p^{\\neg \\rho}_{k,1} = \\prod_{i = 2}^k \\frac{i-1}{i-1+\\rho}\n",
    "\\end{align}"
   ]
  },
  {
   "cell_type": "markdown",
   "metadata": {
    "deletable": true,
    "editable": true
   },
   "source": [
    "The solution of this system will be a series of rational functions of integers $n \\geq k > 1$ and non-negative reals $\\rho, \\theta_1, \\theta_2$."
   ]
  },
  {
   "cell_type": "markdown",
   "metadata": {
    "deletable": true,
    "editable": true
   },
   "source": [
    "# Implementation"
   ]
  },
  {
   "cell_type": "code",
   "execution_count": 1,
   "metadata": {
    "collapsed": true,
    "deletable": true,
    "editable": true
   },
   "outputs": [],
   "source": [
    "def p_neg(n1,n2,rho):\n",
    "    'The probability that a set of n1 lineages will coalesce to n2 lineages before experiencing recurison'\n",
    "    assert n1 >= n2\n",
    "    assert n2 > 0\n",
    "\n",
    "    if isinstance(rho,int):\n",
    "        rho = float(rho)\n",
    "    if isinstance(rho,float):\n",
    "        assert rho >= 0\n",
    "    \n",
    "    return reduce( lambda x,y: x*y, [(k - 1)/(k-1+rho) for k in range(n1,n2,-1)], 1)"
   ]
  },
  {
   "cell_type": "code",
   "execution_count": 2,
   "metadata": {
    "collapsed": true,
    "deletable": true,
    "editable": true
   },
   "outputs": [],
   "source": [
    "def choose2(k):\n",
    "    return (k*(k-1))/2"
   ]
  },
  {
   "cell_type": "code",
   "execution_count": 3,
   "metadata": {
    "collapsed": false,
    "deletable": true,
    "editable": true
   },
   "outputs": [],
   "source": [
    "def q_recursive(k,i,j,theta1,theta2,rho):\n",
    "    'compute q_{k,(i,j)} using tail-recursion.'\n",
    "    \n",
    "    #convert integers to float (since a/b performs integer division if a and b are both integers)\n",
    "    if isinstance(rho,int):\n",
    "        rho = float(rho)\n",
    "    if isinstance(theta1,int):\n",
    "        theta1 = float(theta1)\n",
    "    if isinstance(theta2,int):\n",
    "        theta2 = float(theta2)\n",
    "    \n",
    "    if   (i,j) == (0,0):\n",
    "        if k < 4:\n",
    "            return 0\n",
    "        else:\n",
    "            a = q_recursive(k-1, 1, 0, theta1,theta2,rho)\n",
    "            b = q_recursive(k-1, 0, 1, theta1,theta2,rho)\n",
    "            c = q_recursive(k-1, 0, 0, theta1,theta2,rho)\n",
    "            result = ( (k - 2)*(a+b) + choose2(k-2)*c ) / (choose2(k) + k*rho/2)\n",
    "            return result\n",
    "            \n",
    "    elif (i,j) == (0,1):\n",
    "        if k < 3:\n",
    "            return 0\n",
    "        else:\n",
    "            a = q_recursive(k  , 0, 2, theta1,theta2,rho)\n",
    "            b = q_recursive(k-1, 1, 1, theta1,theta2,rho)\n",
    "            c = q_recursive(k-1, 0, 1, theta1,theta2,rho)\n",
    "            result = ( a*theta2/2 + (k - 2)*b + choose2(k-1)*c ) / ( choose2(k) + (k*rho + theta2)/2 )\n",
    "            return result\n",
    "\n",
    "    elif (i,j) == (1,0):\n",
    "        if k < 3:\n",
    "            return 0\n",
    "        else:\n",
    "            a = q_recursive(k  , 2, 0, theta1,theta2,rho)\n",
    "            b = q_recursive(k-1, 1, 1, theta1,theta2,rho)\n",
    "            c = q_recursive(k-1, 1, 0, theta1,theta2,rho)\n",
    "            result = ( a*theta1/2 + (k - 2)*b + choose2(k-1)*c ) / ( choose2(k) + (k*rho + theta1)/2 )\n",
    "            return result\n",
    "\n",
    "    elif (i,j) == (0,2):\n",
    "        if k < 3:\n",
    "            return 0\n",
    "        else:\n",
    "            a = q_recursive(k-1, 1, 2, theta1,theta2,rho)\n",
    "            b = q_recursive(k-1, 0, 2, theta1,theta2,rho)\n",
    "            result = ( (k - 2)*a + choose2(k-1)*b ) / ( choose2(k) + k*rho/2 )\n",
    "            return result\n",
    "    \n",
    "    elif (i,j) == (2,0):\n",
    "        if k < 3:\n",
    "            return 0\n",
    "        else:\n",
    "            a = q_recursive(k-1, 2, 1, theta1,theta2,rho)\n",
    "            b = q_recursive(k-1, 2, 0, theta1,theta2,rho)\n",
    "            result = ( (k - 2)*a + choose2(k-1)*b ) / ( choose2(k) + k*rho/2 )\n",
    "            return result\n",
    "    \n",
    "    elif (i,j) == (1,1):\n",
    "        if k < 2:\n",
    "            return 0\n",
    "        else:\n",
    "            a = q_recursive(k  , 2, 1, theta1,theta2,rho)\n",
    "            b = q_recursive(k  , 1, 2, theta1,theta2,rho)\n",
    "            c = q_recursive(k-1, 1, 1, theta1,theta2,rho)\n",
    "            result = ( (theta1*a + theta2*b)/2 + (choose2(k) - 1)*c ) / ( choose2(k) + (k*rho + theta1 + theta2)/2 )\n",
    "            return result\n",
    "    \n",
    "    elif (i,j) == (1,2):\n",
    "        if k < 2:\n",
    "            return 0\n",
    "        else:\n",
    "            a = q_recursive(k  , 2, 2, theta1,theta2,rho)\n",
    "            b = q_recursive(k-1, 1, 2, theta1,theta2,rho)\n",
    "            result = ( a*theta1/2 + (choose2(k) - 1)*b ) / ( choose2(k) + (k*rho + theta1)/2 )\n",
    "            return result\n",
    "    \n",
    "    elif (i,j) == (2,1):\n",
    "        if k < 2:\n",
    "            return 0\n",
    "        else:\n",
    "            a = q_recursive(k  , 2, 2, theta1,theta2,rho)\n",
    "            b = q_recursive(k-1, 2, 1, theta1,theta2,rho)\n",
    "            result = ( a*theta2/2 + (choose2(k) - 1)*b ) / ( choose2(k) + (k*rho + theta2)/2 )\n",
    "            return result\n",
    "    \n",
    "    elif (i,j) == (2,2):\n",
    "        result = p_neg(k,1,rho)\n",
    "        return result\n",
    "    \n",
    "    else:\n",
    "        raise ValueError('0 <= i,j <= 2 must hold; arguments here: i = %i, j=%i'%(i,j))"
   ]
  },
  {
   "cell_type": "code",
   "execution_count": 4,
   "metadata": {
    "collapsed": true,
    "deletable": true,
    "editable": true
   },
   "outputs": [],
   "source": [
    "def q_recursive_memorized(k,i,j,theta1,theta2,rho, known_values = None ):\n",
    "    '''compute q_{k,(i,j)} using tail-recursion and tableing of known values.\n",
    "    \n",
    "Returns q_{k,(i,j)} as well as a dictionary of other q-values computed in the\n",
    "process of determining q_{k,(i,j)}.'''\n",
    "    \n",
    "    if known_values == None:\n",
    "        known_values = dict()\n",
    "    \n",
    "    #check to see if we already know q_{k,(i,j)}\n",
    "    if (k,i,j) in known_values:\n",
    "        return known_values[(k,i,j)],known_values\n",
    "    \n",
    "    #convert integers to float (since a/b performs integer division if a and b are both integers)\n",
    "    if isinstance(rho,int):\n",
    "        rho = float(rho)\n",
    "    if isinstance(theta1,int):\n",
    "        theta1 = float(theta1)\n",
    "    if isinstance(theta2,int):\n",
    "        theta2 = float(theta2)\n",
    "    \n",
    "    if   (i,j) == (0,0):\n",
    "        if k < 4:\n",
    "            result = 0\n",
    "        else:\n",
    "            a,known_values = q_recursive_memorized(k-1, 1, 0, theta1,theta2,rho, known_values)\n",
    "            b,known_values = q_recursive_memorized(k-1, 0, 1, theta1,theta2,rho, known_values)\n",
    "            c,known_values = q_recursive_memorized(k-1, 0, 0, theta1,theta2,rho, known_values)\n",
    "            result = ( (k - 2)*(a+b) + choose2(k-2)*c ) / (choose2(k) + k*rho/2)\n",
    "            \n",
    "    elif (i,j) == (0,1):\n",
    "        if k < 3:\n",
    "            result = 0\n",
    "        else:\n",
    "            a,known_values = q_recursive_memorized(k  , 0, 2, theta1,theta2,rho, known_values)\n",
    "            b,known_values = q_recursive_memorized(k-1, 1, 1, theta1,theta2,rho, known_values)\n",
    "            c,known_values = q_recursive_memorized(k-1, 0, 1, theta1,theta2,rho, known_values)\n",
    "            result = ( a*theta2/2 + (k - 2)*b + choose2(k-1)*c ) / ( choose2(k) + (k*rho + theta2)/2 )\n",
    "\n",
    "    elif (i,j) == (1,0):\n",
    "        if k < 3:\n",
    "            result = 0\n",
    "        else:\n",
    "            a,known_values = q_recursive_memorized(k  , 2, 0, theta1,theta2,rho, known_values)\n",
    "            b,known_values = q_recursive_memorized(k-1, 1, 1, theta1,theta2,rho, known_values)\n",
    "            c,known_values = q_recursive_memorized(k-1, 1, 0, theta1,theta2,rho, known_values)\n",
    "            result = ( a*theta1/2 + (k - 2)*b + choose2(k-1)*c ) / ( choose2(k) + (k*rho + theta1)/2 )\n",
    "\n",
    "    elif (i,j) == (0,2):\n",
    "        if k < 3:\n",
    "            result = 0\n",
    "        else:\n",
    "            a,known_values = q_recursive_memorized(k-1, 1, 2, theta1,theta2,rho, known_values)\n",
    "            b,known_values = q_recursive_memorized(k-1, 0, 2, theta1,theta2,rho, known_values)\n",
    "            result = ( (k - 2)*a + choose2(k-1)*b ) / ( choose2(k) + k*rho/2 )\n",
    "    \n",
    "    elif (i,j) == (2,0):\n",
    "        if k < 3:\n",
    "            result = 0\n",
    "        else:\n",
    "            a,known_values = q_recursive_memorized(k-1, 2, 1, theta1,theta2,rho, known_values)\n",
    "            b,known_values = q_recursive_memorized(k-1, 2, 0, theta1,theta2,rho, known_values)\n",
    "            result = ( (k - 2)*a + choose2(k-1)*b ) / ( choose2(k) + k*rho/2 )\n",
    "    \n",
    "    elif (i,j) == (1,1):\n",
    "        if k < 2:\n",
    "            result = 0\n",
    "        else:\n",
    "            a,known_values = q_recursive_memorized(k  , 2, 1, theta1,theta2,rho, known_values)\n",
    "            b,known_values = q_recursive_memorized(k  , 1, 2, theta1,theta2,rho, known_values)\n",
    "            c,known_values = q_recursive_memorized(k-1, 1, 1, theta1,theta2,rho, known_values)\n",
    "            result = ( (theta1*a + theta2*b)/2 + (choose2(k) - 1)*c ) / ( choose2(k) + (k*rho + theta1 + theta2)/2 )\n",
    "    \n",
    "    elif (i,j) == (1,2):\n",
    "        if k < 2:\n",
    "            result = 0\n",
    "        else:\n",
    "            a,known_values = q_recursive_memorized(k  , 2, 2, theta1,theta2,rho, known_values)\n",
    "            b,known_values = q_recursive_memorized(k-1, 1, 2, theta1,theta2,rho, known_values)\n",
    "            result = ( a*theta1/2 + (choose2(k) - 1)*b ) / ( choose2(k) + (k*rho + theta1)/2 )\n",
    "    \n",
    "    elif (i,j) == (2,1):\n",
    "        if k < 2:\n",
    "            result = 0\n",
    "        else:\n",
    "            a,known_values = q_recursive_memorized(k  , 2, 2, theta1,theta2,rho, known_values)\n",
    "            b,known_values = q_recursive_memorized(k-1, 2, 1, theta1,theta2,rho, known_values)\n",
    "            result = ( a*theta2/2 + (choose2(k) - 1)*b ) / ( choose2(k) + (k*rho + theta2)/2 )\n",
    "    \n",
    "    elif (i,j) == (2,2):\n",
    "        result = p_neg(k,1,rho)\n",
    "    \n",
    "    else:\n",
    "        raise ValueError('0 <= i,j <= 2 must hold; arguments here: i = %i, j=%i'%(i,j))\n",
    "    \n",
    "    known_values[(k,i,j)] = result\n",
    "    return result, known_values"
   ]
  },
  {
   "cell_type": "code",
   "execution_count": 5,
   "metadata": {
    "collapsed": false,
    "deletable": true,
    "editable": true
   },
   "outputs": [
    {
     "data": {
      "text/plain": [
       "0.0"
      ]
     },
     "execution_count": 5,
     "metadata": {},
     "output_type": "execute_result"
    }
   ],
   "source": [
    "q_recursive_memorized(50,0,0,1.0,1.0,0.0)[0] - q_recursive(50,0,0,1.0,1.0,0.0)"
   ]
  },
  {
   "cell_type": "code",
   "execution_count": 6,
   "metadata": {
    "collapsed": false,
    "deletable": true,
    "editable": true
   },
   "outputs": [
    {
     "data": {
      "text/plain": [
       "{(1, 1, 1): 0,\n",
       " (1, 1, 2): 0,\n",
       " (1, 2, 1): 0,\n",
       " (2, 0, 1): 0,\n",
       " (2, 0, 2): 0,\n",
       " (2, 1, 0): 0,\n",
       " (2, 1, 1): 0.16666666666666666,\n",
       " (2, 1, 2): 0.3333333333333333,\n",
       " (2, 2, 0): 0,\n",
       " (2, 2, 1): 0.3333333333333333,\n",
       " (2, 2, 2): 1.0,\n",
       " (3, 0, 0): 0,\n",
       " (3, 0, 1): 0.06349206349206349,\n",
       " (3, 0, 2): 0.1111111111111111,\n",
       " (3, 1, 0): 0.06349206349206349,\n",
       " (3, 1, 1): 0.16666666666666666,\n",
       " (3, 1, 2): 0.3333333333333333,\n",
       " (3, 2, 0): 0.1111111111111111,\n",
       " (3, 2, 1): 0.3333333333333333,\n",
       " (3, 2, 2): 1.0,\n",
       " (4, 0, 0): 0.042328042328042326,\n",
       " (4, 0, 1): 0.0934065934065934,\n",
       " (4, 0, 2): 0.16666666666666666,\n",
       " (4, 1, 0): 0.0934065934065934,\n",
       " (4, 1, 1): 0.16666666666666666,\n",
       " (4, 1, 2): 0.3333333333333333,\n",
       " (4, 2, 0): 0.16666666666666666,\n",
       " (4, 2, 1): 0.3333333333333333,\n",
       " (4, 2, 2): 1.0,\n",
       " (5, 0, 0): 0.06874236874236873,\n",
       " (5, 0, 1): 0.11051805337519623,\n",
       " (5, 0, 2): 0.2,\n",
       " (5, 1, 0): 0.11051805337519623,\n",
       " (5, 2, 0): 0.2,\n",
       " (6, 0, 0): 0.08643990929705216}"
      ]
     },
     "execution_count": 6,
     "metadata": {},
     "output_type": "execute_result"
    }
   ],
   "source": [
    "q_recursive_memorized(6,0,0,1.0,1.0,0.0)[1]"
   ]
  },
  {
   "cell_type": "markdown",
   "metadata": {
    "deletable": true,
    "editable": true
   },
   "source": [
    "# Symbolic computation"
   ]
  },
  {
   "cell_type": "markdown",
   "metadata": {
    "deletable": true,
    "editable": true
   },
   "source": [
    "The above implmentation also supports symbolic computation. We may use this to get exact formulas expressing $q_{k,(0,0)}$ as a rational function in the indeterminates $\\theta_1, \\theta_2$, and $\\rho$ (the below does just this using sympy):"
   ]
  },
  {
   "cell_type": "code",
   "execution_count": 29,
   "metadata": {
    "collapsed": true,
    "deletable": true,
    "editable": true
   },
   "outputs": [],
   "source": [
    "import sympy\n",
    "sympy.init_printing(use_latex=True)"
   ]
  },
  {
   "cell_type": "code",
   "execution_count": 8,
   "metadata": {
    "collapsed": false,
    "deletable": true,
    "editable": true
   },
   "outputs": [],
   "source": [
    "k = 4\n",
    "t, t1,t2,r = sympy.symbols(r'\\theta \\theta_1 \\theta_2 \\rho')\n",
    "f = q_recursive(k,0,0,t1,t2,r) # general formula\n",
    "g = f.subs(r,0) # f with \\rho = 0\n",
    "h = q_recursive(k,0,0,t/2,t/2,r) # f with theta1 = theta2 = theta/2"
   ]
  },
  {
   "cell_type": "code",
   "execution_count": 31,
   "metadata": {
    "collapsed": false,
    "deletable": true,
    "editable": true
   },
   "outputs": [
    {
     "name": "stdout",
     "output_type": "stream",
     "text": [
      "  ⎛                                                          \\theta₁⋅\\theta₂  \n",
      "  ⎜                                                 ──────────────────────────\n",
      "  ⎜                                                              ⎛       \\thet\n",
      "  ⎜                                                 4⋅(\\rho + 1)⋅⎜\\rho + ─────\n",
      "  ⎜               \\theta₁⋅\\theta₂                                ⎝          2 \n",
      "2⋅⎜────────────────────────────────────────────── + ──────────────────────────\n",
      "  ⎜             ⎛3⋅\\rho    ⎞ ⎛       \\theta₁    ⎞                             \n",
      "  ⎜4⋅(\\rho + 1)⋅⎜────── + 3⎟⋅⎜\\rho + ─────── + 1⎟                        \\rho \n",
      "  ⎝             ⎝  2       ⎠ ⎝          2       ⎠                             \n",
      "──────────────────────────────────────────────────────────────────────────────\n",
      "                                                   3⋅\\rho   \\theta₂           \n",
      "                                                   ────── + ─────── + 3       \n",
      "                                                     2         2              \n",
      "──────────────────────────────────────────────────────────────────────────────\n",
      "                                                                              \n",
      "\n",
      "                   \\theta₁⋅\\theta₂         ⎞     ⎛                            \n",
      "─────── + ─────────────────────────────────⎟     ⎜                            \n",
      "a₂    ⎞                ⎛       \\theta₁    ⎞⎟     ⎜                            \n",
      "── + 1⎟   4⋅(\\rho + 1)⋅⎜\\rho + ─────── + 1⎟⎟     ⎜                            \n",
      "      ⎠                ⎝          2       ⎠⎟     ⎜               \\theta₁⋅\\thet\n",
      "───────────────────────────────────────────⎟   2⋅⎜────────────────────────────\n",
      "  \\theta₁   \\theta₂                        ⎟     ⎜             ⎛3⋅\\rho    ⎞ ⎛ \n",
      "+ ─────── + ─────── + 1                    ⎟     ⎜4⋅(\\rho + 1)⋅⎜────── + 3⎟⋅⎜\\\n",
      "     2         2                           ⎠     ⎝             ⎝  2       ⎠ ⎝ \n",
      "──────────────────────────────────────────── + ───────────────────────────────\n",
      "                                                                              \n",
      "                                                                              \n",
      "                                                                              \n",
      "──────────────────────────────────────────────────────────────────────────────\n",
      "                                         2⋅\\rho + 6                           \n",
      "\n",
      "                              \\theta₁⋅\\theta₂                     \\theta₁⋅\\the\n",
      "                     ───────────────────────────────── + ─────────────────────\n",
      "                                  ⎛       \\theta₂    ⎞                ⎛       \n",
      "                     4⋅(\\rho + 1)⋅⎜\\rho + ─────── + 1⎟   4⋅(\\rho + 1)⋅⎜\\rho + \n",
      "a₂                                ⎝          2       ⎠                ⎝       \n",
      "────────────────── + ─────────────────────────────────────────────────────────\n",
      "      \\theta₂    ⎞                               \\theta₁   \\theta₂            \n",
      "rho + ─────── + 1⎟                        \\rho + ─────── + ─────── + 1        \n",
      "         2       ⎠                                  2         2               \n",
      "──────────────────────────────────────────────────────────────────────────────\n",
      "                    3⋅\\rho   \\theta₁                                          \n",
      "                    ────── + ─────── + 3                                      \n",
      "                      2         2                                             \n",
      "──────────────────────────────────────────────────────────────────────────────\n",
      "                                                                              \n",
      "\n",
      "ta₂         ⎞\n",
      "────────────⎟\n",
      "\\theta₁    ⎞⎟\n",
      "─────── + 1⎟⎟\n",
      "   2       ⎠⎟\n",
      "────────────⎟\n",
      "            ⎟\n",
      "            ⎟\n",
      "            ⎠\n",
      "─────────────\n",
      "             \n",
      "             \n",
      "             \n",
      "─────────────\n",
      "             \n",
      "(\\theta_1*\\theta_2/(12*(\\theta_1/2 + 1)) + (\\theta_1*\\theta_2/(4*(\\theta_2/2 + 1)) + \\theta_1*\\theta_2/(4*(\\theta_1/2 + 1)))/(\\theta_1/2 + \\theta_2/2 + 1))/(3*(\\theta_2/2 + 3)) + (\\theta_1*\\theta_2/(12*(\\theta_2/2 + 1)) + (\\theta_1*\\theta_2/(4*(\\theta_2/2 + 1)) + \\theta_1*\\theta_2/(4*(\\theta_1/2 + 1)))/(\\theta_1/2 + \\theta_2/2 + 1))/(3*(\\theta_1/2 + 3)) \n",
      "\n",
      "4*(\\theta**2/(8*(\\rho + 1)*(\\rho + \\theta/4 + 1)*(\\rho + \\theta/2 + 1)) + \\theta**2/(16*(\\rho + 1)*(3*\\rho/2 + 3)*(\\rho + \\theta/4 + 1)))/((2*\\rho + 6)*(3*\\rho/2 + \\theta/4 + 3)) \n",
      "\n"
     ]
    }
   ],
   "source": [
    "sympy.pprint(f)\n",
    "print g,'\\n'\n",
    "print h,'\\n'"
   ]
  },
  {
   "cell_type": "markdown",
   "metadata": {
    "deletable": true,
    "editable": true
   },
   "source": [
    "### We may also print these expressions in latex:"
   ]
  },
  {
   "cell_type": "code",
   "execution_count": 10,
   "metadata": {
    "collapsed": false,
    "deletable": true,
    "editable": true
   },
   "outputs": [
    {
     "name": "stdout",
     "output_type": "stream",
     "text": [
      "\\frac{1}{2 \\rho + 6} \\left(\\frac{1}{\\frac{3 \\rho}{2} + \\frac{\\theta_2}{2} + 3} \\left(\\frac{\\theta_1 \\theta_2}{2 \\left(\\rho + 1\\right) \\left(\\frac{3 \\rho}{2} + 3\\right) \\left(\\rho + \\frac{\\theta_1}{2} + 1\\right)} + \\frac{1}{\\rho + \\frac{\\theta_1}{2} + \\frac{\\theta_2}{2} + 1} \\left(\\frac{\\theta_1 \\theta_2}{2 \\left(\\rho + 1\\right) \\left(\\rho + \\frac{\\theta_2}{2} + 1\\right)} + \\frac{\\theta_1 \\theta_2}{2 \\left(\\rho + 1\\right) \\left(\\rho + \\frac{\\theta_1}{2} + 1\\right)}\\right)\\right) + \\frac{1}{\\frac{3 \\rho}{2} + \\frac{\\theta_1}{2} + 3} \\left(\\frac{\\theta_1 \\theta_2}{2 \\left(\\rho + 1\\right) \\left(\\frac{3 \\rho}{2} + 3\\right) \\left(\\rho + \\frac{\\theta_2}{2} + 1\\right)} + \\frac{1}{\\rho + \\frac{\\theta_1}{2} + \\frac{\\theta_2}{2} + 1} \\left(\\frac{\\theta_1 \\theta_2}{2 \\left(\\rho + 1\\right) \\left(\\rho + \\frac{\\theta_2}{2} + 1\\right)} + \\frac{\\theta_1 \\theta_2}{2 \\left(\\rho + 1\\right) \\left(\\rho + \\frac{\\theta_1}{2} + 1\\right)}\\right)\\right)\\right) \n",
      "\n",
      "\\frac{2 \\theta_1 \\theta_2 \\left(\\left(3 \\left(\\rho + 2\\right) \\left(4 \\rho + \\theta_1 + \\theta_2 + 4\\right) + \\left(2 \\rho + \\theta_1 + 2\\right) \\left(2 \\rho + \\theta_1 + \\theta_2 + 2\\right)\\right) \\left(3 \\rho + \\theta_2 + 6\\right) + \\left(3 \\left(\\rho + 2\\right) \\left(4 \\rho + \\theta_1 + \\theta_2 + 4\\right) + \\left(2 \\rho + \\theta_2 + 2\\right) \\left(2 \\rho + \\theta_1 + \\theta_2 + 2\\right)\\right) \\left(3 \\rho + \\theta_1 + 6\\right)\\right)}{3 \\left(\\rho + 1\\right) \\left(\\rho + 2\\right) \\left(\\rho + 3\\right) \\left(2 \\rho + \\theta_1 + 2\\right) \\left(2 \\rho + \\theta_2 + 2\\right) \\left(3 \\rho + \\theta_1 + 6\\right) \\left(3 \\rho + \\theta_2 + 6\\right) \\left(2 \\rho + \\theta_1 + \\theta_2 + 2\\right)} \n",
      "\n",
      "\n",
      "\\frac{1}{\\frac{3 \\theta_2}{2} + 9} \\left(\\frac{\\theta_1 \\theta_2}{6 \\theta_1 + 12} + \\frac{1}{\\frac{\\theta_1}{2} + \\frac{\\theta_2}{2} + 1} \\left(\\frac{\\theta_1 \\theta_2}{2 \\theta_2 + 4} + \\frac{\\theta_1 \\theta_2}{2 \\theta_1 + 4}\\right)\\right) + \\frac{1}{\\frac{3 \\theta_1}{2} + 9} \\left(\\frac{\\theta_1 \\theta_2}{6 \\theta_2 + 12} + \\frac{1}{\\frac{\\theta_1}{2} + \\frac{\\theta_2}{2} + 1} \\left(\\frac{\\theta_1 \\theta_2}{2 \\theta_2 + 4} + \\frac{\\theta_1 \\theta_2}{2 \\theta_1 + 4}\\right)\\right) \n",
      "\n",
      "\\frac{\\theta_1 \\theta_2}{9 \\left(\\theta_1 + 2\\right) \\left(\\theta_1 + 6\\right) \\left(\\theta_2 + 2\\right) \\left(\\theta_2 + 6\\right) \\left(\\theta_1 + \\theta_2 + 2\\right)} \\left(\\left(\\theta_1 + 6\\right) \\left(6 \\theta_1 + 6 \\theta_2 + \\left(\\theta_2 + 2\\right) \\left(\\theta_1 + \\theta_2 + 2\\right) + 24\\right) + \\left(\\theta_2 + 6\\right) \\left(6 \\theta_1 + 6 \\theta_2 + \\left(\\theta_1 + 2\\right) \\left(\\theta_1 + \\theta_2 + 2\\right) + 24\\right)\\right) \n",
      "\n",
      "\n",
      "\\frac{1}{\\left(2 \\rho + 6\\right) \\left(\\frac{3 \\rho}{2} + \\frac{\\theta}{4} + 3\\right)} \\left(\\frac{\\theta^{2}}{2 \\left(\\rho + 1\\right) \\left(\\rho + \\frac{\\theta}{4} + 1\\right) \\left(\\rho + \\frac{\\theta}{2} + 1\\right)} + \\frac{\\theta^{2}}{4 \\left(\\rho + 1\\right) \\left(\\frac{3 \\rho}{2} + 3\\right) \\left(\\rho + \\frac{\\theta}{4} + 1\\right)}\\right) \n",
      "\n",
      "\\frac{4 \\theta^{2} \\left(8 \\rho + \\theta + 14\\right)}{3 \\left(\\rho + 1\\right) \\left(\\rho + 2\\right) \\left(\\rho + 3\\right) \\left(2 \\rho + \\theta + 2\\right) \\left(4 \\rho + \\theta + 4\\right) \\left(6 \\rho + \\theta + 12\\right)} \n",
      "\n",
      "\n"
     ]
    }
   ],
   "source": [
    "print sympy.latex(f),'\\n'\n",
    "print sympy.latex(f.simplify()),'\\n\\n'\n",
    "print sympy.latex(g),'\\n'\n",
    "print sympy.latex(g.simplify()),'\\n\\n'\n",
    "print sympy.latex(h),'\\n'\n",
    "print sympy.latex(h.simplify()),'\\n\\n'\n",
    "#print sympy.latex(g)"
   ]
  },
  {
   "cell_type": "markdown",
   "metadata": {
    "deletable": true,
    "editable": true
   },
   "source": [
    "this latex-source code can then be typeset:"
   ]
  },
  {
   "cell_type": "markdown",
   "metadata": {
    "deletable": true,
    "editable": true
   },
   "source": [
    "### *f* :\n",
    "$$\\frac{1}{2 \\rho + 6} \\left(\\frac{1}{\\frac{3 \\rho}{2} + \\frac{\\theta_2}{2} + 3} \\left(\\frac{\\theta_1 \\theta_2}{2 \\left(\\rho + 1\\right) \\left(\\frac{3 \\rho}{2} + 3\\right) \\left(\\rho + \\frac{\\theta_1}{2} + 1\\right)} + \\frac{1}{\\rho + \\frac{\\theta_1}{2} + \\frac{\\theta_2}{2} + 1} \\left(\\frac{\\theta_1 \\theta_2}{2 \\left(\\rho + 1\\right) \\left(\\rho + \\frac{\\theta_2}{2} + 1\\right)} + \\frac{\\theta_1 \\theta_2}{2 \\left(\\rho + 1\\right) \\left(\\rho + \\frac{\\theta_1}{2} + 1\\right)}\\right)\\right) + \\frac{1}{\\frac{3 \\rho}{2} + \\frac{\\theta_1}{2} + 3} \\left(\\frac{\\theta_1 \\theta_2}{2 \\left(\\rho + 1\\right) \\left(\\frac{3 \\rho}{2} + 3\\right) \\left(\\rho + \\frac{\\theta_2}{2} + 1\\right)} + \\frac{1}{\\rho + \\frac{\\theta_1}{2} + \\frac{\\theta_2}{2} + 1} \\left(\\frac{\\theta_1 \\theta_2}{2 \\left(\\rho + 1\\right) \\left(\\rho + \\frac{\\theta_2}{2} + 1\\right)} + \\frac{\\theta_1 \\theta_2}{2 \\left(\\rho + 1\\right) \\left(\\rho + \\frac{\\theta_1}{2} + 1\\right)}\\right)\\right)\\right)$$\n",
    "\n",
    "### *f* (simplified) :\n",
    "$$\\frac{2 \\theta_1 \\theta_2 \\left(\\left(3 \\left(\\rho + 2\\right) \\left(4 \\rho + \\theta_1 + \\theta_2 + 4\\right) + \\left(2 \\rho + \\theta_1 + 2\\right) \\left(2 \\rho + \\theta_1 + \\theta_2 + 2\\right)\\right) \\left(3 \\rho + \\theta_2 + 6\\right) + \\left(3 \\left(\\rho + 2\\right) \\left(4 \\rho + \\theta_1 + \\theta_2 + 4\\right) + \\left(2 \\rho + \\theta_2 + 2\\right) \\left(2 \\rho + \\theta_1 + \\theta_2 + 2\\right)\\right) \\left(3 \\rho + \\theta_1 + 6\\right)\\right)}{3 \\left(\\rho + 1\\right) \\left(\\rho + 2\\right) \\left(\\rho + 3\\right) \\left(2 \\rho + \\theta_1 + 2\\right) \\left(2 \\rho + \\theta_2 + 2\\right) \\left(3 \\rho + \\theta_1 + 6\\right) \\left(3 \\rho + \\theta_2 + 6\\right) \\left(2 \\rho + \\theta_1 + \\theta_2 + 2\\right)} $$"
   ]
  },
  {
   "cell_type": "markdown",
   "metadata": {
    "deletable": true,
    "editable": true
   },
   "source": [
    "### *g* :\n",
    "$$\n",
    "\\frac{1}{\\frac{3 \\theta_2}{2} + 9} \\left(\\frac{\\theta_1 \\theta_2}{6 \\theta_1 + 12} + \\frac{1}{\\frac{\\theta_1}{2} + \\frac{\\theta_2}{2} + 1} \\left(\\frac{\\theta_1 \\theta_2}{2 \\theta_2 + 4} + \\frac{\\theta_1 \\theta_2}{2 \\theta_1 + 4}\\right)\\right) + \\frac{1}{\\frac{3 \\theta_1}{2} + 9} \\left(\\frac{\\theta_1 \\theta_2}{6 \\theta_2 + 12} + \\frac{1}{\\frac{\\theta_1}{2} + \\frac{\\theta_2}{2} + 1} \\left(\\frac{\\theta_1 \\theta_2}{2 \\theta_2 + 4} + \\frac{\\theta_1 \\theta_2}{2 \\theta_1 + 4}\\right)\\right)$$\n",
    "\n",
    "### *g*  (simplified) :\n",
    "$$\n",
    "\\frac{\\theta_1 \\theta_2}{9 \\left(\\theta_1 + 2\\right) \\left(\\theta_1 + 6\\right) \\left(\\theta_2 + 2\\right) \\left(\\theta_2 + 6\\right) \\left(\\theta_1 + \\theta_2 + 2\\right)} \\left(\\left(\\theta_1 + 6\\right) \\left(6 \\theta_1 + 6 \\theta_2 + \\left(\\theta_2 + 2\\right) \\left(\\theta_1 + \\theta_2 + 2\\right) + 24\\right) + \\left(\\theta_2 + 6\\right) \\left(6 \\theta_1 + 6 \\theta_2 + \\left(\\theta_1 + 2\\right) \\left(\\theta_1 + \\theta_2 + 2\\right) + 24\\right)\\right) $$"
   ]
  },
  {
   "cell_type": "markdown",
   "metadata": {
    "deletable": true,
    "editable": true
   },
   "source": [
    "### *h* :\n",
    "$$\\frac{1}{\\left(2 \\rho + 6\\right) \\left(\\frac{3 \\rho}{2} + \\frac{\\theta}{4} + 3\\right)} \\left(\\frac{\\theta^{2}}{2 \\left(\\rho + 1\\right) \\left(\\rho + \\frac{\\theta}{4} + 1\\right) \\left(\\rho + \\frac{\\theta}{2} + 1\\right)} + \\frac{\\theta^{2}}{4 \\left(\\rho + 1\\right) \\left(\\frac{3 \\rho}{2} + 3\\right) \\left(\\rho + \\frac{\\theta}{4} + 1\\right)}\\right)$$\n",
    " ### *h* (simplified) :\n",
    " $$\n",
    "\\frac{4 \\theta^{2} \\left(8 \\rho + \\theta + 14\\right)}{3 \\left(\\rho + 1\\right) \\left(\\rho + 2\\right) \\left(\\rho + 3\\right) \\left(2 \\rho + \\theta + 2\\right) \\left(4 \\rho + \\theta + 4\\right) \\left(6 \\rho + \\theta + 12\\right)} \n",
    "$$"
   ]
  },
  {
   "cell_type": "markdown",
   "metadata": {
    "deletable": true,
    "editable": true
   },
   "source": [
    "## Towards conditionals"
   ]
  },
  {
   "cell_type": "markdown",
   "metadata": {
    "deletable": true,
    "editable": true
   },
   "source": [
    "We now define the following:\n",
    "\n",
    "\\begin{align}\n",
    "\\mathbb{P} (\\Omega_k)\n",
    "   &=  \\frac{\\rho}{k-1 + \\rho} \\frac{k}{k + \\rho} \\prod_{i=2}^n \\frac{i-1}{i - 1 + \\rho} \\\\\n",
    "   &=  \\frac{\\rho}{k-1 + \\rho} \\frac{k}{k + \\rho} p^{\\neg \\rho}_{n,1}\n",
    "\\end{align}\n",
    "and\n",
    "\\begin{align}\n",
    "\\mathbb{P}(\\Omega_{2,\\ldots,n})\n",
    "   &=  \\sum_{k = 2}^n \\mathbb{P} (\\Omega_k) \\\\\n",
    "   &=  p^{\\neg \\rho}_{n,1} \\sum_{k = 2}^n \\frac{\\rho}{k-1 + \\rho} \\frac{k}{k + \\rho}\n",
    "\\end{align}"
   ]
  },
  {
   "cell_type": "markdown",
   "metadata": {
    "deletable": true,
    "editable": true
   },
   "source": [
    "We furthermore define:\n",
    "$$\n",
    "\\mathbb{P}(\\Omega^{\\text{vis}} \\mid \\Omega_{2,\\ldots,n})\n",
    "  = \\frac{ \\sum_{k=3}^{n} p^{\\neg \\rho}_{n,k} \\frac{\\rho}{k-1+\\rho} q_{k+1,(0,0)} }{ p^{\\neg \\rho}_{n,1} \\sum_{k = 2}^n \\frac{\\rho}{k-1 + \\rho} \\frac{k}{k + \\rho} }\n",
    "$$"
   ]
  },
  {
   "cell_type": "code",
   "execution_count": 11,
   "metadata": {
    "collapsed": true,
    "deletable": true,
    "editable": true
   },
   "outputs": [],
   "source": [
    "def precompute_q(k_max,theta1,theta2,rho):\n",
    "    known_values = dict()\n",
    "\n",
    "    k_range = range(3,k_max+3,30)\n",
    "    if k_range[-1] < k_max+2:\n",
    "        k_range.append(k_max+2)\n",
    "\n",
    "    for k in k_range:\n",
    "        known_values = q_recursive_memorized(k,0,0,theta1,theta2,rho,known_values)[1]\n",
    "\n",
    "    return known_values\n",
    "    #return q_recursive_memorized(k_max+2,0,0,theta1,theta2,rho)[1]"
   ]
  },
  {
   "cell_type": "code",
   "execution_count": 12,
   "metadata": {
    "collapsed": true,
    "deletable": true,
    "editable": true
   },
   "outputs": [],
   "source": [
    "def P_omega_k(k,n,rho):\n",
    "    return p_neg(n,1,rho) * ( (rho*k) / ( (k-1+rho) * (k+rho) ) )\n",
    "\n",
    "def P_omega_toN(n,rho):\n",
    "    return p_neg(n,1,rho) * sum([(rho*k) / ( (k-1+rho) * (k+rho) ) for k in xrange(2,n+1)])\n",
    "\n",
    "def P_omegea_vis_k(k,n,theta1,theta2,rho, q_precomputed = None):\n",
    "    if q_precomputed != None:\n",
    "        if (k+1,0,0) not in q_precomputed:\n",
    "            print (k+1,0,0), q_precomputed[(k+1,0,0)]\n",
    "        q = q_precomputed[(k+1,0,0)]\n",
    "        return p_neg(n,k,rho) * ( rho / (k-1+rho) ) * q\n",
    "    else:\n",
    "        return p_neg(n,k,rho) * ( rho / (k-1+rho) ) * q_recursive(k+1,0,0,theta1,theta2,rho)\n",
    "\n",
    "def P_omega_vis(n,theta1,theta2,rho, precompute = True):\n",
    "    k_range = range(3,n+1) if n>1 else []\n",
    "    q_precomputed = precompute_q(n+1,theta1,theta2,rho) if precompute else None\n",
    "    return sum([P_omegea_vis_k(k,n,theta1,theta2,rho,q_precomputed) for k in k_range])\n",
    "\n",
    "def P_omega_vis_conditioned(n,theta1,theta2,rho):\n",
    "    if n<3:\n",
    "        return 0\n",
    "    else:\n",
    "        numerator = P_omega_vis(n,theta1,theta2,rho)\n",
    "        denominator = P_omega_toN(n,rho)\n",
    "        return numerator / denominator"
   ]
  },
  {
   "cell_type": "code",
   "execution_count": 13,
   "metadata": {
    "collapsed": false,
    "deletable": true,
    "editable": true
   },
   "outputs": [
    {
     "data": {
      "text/plain": [
       "0.0"
      ]
     },
     "execution_count": 13,
     "metadata": {},
     "output_type": "execute_result"
    }
   ],
   "source": [
    "#verify that precomputing does not affect outcome\n",
    "P_omega_vis(4,0.5,0.5,1.0,True) - P_omega_vis(4,0.5,0.5,1.0,False)"
   ]
  },
  {
   "cell_type": "code",
   "execution_count": 14,
   "metadata": {
    "collapsed": false
   },
   "outputs": [],
   "source": [
    "D = precompute_q(100,0.5,0.5,1.0)"
   ]
  },
  {
   "cell_type": "markdown",
   "metadata": {
    "deletable": true,
    "editable": true
   },
   "source": [
    "#### A numerical example"
   ]
  },
  {
   "cell_type": "code",
   "execution_count": 15,
   "metadata": {
    "collapsed": false,
    "deletable": true,
    "editable": true
   },
   "outputs": [
    {
     "name": "stdout",
     "output_type": "stream",
     "text": [
      "0.0833333333333 \n",
      "\n",
      "0.111111111111 \n",
      "\n",
      "0.000498158977691 \n",
      "\n",
      "0.000498158977691 \n",
      "\n",
      "0.00448343079922 \n",
      "\n"
     ]
    }
   ],
   "source": [
    "n = 3\n",
    "k = 3\n",
    "theta1, theta2 = 0.5,0.5\n",
    "rho = 1.0\n",
    "\n",
    "print P_omega_k(k,n,rho),'\\n'\n",
    "print P_omega_toN(n,rho),'\\n'\n",
    "print P_omegea_vis_k(k,n,theta1,theta2,rho),'\\n'\n",
    "print P_omega_vis(n,theta1,theta2,rho,precompute=False),'\\n'\n",
    "print P_omega_vis_conditioned(n,theta1,theta2,rho),'\\n'"
   ]
  },
  {
   "cell_type": "markdown",
   "metadata": {
    "deletable": true,
    "editable": true
   },
   "source": [
    "#### A symbolic example"
   ]
  },
  {
   "cell_type": "code",
   "execution_count": 16,
   "metadata": {
    "collapsed": false,
    "deletable": true,
    "editable": true,
    "scrolled": true
   },
   "outputs": [
    {
     "name": "stdout",
     "output_type": "stream",
     "text": [
      "          6⋅r           \n",
      "────────────────────────\n",
      "               2        \n",
      "(r + 1)⋅(r + 2) ⋅(r + 3)\n",
      "\n",
      "\n",
      "       4⋅r       \n",
      "─────────────────\n",
      "       2        2\n",
      "(r + 1) ⋅(r + 2) \n",
      "\n",
      "\n",
      "2⋅r⋅t₁⋅t₂⋅((3⋅(r + 2)⋅(4⋅r + t₁ + t₂ + 4) + (2⋅r + t₁ + 2)⋅(2⋅r + t₁ + t₂ + 2)\n",
      "──────────────────────────────────────────────────────────────────────────────\n",
      "                                                       2                      \n",
      "                                      3⋅(r + 1)⋅(r + 2) ⋅(r + 3)⋅(2⋅r + t₁ + 2\n",
      "\n",
      ")⋅(3⋅r + t₂ + 6) + (3⋅(r + 2)⋅(4⋅r + t₁ + t₂ + 4) + (2⋅r + t₂ + 2)⋅(2⋅r + t₁ +\n",
      "──────────────────────────────────────────────────────────────────────────────\n",
      "                                                                              \n",
      ")⋅(2⋅r + t₂ + 2)⋅(3⋅r + t₁ + 6)⋅(3⋅r + t₂ + 6)⋅(2⋅r + t₁ + t₂ + 2)            \n",
      "\n",
      " t₂ + 2))⋅(3⋅r + t₁ + 6))\n",
      "─────────────────────────\n",
      "                         \n",
      "                         \n",
      "\n",
      "\n",
      "2⋅r⋅t₁⋅t₂⋅((3⋅(r + 2)⋅(4⋅r + t₁ + t₂ + 4) + (2⋅r + t₁ + 2)⋅(2⋅r + t₁ + t₂ + 2)\n",
      "──────────────────────────────────────────────────────────────────────────────\n",
      "                                                       2                      \n",
      "                                      3⋅(r + 1)⋅(r + 2) ⋅(r + 3)⋅(2⋅r + t₁ + 2\n",
      "\n",
      ")⋅(3⋅r + t₂ + 6) + (3⋅(r + 2)⋅(4⋅r + t₁ + t₂ + 4) + (2⋅r + t₂ + 2)⋅(2⋅r + t₁ +\n",
      "──────────────────────────────────────────────────────────────────────────────\n",
      "                                                                              \n",
      ")⋅(2⋅r + t₂ + 2)⋅(3⋅r + t₁ + 6)⋅(3⋅r + t₂ + 6)⋅(2⋅r + t₁ + t₂ + 2)            \n",
      "\n",
      " t₂ + 2))⋅(3⋅r + t₁ + 6))\n",
      "─────────────────────────\n",
      "                         \n",
      "                         \n",
      "\n",
      "\n",
      "t₁⋅t₂⋅(r + 1)⋅((3⋅(r + 2)⋅(4⋅r + t₁ + t₂ + 4) + (2⋅r + t₁ + 2)⋅(2⋅r + t₁ + t₂ \n",
      "──────────────────────────────────────────────────────────────────────────────\n",
      "                                                6⋅(r + 3)⋅(2⋅r + t₁ + 2)⋅(2⋅r \n",
      "\n",
      "+ 2))⋅(3⋅r + t₂ + 6) + (3⋅(r + 2)⋅(4⋅r + t₁ + t₂ + 4) + (2⋅r + t₂ + 2)⋅(2⋅r + \n",
      "──────────────────────────────────────────────────────────────────────────────\n",
      "+ t₂ + 2)⋅(3⋅r + t₁ + 6)⋅(3⋅r + t₂ + 6)⋅(2⋅r + t₁ + t₂ + 2)                   \n",
      "\n",
      "t₁ + t₂ + 2))⋅(3⋅r + t₁ + 6))\n",
      "─────────────────────────────\n",
      "                             \n"
     ]
    }
   ],
   "source": [
    "n = 3\n",
    "k = 3\n",
    "theta, theta1, theta2, t1,t2 = sympy.symbols(r'\\theta \\theta_1 \\theta_2 t1 t2')\n",
    "r, rho = sympy.symbols(r'r \\rho')\n",
    "\n",
    "sympy.pprint(P_omega_k(k,n,r))\n",
    "print '\\n'\n",
    "sympy.pprint(P_omega_toN(n,r))\n",
    "print '\\n'\n",
    "sympy.pprint(sympy.simplify(P_omegea_vis_k(k,n,t1,t2,r)))\n",
    "print '\\n'\n",
    "sympy.pprint(sympy.simplify(P_omega_vis(n,t1,t2,r)))\n",
    "print '\\n'\n",
    "sympy.pprint(sympy.simplify(P_omega_vis_conditioned(n,t1,t2,r)))"
   ]
  },
  {
   "cell_type": "code",
   "execution_count": 17,
   "metadata": {
    "collapsed": true,
    "deletable": true,
    "editable": true
   },
   "outputs": [],
   "source": [
    "p_3 = P_omega_vis(3,theta1,theta2,rho)\n",
    "p_3_star = P_omega_vis_conditioned(3,theta1,theta2,rho)\n",
    "p_3_symm = P_omega_vis(3,theta/2,theta/2,rho)\n",
    "p_3_star_symm = P_omega_vis_conditioned(3,theta/2,theta/2,rho)"
   ]
  },
  {
   "cell_type": "code",
   "execution_count": 18,
   "metadata": {
    "collapsed": false,
    "deletable": true,
    "editable": true
   },
   "outputs": [
    {
     "name": "stdout",
     "output_type": "stream",
     "text": [
      "\\frac{\\rho}{\\left(\\rho + 2\\right) \\left(2 \\rho + 6\\right)} \\left(\\frac{1}{\\frac{3 \\rho}{2} + \\frac{\\theta_2}{2} + 3} \\left(\\frac{\\theta_1 \\theta_2}{2 \\left(\\rho + 1\\right) \\left(\\frac{3 \\rho}{2} + 3\\right) \\left(\\rho + \\frac{\\theta_1}{2} + 1\\right)} + \\frac{1}{\\rho + \\frac{\\theta_1}{2} + \\frac{\\theta_2}{2} + 1} \\left(\\frac{\\theta_1 \\theta_2}{2 \\left(\\rho + 1\\right) \\left(\\rho + \\frac{\\theta_2}{2} + 1\\right)} + \\frac{\\theta_1 \\theta_2}{2 \\left(\\rho + 1\\right) \\left(\\rho + \\frac{\\theta_1}{2} + 1\\right)}\\right)\\right) + \\frac{1}{\\frac{3 \\rho}{2} + \\frac{\\theta_1}{2} + 3} \\left(\\frac{\\theta_1 \\theta_2}{2 \\left(\\rho + 1\\right) \\left(\\frac{3 \\rho}{2} + 3\\right) \\left(\\rho + \\frac{\\theta_2}{2} + 1\\right)} + \\frac{1}{\\rho + \\frac{\\theta_1}{2} + \\frac{\\theta_2}{2} + 1} \\left(\\frac{\\theta_1 \\theta_2}{2 \\left(\\rho + 1\\right) \\left(\\rho + \\frac{\\theta_2}{2} + 1\\right)} + \\frac{\\theta_1 \\theta_2}{2 \\left(\\rho + 1\\right) \\left(\\rho + \\frac{\\theta_1}{2} + 1\\right)}\\right)\\right)\\right) \n",
      "\n",
      "\n",
      "\\frac{2 \\rho \\theta_1 \\theta_2 \\left(\\left(3 \\left(\\rho + 2\\right) \\left(4 \\rho + \\theta_1 + \\theta_2 + 4\\right) + \\left(2 \\rho + \\theta_1 + 2\\right) \\left(2 \\rho + \\theta_1 + \\theta_2 + 2\\right)\\right) \\left(3 \\rho + \\theta_2 + 6\\right) + \\left(3 \\left(\\rho + 2\\right) \\left(4 \\rho + \\theta_1 + \\theta_2 + 4\\right) + \\left(2 \\rho + \\theta_2 + 2\\right) \\left(2 \\rho + \\theta_1 + \\theta_2 + 2\\right)\\right) \\left(3 \\rho + \\theta_1 + 6\\right)\\right)}{3 \\left(\\rho + 1\\right) \\left(\\rho + 2\\right)^{2} \\left(\\rho + 3\\right) \\left(2 \\rho + \\theta_1 + 2\\right) \\left(2 \\rho + \\theta_2 + 2\\right) \\left(3 \\rho + \\theta_1 + 6\\right) \\left(3 \\rho + \\theta_2 + 6\\right) \\left(2 \\rho + \\theta_1 + \\theta_2 + 2\\right)} \n",
      "\n",
      "\n",
      "\\frac{4 \\rho}{\\left(\\rho + 2\\right) \\left(2 \\rho + 6\\right) \\left(\\frac{3 \\rho}{2} + \\frac{\\theta}{4} + 3\\right)} \\left(\\frac{\\theta^{2}}{8 \\left(\\rho + 1\\right) \\left(\\rho + \\frac{\\theta}{4} + 1\\right) \\left(\\rho + \\frac{\\theta}{2} + 1\\right)} + \\frac{\\theta^{2}}{16 \\left(\\rho + 1\\right) \\left(\\frac{3 \\rho}{2} + 3\\right) \\left(\\rho + \\frac{\\theta}{4} + 1\\right)}\\right) \n",
      "\n",
      "\n",
      "\\frac{4 \\rho \\theta^{2} \\left(8 \\rho + \\theta + 14\\right)}{3 \\left(\\rho + 1\\right) \\left(\\rho + 2\\right)^{2} \\left(\\rho + 3\\right) \\left(2 \\rho + \\theta + 2\\right) \\left(4 \\rho + \\theta + 4\\right) \\left(6 \\rho + \\theta + 12\\right)} \n",
      "\n",
      "\n",
      "\\frac{\\theta_1 \\theta_2 \\left(\\rho + 1\\right) \\left(\\left(3 \\left(\\rho + 2\\right) \\left(4 \\rho + \\theta_1 + \\theta_2 + 4\\right) + \\left(2 \\rho + \\theta_1 + 2\\right) \\left(2 \\rho + \\theta_1 + \\theta_2 + 2\\right)\\right) \\left(3 \\rho + \\theta_2 + 6\\right) + \\left(3 \\left(\\rho + 2\\right) \\left(4 \\rho + \\theta_1 + \\theta_2 + 4\\right) + \\left(2 \\rho + \\theta_2 + 2\\right) \\left(2 \\rho + \\theta_1 + \\theta_2 + 2\\right)\\right) \\left(3 \\rho + \\theta_1 + 6\\right)\\right)}{6 \\left(\\rho + 3\\right) \\left(2 \\rho + \\theta_1 + 2\\right) \\left(2 \\rho + \\theta_2 + 2\\right) \\left(3 \\rho + \\theta_1 + 6\\right) \\left(3 \\rho + \\theta_2 + 6\\right) \\left(2 \\rho + \\theta_1 + \\theta_2 + 2\\right)} \n",
      "\n",
      "\n",
      "\\frac{\\theta^{2} \\left(\\rho + 1\\right) \\left(8 \\rho + \\theta + 14\\right)}{3 \\left(\\rho + 3\\right) \\left(2 \\rho + \\theta + 2\\right) \\left(4 \\rho + \\theta + 4\\right) \\left(6 \\rho + \\theta + 12\\right)}\n"
     ]
    }
   ],
   "source": [
    "print sympy.latex(p_3),'\\n\\n'\n",
    "print sympy.latex(p_3.simplify()),'\\n\\n'\n",
    "print sympy.latex(p_3_symm),'\\n\\n'\n",
    "print sympy.latex(p_3_symm.simplify()),'\\n\\n'\n",
    "\n",
    "print sympy.latex(p_3_star.simplify()),'\\n\\n'\n",
    "print sympy.latex(p_3_star_symm.simplify())"
   ]
  },
  {
   "cell_type": "markdown",
   "metadata": {
    "deletable": true,
    "editable": true
   },
   "source": [
    "### We compute values for a table of examples\n",
    "Currently table 1 in my note."
   ]
  },
  {
   "cell_type": "code",
   "execution_count": 19,
   "metadata": {
    "collapsed": false,
    "deletable": true,
    "editable": true
   },
   "outputs": [
    {
     "name": "stdout",
     "output_type": "stream",
     "text": [
      "n = 3, r = 1,t1 = 0.5,t2 = 0.5\n",
      "P(Omega 2 to 3) :\t0.11111\n",
      "P(Omega_vis) :\t0.00049816\n",
      "P( Omega_vis | Omega 2 to 3) :\t0.0044834\n",
      "\n",
      "n = 3, r = 1,t1 = 0.01,t2 = 0.99\n",
      "P(Omega 2 to 3) :\t0.11111\n",
      "P(Omega_vis) :\t1.9993e-05\n",
      "P( Omega_vis | Omega 2 to 3) :\t0.00017993\n",
      "\n",
      "n = 3, r = 1e-06,t1 = 1e+06,t2 = 1e+06\n",
      "P(Omega 2 to 3) :\t1e-06\n",
      "P(Omega_vis) :\t1.1111e-07\n",
      "P( Omega_vis | Omega 2 to 3) :\t0.11111\n",
      "\n",
      "n = 10, r = 1,t1 = 0.5,t2 = 0.5\n",
      "P(Omega 2 to 10) :\t0.1429\n",
      "P(Omega_vis) :\t0.0017055\n",
      "P( Omega_vis | Omega 2 to 10) :\t0.011935\n",
      "\n",
      "n = 10, r = 1,t1 = 0.01,t2 = 0.99\n",
      "P(Omega 2 to 10) :\t0.1429\n",
      "P(Omega_vis) :\t6.8446e-05\n",
      "P( Omega_vis | Omega 2 to 10) :\t0.00047899\n",
      "\n",
      "n = 10, r = 1e-06,t1 = 1e+06,t2 = 1e+06\n",
      "P(Omega 2 to 10) :\t2.7178e-06\n",
      "P(Omega_vis) :\t8.1078e-07\n",
      "P( Omega_vis | Omega 2 to 10) :\t0.29832\n",
      "\n",
      "n = 20, r = 1,t1 = 0.5,t2 = 0.5\n",
      "P(Omega 2 to 20) :\t0.10489\n",
      "P(Omega_vis) :\t0.0016813\n",
      "P( Omega_vis | Omega 2 to 20) :\t0.016029\n",
      "\n",
      "n = 20, r = 1,t1 = 0.01,t2 = 0.99\n",
      "P(Omega 2 to 20) :\t0.10489\n",
      "P(Omega_vis) :\t6.7479e-05\n",
      "P( Omega_vis | Omega 2 to 20) :\t0.00064335\n",
      "\n",
      "n = 20, r = 1e-06,t1 = 1e+06,t2 = 1e+06\n",
      "P(Omega 2 to 20) :\t3.4951e-06\n",
      "P(Omega_vis) :\t1.3763e-06\n",
      "P( Omega_vis | Omega 2 to 20) :\t0.39378\n",
      "\n",
      "n = 30, r = 1,t1 = 0.5,t2 = 0.5\n",
      "P(Omega 2 to 30) :\t0.083166\n",
      "P(Omega_vis) :\t0.0015065\n",
      "P( Omega_vis | Omega 2 to 30) :\t0.018115\n",
      "\n",
      "n = 30, r = 1,t1 = 0.01,t2 = 0.99\n",
      "P(Omega 2 to 30) :\t0.083166\n",
      "P(Omega_vis) :\t6.0468e-05\n",
      "P( Omega_vis | Omega 2 to 30) :\t0.00072707\n",
      "\n",
      "n = 30, r = 1e-06,t1 = 1e+06,t2 = 1e+06\n",
      "P(Omega 2 to 30) :\t3.9272e-06\n",
      "P(Omega_vis) :\t1.7373e-06\n",
      "P( Omega_vis | Omega 2 to 30) :\t0.44237\n",
      "\n",
      "n = 40, r = 1,t1 = 0.5,t2 = 0.5\n",
      "P(Omega 2 to 40) :\t0.069464\n",
      "P(Omega_vis) :\t0.0013504\n",
      "P( Omega_vis | Omega 2 to 40) :\t0.01944\n",
      "\n",
      "n = 40, r = 1,t1 = 0.01,t2 = 0.99\n",
      "P(Omega 2 to 40) :\t0.069464\n",
      "P(Omega_vis) :\t5.42e-05\n",
      "P( Omega_vis | Omega 2 to 40) :\t0.00078027\n",
      "\n",
      "n = 40, r = 1e-06,t1 = 1e+06,t2 = 1e+06\n",
      "P(Omega 2 to 40) :\t4.2279e-06\n",
      "P(Omega_vis) :\t2.0023e-06\n",
      "P( Omega_vis | Omega 2 to 40) :\t0.4736\n",
      "\n",
      "n = 50, r = 1,t1 = 0.5,t2 = 0.5\n",
      "P(Omega 2 to 50) :\t0.059984\n",
      "P(Omega_vis) :\t0.0012225\n",
      "P( Omega_vis | Omega 2 to 50) :\t0.020381\n",
      "\n",
      "n = 50, r = 1,t1 = 0.01,t2 = 0.99\n",
      "P(Omega 2 to 50) :\t0.059984\n",
      "P(Omega_vis) :\t4.907e-05\n",
      "P( Omega_vis | Omega 2 to 50) :\t0.00081805\n",
      "\n",
      "n = 50, r = 1e-06,t1 = 1e+06,t2 = 1e+06\n",
      "P(Omega 2 to 50) :\t4.4588e-06\n",
      "P(Omega_vis) :\t2.2117e-06\n",
      "P( Omega_vis | Omega 2 to 50) :\t0.49604\n",
      "\n"
     ]
    }
   ],
   "source": [
    "examples = [(n,r,t1,t2) for n in (3,10,20,30,40,50) for (r,t1,t2) in [(1.0,0.5,0.5),(1.0,0.01,0.99),(1e-6,1e6,1e6)]]\n",
    "results = []\n",
    "for ex in examples:\n",
    "    n,r,t1,t2 = ex\n",
    "    print 'n = %i, r = %.3g,t1 = %.3g,t2 = %.3g'%ex\n",
    "\n",
    "    ex_res = []\n",
    "    \n",
    "    ex_res.append(P_omega_toN(n,r))\n",
    "    print 'P(Omega 2 to %i) :\\t%.5g'%(n,ex_res[-1])\n",
    "    \n",
    "    ex_res.append(P_omega_vis(n,t1,t2,r))\n",
    "    print 'P(Omega_vis) :\\t%.5g'%(ex_res[-1])\n",
    "    \n",
    "    ex_res.append(ex_res[1]/ex_res[0])\n",
    "    print 'P( Omega_vis | Omega 2 to %i) :\\t%.5g'%(n,ex_res[-1])\n",
    "    \n",
    "    print ''\n",
    "    \n",
    "    results.append(ex_res)"
   ]
  },
  {
   "cell_type": "code",
   "execution_count": 20,
   "metadata": {
    "collapsed": true,
    "deletable": true,
    "editable": true
   },
   "outputs": [],
   "source": [
    "l = []"
   ]
  },
  {
   "cell_type": "code",
   "execution_count": 21,
   "metadata": {
    "collapsed": false,
    "deletable": true,
    "editable": true
   },
   "outputs": [],
   "source": [
    "l.append(5)"
   ]
  },
  {
   "cell_type": "code",
   "execution_count": 22,
   "metadata": {
    "collapsed": false,
    "deletable": true,
    "editable": true
   },
   "outputs": [
    {
     "data": {
      "text/plain": [
       "[5]"
      ]
     },
     "execution_count": 22,
     "metadata": {},
     "output_type": "execute_result"
    }
   ],
   "source": [
    "l"
   ]
  },
  {
   "cell_type": "code",
   "execution_count": 56,
   "metadata": {
    "collapsed": false
   },
   "outputs": [],
   "source": [
    "r = sympy.symbols('r')"
   ]
  },
  {
   "cell_type": "code",
   "execution_count": 69,
   "metadata": {
    "collapsed": false,
    "deletable": true,
    "editable": true
   },
   "outputs": [],
   "source": [
    "q = precompute_q(20,theta1,theta2,rho)"
   ]
  },
  {
   "cell_type": "code",
   "execution_count": 74,
   "metadata": {
    "collapsed": false
   },
   "outputs": [
    {
     "name": "stdout",
     "output_type": "stream",
     "text": [
      "\\frac{4 \\theta_1 \\theta_2}{5 \\left(\\rho + 1\\right) \\left(\\rho + 2\\right) \\left(\\rho + 3\\right) \\left(\\rho + 4\\right) \\left(\\rho + 5\\right) \\left(2 \\rho + \\theta_1 + 2\\right) \\left(2 \\rho + \\theta_2 + 2\\right) \\left(3 \\rho + \\theta_1 + 6\\right) \\left(3 \\rho + \\theta_2 + 6\\right) \\left(4 \\rho + \\theta_1 + 12\\right) \\left(4 \\rho + \\theta_2 + 12\\right) \\left(5 \\rho + \\theta_1 + 20\\right) \\left(5 \\rho + \\theta_2 + 20\\right) \\left(2 \\rho + \\theta_1 + \\theta_2 + 2\\right) \\left(3 \\rho + \\theta_1 + \\theta_2 + 6\\right) \\left(4 \\rho + \\theta_1 + \\theta_2 + 12\\right)} \\left(\\left(5 \\rho + \\theta_1 + 20\\right) \\left(5 \\rho + \\theta_2 + 20\\right) \\left(2 \\left(\\left(3 \\left(\\rho + 2\\right) \\left(4 \\rho + \\theta_1 + \\theta_2 + 4\\right) + \\left(2 \\rho + \\theta_1 + 2\\right) \\left(2 \\rho + \\theta_1 + \\theta_2 + 2\\right)\\right) \\left(3 \\rho + \\theta_2 + 6\\right) + \\left(3 \\left(\\rho + 2\\right) \\left(4 \\rho + \\theta_1 + \\theta_2 + 4\\right) + \\left(2 \\rho + \\theta_2 + 2\\right) \\left(2 \\rho + \\theta_1 + \\theta_2 + 2\\right)\\right) \\left(3 \\rho + \\theta_1 + 6\\right)\\right) \\left(4 \\rho + \\theta_1 + 12\\right) \\left(4 \\rho + \\theta_2 + 12\\right) \\left(3 \\rho + \\theta_1 + \\theta_2 + 6\\right) + 3 \\left(4 \\rho + \\theta_1 + 12\\right) \\left(4 \\left(\\rho + 3\\right) \\left(3 \\left(\\rho + 2\\right) \\left(4 \\rho + \\theta_1 + \\theta_2 + 4\\right) + \\left(2 \\rho + \\theta_2 + 2\\right) \\left(2 \\rho + \\theta_1 + \\theta_2 + 2\\right)\\right) \\left(3 \\rho + \\theta_1 + 6\\right) \\left(3 \\rho + \\theta_1 + \\theta_2 + 6\\right) + 8 \\left(\\rho + 3\\right) \\left(2 \\left(\\rho + 2\\right) \\left(3 \\rho + \\theta_1 + 6\\right) \\left(3 \\rho + \\theta_2 + 6\\right) \\left(4 \\rho + \\theta_1 + \\theta_2 + 4\\right) + \\left(2 \\rho + \\theta_1 + 2\\right) \\left(3 \\rho + \\theta_1 + 6\\right) \\left(4 \\rho + \\theta_2 + 6\\right) \\left(2 \\rho + \\theta_1 + \\theta_2 + 2\\right) + \\left(2 \\rho + \\theta_2 + 2\\right) \\left(3 \\rho + \\theta_2 + 6\\right) \\left(4 \\rho + \\theta_1 + 6\\right) \\left(2 \\rho + \\theta_1 + \\theta_2 + 2\\right)\\right) + \\left(2 \\rho + \\theta_2 + 2\\right) \\left(3 \\rho + \\theta_2 + 6\\right) \\left(11 \\rho + 3 \\theta_1 + 18\\right) \\left(2 \\rho + \\theta_1 + \\theta_2 + 2\\right) \\left(3 \\rho + \\theta_1 + \\theta_2 + 6\\right)\\right) + 3 \\left(4 \\rho + \\theta_2 + 12\\right) \\left(4 \\left(\\rho + 3\\right) \\left(3 \\left(\\rho + 2\\right) \\left(4 \\rho + \\theta_1 + \\theta_2 + 4\\right) + \\left(2 \\rho + \\theta_1 + 2\\right) \\left(2 \\rho + \\theta_1 + \\theta_2 + 2\\right)\\right) \\left(3 \\rho + \\theta_2 + 6\\right) \\left(3 \\rho + \\theta_1 + \\theta_2 + 6\\right) + 8 \\left(\\rho + 3\\right) \\left(2 \\left(\\rho + 2\\right) \\left(3 \\rho + \\theta_1 + 6\\right) \\left(3 \\rho + \\theta_2 + 6\\right) \\left(4 \\rho + \\theta_1 + \\theta_2 + 4\\right) + \\left(2 \\rho + \\theta_1 + 2\\right) \\left(3 \\rho + \\theta_1 + 6\\right) \\left(4 \\rho + \\theta_2 + 6\\right) \\left(2 \\rho + \\theta_1 + \\theta_2 + 2\\right) + \\left(2 \\rho + \\theta_2 + 2\\right) \\left(3 \\rho + \\theta_2 + 6\\right) \\left(4 \\rho + \\theta_1 + 6\\right) \\left(2 \\rho + \\theta_1 + \\theta_2 + 2\\right)\\right) + \\left(2 \\rho + \\theta_1 + 2\\right) \\left(3 \\rho + \\theta_1 + 6\\right) \\left(11 \\rho + 3 \\theta_2 + 18\\right) \\left(2 \\rho + \\theta_1 + \\theta_2 + 2\\right) \\left(3 \\rho + \\theta_1 + \\theta_2 + 6\\right)\\right)\\right) \\left(4 \\rho + \\theta_1 + \\theta_2 + 12\\right) + 4 \\left(5 \\rho + \\theta_1 + 20\\right) \\left(5 \\left(\\rho + 4\\right) \\left(4 \\rho + \\theta_1 + 12\\right) \\left(4 \\left(\\rho + 3\\right) \\left(3 \\left(\\rho + 2\\right) \\left(4 \\rho + \\theta_1 + \\theta_2 + 4\\right) + \\left(2 \\rho + \\theta_2 + 2\\right) \\left(2 \\rho + \\theta_1 + \\theta_2 + 2\\right)\\right) \\left(3 \\rho + \\theta_1 + 6\\right) \\left(3 \\rho + \\theta_1 + \\theta_2 + 6\\right) + 8 \\left(\\rho + 3\\right) \\left(2 \\left(\\rho + 2\\right) \\left(3 \\rho + \\theta_1 + 6\\right) \\left(3 \\rho + \\theta_2 + 6\\right) \\left(4 \\rho + \\theta_1 + \\theta_2 + 4\\right) + \\left(2 \\rho + \\theta_1 + 2\\right) \\left(3 \\rho + \\theta_1 + 6\\right) \\left(4 \\rho + \\theta_2 + 6\\right) \\left(2 \\rho + \\theta_1 + \\theta_2 + 2\\right) + \\left(2 \\rho + \\theta_2 + 2\\right) \\left(3 \\rho + \\theta_2 + 6\\right) \\left(4 \\rho + \\theta_1 + 6\\right) \\left(2 \\rho + \\theta_1 + \\theta_2 + 2\\right)\\right) + \\left(2 \\rho + \\theta_2 + 2\\right) \\left(3 \\rho + \\theta_2 + 6\\right) \\left(11 \\rho + 3 \\theta_1 + 18\\right) \\left(2 \\rho + \\theta_1 + \\theta_2 + 2\\right) \\left(3 \\rho + \\theta_1 + \\theta_2 + 6\\right)\\right) \\left(4 \\rho + \\theta_1 + \\theta_2 + 12\\right) + 5 \\left(\\rho + 4\\right) \\left(10 \\left(\\rho + 3\\right) \\left(4 \\rho + \\theta_1 + 12\\right) \\left(4 \\rho + \\theta_2 + 12\\right) \\left(2 \\left(\\rho + 2\\right) \\left(3 \\rho + \\theta_1 + 6\\right) \\left(3 \\rho + \\theta_2 + 6\\right) \\left(4 \\rho + \\theta_1 + \\theta_2 + 4\\right) + \\left(2 \\rho + \\theta_1 + 2\\right) \\left(3 \\rho + \\theta_1 + 6\\right) \\left(4 \\rho + \\theta_2 + 6\\right) \\left(2 \\rho + \\theta_1 + \\theta_2 + 2\\right) + \\left(2 \\rho + \\theta_2 + 2\\right) \\left(3 \\rho + \\theta_2 + 6\\right) \\left(4 \\rho + \\theta_1 + 6\\right) \\left(2 \\rho + \\theta_1 + \\theta_2 + 2\\right)\\right) + \\left(10 \\left(\\rho + 3\\right) \\left(4 \\rho + \\theta_1 + 6\\right) + 3 \\left(2 \\rho + \\theta_1 + 2\\right) \\left(3 \\rho + \\theta_1 + 6\\right)\\right) \\left(2 \\rho + \\theta_2 + 2\\right) \\left(3 \\rho + \\theta_2 + 6\\right) \\left(4 \\rho + \\theta_2 + 12\\right) \\left(2 \\rho + \\theta_1 + \\theta_2 + 2\\right) \\left(3 \\rho + \\theta_1 + \\theta_2 + 6\\right) + \\left(10 \\left(\\rho + 3\\right) \\left(4 \\rho + \\theta_2 + 6\\right) + 3 \\left(2 \\rho + \\theta_2 + 2\\right) \\left(3 \\rho + \\theta_2 + 6\\right)\\right) \\left(2 \\rho + \\theta_1 + 2\\right) \\left(3 \\rho + \\theta_1 + 6\\right) \\left(4 \\rho + \\theta_1 + 12\\right) \\left(2 \\rho + \\theta_1 + \\theta_2 + 2\\right) \\left(3 \\rho + \\theta_1 + \\theta_2 + 6\\right)\\right) + \\left(2 \\rho + \\theta_2 + 2\\right) \\left(3 \\rho + \\theta_2 + 6\\right) \\left(4 \\rho + \\theta_2 + 12\\right) \\left(10 \\left(\\rho + 3\\right) \\left(4 \\rho + \\theta_1 + 6\\right) + 3 \\left(2 \\rho + \\theta_1 + 2\\right) \\left(3 \\rho + \\theta_1 + 6\\right) + \\left(4 \\rho + \\theta_1 + 12\\right) \\left(11 \\rho + 3 \\theta_1 + 18\\right)\\right) \\left(2 \\rho + \\theta_1 + \\theta_2 + 2\\right) \\left(3 \\rho + \\theta_1 + \\theta_2 + 6\\right) \\left(4 \\rho + \\theta_1 + \\theta_2 + 12\\right)\\right) + 4 \\left(5 \\rho + \\theta_2 + 20\\right) \\left(5 \\left(\\rho + 4\\right) \\left(4 \\rho + \\theta_2 + 12\\right) \\left(4 \\left(\\rho + 3\\right) \\left(3 \\left(\\rho + 2\\right) \\left(4 \\rho + \\theta_1 + \\theta_2 + 4\\right) + \\left(2 \\rho + \\theta_1 + 2\\right) \\left(2 \\rho + \\theta_1 + \\theta_2 + 2\\right)\\right) \\left(3 \\rho + \\theta_2 + 6\\right) \\left(3 \\rho + \\theta_1 + \\theta_2 + 6\\right) + 8 \\left(\\rho + 3\\right) \\left(2 \\left(\\rho + 2\\right) \\left(3 \\rho + \\theta_1 + 6\\right) \\left(3 \\rho + \\theta_2 + 6\\right) \\left(4 \\rho + \\theta_1 + \\theta_2 + 4\\right) + \\left(2 \\rho + \\theta_1 + 2\\right) \\left(3 \\rho + \\theta_1 + 6\\right) \\left(4 \\rho + \\theta_2 + 6\\right) \\left(2 \\rho + \\theta_1 + \\theta_2 + 2\\right) + \\left(2 \\rho + \\theta_2 + 2\\right) \\left(3 \\rho + \\theta_2 + 6\\right) \\left(4 \\rho + \\theta_1 + 6\\right) \\left(2 \\rho + \\theta_1 + \\theta_2 + 2\\right)\\right) + \\left(2 \\rho + \\theta_1 + 2\\right) \\left(3 \\rho + \\theta_1 + 6\\right) \\left(11 \\rho + 3 \\theta_2 + 18\\right) \\left(2 \\rho + \\theta_1 + \\theta_2 + 2\\right) \\left(3 \\rho + \\theta_1 + \\theta_2 + 6\\right)\\right) \\left(4 \\rho + \\theta_1 + \\theta_2 + 12\\right) + 5 \\left(\\rho + 4\\right) \\left(10 \\left(\\rho + 3\\right) \\left(4 \\rho + \\theta_1 + 12\\right) \\left(4 \\rho + \\theta_2 + 12\\right) \\left(2 \\left(\\rho + 2\\right) \\left(3 \\rho + \\theta_1 + 6\\right) \\left(3 \\rho + \\theta_2 + 6\\right) \\left(4 \\rho + \\theta_1 + \\theta_2 + 4\\right) + \\left(2 \\rho + \\theta_1 + 2\\right) \\left(3 \\rho + \\theta_1 + 6\\right) \\left(4 \\rho + \\theta_2 + 6\\right) \\left(2 \\rho + \\theta_1 + \\theta_2 + 2\\right) + \\left(2 \\rho + \\theta_2 + 2\\right) \\left(3 \\rho + \\theta_2 + 6\\right) \\left(4 \\rho + \\theta_1 + 6\\right) \\left(2 \\rho + \\theta_1 + \\theta_2 + 2\\right)\\right) + \\left(10 \\left(\\rho + 3\\right) \\left(4 \\rho + \\theta_1 + 6\\right) + 3 \\left(2 \\rho + \\theta_1 + 2\\right) \\left(3 \\rho + \\theta_1 + 6\\right)\\right) \\left(2 \\rho + \\theta_2 + 2\\right) \\left(3 \\rho + \\theta_2 + 6\\right) \\left(4 \\rho + \\theta_2 + 12\\right) \\left(2 \\rho + \\theta_1 + \\theta_2 + 2\\right) \\left(3 \\rho + \\theta_1 + \\theta_2 + 6\\right) + \\left(10 \\left(\\rho + 3\\right) \\left(4 \\rho + \\theta_2 + 6\\right) + 3 \\left(2 \\rho + \\theta_2 + 2\\right) \\left(3 \\rho + \\theta_2 + 6\\right)\\right) \\left(2 \\rho + \\theta_1 + 2\\right) \\left(3 \\rho + \\theta_1 + 6\\right) \\left(4 \\rho + \\theta_1 + 12\\right) \\left(2 \\rho + \\theta_1 + \\theta_2 + 2\\right) \\left(3 \\rho + \\theta_1 + \\theta_2 + 6\\right)\\right) + \\left(2 \\rho + \\theta_1 + 2\\right) \\left(3 \\rho + \\theta_1 + 6\\right) \\left(4 \\rho + \\theta_1 + 12\\right) \\left(10 \\left(\\rho + 3\\right) \\left(4 \\rho + \\theta_2 + 6\\right) + 3 \\left(2 \\rho + \\theta_2 + 2\\right) \\left(3 \\rho + \\theta_2 + 6\\right) + \\left(4 \\rho + \\theta_2 + 12\\right) \\left(11 \\rho + 3 \\theta_2 + 18\\right)\\right) \\left(2 \\rho + \\theta_1 + \\theta_2 + 2\\right) \\left(3 \\rho + \\theta_1 + \\theta_2 + 6\\right) \\left(4 \\rho + \\theta_1 + \\theta_2 + 12\\right)\\right)\\right)\n"
     ]
    }
   ],
   "source": [
    "print sympy.latex(sympy.simplify(q[(6,0,0)]))"
   ]
  },
  {
   "cell_type": "code",
   "execution_count": 67,
   "metadata": {
    "collapsed": false
   },
   "outputs": [
    {
     "data": {
      "image/png": "[encoded data removed]",
      "text/latex": [
       "$$\\frac{\\theta_1 \\theta_2 \\left(4 \\rho + \\theta_1 + \\theta_2 + 4\\right)}{\\left(\\rho + 1\\right) \\left(2 \\rho + \\theta_1 + 2\\right) \\left(2 \\rho + \\theta_2 + 2\\right) \\left(2 \\rho + \\theta_1 + \\theta_2 + 2\\right)}$$"
      ],
      "text/plain": [
       "                     \\theta₁⋅\\theta₂⋅(4⋅\\rho + \\theta₁ + \\theta₂ + 4)         \n",
       "──────────────────────────────────────────────────────────────────────────────\n",
       "(\\rho + 1)⋅(2⋅\\rho + \\theta₁ + 2)⋅(2⋅\\rho + \\theta₂ + 2)⋅(2⋅\\rho + \\theta₁ + \\\n",
       "\n",
       "           \n",
       "───────────\n",
       "theta₂ + 2)"
      ]
     },
     "execution_count": 67,
     "metadata": {},
     "output_type": "execute_result"
    }
   ],
   "source": [
    "sympy.simplify(q[(2,1,1)])"
   ]
  },
  {
   "cell_type": "code",
   "execution_count": 68,
   "metadata": {
    "collapsed": false
   },
   "outputs": [
    {
     "data": {
      "image/png": "[encoded data removed]",
      "text/latex": [
       "$$\\frac{1}{\\frac{3 \\rho}{2} + \\frac{\\theta_1}{2} + 3} \\left(\\frac{\\theta_1 \\theta_2}{4 \\left(\\rho + 1\\right) \\left(\\frac{3 \\rho}{2} + 3\\right) \\left(\\rho + \\frac{\\theta_2}{2} + 1\\right)} + \\frac{1}{\\rho + \\frac{\\theta_1}{2} + \\frac{\\theta_2}{2} + 1} \\left(\\frac{\\theta_1 \\theta_2}{4 \\left(\\rho + 1\\right) \\left(\\rho + \\frac{\\theta_2}{2} + 1\\right)} + \\frac{\\theta_1 \\theta_2}{4 \\left(\\rho + 1\\right) \\left(\\rho + \\frac{\\theta_1}{2} + 1\\right)}\\right)\\right)$$"
      ],
      "text/plain": [
       "                                                          \\theta₁⋅\\theta₂     \n",
       "                                                 ─────────────────────────────\n",
       "                                                              ⎛       \\theta₂ \n",
       "                                                 4⋅(\\rho + 1)⋅⎜\\rho + ─────── \n",
       "               \\theta₁⋅\\theta₂                                ⎝          2    \n",
       "────────────────────────────────────────────── + ─────────────────────────────\n",
       "             ⎛3⋅\\rho    ⎞ ⎛       \\theta₂    ⎞                               \\\n",
       "4⋅(\\rho + 1)⋅⎜────── + 3⎟⋅⎜\\rho + ─────── + 1⎟                        \\rho + ─\n",
       "             ⎝  2       ⎠ ⎝          2       ⎠                                \n",
       "──────────────────────────────────────────────────────────────────────────────\n",
       "                                                 3⋅\\rho   \\theta₁             \n",
       "                                                 ────── + ─────── + 3         \n",
       "                                                   2         2                \n",
       "\n",
       "                \\theta₁⋅\\theta₂         \n",
       "──── + ─────────────────────────────────\n",
       "   ⎞                ⎛       \\theta₁    ⎞\n",
       "+ 1⎟   4⋅(\\rho + 1)⋅⎜\\rho + ─────── + 1⎟\n",
       "   ⎠                ⎝          2       ⎠\n",
       "────────────────────────────────────────\n",
       "theta₁   \\theta₂                        \n",
       "────── + ─────── + 1                    \n",
       "  2         2                           \n",
       "────────────────────────────────────────\n",
       "                                        \n",
       "                                        \n",
       "                                        "
      ]
     },
     "execution_count": 68,
     "metadata": {},
     "output_type": "execute_result"
    }
   ],
   "source": [
    "q[(3,1,0)]"
   ]
  },
  {
   "cell_type": "code",
   "execution_count": 60,
   "metadata": {
    "collapsed": false
   },
   "outputs": [
    {
     "data": {
      "image/png": "[encoded data removed]",
      "text/latex": [
       "$$- \\frac{2 \\theta^{2} r \\left(r - 1\\right) \\left(3 \\left(\\rho + 2\\right) \\left(4 \\rho + \\theta r - \\theta \\left(r - 1\\right) + 4\\right) + \\left(2 \\rho + \\theta r + 2\\right) \\left(2 \\rho + \\theta r - \\theta \\left(r - 1\\right) + 2\\right)\\right)}{3 \\left(\\rho + 1\\right) \\left(\\rho + 2\\right) \\left(2 \\rho + \\theta r + 2\\right) \\left(2 \\rho - \\theta \\left(r - 1\\right) + 2\\right) \\left(3 \\rho + \\theta r + 6\\right) \\left(2 \\rho + \\theta r - \\theta \\left(r - 1\\right) + 2\\right)}$$"
      ],
      "text/plain": [
       "         2                                                                    \n",
       "-2⋅\\theta ⋅r⋅(r - 1)⋅(3⋅(\\rho + 2)⋅(4⋅\\rho + \\theta⋅r - \\theta⋅(r - 1) + 4) + \n",
       "──────────────────────────────────────────────────────────────────────────────\n",
       " 3⋅(\\rho + 1)⋅(\\rho + 2)⋅(2⋅\\rho + \\theta⋅r + 2)⋅(2⋅\\rho - \\theta⋅(r - 1) + 2)\n",
       "\n",
       "                                                                  \n",
       "(2⋅\\rho + \\theta⋅r + 2)⋅(2⋅\\rho + \\theta⋅r - \\theta⋅(r - 1) + 2)) \n",
       "──────────────────────────────────────────────────────────────────\n",
       "⋅(3⋅\\rho + \\theta⋅r + 6)⋅(2⋅\\rho + \\theta⋅r - \\theta⋅(r - 1) + 2) "
      ]
     },
     "execution_count": 60,
     "metadata": {},
     "output_type": "execute_result"
    }
   ],
   "source": [
    "sympy.simplify(q[(3,1,0)])"
   ]
  },
  {
   "cell_type": "code",
   "execution_count": 53,
   "metadata": {
    "collapsed": false
   },
   "outputs": [
    {
     "data": {
      "image/png": "[encoded data removed]",
      "text/latex": [
       "$$\\frac{1}{\\frac{3 \\rho}{2} + \\frac{\\theta_2}{2} + 3} \\left(\\frac{\\theta_1 \\theta_2}{4 \\left(\\rho + 1\\right) \\left(\\frac{3 \\rho}{2} + 3\\right) \\left(\\rho + \\frac{\\theta_1}{2} + 1\\right)} + \\frac{1}{\\rho + \\frac{\\theta_1}{2} + \\frac{\\theta_2}{2} + 1} \\left(\\frac{\\theta_1 \\theta_2}{4 \\left(\\rho + 1\\right) \\left(\\rho + \\frac{\\theta_2}{2} + 1\\right)} + \\frac{\\theta_1 \\theta_2}{4 \\left(\\rho + 1\\right) \\left(\\rho + \\frac{\\theta_1}{2} + 1\\right)}\\right)\\right)$$"
      ],
      "text/plain": [
       "                                                          \\theta₁⋅\\theta₂     \n",
       "                                                 ─────────────────────────────\n",
       "                                                              ⎛       \\theta₂ \n",
       "                                                 4⋅(\\rho + 1)⋅⎜\\rho + ─────── \n",
       "               \\theta₁⋅\\theta₂                                ⎝          2    \n",
       "────────────────────────────────────────────── + ─────────────────────────────\n",
       "             ⎛3⋅\\rho    ⎞ ⎛       \\theta₁    ⎞                               \\\n",
       "4⋅(\\rho + 1)⋅⎜────── + 3⎟⋅⎜\\rho + ─────── + 1⎟                        \\rho + ─\n",
       "             ⎝  2       ⎠ ⎝          2       ⎠                                \n",
       "──────────────────────────────────────────────────────────────────────────────\n",
       "                                                 3⋅\\rho   \\theta₂             \n",
       "                                                 ────── + ─────── + 3         \n",
       "                                                   2         2                \n",
       "\n",
       "                \\theta₁⋅\\theta₂         \n",
       "──── + ─────────────────────────────────\n",
       "   ⎞                ⎛       \\theta₁    ⎞\n",
       "+ 1⎟   4⋅(\\rho + 1)⋅⎜\\rho + ─────── + 1⎟\n",
       "   ⎠                ⎝          2       ⎠\n",
       "────────────────────────────────────────\n",
       "theta₁   \\theta₂                        \n",
       "────── + ─────── + 1                    \n",
       "  2         2                           \n",
       "────────────────────────────────────────\n",
       "                                        \n",
       "                                        \n",
       "                                        "
      ]
     },
     "execution_count": 53,
     "metadata": {},
     "output_type": "execute_result"
    }
   ],
   "source": [
    "q[(3,0,1)]"
   ]
  },
  {
   "cell_type": "code",
   "execution_count": 54,
   "metadata": {
    "collapsed": false
   },
   "outputs": [
    {
     "data": {
      "image/png": "[encoded data removed]",
      "text/latex": [
       "$$\\frac{2 \\theta_1 \\theta_2 \\left(3 \\left(\\rho + 2\\right) \\left(4 \\rho + \\theta_1 + \\theta_2 + 4\\right) + \\left(2 \\rho + \\theta_2 + 2\\right) \\left(2 \\rho + \\theta_1 + \\theta_2 + 2\\right)\\right)}{3 \\left(\\rho + 1\\right) \\left(\\rho + 2\\right) \\left(2 \\rho + \\theta_1 + 2\\right) \\left(2 \\rho + \\theta_2 + 2\\right) \\left(3 \\rho + \\theta_2 + 6\\right) \\left(2 \\rho + \\theta_1 + \\theta_2 + 2\\right)}$$"
      ],
      "text/plain": [
       " 2⋅\\theta₁⋅\\theta₂⋅(3⋅(\\rho + 2)⋅(4⋅\\rho + \\theta₁ + \\theta₂ + 4) + (2⋅\\rho + \n",
       "──────────────────────────────────────────────────────────────────────────────\n",
       "3⋅(\\rho + 1)⋅(\\rho + 2)⋅(2⋅\\rho + \\theta₁ + 2)⋅(2⋅\\rho + \\theta₂ + 2)⋅(3⋅\\rho \n",
       "\n",
       "\\theta₂ + 2)⋅(2⋅\\rho + \\theta₁ + \\theta₂ + 2)) \n",
       "───────────────────────────────────────────────\n",
       "+ \\theta₂ + 6)⋅(2⋅\\rho + \\theta₁ + \\theta₂ + 2)"
      ]
     },
     "execution_count": 54,
     "metadata": {},
     "output_type": "execute_result"
    }
   ],
   "source": [
    "sympy.simplify(q[(3,0,1)])"
   ]
  },
  {
   "cell_type": "code",
   "execution_count": 51,
   "metadata": {
    "collapsed": false
   },
   "outputs": [
    {
     "data": {
      "image/png": "[encoded data removed]",
      "text/latex": [
       "$$\\frac{1}{2 \\rho + 6} \\left(\\frac{1}{\\frac{3 \\rho}{2} + \\frac{\\theta_2}{2} + 3} \\left(\\frac{\\theta_1 \\theta_2}{2 \\left(\\rho + 1\\right) \\left(\\frac{3 \\rho}{2} + 3\\right) \\left(\\rho + \\frac{\\theta_1}{2} + 1\\right)} + \\frac{1}{\\rho + \\frac{\\theta_1}{2} + \\frac{\\theta_2}{2} + 1} \\left(\\frac{\\theta_1 \\theta_2}{2 \\left(\\rho + 1\\right) \\left(\\rho + \\frac{\\theta_2}{2} + 1\\right)} + \\frac{\\theta_1 \\theta_2}{2 \\left(\\rho + 1\\right) \\left(\\rho + \\frac{\\theta_1}{2} + 1\\right)}\\right)\\right) + \\frac{1}{\\frac{3 \\rho}{2} + \\frac{\\theta_1}{2} + 3} \\left(\\frac{\\theta_1 \\theta_2}{2 \\left(\\rho + 1\\right) \\left(\\frac{3 \\rho}{2} + 3\\right) \\left(\\rho + \\frac{\\theta_2}{2} + 1\\right)} + \\frac{1}{\\rho + \\frac{\\theta_1}{2} + \\frac{\\theta_2}{2} + 1} \\left(\\frac{\\theta_1 \\theta_2}{2 \\left(\\rho + 1\\right) \\left(\\rho + \\frac{\\theta_2}{2} + 1\\right)} + \\frac{\\theta_1 \\theta_2}{2 \\left(\\rho + 1\\right) \\left(\\rho + \\frac{\\theta_1}{2} + 1\\right)}\\right)\\right)\\right)$$"
      ],
      "text/plain": [
       "  ⎛                                                          \\theta₁⋅\\theta₂  \n",
       "  ⎜                                                 ──────────────────────────\n",
       "  ⎜                                                              ⎛       \\thet\n",
       "  ⎜                                                 4⋅(\\rho + 1)⋅⎜\\rho + ─────\n",
       "  ⎜               \\theta₁⋅\\theta₂                                ⎝          2 \n",
       "2⋅⎜────────────────────────────────────────────── + ──────────────────────────\n",
       "  ⎜             ⎛3⋅\\rho    ⎞ ⎛       \\theta₁    ⎞                             \n",
       "  ⎜4⋅(\\rho + 1)⋅⎜────── + 3⎟⋅⎜\\rho + ─────── + 1⎟                        \\rho \n",
       "  ⎝             ⎝  2       ⎠ ⎝          2       ⎠                             \n",
       "──────────────────────────────────────────────────────────────────────────────\n",
       "                                                   3⋅\\rho   \\theta₂           \n",
       "                                                   ────── + ─────── + 3       \n",
       "                                                     2         2              \n",
       "──────────────────────────────────────────────────────────────────────────────\n",
       "                                                                              \n",
       "\n",
       "                   \\theta₁⋅\\theta₂         ⎞     ⎛                            \n",
       "─────── + ─────────────────────────────────⎟     ⎜                            \n",
       "a₂    ⎞                ⎛       \\theta₁    ⎞⎟     ⎜                            \n",
       "── + 1⎟   4⋅(\\rho + 1)⋅⎜\\rho + ─────── + 1⎟⎟     ⎜                            \n",
       "      ⎠                ⎝          2       ⎠⎟     ⎜               \\theta₁⋅\\thet\n",
       "───────────────────────────────────────────⎟   2⋅⎜────────────────────────────\n",
       "  \\theta₁   \\theta₂                        ⎟     ⎜             ⎛3⋅\\rho    ⎞ ⎛ \n",
       "+ ─────── + ─────── + 1                    ⎟     ⎜4⋅(\\rho + 1)⋅⎜────── + 3⎟⋅⎜\\\n",
       "     2         2                           ⎠     ⎝             ⎝  2       ⎠ ⎝ \n",
       "──────────────────────────────────────────── + ───────────────────────────────\n",
       "                                                                              \n",
       "                                                                              \n",
       "                                                                              \n",
       "──────────────────────────────────────────────────────────────────────────────\n",
       "                                         2⋅\\rho + 6                           \n",
       "\n",
       "                              \\theta₁⋅\\theta₂                     \\theta₁⋅\\the\n",
       "                     ───────────────────────────────── + ─────────────────────\n",
       "                                  ⎛       \\theta₂    ⎞                ⎛       \n",
       "                     4⋅(\\rho + 1)⋅⎜\\rho + ─────── + 1⎟   4⋅(\\rho + 1)⋅⎜\\rho + \n",
       "a₂                                ⎝          2       ⎠                ⎝       \n",
       "────────────────── + ─────────────────────────────────────────────────────────\n",
       "      \\theta₂    ⎞                               \\theta₁   \\theta₂            \n",
       "rho + ─────── + 1⎟                        \\rho + ─────── + ─────── + 1        \n",
       "         2       ⎠                                  2         2               \n",
       "──────────────────────────────────────────────────────────────────────────────\n",
       "                    3⋅\\rho   \\theta₁                                          \n",
       "                    ────── + ─────── + 3                                      \n",
       "                      2         2                                             \n",
       "──────────────────────────────────────────────────────────────────────────────\n",
       "                                                                              \n",
       "\n",
       "ta₂         ⎞\n",
       "────────────⎟\n",
       "\\theta₁    ⎞⎟\n",
       "─────── + 1⎟⎟\n",
       "   2       ⎠⎟\n",
       "────────────⎟\n",
       "            ⎟\n",
       "            ⎟\n",
       "            ⎠\n",
       "─────────────\n",
       "             \n",
       "             \n",
       "             \n",
       "─────────────\n",
       "             "
      ]
     },
     "execution_count": 51,
     "metadata": {},
     "output_type": "execute_result"
    }
   ],
   "source": [
    "q[(4,0,0)]"
   ]
  },
  {
   "cell_type": "code",
   "execution_count": 63,
   "metadata": {
    "collapsed": false
   },
   "outputs": [
    {
     "data": {
      "image/png": "[encoded data removed]",
      "text/latex": [
       "$$- \\frac{2 \\theta^{2} r \\left(r - 1\\right) \\left(- \\left(3 \\left(\\rho + 2\\right) \\left(- 4 \\rho - \\theta r + \\theta \\left(r - 1\\right) - 4\\right) - \\left(2 \\rho + \\theta r + 2\\right) \\left(2 \\rho + \\theta r - \\theta \\left(r - 1\\right) + 2\\right)\\right) \\left(3 \\rho - \\theta \\left(r - 1\\right) + 6\\right) - \\left(3 \\left(\\rho + 2\\right) \\left(- 4 \\rho - \\theta r + \\theta \\left(r - 1\\right) - 4\\right) - \\left(2 \\rho - \\theta \\left(r - 1\\right) + 2\\right) \\left(2 \\rho + \\theta r - \\theta \\left(r - 1\\right) + 2\\right)\\right) \\left(3 \\rho + \\theta r + 6\\right)\\right)}{3 \\left(\\rho + 1\\right) \\left(\\rho + 2\\right) \\left(\\rho + 3\\right) \\left(2 \\rho + \\theta r + 2\\right) \\left(2 \\rho - \\theta \\left(r - 1\\right) + 2\\right) \\left(3 \\rho + \\theta r + 6\\right) \\left(3 \\rho - \\theta \\left(r - 1\\right) + 6\\right) \\left(2 \\rho + \\theta r - \\theta \\left(r - 1\\right) + 2\\right)}$$"
      ],
      "text/plain": [
       "         2                                                                    \n",
       "-2⋅\\theta ⋅r⋅(r - 1)⋅(-(3⋅(\\rho + 2)⋅(-4⋅\\rho - \\theta⋅r + \\theta⋅(r - 1) - 4)\n",
       "──────────────────────────────────────────────────────────────────────────────\n",
       "                                                                           3⋅(\n",
       "\n",
       "                                                                              \n",
       " - (2⋅\\rho + \\theta⋅r + 2)⋅(2⋅\\rho + \\theta⋅r - \\theta⋅(r - 1) + 2))⋅(3⋅\\rho -\n",
       "──────────────────────────────────────────────────────────────────────────────\n",
       "\\rho + 1)⋅(\\rho + 2)⋅(\\rho + 3)⋅(2⋅\\rho + \\theta⋅r + 2)⋅(2⋅\\rho - \\theta⋅(r - \n",
       "\n",
       "                                                                              \n",
       " \\theta⋅(r - 1) + 6) - (3⋅(\\rho + 2)⋅(-4⋅\\rho - \\theta⋅r + \\theta⋅(r - 1) - 4)\n",
       "──────────────────────────────────────────────────────────────────────────────\n",
       "1) + 2)⋅(3⋅\\rho + \\theta⋅r + 6)⋅(3⋅\\rho - \\theta⋅(r - 1) + 6)⋅(2⋅\\rho + \\theta\n",
       "\n",
       "                                                                              \n",
       " - (2⋅\\rho - \\theta⋅(r - 1) + 2)⋅(2⋅\\rho + \\theta⋅r - \\theta⋅(r - 1) + 2))⋅(3⋅\n",
       "──────────────────────────────────────────────────────────────────────────────\n",
       "⋅r - \\theta⋅(r - 1) + 2)                                                      \n",
       "\n",
       "                      \n",
       "\\rho + \\theta⋅r + 6)) \n",
       "──────────────────────\n",
       "                      "
      ]
     },
     "execution_count": 63,
     "metadata": {},
     "output_type": "execute_result"
    }
   ],
   "source": [
    "sympy.simplify(q[(4,0,0)])"
   ]
  },
  {
   "cell_type": "markdown",
   "metadata": {
    "collapsed": true
   },
   "source": []
  }
 ],
 "metadata": {
  "kernelspec": {
   "display_name": "Python 2",
   "language": "python",
   "name": "python2"
  },
  "language_info": {
   "codemirror_mode": {
    "name": "ipython",
    "version": 2
   },
   "file_extension": ".py",
   "mimetype": "text/x-python",
   "name": "python",
   "nbconvert_exporter": "python",
   "pygments_lexer": "ipython2",
   "version": "2.7.6"
  }
 },
 "nbformat": 4,
 "nbformat_minor": 2
}
