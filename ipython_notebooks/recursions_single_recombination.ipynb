{
 "cells": [
  {
   "cell_type": "markdown",
   "metadata": {
    "deletable": true,
    "editable": true
   },
   "source": [
    "# Background"
   ]
  },
  {
   "cell_type": "markdown",
   "metadata": {
    "deletable": true,
    "editable": true
   },
   "source": [
    "We aim to compute the following quantity:\n",
    "$$\n",
    "\\mathbb{P}(\\Omega^{\\text{vis}}) \n",
    "  = \\sum_{k=2}^{n} \\mathbb{P}(\\Omega^{\\text{vis}}_k)\n",
    "$$\n",
    "whereby\n",
    "\\begin{equation}\n",
    "\\mathbb{P}(\\Omega^{\\text{vis}}_k) = p^{\\neg \\rho}_{n,k} \\frac{\\rho}{k-1+\\rho} q_{k+1,(0,0)}\n",
    "\\end{equation}"
   ]
  },
  {
   "cell_type": "markdown",
   "metadata": {},
   "source": [
    "In order to do this, we need to compute a series of **auxiliary variables**:\n",
    "\\begin{equation}\n",
    "p^{\\neg \\rho}_{n_1,n_2} = \\prod_{n_2 < k \\leq n_1} \\frac{k-1}{k-1+\\rho}\n",
    "\\end{equation}"
   ]
  },
  {
   "cell_type": "markdown",
   "metadata": {},
   "source": [
    "The probabilities $(q_{k,{i,j}})_{k \\in \\mathbb{N}, i,j \\in \\lbrace 0,1,2 \\rbrace}$ satisfy the following recursive linear system:\n",
    "\\begin{align}\n",
    "q_{k,(0,0)} &= \\frac{(k-2) ( q_{k-1,(1,0)} + q_{k-1,(0,1)}) + \\binom{k-2}{2} q_{k-1,(0,0)} }{\\binom{k}{2} + \\frac{k}{2} \\rho} \\\\\n",
    "q_{k,(0,1)} &= \\frac{\\frac{1}{2} \\theta_2 \\, q_{k,(0,2)} + (k-2) \\, q_{k-1,(1,1)} + \\binom{k-1}{2} \\, q_{k-1,(0,1)} }{\\binom{k}{2} + \\frac{k}{2} \\rho + \\frac{1}{2}\\theta_2} \\\\\n",
    "q_{k,(1,0)} &= \\frac{\\frac{1}{2} \\theta_1 \\, q_{k,(2,0)} + (k-2) \\, q_{k-1,(1,1)} + \\binom{k-1}{2} \\, q_{k-1,(1,0)} }{\\binom{k}{2} + \\frac{k}{2} \\rho + \\frac{1}{2}\\theta_1} \\\\\n",
    "q_{k,(0,2)} &= \\frac{(k-2) q_{k-1,(1,2)} + \\binom{k-1}{2} q_{k-1,(0,2)} }{\\binom{k}{2} + \\frac{k}{2} \\rho} \\\\\n",
    "q_{k,(2,0)} &= \\frac{(k-2) q_{k-1,(2,1)} + \\binom{k-1}{2} q_{k-1,(2,1)} }{\\binom{k}{2} + \\frac{k}{2} \\rho} \\\\q_{k,(1,1)} &= \\frac{\\frac{1}{2} \\theta_1 \\, q_{k,(2,1)} + \\frac{1}{2} \\theta_2 q_{k,(1,2)} + \\left( \\binom{k}{2} - 1 \\right) \\, q_{k-1,(1,1)} }{\\binom{k}{2} + \\frac{k}{2} \\rho + \\frac{1}{2} ( \\theta_1 + \\theta_2 ) } \\\\\n",
    "q_{k,(1,2)} &= \\frac{\\frac{1}{2} \\theta_1 q_{k,(2,2)} + \\binom{k-1}{2} q_{k-1,(1,2)}}{\\binom{k}{2} + \\frac{k}{2} \\rho + \\frac{1}{2}\\theta_1}\\\\\n",
    "q_{k,(2,1)} &= \\frac{\\frac{1}{2} \\theta_2 q_{k,(2,2)} + \\binom{k-1}{2} q_{k-1,(2,1)}}{\\binom{k}{2} + \\frac{k}{2} \\rho + \\frac{1}{2}\\theta_2}\n",
    "\\end{align}"
   ]
  },
  {
   "cell_type": "markdown",
   "metadata": {
    "deletable": true,
    "editable": true
   },
   "source": [
    "with boundary conditions:\n",
    "\\begin{align}\n",
    "q_{k,(0,0)} &= 0 \\text{ if } k<4 \\\\\n",
    "q_{k,(0,1)} &= 0 \\text{ if } k<3 \\\\\n",
    "q_{k,(1,0)} &= 0 \\text{ if } k<3 \\\\\n",
    "q_{k,(0,2)} &= 0 \\text{ if } k<3 \\\\\n",
    "q_{k,(2,0)} &= 0 \\text{ if } k<3 \\\\\n",
    "q_{k,(1,1)} &= 0 \\text{ if } k<2 \\\\\n",
    "q_{k,(1,2)} &= 0 \\text{ if } k<2 \\\\\n",
    "q_{k,(2,1)} &= 0 \\text{ if } k<2 \\\\\n",
    "q_{k,(2,2)} &= p^{\\neg \\rho}_{k,1} = \\prod_{i = 2}^k \\frac{i-1}{i-1+\\rho}\n",
    "\\end{align}"
   ]
  },
  {
   "cell_type": "markdown",
   "metadata": {
    "deletable": true,
    "editable": true
   },
   "source": [
    "The solution of this system will be a series of rational functions of integers $n \\geq k > 1$ and non-negative reals $\\rho, \\theta_1, \\theta_2$."
   ]
  },
  {
   "cell_type": "code",
   "execution_count": 82,
   "metadata": {
    "collapsed": true,
    "deletable": true,
    "editable": true
   },
   "outputs": [],
   "source": [
    "def p_neg(n1,n2,rho):\n",
    "    'The probability that a set of n1 lineages will coalesce to n2 lineages before experiencing recurison'\n",
    "    assert n1 >= n2\n",
    "    assert n2 > 0\n",
    "\n",
    "    if isinstance(rho,int):\n",
    "        rho = float(rho)\n",
    "    if isinstance(rho,float):\n",
    "        assert rho >= 0\n",
    "    \n",
    "    return reduce( lambda x,y: x*y, [(k - 1)/(k-1+rho) for k in range(n1,n2,-1)], 1)"
   ]
  },
  {
   "cell_type": "code",
   "execution_count": 101,
   "metadata": {
    "collapsed": false,
    "deletable": true,
    "editable": true
   },
   "outputs": [],
   "source": [
    "def q_recursive(k,i,j,theta1,theta2,rho):\n",
    "    'compute q_{k,(i,j)} using tail-recursion; theta1,theta2, and rho should be non-negative reals.'\n",
    "    \n",
    "    if isinstance(rho,int):\n",
    "        rho = float(rho)\n",
    "    if isinstance(theta1,int):\n",
    "        theta1 = float(theta1)\n",
    "    if isinstance(theta2,int):\n",
    "        theta2 = float(theta2)\n",
    "    \n",
    "    if   (i,j) == (0,0):\n",
    "        if k < 4:\n",
    "            return 0\n",
    "        else:\n",
    "            a = q_recursive(k-1, 1, 0, theta1,theta2,rho)\n",
    "            b = q_recursive(k-1, 0, 1, theta1,theta2,rho)\n",
    "            c = q_recursive(k-1, 0, 0, theta1,theta2,rho)\n",
    "            result = ( (k - 2)*(a+b) + choose2(k-2)*c ) / (chose2(k) + k*rho/2)\n",
    "            return result\n",
    "            \n",
    "    elif (i,j) == (0,1):\n",
    "        if k < 3:\n",
    "            return 0\n",
    "        else:\n",
    "            a = q_recursive(k  , 0, 2, theta1,theta2,rho)\n",
    "            b = q_recursive(k-1, 1, 1, theta1,theta2,rho)\n",
    "            c = q_recursive(k-1, 0, 1, theta1,theta2,rho)\n",
    "            result = ( a*theta2/2 + (k - 2)*b + choose2(k-1)*c ) / ( chose2(k) + (k*rho + theta2)/2 )\n",
    "            return result\n",
    "\n",
    "    elif (i,j) == (1,0):\n",
    "        if k < 3:\n",
    "            return 0\n",
    "        else:\n",
    "            a = q_recursive(k  , 2, 0, theta1,theta2,rho)\n",
    "            b = q_recursive(k-1, 1, 1, theta1,theta2,rho)\n",
    "            c = q_recursive(k-1, 1, 0, theta1,theta2,rho)\n",
    "            result = ( a*theta1/2 + (k - 2)*b + choose2(k-1)*c ) / ( chose2(k) + (k*rho + theta1)/2 )\n",
    "            return result\n",
    "\n",
    "    elif (i,j) == (0,2):\n",
    "        if k < 3:\n",
    "            return 0\n",
    "        else:\n",
    "            a = q_recursive(k-1, 1, 2, theta1,theta2,rho)\n",
    "            b = q_recursive(k-1, 0, 2, theta1,theta2,rho)\n",
    "            result = ( (k - 2)*a + choose2(k-1)*b ) / ( chose2(k) + k*rho/2 )\n",
    "            return result\n",
    "    \n",
    "    elif (i,j) == (2,0):\n",
    "        if k < 3:\n",
    "            return 0\n",
    "        else:\n",
    "            a = q_recursive(k-1, 2, 1, theta1,theta2,rho)\n",
    "            b = q_recursive(k-1, 2, 0, theta1,theta2,rho)\n",
    "            result = ( (k - 2)*a + choose2(k-1)*b ) / ( chose2(k) + k*rho/2 )\n",
    "            return result\n",
    "    \n",
    "    elif (i,j) == (1,1):\n",
    "        if k < 2:\n",
    "            return 0\n",
    "        else:\n",
    "            a = q_recursive(k  , 2, 1, theta1,theta2,rho)\n",
    "            b = q_recursive(k  , 1, 2, theta1,theta2,rho)\n",
    "            c = q_recursive(k-1, 1, 1, theta1,theta2,rho)\n",
    "            result = ( (theta1*a + theta2*b)/2 + (choose2(k) - 1)*c ) / ( chose2(k) + (k*rho + theta1 + theta2)/2 )\n",
    "            return result\n",
    "    \n",
    "    elif (i,j) == (1,2):\n",
    "        if k < 2:\n",
    "            return 0\n",
    "        else:\n",
    "            a = q_recursive(k  , 2, 2, theta1,theta2,rho)\n",
    "            b = q_recursive(k-1, 1, 2, theta1,theta2,rho)\n",
    "            result = ( a*theta1/2 + choose2(k-1)*b ) / ( chose2(k) + (k*rho + theta1)/2 )\n",
    "            return result\n",
    "    \n",
    "    elif (i,j) == (2,1):\n",
    "        if k < 2:\n",
    "            return 0\n",
    "        else:\n",
    "            a = q_recursive(k  , 2, 2, theta1,theta2,rho)\n",
    "            b = q_recursive(k-1, 2, 1, theta1,theta2,rho)\n",
    "            result = ( a*theta2/2 + choose2(k-1)*b ) / ( chose2(k) + (k*rho + theta2)/2 )\n",
    "            return result\n",
    "    \n",
    "    elif (i,j) == (2,2):\n",
    "        result = p_neg(k,1,rho)\n",
    "        return result\n",
    "    \n",
    "    else:\n",
    "        raise ValueError('0 <= i,j <= 2 must hold; arguments here: i = %i, j=%i'%(i,j))\n",
    "\n",
    "def choose2(k):\n",
    "    return (k*(k-1))/2"
   ]
  },
  {
   "cell_type": "code",
   "execution_count": 70,
   "metadata": {
    "collapsed": false,
    "deletable": true,
    "editable": true
   },
   "outputs": [
    {
     "data": {
      "text/plain": [
       "0.933605437401415"
      ]
     },
     "execution_count": 70,
     "metadata": {},
     "output_type": "execute_result"
    }
   ],
   "source": [
    "q_recursive(50,0,0,1e10,1e10,0.0)"
   ]
  },
  {
   "cell_type": "markdown",
   "metadata": {},
   "source": [
    "### Symbolic computation\n",
    "The above implmentation also supports symbolic computation. We may use this to get exact formulas expressing $q_{k,(0,0)}$ as a rational function in the indeterminates $\\theta_1, \\theta_2$, and $\\rho$ (the below does just this using sympy):"
   ]
  },
  {
   "cell_type": "code",
   "execution_count": 139,
   "metadata": {
    "collapsed": true
   },
   "outputs": [],
   "source": [
    "import sympy"
   ]
  },
  {
   "cell_type": "code",
   "execution_count": 140,
   "metadata": {
    "collapsed": false
   },
   "outputs": [],
   "source": [
    "k = 4\n",
    "t, t1,t2,r = sympy.symbols(r'\\theta \\theta_1 \\theta_2 \\rho')\n",
    "f = q_recursive(k,0,0,t1,t2,r) # general formula\n",
    "g = f.subs(r,0) # f with \\rho = 0\n",
    "h = q_recursive(k,0,0,t/2,t/2,r) # f with theta1 = theta2 = theta/2"
   ]
  },
  {
   "cell_type": "code",
   "execution_count": 141,
   "metadata": {
    "collapsed": false
   },
   "outputs": [
    {
     "name": "stdout",
     "output_type": "stream",
     "text": [
      "(2*(\\theta_1*\\theta_2/(4*(\\rho + 1)*(3*\\rho/2 + 3)*(\\rho + \\theta_1/2 + 1)) + (\\theta_1*\\theta_2/(4*(\\rho + 1)*(\\rho + \\theta_2/2 + 1)) + \\theta_1*\\theta_2/(4*(\\rho + 1)*(\\rho + \\theta_1/2 + 1)))/(\\rho + \\theta_1/2 + \\theta_2/2 + 1))/(3*\\rho/2 + \\theta_2/2 + 3) + 2*(\\theta_1*\\theta_2/(4*(\\rho + 1)*(3*\\rho/2 + 3)*(\\rho + \\theta_2/2 + 1)) + (\\theta_1*\\theta_2/(4*(\\rho + 1)*(\\rho + \\theta_2/2 + 1)) + \\theta_1*\\theta_2/(4*(\\rho + 1)*(\\rho + \\theta_1/2 + 1)))/(\\rho + \\theta_1/2 + \\theta_2/2 + 1))/(3*\\rho/2 + \\theta_1/2 + 3))/(2*\\rho + 6) \n",
      "\n",
      "(\\theta_1*\\theta_2/(12*(\\theta_1/2 + 1)) + (\\theta_1*\\theta_2/(4*(\\theta_2/2 + 1)) + \\theta_1*\\theta_2/(4*(\\theta_1/2 + 1)))/(\\theta_1/2 + \\theta_2/2 + 1))/(3*(\\theta_2/2 + 3)) + (\\theta_1*\\theta_2/(12*(\\theta_2/2 + 1)) + (\\theta_1*\\theta_2/(4*(\\theta_2/2 + 1)) + \\theta_1*\\theta_2/(4*(\\theta_1/2 + 1)))/(\\theta_1/2 + \\theta_2/2 + 1))/(3*(\\theta_1/2 + 3)) \n",
      "\n",
      "4*(\\theta**2/(8*(\\rho + 1)*(\\rho + \\theta/4 + 1)*(\\rho + \\theta/2 + 1)) + \\theta**2/(16*(\\rho + 1)*(3*\\rho/2 + 3)*(\\rho + \\theta/4 + 1)))/((2*\\rho + 6)*(3*\\rho/2 + \\theta/4 + 3)) \n",
      "\n"
     ]
    }
   ],
   "source": [
    "print f,'\\n'\n",
    "print g,'\\n'\n",
    "print h,'\\n'"
   ]
  },
  {
   "cell_type": "markdown",
   "metadata": {},
   "source": [
    "### We may also print these expressions in latex:"
   ]
  },
  {
   "cell_type": "code",
   "execution_count": 142,
   "metadata": {
    "collapsed": false
   },
   "outputs": [
    {
     "name": "stdout",
     "output_type": "stream",
     "text": [
      "\\frac{1}{2 \\rho + 6} \\left(\\frac{1}{\\frac{3 \\rho}{2} + \\frac{\\theta_2}{2} + 3} \\left(\\frac{\\theta_1 \\theta_2}{2 \\left(\\rho + 1\\right) \\left(\\frac{3 \\rho}{2} + 3\\right) \\left(\\rho + \\frac{\\theta_1}{2} + 1\\right)} + \\frac{1}{\\rho + \\frac{\\theta_1}{2} + \\frac{\\theta_2}{2} + 1} \\left(\\frac{\\theta_1 \\theta_2}{2 \\left(\\rho + 1\\right) \\left(\\rho + \\frac{\\theta_2}{2} + 1\\right)} + \\frac{\\theta_1 \\theta_2}{2 \\left(\\rho + 1\\right) \\left(\\rho + \\frac{\\theta_1}{2} + 1\\right)}\\right)\\right) + \\frac{1}{\\frac{3 \\rho}{2} + \\frac{\\theta_1}{2} + 3} \\left(\\frac{\\theta_1 \\theta_2}{2 \\left(\\rho + 1\\right) \\left(\\frac{3 \\rho}{2} + 3\\right) \\left(\\rho + \\frac{\\theta_2}{2} + 1\\right)} + \\frac{1}{\\rho + \\frac{\\theta_1}{2} + \\frac{\\theta_2}{2} + 1} \\left(\\frac{\\theta_1 \\theta_2}{2 \\left(\\rho + 1\\right) \\left(\\rho + \\frac{\\theta_2}{2} + 1\\right)} + \\frac{\\theta_1 \\theta_2}{2 \\left(\\rho + 1\\right) \\left(\\rho + \\frac{\\theta_1}{2} + 1\\right)}\\right)\\right)\\right) \n",
      "\n",
      "\\frac{2 \\theta_1 \\theta_2 \\left(\\left(3 \\left(\\rho + 2\\right) \\left(4 \\rho + \\theta_1 + \\theta_2 + 4\\right) + \\left(2 \\rho + \\theta_1 + 2\\right) \\left(2 \\rho + \\theta_1 + \\theta_2 + 2\\right)\\right) \\left(3 \\rho + \\theta_2 + 6\\right) + \\left(3 \\left(\\rho + 2\\right) \\left(4 \\rho + \\theta_1 + \\theta_2 + 4\\right) + \\left(2 \\rho + \\theta_2 + 2\\right) \\left(2 \\rho + \\theta_1 + \\theta_2 + 2\\right)\\right) \\left(3 \\rho + \\theta_1 + 6\\right)\\right)}{3 \\left(\\rho + 1\\right) \\left(\\rho + 2\\right) \\left(\\rho + 3\\right) \\left(2 \\rho + \\theta_1 + 2\\right) \\left(2 \\rho + \\theta_2 + 2\\right) \\left(3 \\rho + \\theta_1 + 6\\right) \\left(3 \\rho + \\theta_2 + 6\\right) \\left(2 \\rho + \\theta_1 + \\theta_2 + 2\\right)} \n",
      "\n",
      "\n",
      "\\frac{1}{\\frac{3 \\theta_2}{2} + 9} \\left(\\frac{\\theta_1 \\theta_2}{6 \\theta_1 + 12} + \\frac{1}{\\frac{\\theta_1}{2} + \\frac{\\theta_2}{2} + 1} \\left(\\frac{\\theta_1 \\theta_2}{2 \\theta_2 + 4} + \\frac{\\theta_1 \\theta_2}{2 \\theta_1 + 4}\\right)\\right) + \\frac{1}{\\frac{3 \\theta_1}{2} + 9} \\left(\\frac{\\theta_1 \\theta_2}{6 \\theta_2 + 12} + \\frac{1}{\\frac{\\theta_1}{2} + \\frac{\\theta_2}{2} + 1} \\left(\\frac{\\theta_1 \\theta_2}{2 \\theta_2 + 4} + \\frac{\\theta_1 \\theta_2}{2 \\theta_1 + 4}\\right)\\right) \n",
      "\n",
      "\\frac{\\theta_1 \\theta_2}{9 \\left(\\theta_1 + 2\\right) \\left(\\theta_1 + 6\\right) \\left(\\theta_2 + 2\\right) \\left(\\theta_2 + 6\\right) \\left(\\theta_1 + \\theta_2 + 2\\right)} \\left(\\left(\\theta_1 + 6\\right) \\left(6 \\theta_1 + 6 \\theta_2 + \\left(\\theta_2 + 2\\right) \\left(\\theta_1 + \\theta_2 + 2\\right) + 24\\right) + \\left(\\theta_2 + 6\\right) \\left(6 \\theta_1 + 6 \\theta_2 + \\left(\\theta_1 + 2\\right) \\left(\\theta_1 + \\theta_2 + 2\\right) + 24\\right)\\right) \n",
      "\n",
      "\n",
      "\\frac{1}{\\left(2 \\rho + 6\\right) \\left(\\frac{3 \\rho}{2} + \\frac{\\theta}{4} + 3\\right)} \\left(\\frac{\\theta^{2}}{2 \\left(\\rho + 1\\right) \\left(\\rho + \\frac{\\theta}{4} + 1\\right) \\left(\\rho + \\frac{\\theta}{2} + 1\\right)} + \\frac{\\theta^{2}}{4 \\left(\\rho + 1\\right) \\left(\\frac{3 \\rho}{2} + 3\\right) \\left(\\rho + \\frac{\\theta}{4} + 1\\right)}\\right) \n",
      "\n",
      "\\frac{4 \\theta^{2} \\left(8 \\rho + \\theta + 14\\right)}{3 \\left(\\rho + 1\\right) \\left(\\rho + 2\\right) \\left(\\rho + 3\\right) \\left(2 \\rho + \\theta + 2\\right) \\left(4 \\rho + \\theta + 4\\right) \\left(6 \\rho + \\theta + 12\\right)} \n",
      "\n",
      "\n"
     ]
    }
   ],
   "source": [
    "print sympy.latex(f),'\\n'\n",
    "print sympy.latex(f.simplify()),'\\n\\n'\n",
    "print sympy.latex(g),'\\n'\n",
    "print sympy.latex(g.simplify()),'\\n\\n'\n",
    "print sympy.latex(h),'\\n'\n",
    "print sympy.latex(h.simplify()),'\\n\\n'\n",
    "#print sympy.latex(g)"
   ]
  },
  {
   "cell_type": "markdown",
   "metadata": {},
   "source": [
    "this latex-source code can then be typeset:"
   ]
  },
  {
   "cell_type": "markdown",
   "metadata": {},
   "source": [
    "### *f* :\n",
    "$$\\frac{1}{2 \\rho + 6} \\left(\\frac{1}{\\frac{3 \\rho}{2} + \\frac{\\theta_2}{2} + 3} \\left(\\frac{\\theta_1 \\theta_2}{2 \\left(\\rho + 1\\right) \\left(\\frac{3 \\rho}{2} + 3\\right) \\left(\\rho + \\frac{\\theta_1}{2} + 1\\right)} + \\frac{1}{\\rho + \\frac{\\theta_1}{2} + \\frac{\\theta_2}{2} + 1} \\left(\\frac{\\theta_1 \\theta_2}{2 \\left(\\rho + 1\\right) \\left(\\rho + \\frac{\\theta_2}{2} + 1\\right)} + \\frac{\\theta_1 \\theta_2}{2 \\left(\\rho + 1\\right) \\left(\\rho + \\frac{\\theta_1}{2} + 1\\right)}\\right)\\right) + \\frac{1}{\\frac{3 \\rho}{2} + \\frac{\\theta_1}{2} + 3} \\left(\\frac{\\theta_1 \\theta_2}{2 \\left(\\rho + 1\\right) \\left(\\frac{3 \\rho}{2} + 3\\right) \\left(\\rho + \\frac{\\theta_2}{2} + 1\\right)} + \\frac{1}{\\rho + \\frac{\\theta_1}{2} + \\frac{\\theta_2}{2} + 1} \\left(\\frac{\\theta_1 \\theta_2}{2 \\left(\\rho + 1\\right) \\left(\\rho + \\frac{\\theta_2}{2} + 1\\right)} + \\frac{\\theta_1 \\theta_2}{2 \\left(\\rho + 1\\right) \\left(\\rho + \\frac{\\theta_1}{2} + 1\\right)}\\right)\\right)\\right)$$\n",
    "\n",
    "### *f* (simplified) :\n",
    "$$\\frac{2 \\theta_1 \\theta_2 \\left(\\left(3 \\left(\\rho + 2\\right) \\left(4 \\rho + \\theta_1 + \\theta_2 + 4\\right) + \\left(2 \\rho + \\theta_1 + 2\\right) \\left(2 \\rho + \\theta_1 + \\theta_2 + 2\\right)\\right) \\left(3 \\rho + \\theta_2 + 6\\right) + \\left(3 \\left(\\rho + 2\\right) \\left(4 \\rho + \\theta_1 + \\theta_2 + 4\\right) + \\left(2 \\rho + \\theta_2 + 2\\right) \\left(2 \\rho + \\theta_1 + \\theta_2 + 2\\right)\\right) \\left(3 \\rho + \\theta_1 + 6\\right)\\right)}{3 \\left(\\rho + 1\\right) \\left(\\rho + 2\\right) \\left(\\rho + 3\\right) \\left(2 \\rho + \\theta_1 + 2\\right) \\left(2 \\rho + \\theta_2 + 2\\right) \\left(3 \\rho + \\theta_1 + 6\\right) \\left(3 \\rho + \\theta_2 + 6\\right) \\left(2 \\rho + \\theta_1 + \\theta_2 + 2\\right)} $$"
   ]
  },
  {
   "cell_type": "markdown",
   "metadata": {},
   "source": [
    "### *g* :\n",
    "$$\n",
    "\\frac{1}{\\frac{3 \\theta_2}{2} + 9} \\left(\\frac{\\theta_1 \\theta_2}{6 \\theta_1 + 12} + \\frac{1}{\\frac{\\theta_1}{2} + \\frac{\\theta_2}{2} + 1} \\left(\\frac{\\theta_1 \\theta_2}{2 \\theta_2 + 4} + \\frac{\\theta_1 \\theta_2}{2 \\theta_1 + 4}\\right)\\right) + \\frac{1}{\\frac{3 \\theta_1}{2} + 9} \\left(\\frac{\\theta_1 \\theta_2}{6 \\theta_2 + 12} + \\frac{1}{\\frac{\\theta_1}{2} + \\frac{\\theta_2}{2} + 1} \\left(\\frac{\\theta_1 \\theta_2}{2 \\theta_2 + 4} + \\frac{\\theta_1 \\theta_2}{2 \\theta_1 + 4}\\right)\\right)$$\n",
    "\n",
    "### *g*  (simplified) :\n",
    "$$\n",
    "\\frac{\\theta_1 \\theta_2}{9 \\left(\\theta_1 + 2\\right) \\left(\\theta_1 + 6\\right) \\left(\\theta_2 + 2\\right) \\left(\\theta_2 + 6\\right) \\left(\\theta_1 + \\theta_2 + 2\\right)} \\left(\\left(\\theta_1 + 6\\right) \\left(6 \\theta_1 + 6 \\theta_2 + \\left(\\theta_2 + 2\\right) \\left(\\theta_1 + \\theta_2 + 2\\right) + 24\\right) + \\left(\\theta_2 + 6\\right) \\left(6 \\theta_1 + 6 \\theta_2 + \\left(\\theta_1 + 2\\right) \\left(\\theta_1 + \\theta_2 + 2\\right) + 24\\right)\\right) $$"
   ]
  },
  {
   "cell_type": "markdown",
   "metadata": {},
   "source": [
    "### *h* :\n",
    "$$\\frac{1}{\\left(2 \\rho + 6\\right) \\left(\\frac{3 \\rho}{2} + \\frac{\\theta}{4} + 3\\right)} \\left(\\frac{\\theta^{2}}{2 \\left(\\rho + 1\\right) \\left(\\rho + \\frac{\\theta}{4} + 1\\right) \\left(\\rho + \\frac{\\theta}{2} + 1\\right)} + \\frac{\\theta^{2}}{4 \\left(\\rho + 1\\right) \\left(\\frac{3 \\rho}{2} + 3\\right) \\left(\\rho + \\frac{\\theta}{4} + 1\\right)}\\right)$$\n",
    " ### *h* (simplified) :\n",
    " $$\n",
    "\\frac{4 \\theta^{2} \\left(8 \\rho + \\theta + 14\\right)}{3 \\left(\\rho + 1\\right) \\left(\\rho + 2\\right) \\left(\\rho + 3\\right) \\left(2 \\rho + \\theta + 2\\right) \\left(4 \\rho + \\theta + 4\\right) \\left(6 \\rho + \\theta + 12\\right)} \n",
    "$$"
   ]
  },
  {
   "cell_type": "markdown",
   "metadata": {
    "deletable": true,
    "editable": true
   },
   "source": [
    "## Towards conditionals"
   ]
  },
  {
   "cell_type": "markdown",
   "metadata": {
    "deletable": true,
    "editable": true
   },
   "source": [
    "We now define the following:\n",
    "\n",
    "\\begin{align}\n",
    "\\mathbb{P} (\\Omega_k)\n",
    "   &=  \\frac{\\rho}{k-1 + \\rho} \\frac{k}{k + \\rho} \\prod_{i=2}^n \\frac{i-1}{i - 1 + \\rho} \\\\\n",
    "   &=  \\frac{\\rho}{k-1 + \\rho} \\frac{k}{k + \\rho} p^{\\neg \\rho}_{n,1}\n",
    "\\end{align}\n",
    "and\n",
    "\\begin{align}\n",
    "\\mathbb{P}(\\Omega_{2,\\ldots,n})\n",
    "   &=  \\sum_{k = 2}^n \\mathbb{P} (\\Omega_k) \\\\\n",
    "   &=  p^{\\neg \\rho}_{n,1} \\sum_{k = 2}^n \\frac{\\rho}{k-1 + \\rho} \\frac{k}{k + \\rho}\n",
    "\\end{align}"
   ]
  },
  {
   "cell_type": "code",
   "execution_count": 144,
   "metadata": {
    "collapsed": true,
    "deletable": true,
    "editable": true
   },
   "outputs": [],
   "source": [
    "def P_omega_k(k,n,rho):\n",
    "    return p_neg(n,1,rho) * ( (rho*k) / ( (k-1+rho) * (k+rho) ) )\n",
    "\n",
    "def P_omega_2toN(n,rho):\n",
    "    return p_neg(n,1,rho) * sum([(rho*k) / ( (k-1+rho) * (k+rho) ) for k in xrange(2,n)])"
   ]
  },
  {
   "cell_type": "code",
   "execution_count": 68,
   "metadata": {
    "collapsed": false,
    "deletable": true,
    "editable": true
   },
   "outputs": [
    {
     "data": {
      "text/plain": [
       "0.16666666666666666"
      ]
     },
     "execution_count": 68,
     "metadata": {},
     "output_type": "execute_result"
    }
   ],
   "source": [
    "P_omega_k(2,2,1.0)"
   ]
  },
  {
   "cell_type": "code",
   "execution_count": null,
   "metadata": {
    "collapsed": true,
    "deletable": true,
    "editable": true
   },
   "outputs": [],
   "source": []
  }
 ],
 "metadata": {
  "kernelspec": {
   "display_name": "Python 2",
   "language": "python",
   "name": "python2"
  },
  "language_info": {
   "codemirror_mode": {
    "name": "ipython",
    "version": 2
   },
   "file_extension": ".py",
   "mimetype": "text/x-python",
   "name": "python",
   "nbconvert_exporter": "python",
   "pygments_lexer": "ipython2",
   "version": "2.7.13"
  }
 },
 "nbformat": 4,
 "nbformat_minor": 2
}
