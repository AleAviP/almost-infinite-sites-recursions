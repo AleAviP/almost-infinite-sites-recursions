{
 "cells": [
  {
   "cell_type": "markdown",
   "metadata": {},
   "source": [
    "# Meeting 11.03.2016 re. Almost Infinite Sites-Paper\n",
    "\n",
    "\n",
    "#### Present\n",
    "* Mathias C. Cronjager\n",
    "* Paul Jenkins\n",
    "* Jotun Hein\n",
    "\n",
    "#### Issues discussed\n",
    "\n",
    "1. Progress since last meeting\n",
    "2. Next steps\n",
    "  1. Run tests\n",
    "    1. Sensible Oututs?\n",
    "    2. Real Dadatets? (limits on configuration-size)\n",
    "  2. Do parameter-optimization\n",
    "  3. Write up results on tests\n",
    "  4. Change boundary conditions.\n",
    "3. Next meeting\n",
    "  * "
   ]
  }
 ],
 "metadata": {
  "kernelspec": {
   "display_name": "Python 2",
   "language": "python",
   "name": "python2"
  },
  "language_info": {
   "codemirror_mode": {
    "name": "ipython",
    "version": 2
   },
   "file_extension": ".py",
   "mimetype": "text/x-python",
   "name": "python",
   "nbconvert_exporter": "python",
   "pygments_lexer": "ipython2",
   "version": "2.7.6"
  }
 },
 "nbformat": 4,
 "nbformat_minor": 0
}
