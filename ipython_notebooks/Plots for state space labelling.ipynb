{
 "cells": [
  {
   "cell_type": "code",
   "execution_count": 6,
   "metadata": {},
   "outputs": [],
   "source": [
    "import numpy as np"
   ]
  },
  {
   "cell_type": "code",
   "execution_count": 7,
   "metadata": {},
   "outputs": [],
   "source": [
    "import matplotlib.pyplot as plt"
   ]
  },
  {
   "cell_type": "code",
   "execution_count": 8,
   "metadata": {},
   "outputs": [],
   "source": [
    "import pandas as pd #warnings here may be ignored."
   ]
  },
  {
   "cell_type": "code",
   "execution_count": 22,
   "metadata": {},
   "outputs": [],
   "source": [
    "a = pd.read_csv(filepath_or_buffer='/home/mathias/Programming/Python/\\\n",
    "almost-infinite-sites-recursions/100-by-100-state-space-sizes.csv',\n",
    "                delimiter=';',\n",
    "                skipinitialspace=True)"
   ]
  },
  {
   "cell_type": "code",
   "execution_count": 23,
   "metadata": {},
   "outputs": [
    {
     "name": "stdout",
     "output_type": "stream",
     "text": [
      "<class 'pandas.core.frame.DataFrame'>\n",
      "RangeIndex: 9999 entries, 0 to 9998\n",
      "Data columns (total 6 columns):\n",
      "n                    9999 non-null int64\n",
      "s                    9999 non-null int64\n",
      "seqUlab-siteUlab     9999 non-null object\n",
      "seqLab-siteUlab      9999 non-null object\n",
      "seqUlab-siteLab      9999 non-null object\n",
      "seqLab-siteLab       9999 non-null object\n",
      "dtypes: int64(2), object(4)\n",
      "memory usage: 468.8+ KB\n"
     ]
    }
   ],
   "source": [
    "a.info()"
   ]
  },
  {
   "cell_type": "code",
   "execution_count": 10,
   "metadata": {},
   "outputs": [
    {
     "data": {
      "text/html": [
       "<div>\n",
       "<style scoped>\n",
       "    .dataframe tbody tr th:only-of-type {\n",
       "        vertical-align: middle;\n",
       "    }\n",
       "\n",
       "    .dataframe tbody tr th {\n",
       "        vertical-align: top;\n",
       "    }\n",
       "\n",
       "    .dataframe thead th {\n",
       "        text-align: right;\n",
       "    }\n",
       "</style>\n",
       "<table border=\"1\" class=\"dataframe\">\n",
       "  <thead>\n",
       "    <tr style=\"text-align: right;\">\n",
       "      <th></th>\n",
       "      <th>n</th>\n",
       "      <th>s</th>\n",
       "      <th>seqUlab-siteUlab</th>\n",
       "      <th>seqLab-siteUlab</th>\n",
       "      <th>seqUlab-siteLab</th>\n",
       "      <th>seqLab-siteLab</th>\n",
       "    </tr>\n",
       "  </thead>\n",
       "  <tbody>\n",
       "    <tr>\n",
       "      <th>0</th>\n",
       "      <td>2</td>\n",
       "      <td>0</td>\n",
       "      <td>1</td>\n",
       "      <td>1</td>\n",
       "      <td>1</td>\n",
       "      <td>1</td>\n",
       "    </tr>\n",
       "    <tr>\n",
       "      <th>1</th>\n",
       "      <td>2</td>\n",
       "      <td>1</td>\n",
       "      <td>1</td>\n",
       "      <td>2</td>\n",
       "      <td>1</td>\n",
       "      <td>2</td>\n",
       "    </tr>\n",
       "    <tr>\n",
       "      <th>2</th>\n",
       "      <td>2</td>\n",
       "      <td>2</td>\n",
       "      <td>2</td>\n",
       "      <td>3</td>\n",
       "      <td>2</td>\n",
       "      <td>4</td>\n",
       "    </tr>\n",
       "    <tr>\n",
       "      <th>3</th>\n",
       "      <td>2</td>\n",
       "      <td>3</td>\n",
       "      <td>2</td>\n",
       "      <td>4</td>\n",
       "      <td>4</td>\n",
       "      <td>8</td>\n",
       "    </tr>\n",
       "    <tr>\n",
       "      <th>4</th>\n",
       "      <td>2</td>\n",
       "      <td>4</td>\n",
       "      <td>3</td>\n",
       "      <td>5</td>\n",
       "      <td>8</td>\n",
       "      <td>16</td>\n",
       "    </tr>\n",
       "  </tbody>\n",
       "</table>\n",
       "</div>"
      ],
      "text/plain": [
       "   n   s  seqUlab-siteUlab  seqLab-siteUlab  seqUlab-siteLab  seqLab-siteLab\n",
       "0   2   0                1                1                1               1\n",
       "1   2   1                1                2                1               2\n",
       "2   2   2                2                3                2               4\n",
       "3   2   3                2                4                4               8\n",
       "4   2   4                3                5                8              16"
      ]
     },
     "execution_count": 10,
     "metadata": {},
     "output_type": "execute_result"
    }
   ],
   "source": [
    "a.head()"
   ]
  },
  {
   "cell_type": "code",
   "execution_count": 24,
   "metadata": {},
   "outputs": [
    {
     "data": {
      "text/html": [
       "<div>\n",
       "<style scoped>\n",
       "    .dataframe tbody tr th:only-of-type {\n",
       "        vertical-align: middle;\n",
       "    }\n",
       "\n",
       "    .dataframe tbody tr th {\n",
       "        vertical-align: top;\n",
       "    }\n",
       "\n",
       "    .dataframe thead th {\n",
       "        text-align: right;\n",
       "    }\n",
       "</style>\n",
       "<table border=\"1\" class=\"dataframe\">\n",
       "  <thead>\n",
       "    <tr style=\"text-align: right;\">\n",
       "      <th></th>\n",
       "      <th>n</th>\n",
       "      <th>s</th>\n",
       "      <th>seqUlab-siteUlab</th>\n",
       "      <th>seqLab-siteUlab</th>\n",
       "      <th>seqUlab-siteLab</th>\n",
       "      <th>seqLab-siteLab</th>\n",
       "    </tr>\n",
       "  </thead>\n",
       "  <tbody>\n",
       "    <tr>\n",
       "      <th>9994</th>\n",
       "      <td>100</td>\n",
       "      <td>96</td>\n",
       "      <td>2212934188071281567269057463812441593683071087...</td>\n",
       "      <td>1210404285261741254661272003792924790973553513...</td>\n",
       "      <td>3287343190114807612778984400224244210587605272...</td>\n",
       "      <td>1561478987870801899088799589025739129078706591...</td>\n",
       "    </tr>\n",
       "    <tr>\n",
       "      <th>9995</th>\n",
       "      <td>100</td>\n",
       "      <td>97</td>\n",
       "      <td>7900863573987805244547277774845882934565162950...</td>\n",
       "      <td>6046958178223346971631124274163501809587943826...</td>\n",
       "      <td>7964177735150354109870248243338286985279438334...</td>\n",
       "      <td>5564330424339822149065117473726054317786383186...</td>\n",
       "    </tr>\n",
       "    <tr>\n",
       "      <th>9996</th>\n",
       "      <td>100</td>\n",
       "      <td>98</td>\n",
       "      <td>2798981224394404155783968676378228439119031821...</td>\n",
       "      <td>2979651851044212448659663723715561957508091813...</td>\n",
       "      <td>1928042226600893297956489969564811960797069195...</td>\n",
       "      <td>1967947475351229900367159179263607232082388270...</td>\n",
       "    </tr>\n",
       "    <tr>\n",
       "      <th>9997</th>\n",
       "      <td>100</td>\n",
       "      <td>99</td>\n",
       "      <td>9839808102996181894376476546134266385576213556...</td>\n",
       "      <td>1448512754793571247688538852877848034626465347...</td>\n",
       "      <td>4664138099056165119567938364268360180740888497...</td>\n",
       "      <td>6908825121095948105865736732029419378663115416...</td>\n",
       "    </tr>\n",
       "    <tr>\n",
       "      <th>9998</th>\n",
       "      <td>100</td>\n",
       "      <td>100</td>\n",
       "      <td>3433013527528902823501838689422887926735079248...</td>\n",
       "      <td>6948813499844370610580710468272134048635979175...</td>\n",
       "      <td>1127470346946973800070381667921871261032841704...</td>\n",
       "      <td>2407960270576190842115384760436364099514739737...</td>\n",
       "    </tr>\n",
       "  </tbody>\n",
       "</table>\n",
       "</div>"
      ],
      "text/plain": [
       "       n    s                                   seqUlab-siteUlab   \\\n",
       "9994  100   96  2212934188071281567269057463812441593683071087...   \n",
       "9995  100   97  7900863573987805244547277774845882934565162950...   \n",
       "9996  100   98  2798981224394404155783968676378228439119031821...   \n",
       "9997  100   99  9839808102996181894376476546134266385576213556...   \n",
       "9998  100  100  3433013527528902823501838689422887926735079248...   \n",
       "\n",
       "                                       seqLab-siteUlab   \\\n",
       "9994  1210404285261741254661272003792924790973553513...   \n",
       "9995  6046958178223346971631124274163501809587943826...   \n",
       "9996  2979651851044212448659663723715561957508091813...   \n",
       "9997  1448512754793571247688538852877848034626465347...   \n",
       "9998  6948813499844370610580710468272134048635979175...   \n",
       "\n",
       "                                       seqUlab-siteLab   \\\n",
       "9994  3287343190114807612778984400224244210587605272...   \n",
       "9995  7964177735150354109870248243338286985279438334...   \n",
       "9996  1928042226600893297956489969564811960797069195...   \n",
       "9997  4664138099056165119567938364268360180740888497...   \n",
       "9998  1127470346946973800070381667921871261032841704...   \n",
       "\n",
       "                                         seqLab-siteLab  \n",
       "9994  1561478987870801899088799589025739129078706591...  \n",
       "9995  5564330424339822149065117473726054317786383186...  \n",
       "9996  1967947475351229900367159179263607232082388270...  \n",
       "9997  6908825121095948105865736732029419378663115416...  \n",
       "9998  2407960270576190842115384760436364099514739737...  "
      ]
     },
     "execution_count": 24,
     "metadata": {},
     "output_type": "execute_result"
    }
   ],
   "source": [
    "a.tail()"
   ]
  },
  {
   "cell_type": "code",
   "execution_count": 30,
   "metadata": {},
   "outputs": [
    {
     "ename": "TypeError",
     "evalue": "'last' only supports a DatetimeIndex index",
     "output_type": "error",
     "traceback": [
      "\u001b[0;31m---------------------------------------------------------------------------\u001b[0m",
      "\u001b[0;31mTypeError\u001b[0m                                 Traceback (most recent call last)",
      "\u001b[0;32m<ipython-input-30-27def3e85d5c>\u001b[0m in \u001b[0;36m<module>\u001b[0;34m()\u001b[0m\n\u001b[0;32m----> 1\u001b[0;31m \u001b[0ma\u001b[0m\u001b[0;34m.\u001b[0m\u001b[0mlast\u001b[0m\u001b[0;34m(\u001b[0m\u001b[0;36m0\u001b[0m\u001b[0;34m)\u001b[0m\u001b[0;34m\u001b[0m\u001b[0m\n\u001b[0m",
      "\u001b[0;32m/home/mathias/.local/lib/python2.7/site-packages/pandas/core/generic.pyc\u001b[0m in \u001b[0;36mlast\u001b[0;34m(self, offset)\u001b[0m\n\u001b[1;32m   7224\u001b[0m         \u001b[0;32mfrom\u001b[0m \u001b[0mpandas\u001b[0m\u001b[0;34m.\u001b[0m\u001b[0mtseries\u001b[0m\u001b[0;34m.\u001b[0m\u001b[0mfrequencies\u001b[0m \u001b[0;32mimport\u001b[0m \u001b[0mto_offset\u001b[0m\u001b[0;34m\u001b[0m\u001b[0m\n\u001b[1;32m   7225\u001b[0m         \u001b[0;32mif\u001b[0m \u001b[0;32mnot\u001b[0m \u001b[0misinstance\u001b[0m\u001b[0;34m(\u001b[0m\u001b[0mself\u001b[0m\u001b[0;34m.\u001b[0m\u001b[0mindex\u001b[0m\u001b[0;34m,\u001b[0m \u001b[0mDatetimeIndex\u001b[0m\u001b[0;34m)\u001b[0m\u001b[0;34m:\u001b[0m\u001b[0;34m\u001b[0m\u001b[0m\n\u001b[0;32m-> 7226\u001b[0;31m             \u001b[0;32mraise\u001b[0m \u001b[0mTypeError\u001b[0m\u001b[0;34m(\u001b[0m\u001b[0;34m\"'last' only supports a DatetimeIndex index\"\u001b[0m\u001b[0;34m)\u001b[0m\u001b[0;34m\u001b[0m\u001b[0m\n\u001b[0m\u001b[1;32m   7227\u001b[0m \u001b[0;34m\u001b[0m\u001b[0m\n\u001b[1;32m   7228\u001b[0m         \u001b[0;32mif\u001b[0m \u001b[0mlen\u001b[0m\u001b[0;34m(\u001b[0m\u001b[0mself\u001b[0m\u001b[0;34m.\u001b[0m\u001b[0mindex\u001b[0m\u001b[0;34m)\u001b[0m \u001b[0;34m==\u001b[0m \u001b[0;36m0\u001b[0m\u001b[0;34m:\u001b[0m\u001b[0;34m\u001b[0m\u001b[0m\n",
      "\u001b[0;31mTypeError\u001b[0m: 'last' only supports a DatetimeIndex index"
     ]
    }
   ],
   "source": []
  }
 ],
 "metadata": {
  "kernelspec": {
   "display_name": "Python 2",
   "language": "python",
   "name": "python2"
  },
  "language_info": {
   "codemirror_mode": {
    "name": "ipython",
    "version": 2
   },
   "file_extension": ".py",
   "mimetype": "text/x-python",
   "name": "python",
   "nbconvert_exporter": "python",
   "pygments_lexer": "ipython2",
   "version": "2.7.15rc1"
  }
 },
 "nbformat": 4,
 "nbformat_minor": 2
}
