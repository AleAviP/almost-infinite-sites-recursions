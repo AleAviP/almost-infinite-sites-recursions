{
 "cells": [
  {
   "cell_type": "code",
   "execution_count": 1,
   "metadata": {},
   "outputs": [],
   "source": [
    "# from scipy.misc import comb"
   ]
  },
  {
   "cell_type": "code",
   "execution_count": 2,
   "metadata": {},
   "outputs": [],
   "source": [
    "def fallingFactorial(n,k):\n",
    "    '''compute n x (n-1) x ... x (n-k + 1)'''\n",
    "    return reduce(lambda x,y: x*y, (n - i for i in xrange(k)), 1)"
   ]
  },
  {
   "cell_type": "code",
   "execution_count": 3,
   "metadata": {},
   "outputs": [],
   "source": [
    "def factorial(n):\n",
    "    return fallingFactorial(n,n-1)"
   ]
  },
  {
   "cell_type": "code",
   "execution_count": 4,
   "metadata": {},
   "outputs": [],
   "source": [
    "def binomial(n,k):\n",
    "    return fallingFactorial(n,k)/factorial(k)"
   ]
  },
  {
   "cell_type": "code",
   "execution_count": 5,
   "metadata": {},
   "outputs": [],
   "source": [
    "def multinomial(n, nlist):\n",
    "    assert n == sum(nlist)\n",
    "    return reduce(lambda x,y: x/y, map(factorial,nlist) ,factorial(n))"
   ]
  },
  {
   "cell_type": "code",
   "execution_count": 6,
   "metadata": {},
   "outputs": [],
   "source": [
    "def divisors(n):\n",
    "    return (x for x in xrange(1,n+1) if n%x == 0)"
   ]
  },
  {
   "cell_type": "code",
   "execution_count": 7,
   "metadata": {},
   "outputs": [],
   "source": [
    "def memoize(f):\n",
    "    '''Memoize a function\n",
    "    Returns a version of f() which stores all computed values for later reference.\n",
    "    The first time f(x) is called, we evaulate f(x) as usual. We then proceed to store\n",
    "    the key-value-pair (x,f(x)) in a dictionary D. The next time f(x) is called, we notice\n",
    "    that 'x' is in the keys of D and we just retrieve D[x] and return it rather than\n",
    "    calling f(x) again.'''\n",
    "\n",
    "    memory = {}\n",
    "\n",
    "    def memoized_function(*args):\n",
    "        try:\n",
    "            return memory[args]\n",
    "        except KeyError:\n",
    "            f_x = f(*args)\n",
    "            memory[args] = f_x\n",
    "            return memory[args]\n",
    "\n",
    "    return memoized_function"
   ]
  },
  {
   "cell_type": "code",
   "execution_count": 8,
   "metadata": {},
   "outputs": [],
   "source": [
    "# def waysToGroupIntoIndistinctGroups(nElements,groupSizes):\n",
    "#     ways_with_distinct_groups = multinomial(nElements,groupSizes)\n",
    "#     groupSizeCounts = {}\n",
    "#     for groupSize in groupSizes:\n",
    "#         try:\n",
    "#             groupSizeCounts[groupSize] += 1\n",
    "#         except KeyError:\n",
    "#             groupSizeCounts[groupSize] = 1\n",
    "#     waysToRelabelGroups = reduce(lambda x,y: x * factorial(y), groupSizeCounts.values(), 1)\n",
    "#     assert ways_with_distinct_groups % waysToRelabelGroups == 0\n",
    "#     return ways_with_distinct_groups / waysToRelabelGroups\n",
    "    "
   ]
  },
  {
   "cell_type": "code",
   "execution_count": 9,
   "metadata": {},
   "outputs": [],
   "source": [
    "@memoize\n",
    "def t_p_LU(n,l):\n",
    "    '''count the number of planted unordered trees with n nodes, and l leaves, where\n",
    "    leaves (nodes with no children) are labelled.'''\n",
    "    if n==1 and l==1:\n",
    "        return 1\n",
    "    if n < 1:\n",
    "        return 0\n",
    "    if 2 > l or l > n-1:\n",
    "        return 0\n",
    "    else:\n",
    "        a = t_p_LU(n - 1, l)\n",
    "        b = t_np_LU(n-1,l-1)\n",
    "        result = a + b\n",
    "        return result"
   ]
  },
  {
   "cell_type": "code",
   "execution_count": 14,
   "metadata": {},
   "outputs": [],
   "source": [
    "@memoize\n",
    "def t_np_LU(n,l):\n",
    "    if l == n-1:\n",
    "        return 1\n",
    "    if 2 <= l < n-1 and n > 2:\n",
    "        summand = 0\n",
    "        for n1 in xrange(2,n):\n",
    "            for l1 in xrange(1,min(l,n1)):\n",
    "                n2 = n - n1\n",
    "                l2 = l - l1\n",
    "                labelFactor = binomial(l,l1)\n",
    "                t1Count = t_p_LU(n1,l1 + 1) + t_np_LU(n1,l1)\n",
    "                t2Count = t_p_LU(n2,l2 + int(n2 > 1)) + t_np_LU(n2,l2)\n",
    "                summand += labelFactor * n2 * t1Count * t2Count\n",
    "        try:\n",
    "            assert summand % (n - 1) == 0\n",
    "        except AssertionError:\n",
    "            print 'Count (= %i) is not divisible by n-1 (= %i)'%(summand,n-1)\n",
    "            print ' Make sure the numebrs and boundary-conditions are right!'\n",
    "        return summand / (n - 1)\n",
    "    else:\n",
    "        return 0"
   ]
  },
  {
   "cell_type": "code",
   "execution_count": 11,
   "metadata": {
    "scrolled": false
   },
   "outputs": [
    {
     "name": "stdout",
     "output_type": "stream",
     "text": [
      "\\begin{tabular}{rrrrrrr}\n",
      "Sample Size & \\multicolumn{6}{c}{Segregating Sites}\\\\\n",
      " &0 &1 &2 &3 &4 &5\\\\\n",
      "2 & 1& 2& 3& 4& 5& 6\\\\\n",
      "3 & 1& 6& 18& 40& 75& 126\\\\\n",
      "4 & 1& 14& 75& 260& 700& 1,596\\\\\n",
      "5 & 1& 30& 270& 1,400& 5,250& 15,876\\\\\n",
      "6 & 1& 62& 903& 6,804& 34,755& 136,962\\\\\n",
      "7 & 1& 126& 2,898& 31,080& 212,625& 1,076,922\\\\\n",
      "8 & 1& 254& 9,075& 136,420& 1,233,650& 7,941,912\\\\\n",
      "9 & 1& 510& 27,990& 583,000& 6,897,000& 55,927,872\\\\\n",
      "10 & 1& 1,022& 85,503& 2,446,004& 37,542,505& 380,618,238\\\\\n",
      "11 & 1& 2,046& 259,578& 10,130,120& 200,375,175& 2,524,159,638\\\\\n",
      "12 & 1& 4,094& 784,875& 41,566,980& 1,053,834,600& 16,409,559,348\\\\\n",
      "13 & 1& 8,190& 2,366,910& 169,423,800& 5,480,952,750& 105,034,499,388\\\\\n",
      "14 & 1& 16,382& 7,125,303& 687,195,604& 28,263,758,255& 664,123,506,234\\\\\n",
      "15 & 1& 32,766& 21,425,058& 2,777,349,160& 144,790,477,725& 4,158,489,610,674\\\\\n",
      "16 & 1& 65,534& 64,373,475& 11,195,227,940& 737,946,423,550& 25,836,473,372,304\\\\\n",
      "17 & 1& 131,070& 193,317,030& 45,038,667,800& 3,746,030,452,500& 159,514,076,776,824\\\\\n",
      "18 & 1& 262,142& 580,344,303& 180,928,463,604& 18,956,312,842,005& 979,832,036,071,350\\\\\n",
      "19 & 1& 524,286& 1,741,819,338& 726,036,280,200& 95,689,109,560,275& 5,993,819,147,900,430\\\\\n",
      "20 & 1& 1,048,574& 5,227,030,875& 2,911,114,495,300& 482,084,440,920,500& 36,541,416,216,507,180\n",
      "\\end{tabular}\n"
     ]
    }
   ],
   "source": [
    "def generateStateSpaceTable(nMax = 20, sMax = 5, t_function = t_np_LU):\n",
    "    header = '\\\\begin{tabular}{%s}'%('r'*(sMax + 2))\n",
    "    header += '\\n'\n",
    "    header += 'Sample Size & \\\\multicolumn{%i}{c}{Segregating Sites}'%(sMax + 1)\n",
    "    header += '\\\\\\\\\\n'\n",
    "    header += ' &' + ' &'.join([str(s) for s in range(0,sMax+1)])\n",
    "    lines = [header]\n",
    "    for n in range(2,nMax+1):\n",
    "        line = '%i '%n\n",
    "        for s in range(0,sMax+1):\n",
    "            N = n + s + 1\n",
    "            l = n\n",
    "            states = t_function(N,l)\n",
    "            line += '& {:,}'.format(states)\n",
    "            # print '%i Lab. seq., %i Ulab. pos : %i'%(n,s,t_np_LU(N,l))\n",
    "        lines.append(line)\n",
    "    return '\\\\\\\\\\n'.join(lines) + '\\n\\\\end{tabular}'\n",
    "\n",
    "print generateStateSpaceTable()"
   ]
  },
  {
   "cell_type": "code",
   "execution_count": 12,
   "metadata": {
    "scrolled": false
   },
   "outputs": [],
   "source": [
    "# for n in range(2,11):\n",
    "#     for s in range(0,11):\n",
    "#         N = n + s + 1\n",
    "#         l = n\n",
    "#         print '%i Lab. seq., %i Ulab. pos : %i'%(n,s,t_np_LU(N,l))"
   ]
  },
  {
   "cell_type": "code",
   "execution_count": 13,
   "metadata": {},
   "outputs": [],
   "source": [
    "## WRONG!\n",
    "# def tLU(n,l):\n",
    "#     if n < 1 or l > n:\n",
    "#         return 0L\n",
    "#     if n == 1:\n",
    "#         return long(l == 1)\n",
    "#     elif l == 1:\n",
    "#         return 1\n",
    "#     else:\n",
    "#         summand = float(0L)\n",
    "#         for n1 in range(1,n):\n",
    "#             m = n - n1\n",
    "#             n2Range = divisors(m)\n",
    "#             # jRange = (m/d for d in dRange)\n",
    "#             for n2 in n2Range:\n",
    "#                 j = m/n2\n",
    "#                 for l2 in range(1,min(n2,l - 1)):\n",
    "#                     l1 = l - l2 * j\n",
    "#                     assert l1 > 0\n",
    "#                     t1 = tLU(n1,l1)\n",
    "#                     t2 = tLU(n2,l2)\n",
    "#                     weight = n2\n",
    "                    \n",
    "#                     waysToDistributeLabels = waysToGroupIntoIndistinctGroups(l,(l1,)+(l2,)*j)\n",
    "#                     print t1,n1,l1\n",
    "#                     print t2,n2,l2\n",
    "#                     print weight\n",
    "#                     print waysToDistributeLabels\n",
    "#                     summand +=  t1 * t2 * weight * waysToDistributeLabels\n",
    "#         print 'summand_final = %s'%str(summand)\n",
    "#         return summand / (n - 1)"
   ]
  }
 ],
 "metadata": {
  "kernelspec": {
   "display_name": "Python 2",
   "language": "python",
   "name": "python2"
  },
  "language_info": {
   "codemirror_mode": {
    "name": "ipython",
    "version": 2
   },
   "file_extension": ".py",
   "mimetype": "text/x-python",
   "name": "python",
   "nbconvert_exporter": "python",
   "pygments_lexer": "ipython2",
   "version": "2.7.15rc1"
  }
 },
 "nbformat": 4,
 "nbformat_minor": 2
}
