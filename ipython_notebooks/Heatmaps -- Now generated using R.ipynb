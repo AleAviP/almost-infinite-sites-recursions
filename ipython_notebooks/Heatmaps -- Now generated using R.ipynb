{
 "cells": [
  {
   "cell_type": "markdown",
   "metadata": {
    "collapsed": true
   },
   "source": [
    "# Setting up the environment"
   ]
  },
  {
   "cell_type": "code",
   "execution_count": 1,
   "metadata": {
    "collapsed": false
   },
   "outputs": [
    {
     "data": {
      "text/html": [
       "'/home/mathias/programming/almost-infinite-sites-recursions/ipython_notebooks'"
      ],
      "text/latex": [
       "'/home/mathias/programming/almost-infinite-sites-recursions/ipython\\_notebooks'"
      ],
      "text/markdown": [
       "'/home/mathias/programming/almost-infinite-sites-recursions/ipython_notebooks'"
      ],
      "text/plain": [
       "[1] \"/home/mathias/programming/almost-infinite-sites-recursions/ipython_notebooks\""
      ]
     },
     "metadata": {},
     "output_type": "display_data"
    }
   ],
   "source": [
    "getwd()"
   ]
  },
  {
   "cell_type": "code",
   "execution_count": 24,
   "metadata": {
    "collapsed": false
   },
   "outputs": [],
   "source": [
    "raw_0 <- read.table('data/heatmap_b_0_n_2-10_k_0-8_samples_30.csv', header = TRUE, sep=',')\n",
    "raw_1 <- read.table('data/heatmap_b_1_n_2-10_k_0-8_samples_30.csv', header = TRUE, sep=',')"
   ]
  },
  {
   "cell_type": "markdown",
   "metadata": {},
   "source": [
    "## Playing around a little bit"
   ]
  },
  {
   "cell_type": "code",
   "execution_count": 26,
   "metadata": {
    "collapsed": false
   },
   "outputs": [
    {
     "data": {
      "text/html": [
       "<ol class=list-inline>\n",
       "\t<li>'n'</li>\n",
       "\t<li>'columns'</li>\n",
       "\t<li>'b_min'</li>\n",
       "\t<li>'b_extra'</li>\n",
       "\t<li>'size_small'</li>\n",
       "\t<li>'size_smaller'</li>\n",
       "\t<li>'size'</li>\n",
       "\t<li>'non_0_terms'</li>\n",
       "\t<li>'q'</li>\n",
       "\t<li>'time'</li>\n",
       "</ol>\n"
      ],
      "text/latex": [
       "\\begin{enumerate*}\n",
       "\\item 'n'\n",
       "\\item 'columns'\n",
       "\\item 'b\\_min'\n",
       "\\item 'b\\_extra'\n",
       "\\item 'size\\_small'\n",
       "\\item 'size\\_smaller'\n",
       "\\item 'size'\n",
       "\\item 'non\\_0\\_terms'\n",
       "\\item 'q'\n",
       "\\item 'time'\n",
       "\\end{enumerate*}\n"
      ],
      "text/markdown": [
       "1. 'n'\n",
       "2. 'columns'\n",
       "3. 'b_min'\n",
       "4. 'b_extra'\n",
       "5. 'size_small'\n",
       "6. 'size_smaller'\n",
       "7. 'size'\n",
       "8. 'non_0_terms'\n",
       "9. 'q'\n",
       "10. 'time'\n",
       "\n",
       "\n"
      ],
      "text/plain": [
       " [1] \"n\"            \"columns\"      \"b_min\"        \"b_extra\"      \"size_small\"  \n",
       " [6] \"size_smaller\" \"size\"         \"non_0_terms\"  \"q\"            \"time\"        "
      ]
     },
     "metadata": {},
     "output_type": "display_data"
    }
   ],
   "source": [
    "# we display column-names\n",
    "names(raw_0)"
   ]
  },
  {
   "cell_type": "code",
   "execution_count": 31,
   "metadata": {
    "collapsed": false
   },
   "outputs": [
    {
     "data": {
      "text/html": [
       "<ol class=list-inline>\n",
       "\t<li>2430</li>\n",
       "\t<li>10</li>\n",
       "</ol>\n"
      ],
      "text/latex": [
       "\\begin{enumerate*}\n",
       "\\item 2430\n",
       "\\item 10\n",
       "\\end{enumerate*}\n"
      ],
      "text/markdown": [
       "1. 2430\n",
       "2. 10\n",
       "\n",
       "\n"
      ],
      "text/plain": [
       "[1] 2430   10"
      ]
     },
     "metadata": {},
     "output_type": "display_data"
    }
   ],
   "source": [
    "#we examine the dimensions of the table\n",
    "dim(raw_0)"
   ]
  },
  {
   "cell_type": "code",
   "execution_count": 25,
   "metadata": {
    "collapsed": false
   },
   "outputs": [
    {
     "data": {
      "text/html": [
       "<table>\n",
       "<thead><tr><th scope=col>n</th><th scope=col>columns</th><th scope=col>b_min</th><th scope=col>b_extra</th><th scope=col>size_small</th><th scope=col>size_smaller</th><th scope=col>size</th><th scope=col>non_0_terms</th><th scope=col>q</th><th scope=col>time</th></tr></thead>\n",
       "<tbody>\n",
       "\t<tr><td>7           </td><td>8           </td><td>7           </td><td>0           </td><td>6202        </td><td>121         </td><td>6666        </td><td>121         </td><td>5.368044e-09</td><td>52.7072189  </td></tr>\n",
       "\t<tr><td>2           </td><td>6           </td><td>8           </td><td>0           </td><td> 917        </td><td> 91         </td><td>1268        </td><td> 91         </td><td>1.553342e-04</td><td>11.6303499  </td></tr>\n",
       "\t<tr><td>6           </td><td>3           </td><td>2           </td><td>0           </td><td> 217        </td><td> 16         </td><td> 234        </td><td> 16         </td><td>3.208339e-04</td><td> 0.9930911  </td></tr>\n",
       "\t<tr><td>9           </td><td>6           </td><td>5           </td><td>0           </td><td>5360        </td><td>159         </td><td>6018        </td><td>159         </td><td>2.592799e-07</td><td>72.3868380  </td></tr>\n",
       "\t<tr><td>6           </td><td>7           </td><td>8           </td><td>0           </td><td>2246        </td><td>121         </td><td>2653        </td><td>121         </td><td>6.575570e-07</td><td>16.5748529  </td></tr>\n",
       "\t<tr><td>4           </td><td>4           </td><td>3           </td><td>0           </td><td> 177        </td><td> 15         </td><td> 208        </td><td> 15         </td><td>5.110087e-04</td><td> 1.2952881  </td></tr>\n",
       "</tbody>\n",
       "</table>\n"
      ],
      "text/latex": [
       "\\begin{tabular}{r|llllllllll}\n",
       " n & columns & b\\_min & b\\_extra & size\\_small & size\\_smaller & size & non\\_0\\_terms & q & time\\\\\n",
       "\\hline\n",
       "\t 7            & 8            & 7            & 0            & 6202         & 121          & 6666         & 121          & 5.368044e-09 & 52.7072189  \\\\\n",
       "\t 2            & 6            & 8            & 0            &  917         &  91          & 1268         &  91          & 1.553342e-04 & 11.6303499  \\\\\n",
       "\t 6            & 3            & 2            & 0            &  217         &  16          &  234         &  16          & 3.208339e-04 &  0.9930911  \\\\\n",
       "\t 9            & 6            & 5            & 0            & 5360         & 159          & 6018         & 159          & 2.592799e-07 & 72.3868380  \\\\\n",
       "\t 6            & 7            & 8            & 0            & 2246         & 121          & 2653         & 121          & 6.575570e-07 & 16.5748529  \\\\\n",
       "\t 4            & 4            & 3            & 0            &  177         &  15          &  208         &  15          & 5.110087e-04 &  1.2952881  \\\\\n",
       "\\end{tabular}\n"
      ],
      "text/plain": [
       "  n columns b_min b_extra size_small size_smaller size non_0_terms q           \n",
       "1 7 8       7     0       6202       121          6666 121         5.368044e-09\n",
       "2 2 6       8     0        917        91          1268  91         1.553342e-04\n",
       "3 6 3       2     0        217        16           234  16         3.208339e-04\n",
       "4 9 6       5     0       5360       159          6018 159         2.592799e-07\n",
       "5 6 7       8     0       2246       121          2653 121         6.575570e-07\n",
       "6 4 4       3     0        177        15           208  15         5.110087e-04\n",
       "  time      \n",
       "1 52.7072189\n",
       "2 11.6303499\n",
       "3  0.9930911\n",
       "4 72.3868380\n",
       "5 16.5748529\n",
       "6  1.2952881"
      ]
     },
     "metadata": {},
     "output_type": "display_data"
    }
   ],
   "source": [
    "# print the first lines of raw\n",
    "head(raw_0)"
   ]
  },
  {
   "cell_type": "code",
   "execution_count": 33,
   "metadata": {
    "collapsed": false
   },
   "outputs": [
    {
     "name": "stdout",
     "output_type": "stream",
     "text": [
      "[1] 30 10\n"
     ]
    },
    {
     "data": {
      "text/html": [
       "<table>\n",
       "<thead><tr><th></th><th scope=col>n</th><th scope=col>columns</th><th scope=col>b_min</th><th scope=col>b_extra</th><th scope=col>size_small</th><th scope=col>size_smaller</th><th scope=col>size</th><th scope=col>non_0_terms</th><th scope=col>q</th><th scope=col>time</th></tr></thead>\n",
       "<tbody>\n",
       "\t<tr><th scope=row>179</th><td>2           </td><td>1           </td><td>0           </td><td>0           </td><td>2           </td><td>2           </td><td>2           </td><td>2           </td><td>1           </td><td>0.0014450550</td></tr>\n",
       "\t<tr><th scope=row>220</th><td>2           </td><td>1           </td><td>0           </td><td>0           </td><td>2           </td><td>2           </td><td>2           </td><td>2           </td><td>1           </td><td>0.0009438992</td></tr>\n",
       "\t<tr><th scope=row>270</th><td>2           </td><td>1           </td><td>0           </td><td>0           </td><td>2           </td><td>2           </td><td>2           </td><td>2           </td><td>1           </td><td>0.0013220310</td></tr>\n",
       "\t<tr><th scope=row>323</th><td>2           </td><td>1           </td><td>0           </td><td>0           </td><td>2           </td><td>2           </td><td>2           </td><td>2           </td><td>1           </td><td>0.0010929108</td></tr>\n",
       "\t<tr><th scope=row>335</th><td>2           </td><td>1           </td><td>0           </td><td>0           </td><td>2           </td><td>2           </td><td>2           </td><td>2           </td><td>1           </td><td>0.0011019707</td></tr>\n",
       "\t<tr><th scope=row>351</th><td>2           </td><td>1           </td><td>0           </td><td>0           </td><td>2           </td><td>2           </td><td>2           </td><td>2           </td><td>1           </td><td>0.0009498596</td></tr>\n",
       "</tbody>\n",
       "</table>\n"
      ],
      "text/latex": [
       "\\begin{tabular}{r|llllllllll}\n",
       "  & n & columns & b\\_min & b\\_extra & size\\_small & size\\_smaller & size & non\\_0\\_terms & q & time\\\\\n",
       "\\hline\n",
       "\t179 & 2            & 1            & 0            & 0            & 2            & 2            & 2            & 2            & 1            & 0.0014450550\\\\\n",
       "\t220 & 2            & 1            & 0            & 0            & 2            & 2            & 2            & 2            & 1            & 0.0009438992\\\\\n",
       "\t270 & 2            & 1            & 0            & 0            & 2            & 2            & 2            & 2            & 1            & 0.0013220310\\\\\n",
       "\t323 & 2            & 1            & 0            & 0            & 2            & 2            & 2            & 2            & 1            & 0.0010929108\\\\\n",
       "\t335 & 2            & 1            & 0            & 0            & 2            & 2            & 2            & 2            & 1            & 0.0011019707\\\\\n",
       "\t351 & 2            & 1            & 0            & 0            & 2            & 2            & 2            & 2            & 1            & 0.0009498596\\\\\n",
       "\\end{tabular}\n"
      ],
      "text/plain": [
       "    n columns b_min b_extra size_small size_smaller size non_0_terms q\n",
       "179 2 1       0     0       2          2            2    2           1\n",
       "220 2 1       0     0       2          2            2    2           1\n",
       "270 2 1       0     0       2          2            2    2           1\n",
       "323 2 1       0     0       2          2            2    2           1\n",
       "335 2 1       0     0       2          2            2    2           1\n",
       "351 2 1       0     0       2          2            2    2           1\n",
       "    time        \n",
       "179 0.0014450550\n",
       "220 0.0009438992\n",
       "270 0.0013220310\n",
       "323 0.0010929108\n",
       "335 0.0011019707\n",
       "351 0.0009498596"
      ]
     },
     "metadata": {},
     "output_type": "display_data"
    }
   ],
   "source": [
    "# We give an exaple of how to logically index a table and how to index by colum\n",
    "samples_n_2_k_0 <- raw_0[raw_0$n==2 & raw_0$b_min==0,]\n",
    "print(dim(samples_n_2_k_0))\n",
    "head(samples_n_2_k_0)"
   ]
  },
  {
   "cell_type": "code",
   "execution_count": 53,
   "metadata": {
    "collapsed": false
   },
   "outputs": [
    {
     "data": {
      "text/html": [
       "<ol class=list-inline>\n",
       "\t<li>2</li>\n",
       "\t<li>0</li>\n",
       "</ol>\n"
      ],
      "text/latex": [
       "\\begin{enumerate*}\n",
       "\\item 2\n",
       "\\item 0\n",
       "\\end{enumerate*}\n"
      ],
      "text/markdown": [
       "1. 2\n",
       "2. 0\n",
       "\n",
       "\n"
      ],
      "text/plain": [
       "[1] 2 0"
      ]
     },
     "metadata": {},
     "output_type": "display_data"
    }
   ],
   "source": [
    "#we show how to compute means, medians and standard deviations\n",
    "c(mean(samples_n_2_k_0[,'non_0_terms']),sd(samples_n_2_k_0[,'non_0_terms']))"
   ]
  },
  {
   "cell_type": "markdown",
   "metadata": {},
   "source": [
    "With the above, we have all the ingredients required to generate the figures we want."
   ]
  },
  {
   "cell_type": "markdown",
   "metadata": {},
   "source": [
    "## Generating tables of means and standard deviations"
   ]
  },
  {
   "cell_type": "code",
   "execution_count": 73,
   "metadata": {
    "collapsed": false,
    "scrolled": true
   },
   "outputs": [],
   "source": [
    "# we work on raw_0. Substitute the first line to work on raw_1 instead\n",
    "#df <- raw_0\n",
    "\n",
    "# f_n <- factor(df[,'n'])\n",
    "# f_k <- factor(df[,'b_min'])"
   ]
  },
  {
   "cell_type": "code",
   "execution_count": 115,
   "metadata": {
    "collapsed": false
   },
   "outputs": [],
   "source": [
    "means_0 <- with(raw_0,tapply(non_0_terms, list('n'=n, 'k'=b_min), mean))\n",
    "means_1 <- with(raw_1,tapply(non_0_terms, list('n'=n, 'k'=b_min), mean))\n",
    "\n",
    "sds_0 <- with(raw_0,tapply(non_0_terms, list('n'=n, 'k'=b_min), sd))\n",
    "sds_1 <- with(raw_1,tapply(non_0_terms, list('n'=n, 'k'=b_min), sd))"
   ]
  },
  {
   "cell_type": "code",
   "execution_count": 126,
   "metadata": {
    "collapsed": false
   },
   "outputs": [
    {
     "name": "stdout",
     "output_type": "stream",
     "text": [
      "    k\n",
      "n     0     1     2     3    4     5     6     7     8\n",
      "  2   2  3.00  4.70  7.47 12.5  20.2  31.9  51.7  82.6\n",
      "  3   3  4.67  6.47 10.97 15.2  25.1  36.7  53.5  81.0\n",
      "  4   4  6.67  9.97 13.93 19.9  25.5  45.6  68.6 101.4\n",
      "  5   5  9.00 13.53 19.03 26.6  40.5  57.7  85.6 105.6\n",
      "  6   6 11.80 17.83 24.87 40.0  50.8  67.6 108.9 142.4\n",
      "  7   7 14.23 23.37 32.53 47.3  72.0 108.9 139.2 207.0\n",
      "  8   8 17.40 29.43 43.47 64.4  84.4 125.5 197.9 244.9\n",
      "  9   9 20.00 33.87 51.47 80.2 123.3 155.7 214.0 286.1\n",
      "  10 10 22.33 41.37 62.07 98.0 163.0 216.2 297.1 371.7\n",
      "    k\n",
      "n    0     1      2     3     4     5      6     7     8\n",
      "  2  0 0.000  0.466  1.04  2.16  5.93   8.03  12.7  19.3\n",
      "  3  0 0.479  1.502  3.08  3.38  6.73  11.06  16.7  39.7\n",
      "  4  0 0.758  2.125  3.24  5.65  8.17  13.82  21.6  36.6\n",
      "  5  0 1.114  3.048  5.34  9.85 13.37  26.33  33.7  52.4\n",
      "  6  0 1.349  4.457  5.54 10.29 14.07  19.19  49.8  58.5\n",
      "  7  0 2.112  4.422  6.64 18.30 30.78  45.46  69.8  88.6\n",
      "  8  0 2.699  6.207  8.66 24.24 32.93  55.93  95.6 125.6\n",
      "  9  0 3.965  9.442 13.58 24.84 37.82  88.24 113.3 166.8\n",
      "  10 0 4.964 11.900 18.18 40.82 69.94 106.18 151.2 188.6\n"
     ]
    }
   ],
   "source": [
    "print(means_0,3)\n",
    "print(sds_0,3)"
   ]
  },
  {
   "cell_type": "code",
   "execution_count": 127,
   "metadata": {
    "collapsed": false
   },
   "outputs": [
    {
     "name": "stdout",
     "output_type": "stream",
     "text": [
      "    k\n",
      "n     0    1     2     3     4      5    6    7    8\n",
      "  2   2  7.0  13.1  25.6  46.8   81.2  128  208  332\n",
      "  3   3 13.0  21.7  45.2  71.3  135.5  222  332  492\n",
      "  4   4 19.5  37.1  66.7 109.8  158.4  319  511  791\n",
      "  5   5 26.9  51.5  94.9 153.4  273.0  446  685  957\n",
      "  6   6 34.8  70.2 127.5 257.8  356.9  582  973 1304\n",
      "  7   7 43.4  93.9 167.9 301.0  554.6  941 1311 2278\n",
      "  8   8 52.5 118.5 229.1 417.5  662.8 1100 1903 2739\n",
      "  9   9 58.0 137.6 274.0 538.9  949.5 1335 2115 3218\n",
      "  10 10 66.9 170.6 323.6 645.7 1305.9 1981 2903 4054\n",
      "    k\n",
      "n    0     1     2      3      4     5      6      7      8\n",
      "  2  0  0.00  1.40   4.27   8.41  19.0   28.7   44.2   72.1\n",
      "  3  0  1.44  3.99  13.16  15.15  49.2  105.1  120.8  281.2\n",
      "  4  0  2.53  8.36  19.65  37.52  59.8  100.8  225.3  383.6\n",
      "  5  0  3.54 12.66  29.57  66.65 117.9  240.1  344.0  623.0\n",
      "  6  0  3.91 21.63  36.22  81.69 139.7  197.9  546.6  581.6\n",
      "  7  0  4.57 21.48  47.78 129.26 272.5  471.0  783.1 1201.1\n",
      "  8  0  3.89 31.43  59.66 175.30 283.4  540.3 1098.2 1498.4\n",
      "  9  0  8.76 41.93  85.71 174.89 352.4  775.0 1325.3 2178.8\n",
      "  10 0 10.92 48.61 105.32 275.49 633.2 1131.2 1481.6 2440.3\n"
     ]
    }
   ],
   "source": [
    "print(means_1,3)\n",
    "print(sds_1,3)"
   ]
  },
  {
   "cell_type": "markdown",
   "metadata": {},
   "source": [
    "### We now generate a range of plots\n",
    "\n",
    "*At the moment, I'm just image(). I might start looking into using ggplot2 instead, in case I want something nicer looking*"
   ]
  },
  {
   "cell_type": "code",
   "execution_count": 130,
   "metadata": {
    "collapsed": false
   },
   "outputs": [
    {
     "data": {
      "image/png": "[encoded data removed]",
      "text/plain": [
       "Plot with title “mean(non_0_terms), b_extra = 0, 30 samples”"
      ]
     },
     "metadata": {},
     "output_type": "display_data"
    },
    {
     "data": {
      "image/png": "[encoded data removed]",
      "text/plain": [
       "Plot with title “log(mean(non_0_terms)), b_extra = 0, 30 samples”"
      ]
     },
     "metadata": {},
     "output_type": "display_data"
    },
    {
     "data": {
      "image/png": "[encoded data removed]",
      "text/plain": [
       "Plot with title “sd(non_0_terms), b_extra = 0, 30 samples”"
      ]
     },
     "metadata": {},
     "output_type": "display_data"
    }
   ],
   "source": [
    "image(means_0,\n",
    "      col = grey.colors(256),\n",
    "      x = 2:10,\n",
    "      y = 0:8,\n",
    "      xlab = 'n',\n",
    "      ylab = 'k',\n",
    "      main = 'mean(non_0_terms), b_extra = 0, 30 samples',\n",
    "      lab= c(9,9,7))\n",
    "#heatmap(means,Rowv = NA,Colv = NA)\n",
    "\n",
    "image(log(means_0),\n",
    "      col = grey.colors(256),\n",
    "      x = 2:10,\n",
    "      y = 0:8,\n",
    "      xlab = 'n',\n",
    "      ylab = 'k',\n",
    "      main = 'log(mean(non_0_terms)), b_extra = 0, 30 samples',\n",
    "      lab= c(9,9,7))\n",
    "\n",
    "\n",
    "image(sds_0,\n",
    "      col = grey.colors(256),\n",
    "      x = 2:10,\n",
    "      y = 0:8,\n",
    "      xlab = 'n',\n",
    "      ylab = 'k',\n",
    "      main = 'sd(non_0_terms), b_extra = 0, 30 samples',\n",
    "      lab= c(9,9,7))"
   ]
  },
  {
   "cell_type": "code",
   "execution_count": 131,
   "metadata": {
    "collapsed": false
   },
   "outputs": [
    {
     "data": {
      "image/png": "[encoded data removed]",
      "text/plain": [
       "Plot with title “mean(non_0_terms), b_extra = 1, 30 samples”"
      ]
     },
     "metadata": {},
     "output_type": "display_data"
    },
    {
     "data": {
      "image/png": "[encoded data removed]",
      "text/plain": [
       "Plot with title “log(mean(non_0_terms)), b_extra = 1, 30 samples”"
      ]
     },
     "metadata": {},
     "output_type": "display_data"
    },
    {
     "data": {
      "image/png": "[encoded data removed]",
      "text/plain": [
       "Plot with title “sd(non_0_terms), b_extra = 1, 30 samples”"
      ]
     },
     "metadata": {},
     "output_type": "display_data"
    }
   ],
   "source": [
    "image(means_1,\n",
    "      col = grey.colors(256),\n",
    "      x = 2:10,\n",
    "      y = 0:8,\n",
    "      xlab = 'n',\n",
    "      ylab = 'k',\n",
    "      main = 'mean(non_0_terms), b_extra = 1, 30 samples',\n",
    "      lab= c(9,9,7))\n",
    "#heatmap(means,Rowv = NA,Colv = NA)\n",
    "\n",
    "image(log(means_1),\n",
    "      col = grey.colors(256),\n",
    "      x = 2:10,\n",
    "      y = 0:8,\n",
    "      xlab = 'n',\n",
    "      ylab = 'k',\n",
    "      main = 'log(mean(non_0_terms)), b_extra = 1, 30 samples',\n",
    "      lab= c(9,9,7))\n",
    "\n",
    "\n",
    "image(sds_1,\n",
    "      col = grey.colors(256),\n",
    "      x = 2:10,\n",
    "      y = 0:8,\n",
    "      xlab = 'n',\n",
    "      ylab = 'k',\n",
    "      main = 'sd(non_0_terms), b_extra = 1, 30 samples',\n",
    "      lab= c(9,9,7))"
   ]
  },
  {
   "cell_type": "code",
   "execution_count": null,
   "metadata": {
    "collapsed": true
   },
   "outputs": [],
   "source": []
  }
 ],
 "metadata": {
  "kernelspec": {
   "display_name": "R",
   "language": "R",
   "name": "ir"
  },
  "language_info": {
   "codemirror_mode": "r",
   "file_extension": ".r",
   "mimetype": "text/x-r-source",
   "name": "R",
   "pygments_lexer": "r",
   "version": "3.3.1"
  }
 },
 "nbformat": 4,
 "nbformat_minor": 0
}
