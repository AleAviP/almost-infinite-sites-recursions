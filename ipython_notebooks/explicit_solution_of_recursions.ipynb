{
 "cells": [
  {
   "cell_type": "code",
   "execution_count": 1,
   "metadata": {
    "collapsed": true
   },
   "outputs": [],
   "source": [
    "%matplotlib inline\n",
    "\n",
    "import matplotlib\n",
    "import numpy as np\n",
    "import matplotlib.pyplot as plt"
   ]
  },
  {
   "cell_type": "markdown",
   "metadata": {},
   "source": [
    "## The Finite Sites model with distinguishable individuals and loci"
   ]
  },
  {
   "cell_type": "markdown",
   "metadata": {},
   "source": [
    "We let $q_i$ be the likelihood of the cofiguration associated with matrix $i$, whereby the set of all $0-1$ matricees with 2 columns and no more than 2 rows are indexed as follws:\n",
    "$$\n",
    "0 : \\begin{bmatrix} 0 & 0 \\end{bmatrix} \\\\\n",
    "1 : \\begin{bmatrix} 0 & 1 \\end{bmatrix} \\quad\n",
    "2 : \\begin{bmatrix} 1 & 0 \\end{bmatrix} \\quad\n",
    "3 : \\begin{bmatrix} 1 & 1 \\end{bmatrix} \\\\\n",
    "4 : \\begin{bmatrix} 0 & 0 \\\\\n",
    "                    0 & 0 \\end{bmatrix} \\\\\n",
    "5 : \\begin{bmatrix} 1 & 0 \\\\\n",
    "                    0 & 0 \\end{bmatrix} \\quad\n",
    "6 : \\begin{bmatrix} 0 & 1 \\\\\n",
    "                    0 & 0 \\end{bmatrix} \\quad\n",
    "7 : \\begin{bmatrix} 0 & 0 \\\\\n",
    "                    1 & 0 \\end{bmatrix} \\quad\n",
    "8 : \\begin{bmatrix} 0 & 0 \\\\\n",
    "                    0 & 1 \\end{bmatrix} \\\\\n",
    "9 : \\begin{bmatrix} 1 & 1 \\\\\n",
    "                    0 & 0 \\end{bmatrix} \\quad\n",
    "10 : \\begin{bmatrix} 1 & 0 \\\\\n",
    "                     1 & 0 \\end{bmatrix} \\quad\n",
    "11 : \\begin{bmatrix} 1 & 0 \\\\\n",
    "                     0 & 1 \\end{bmatrix} \\quad\n",
    "12 : \\begin{bmatrix} 0 & 1 \\\\\n",
    "                     1 & 0 \\end{bmatrix} \\quad\n",
    "13 : \\begin{bmatrix} 0 & 1 \\\\\n",
    "                     0 & 1 \\end{bmatrix} \\quad\n",
    "14 : \\begin{bmatrix} 0 & 0 \\\\\n",
    "                     1 & 1 \\end{bmatrix} \\\\\n",
    "15 : \\begin{bmatrix} 1 & 1 \\\\\n",
    "                     1 & 0 \\end{bmatrix} \\quad\n",
    "16 : \\begin{bmatrix} 1 & 1 \\\\\n",
    "                     0 & 1 \\end{bmatrix} \\quad\n",
    "17 : \\begin{bmatrix} 1 & 0 \\\\\n",
    "                     1 & 1 \\end{bmatrix} \\quad\n",
    "18 : \\begin{bmatrix} 0 & 1 \\\\\n",
    "                     1 & 1 \\end{bmatrix} \\\\\n",
    "19 : \\begin{bmatrix} 1 & 1 \\\\\n",
    "                     1 & 1 \\end{bmatrix}\n",
    "$$\n",
    "\n",
    "The Griffiths-tavare recursions then prescribe a system linear equations which the likelihoods must fulfill, namely:\n",
    "$$\n",
    "q_i =\n",
    "\\begin{cases}\n",
    "\\pi(i) \n",
    "&\\text{ if } i < 4\n",
    "\\\\\n",
    "\\frac{2-1}{2-1+\\theta} \\sum_{\\substack{j \\\\ j = \\operatorname{coal}(i)}} q(j)\n",
    "\\quad + \\frac{\\theta}{2 - 1 + \\theta} \\sum_{\\substack{j \\\\ d(i,j) = 1}} \\frac{1}{4} q(j)\n",
    "&\\text{ if } i \\leq 3\n",
    "\\end{cases}\n",
    "$$\n",
    "Whereby $\\pi$ is some probability-distribution on $\\{0,1,2,3\\}$. The above is a special case of the griffiths-tavare-recursions, if one considers both sites and sequences to be distinguishable, all mutations to be state changing, and all loci and sites equally likely to be affected by a mutation.\n",
    "\n",
    "\n",
    "The above equations can be encoded as a linear system of the form\n",
    "$$Ax = b$$\n",
    "by letting\n",
    "$$\n",
    "A_{ij} =\n",
    "\\begin{cases}\n",
    " 1 &\\text{ if } i=j \\leq 3\n",
    "\\\\\n",
    "-1 &\\text{ if } i=j > 3\n",
    "\\\\\n",
    "\\frac{2-1}{2-1+\\theta} &\\text{ if } j \\leq 3 < i \\text{ and } j = \\operatorname{coal}(i)\n",
    "\\\\\n",
    "\\frac{\\theta}{2-1+\\theta}\\frac{1}{4} &\\text{ if } 3 < i,j  \\text{ and } d(i,j) = 1\n",
    "\\\\\n",
    "0 &\\text{ else}\n",
    "\\end{cases}\n",
    "\\qquad\\qquad\n",
    "b_i =\n",
    "\\begin{cases}\n",
    " \\pi(i) &\\text{ if } i < 4\n",
    "\\\\\n",
    " 0 &\\text{ else}\n",
    "\\end{cases}\n",
    "\\quad\n",
    "$$\n",
    "Below, we solve this system for $\\pi \\in \\{ \\delta_0 , \\frac{1}{4}(\\delta_0 + \\delta_1 + \\delta_2 + \\delta_3) \\}$, and varying values of $\\theta$."
   ]
  },
  {
   "cell_type": "markdown",
   "metadata": {},
   "source": [
    "## Building a solver\n",
    "We start by encode which matricees are one mutation-evant appart, and which are one coalescence-event appart:"
   ]
  },
  {
   "cell_type": "code",
   "execution_count": 2,
   "metadata": {
    "collapsed": false
   },
   "outputs": [],
   "source": [
    "'''j \\in d_coal[i] signifies that matrix j can be obtained by coalescing two rows from i'''\n",
    "d_coal_FS = {4:set([0]) ,\n",
    "          10:set([2]),\n",
    "          13:set([1]),\n",
    "          19:set([3]) }"
   ]
  },
  {
   "cell_type": "code",
   "execution_count": 3,
   "metadata": {
    "collapsed": false
   },
   "outputs": [
    {
     "data": {
      "text/plain": [
       "True"
      ]
     },
     "execution_count": 3,
     "metadata": {},
     "output_type": "execute_result"
    }
   ],
   "source": [
    "'''\n",
    "j in d_mut_FS[i] signifies that j and i are 1 mutation-event appart in the finite sites-model.\n",
    "Note that the recursion terminates when N = 1, and hence, that for instance 1 in d_mut_FS[0] does not hold.\n",
    "'''\n",
    "d_mut_FS = {\n",
    "         4:set([5,6,7,8]),\n",
    "         5:set([4,9,10,11]),\n",
    "         6:set([4,9,12,13]),\n",
    "         7:set([4,10,12,14]),\n",
    "         8:set([4,11,13,14]),\n",
    "         9:set([5,6,15,16]),\n",
    "         10:set([5,7,15,17]),\n",
    "         11:set([5,8,16,17]),\n",
    "         12:set([6,7,15,18]),\n",
    "         13:set([6,8,16,18]),\n",
    "         14:set([7,8,17,18]),\n",
    "         15:set([9,10,12,19]),\n",
    "         16:set([9,11,13,19]),\n",
    "         17:set([10,11,14,19]),\n",
    "         18:set([12,13,14,19]),\n",
    "         19:set([15,16,17,18])\n",
    "        }\n",
    "\n",
    "def checkSymmetry(d):\n",
    "    '''\n",
    "    An auxiliary function which will catch the odd input-error :p\n",
    "    Returns True if (j in d[i]) implies (i in d[j]) for all i and j, and Flase if not\n",
    "    '''\n",
    "    for key,val in d.iteritems():\n",
    "        for j in val:\n",
    "            if not (key in d[j]):\n",
    "                #print key,val,j,d[j]\n",
    "                return False\n",
    "    return True\n",
    "\n",
    "checkSymmetry(d_mut_FS)"
   ]
  },
  {
   "cell_type": "markdown",
   "metadata": {},
   "source": [
    "We now proceed to implement functions $\\theta \\mapsto A$ and $\\pi \\mapsto b$:"
   ]
  },
  {
   "cell_type": "code",
   "execution_count": 4,
   "metadata": {
    "collapsed": false
   },
   "outputs": [],
   "source": [
    "def coeficientMatrix(theta, d_mut = d_mut_FS, d_coal = d_coal_FS):\n",
    "    '''\n",
    "    returns the coeffieient matrix for the linear system given by the griffiths-tavare-recursions expressed as a\n",
    "    homogeneous linear system.\n",
    "    \n",
    "    theta : a non-negative float.\n",
    "    \n",
    "    d_mut : a dictionary where d_mut[i] contains a list of all indices of matrices connected to i by one mutation.\n",
    "    \n",
    "    d_coal: a dictionary where d_mut[i] contains a set of all indices of matrices may be transformed into matrix i by\n",
    "            merging two identical rows; e.g. d_coal[0] == set([4]).\n",
    "            \n",
    "    Note that the correct coefficient matrix is only returned if the matricees are as outlined in the above comment!\n",
    "    '''\n",
    "    dim = len(d_mut) + len(d_coal)\n",
    "    theta = float(theta)\n",
    "    \n",
    "    if theta < 0:\n",
    "        raise ValueError('\\'theta\\' should be a non-negative number.')\n",
    "    \n",
    "    if not checkSymmetry(d_mut):\n",
    "        raise UserWarning('warning: d_mut is not symmetric.')\n",
    "        \n",
    "        \n",
    "    #bdr = np.eye(4,dim)\n",
    "    A = np.r_[np.eye(4,dim),\n",
    "              np.zeros((dim-4,dim))]\n",
    "\n",
    "    for i in range(4,dim):\n",
    "        A[i,i] = -1.0\n",
    "    \n",
    "    for i,neigbours in d_mut.iteritems():\n",
    "        n = 2\n",
    "        p_mut = ( theta / ( n-1 + theta ) ) * ( 1.0 / (2 * n) )\n",
    "        for j in neigbours:\n",
    "            A[i,j] = p_mut\n",
    "    \n",
    "    for i,neighbours in d_coal.iteritems():\n",
    "        n = 2\n",
    "        p_coal = ( n-1 ) / (theta + n-1)\n",
    "        for j in neighbours:\n",
    "            A[i,j] = p_coal\n",
    "            \n",
    "    return A\n",
    "\n",
    "def inhomogeneity(bdr_cnd):\n",
    "    return np.r_[bdr_cnd[0],bdr_cnd[1],bdr_cnd[2],bdr_cnd[3],np.zeros(16)]"
   ]
  },
  {
   "cell_type": "markdown",
   "metadata": {},
   "source": [
    "Using this, we can implement a map $(\\theta,\\pi) \\mapsto (x,A,b)$ s.t. $Ax = b$."
   ]
  },
  {
   "cell_type": "code",
   "execution_count": 5,
   "metadata": {
    "collapsed": false
   },
   "outputs": [],
   "source": [
    "def solve_GT_recursions(thetas,pis):\n",
    "    '''\n",
    "    Solve the Griffiths-and tavare-recursions explicitly for any (theta,pi) such that theta is an element of thetas,\n",
    "    and pi is an element of pis.\n",
    "    \n",
    "    Returns three dictionaries:\n",
    "      solutions,\n",
    "      Ms,\n",
    "      bs,\n",
    "    which are indexed by keysets thetas, pis and ((theta,pi) for theta in thetas for pi in pis) respectively.\n",
    "    There satisfy that the linear equation\n",
    "    \n",
    "      bs[pi] = Ms[theta] * solutions[(theta,pi)]\n",
    "    \n",
    "    holds for any choice of pi in pis and theta in thetas.\n",
    "    '''\n",
    "    solutions = {}\n",
    "    Ms = {}\n",
    "    bs = {}\n",
    "    for pi in pis:\n",
    "        b = inhomogeneity(pi)\n",
    "        bs[pi] = b\n",
    "        for theta in thetas:\n",
    "            M = coeficientMatrix(theta)\n",
    "            Ms[theta] = M\n",
    "            solutions[(theta,pi)] = np.linalg.solve(M,b)\n",
    "    return solutions,Ms,bs"
   ]
  },
  {
   "cell_type": "markdown",
   "metadata": {},
   "source": [
    "## Using the solver\n",
    "\n",
    "We now use the solver to explore how theta affects the relative likelihoods of different matricees."
   ]
  },
  {
   "cell_type": "code",
   "execution_count": 6,
   "metadata": {
    "collapsed": true
   },
   "outputs": [],
   "source": [
    "thetas = np.logspace(-4,3,num=100)\n",
    "pi1 = (0.25,0.25,0.25,0.25)\n",
    "pi2 = (1.0,0,0,0)\n",
    "pis = (pi1,pi2)\n",
    "\n",
    "solutions,Ms,bs = solve_GT_recursions(thetas,pis)"
   ]
  },
  {
   "cell_type": "markdown",
   "metadata": {},
   "source": [
    "We Proceed to produce plots and log-plots showing the likelihoods of $q_i$ for different values of $i$, as a function onf theta for $\\pi \\in \\{ \\delta_0 , \\frac{1}{4}(\\delta_0 + \\delta_1 + \\delta_2 + \\delta_3) \\}$. We do not plot $q_i$ for all values of $i$, but any value which is not plotted is identical to one which is (working out which index represents an index that is not plottet from the basic model is quite simple)."
   ]
  },
  {
   "cell_type": "code",
   "execution_count": 7,
   "metadata": {
    "collapsed": false
   },
   "outputs": [
    {
     "data": {
      "image/png": "[encoded data removed]",
      "text/plain": [
       "<matplotlib.figure.Figure at 0x7feb5b5fdfd0>"
      ]
     },
     "metadata": {},
     "output_type": "display_data"
    },
    {
     "data": {
      "image/png": "[encoded data removed]",
      "text/plain": [
       "<matplotlib.figure.Figure at 0x7feb591b7890>"
      ]
     },
     "metadata": {},
     "output_type": "display_data"
    }
   ],
   "source": [
    "plt.figure(1)\n",
    "#plt.subplot(211)\n",
    "for i in (4,5,9):\n",
    "    likelihhods = [solutions[(theta,pi1)][i] for theta in thetas]\n",
    "    plt.plot(thetas,likelihhods, label = 'i = %i'%i)\n",
    "#plt.legendnd()\n",
    "plt.legend()\n",
    "plt.xscale('log')\n",
    "plt.xlabel('$\\\\theta$ (log-scale)')\n",
    "plt.title('$q_i$ for $i \\\\in \\\\{ 4,5,9\\\\}$, $\\pi = \\\\frac{1}{4}(\\delta_0 + \\delta_1 + \\delta_2 + \\delta_3)$')\n",
    "plt.show()\n",
    "plt.close()\n",
    "\n",
    "plt.figure(2)\n",
    "#plt.subplot(212)\n",
    "for i in (4,5,9):\n",
    "    likelihhods = [solutions[(theta,pi1)][i] for theta in thetas]\n",
    "    plt.plot(thetas,likelihhods, label = 'i = %i'%i)\n",
    "#plt.legendnd()\n",
    "plt.legend(bbox_to_anchor=(0.99, 0.30))\n",
    "plt.xscale('log')\n",
    "plt.yscale('log')\n",
    "plt.xlabel('$\\\\theta$ (log-scale)')\n",
    "plt.ylabel('(log-scale)')\n",
    "plt.title('$q_i$ for $i \\\\in \\\\{ 4,5,9\\\\}$, $\\pi = \\\\frac{1}{4}(\\delta_0 + \\delta_1 + \\delta_2 + \\delta_3)$')\n",
    "plt.show()\n",
    "plt.close()"
   ]
  },
  {
   "cell_type": "code",
   "execution_count": 8,
   "metadata": {
    "collapsed": false
   },
   "outputs": [
    {
     "data": {
      "image/png": "[encoded data removed]",
      "text/plain": [
       "<matplotlib.figure.Figure at 0x7feb59170710>"
      ]
     },
     "metadata": {},
     "output_type": "display_data"
    },
    {
     "data": {
      "image/png": "[encoded data removed]",
      "text/plain": [
       "<matplotlib.figure.Figure at 0x7feb59317350>"
      ]
     },
     "metadata": {},
     "output_type": "display_data"
    }
   ],
   "source": [
    "plt.figure(3)\n",
    "for i in (4,5,9,15,19):\n",
    "    likelihhods = [solutions[(theta,pi2)][i] for theta in thetas]\n",
    "    plt.plot(thetas,likelihhods, label = 'i = %i'%i)\n",
    "plt.xscale('log')\n",
    "plt.xlabel('$\\\\theta$ (log-scale)')\n",
    "plt.title('$q_i$ for $i \\\\in \\\\{ 4,5,9,15,19\\\\}$,  $\\pi = \\delta_0$')\n",
    "plt.legend()\n",
    "plt.show()\n",
    "plt.close()\n",
    "\n",
    "plt.figure(3)\n",
    "for i in (4,5,9,15,19):\n",
    "    likelihhods = [solutions[(theta,pi2)][i] for theta in thetas]\n",
    "    plt.plot(thetas,likelihhods, label = 'i = %i'%i)\n",
    "plt.xscale('log')\n",
    "plt.yscale('log')\n",
    "plt.xlabel('$\\\\theta$ (log-scale)')\n",
    "plt.ylabel('(log-scale)')\n",
    "plt.title('$q_i$ for $i \\\\in \\\\{ 4,5,9,15,19\\\\}$,  $\\pi = \\delta_0$')\n",
    "plt.legend(bbox_to_anchor=(0.99, 0.45))\n",
    "plt.show()\n",
    "plt.close()"
   ]
  },
  {
   "cell_type": "markdown",
   "metadata": {},
   "source": [
    "Below is an old function whuch I don't use anymore, but did not have the heart to throw out."
   ]
  },
  {
   "cell_type": "code",
   "execution_count": 9,
   "metadata": {
    "collapsed": false,
    "scrolled": false
   },
   "outputs": [],
   "source": [
    "def printOctaveCode(theta,bdr_cnd):\n",
    "    '''\n",
    "    Prints octave code, for solving the linear system.\n",
    "    Not used by me anymore, as I opted in the end for doing everything in python, but i kept it, as I might use it later.\n",
    "    '''\n",
    "    floatToStr = lambda x : \"%.16f\"%x\n",
    "    \n",
    "    b = np.r_[bdr_cnd[0],bdr_cnd[1],bdr_cnd[2],bdr_cnd[3],np.zeros(16)]\n",
    "    M = coeficientMatrix(theta, d_mut, d_coal, d_rows)\n",
    "    b_str = 'b = [%s]'%'\\n     '.join(map(floatToStr,b))\n",
    "    M_lines = [ ', '.join(map(floatToStr,[M[i,j] for j in range(M.shape[1])])) for i in range(M.shape[0])]\n",
    "    M_str = 'M = [%s]'%'\\n     '.join(M_lines)\n",
    "    solveStr = 'linsolve(M,b)'\n",
    "    \n",
    "    print b_str,'\\n'\n",
    "    print M_str,'\\n'\n",
    "    print solveStr\n",
    "#printOctaveCode(float(10**9),pi)"
   ]
  }
 ],
 "metadata": {
  "kernelspec": {
   "display_name": "Python 2",
   "language": "python",
   "name": "python2"
  },
  "language_info": {
   "codemirror_mode": {
    "name": "ipython",
    "version": 2
   },
   "file_extension": ".py",
   "mimetype": "text/x-python",
   "name": "python",
   "nbconvert_exporter": "python",
   "pygments_lexer": "ipython2",
   "version": "2.7.6"
  }
 },
 "nbformat": 4,
 "nbformat_minor": 0
}
