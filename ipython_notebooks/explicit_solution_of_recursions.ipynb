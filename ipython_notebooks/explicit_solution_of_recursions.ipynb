{
 "cells": [
  {
   "cell_type": "code",
   "execution_count": 2,
   "metadata": {
    "collapsed": true
   },
   "outputs": [],
   "source": [
    "%matplotlib inline\n",
    "\n",
    "import matplotlib\n",
    "import numpy as np\n",
    "import matplotlib.pyplot as plt"
   ]
  },
  {
   "cell_type": "markdown",
   "metadata": {},
   "source": [
    "## The Finite Sites model with distinguishable individuals and loci"
   ]
  },
  {
   "cell_type": "markdown",
   "metadata": {},
   "source": [
    "We let $q_i$ be the likelihood of the cofiguration associated with matrix $i$, whereby the set of all $0-1$ matricees with 2 columns and no more than 2 rows are indexed as follws:\n",
    "$$\n",
    "0 : \\begin{bmatrix} 0 & 0 \\end{bmatrix} \\quad\n",
    "1 : \\begin{bmatrix} 0 & 1 \\end{bmatrix} \\quad\n",
    "2 : \\begin{bmatrix} 1 & 0 \\end{bmatrix} \\quad\n",
    "3 : \\begin{bmatrix} 1 & 1 \\end{bmatrix}\n",
    "$$\n",
    "$$\n",
    "4 : \\begin{bmatrix} 0 & 0 \\\\\n",
    "                    0 & 0 \\end{bmatrix}\n",
    "$$\n",
    "$$\n",
    "5 : \\begin{bmatrix} 1 & 0 \\\\\n",
    "                    0 & 0 \\end{bmatrix} \\quad\n",
    "6 : \\begin{bmatrix} 0 & 1 \\\\\n",
    "                    0 & 0 \\end{bmatrix} \\quad\n",
    "7 : \\begin{bmatrix} 0 & 0 \\\\\n",
    "                    1 & 0 \\end{bmatrix} \\quad\n",
    "8 : \\begin{bmatrix} 0 & 0 \\\\\n",
    "                    0 & 1 \\end{bmatrix}\n",
    "$$\n",
    "$$\n",
    "9 : \\begin{bmatrix} 1 & 1 \\\\\n",
    "                    0 & 0 \\end{bmatrix} \\quad\n",
    "10 : \\begin{bmatrix} 1 & 0 \\\\\n",
    "                     1 & 0 \\end{bmatrix} \\quad\n",
    "11 : \\begin{bmatrix} 1 & 0 \\\\\n",
    "                     0 & 1 \\end{bmatrix} \\quad\n",
    "12 : \\begin{bmatrix} 0 & 1 \\\\\n",
    "                     1 & 0 \\end{bmatrix} \\quad\n",
    "13 : \\begin{bmatrix} 0 & 1 \\\\\n",
    "                     0 & 1 \\end{bmatrix} \\quad\n",
    "14 : \\begin{bmatrix} 0 & 0 \\\\\n",
    "                     1 & 1 \\end{bmatrix}\n",
    "$$\n",
    "$$\n",
    "15 : \\begin{bmatrix} 1 & 1 \\\\\n",
    "                     1 & 0 \\end{bmatrix} \\quad\n",
    "16 : \\begin{bmatrix} 1 & 1 \\\\\n",
    "                     0 & 1 \\end{bmatrix} \\quad\n",
    "17 : \\begin{bmatrix} 1 & 0 \\\\\n",
    "                     1 & 1 \\end{bmatrix} \\quad\n",
    "18 : \\begin{bmatrix} 0 & 1 \\\\\n",
    "                     1 & 1 \\end{bmatrix}\n",
    "$$\n",
    "$$\n",
    "19 : \\begin{bmatrix} 1 & 1 \\\\\n",
    "                     1 & 1 \\end{bmatrix}\n",
    "$$"
   ]
  },
  {
   "cell_type": "markdown",
   "metadata": {},
   "source": [
    "The Griffiths-tavare recursions then prescribe a system linear equations which the likelihoods must fulfill, namely:\n",
    "$$\n",
    "q_i =\n",
    "\\begin{cases}\n",
    "\\pi(i) \n",
    "&\\text{ if } i < 4\n",
    "\\\\\n",
    "\\frac{2-1}{2-1+\\theta} \\sum_{\\substack{j \\\\ j = \\operatorname{coal}(i)}} q(j)\n",
    "\\quad + \\frac{\\theta}{2 - 1 + \\theta} \\sum_{\\substack{j \\\\ d(i,j) = 1}} \\frac{1}{4} q(j)\n",
    "&\\text{ if } i \\leq 3\n",
    "\\end{cases}\n",
    "$$\n",
    "Whereby $\\pi$ is some probability-distribution on $\\{0,1,2,3\\}$. The above is a special case of the griffiths-tavare-recursions, if one considers both sites and sequences to be distinguishable, all mutations to be state changing, and all loci and sites equally likely to be affected by a mutation."
   ]
  },
  {
   "cell_type": "markdown",
   "metadata": {},
   "source": [
    "The above equations can be encoded as a linear system of the form\n",
    "$$Ax = b$$\n",
    "by letting\n",
    "$$\n",
    "A_{ij} =\n",
    "\\begin{cases}\n",
    " 1 &\\text{ if } i=j \\leq 3\n",
    "\\\\\n",
    "-1 &\\text{ if } i=j > 3\n",
    "\\\\\n",
    "\\frac{2-1}{2-1+\\theta} &\\text{ if } j \\leq 3 < i \\text{ and } j = \\operatorname{coal}(i)\n",
    "\\\\\n",
    "\\frac{\\theta}{2-1+\\theta}\\frac{1}{4} &\\text{ if } 3 < i,j  \\text{ and } d(i,j) = 1\n",
    "\\\\\n",
    "0 &\\text{ else}\n",
    "\\end{cases}\n",
    "\\qquad\\qquad\n",
    "b_i =\n",
    "\\begin{cases}\n",
    " \\pi(i) &\\text{ if } i < 4\n",
    "\\\\\n",
    " 0 &\\text{ else}\n",
    "\\end{cases}\n",
    "\\quad\n",
    "$$\n",
    "Below, we solve this system for $\\pi \\in \\{ \\delta_0 , \\frac{1}{4}(\\delta_0 + \\delta_1 + \\delta_2 + \\delta_3) \\}$, and varying values of $\\theta$."
   ]
  },
  {
   "cell_type": "markdown",
   "metadata": {},
   "source": [
    "### Building a solver\n",
    "We start by encode which matricees are one mutation-evant appart, and which are one coalescence-event appart:"
   ]
  },
  {
   "cell_type": "code",
   "execution_count": 3,
   "metadata": {
    "collapsed": false
   },
   "outputs": [],
   "source": [
    "'''j \\in d_coal[i] signifies that matrix j can be obtained by coalescing two rows from i'''\n",
    "d_coal_FS = {4:set([0]) ,\n",
    "          10:set([2]),\n",
    "          13:set([1]),\n",
    "          19:set([3]) }"
   ]
  },
  {
   "cell_type": "code",
   "execution_count": 4,
   "metadata": {
    "collapsed": false
   },
   "outputs": [
    {
     "data": {
      "text/plain": [
       "True"
      ]
     },
     "execution_count": 4,
     "metadata": {},
     "output_type": "execute_result"
    }
   ],
   "source": [
    "'''\n",
    "j in d_mut_FS[i] signifies that j and i are 1 mutation-event appart in the finite sites-model.\n",
    "Note that the recursion terminates when N = 1, and hence, that for instance 1 in d_mut_FS[0] does not hold.\n",
    "'''\n",
    "d_mut_FS = {\n",
    "         4:set([5,6,7,8]),\n",
    "         5:set([4,9,10,11]),\n",
    "         6:set([4,9,12,13]),\n",
    "         7:set([4,10,12,14]),\n",
    "         8:set([4,11,13,14]),\n",
    "         9:set([5,6,15,16]),\n",
    "         10:set([5,7,15,17]),\n",
    "         11:set([5,8,16,17]),\n",
    "         12:set([6,7,15,18]),\n",
    "         13:set([6,8,16,18]),\n",
    "         14:set([7,8,17,18]),\n",
    "         15:set([9,10,12,19]),\n",
    "         16:set([9,11,13,19]),\n",
    "         17:set([10,11,14,19]),\n",
    "         18:set([12,13,14,19]),\n",
    "         19:set([15,16,17,18])\n",
    "        }\n",
    "\n",
    "def checkSymmetry(d):\n",
    "    '''\n",
    "    An auxiliary function which will catch the odd input-error :p\n",
    "    Returns True if (j in d[i]) implies (i in d[j]) for all i and j, and Flase if not\n",
    "    '''\n",
    "    for key,val in d.iteritems():\n",
    "        for j in val:\n",
    "            if not (key in d[j]):\n",
    "                #print key,val,j,d[j]\n",
    "                return False\n",
    "    return True\n",
    "\n",
    "checkSymmetry(d_mut_FS)"
   ]
  },
  {
   "cell_type": "markdown",
   "metadata": {},
   "source": [
    "We now proceed to implement functions $\\theta \\mapsto A$ and $\\pi \\mapsto b$:"
   ]
  },
  {
   "cell_type": "code",
   "execution_count": 5,
   "metadata": {
    "collapsed": false
   },
   "outputs": [],
   "source": [
    "def coeficientMatrix(theta, d_mut = d_mut_FS, d_coal = d_coal_FS, Nr = lambda x: 1.0, Nc = lambda x: 1.0):\n",
    "    '''\n",
    "    returns the coeffieient matrix for the linear system given by the griffiths-tavare-recursions expressed as a\n",
    "    homogeneous linear system.\n",
    "    \n",
    "    theta : a non-negative float.\n",
    "    \n",
    "    d_mut : a dictionary where d_mut[i] contains a list of all indices of matrices connected to i by one mutation.\n",
    "    \n",
    "    d_coal: a dictionary where d_mut[i] contains a set of all indices of matrices may be transformed into matrix i by\n",
    "            merging two identical rows; e.g. d_coal[0] == set([4]).\n",
    "            \n",
    "    Note that the correct coefficient matrix is only returned if the matricees are as outlined in the above comment!\n",
    "    '''\n",
    "    dim1 = len(d_coal)\n",
    "    dim = len(d_mut) + len(d_coal)\n",
    "    theta = float(theta)\n",
    "    \n",
    "    if theta < 0:\n",
    "        raise ValueError('\\'theta\\' should be a non-negative number.')\n",
    "    \n",
    "    if not checkSymmetry(d_mut):\n",
    "        raise UserWarning('warning: d_mut is not symmetric.')\n",
    "        \n",
    "        \n",
    "    #bdr = np.eye(4,dim)\n",
    "    A = np.r_[np.eye(dim1,dim),\n",
    "              np.zeros((dim-dim1,dim))]\n",
    "\n",
    "    for i in range(dim1,dim):\n",
    "        A[i,i] = -1.0\n",
    "    \n",
    "    for i,neigbours in d_mut.iteritems():\n",
    "        n = 2\n",
    "        p_mut = ( theta / ( n-1 + theta ) )\n",
    "        for j in neigbours:\n",
    "            A[i,j] = p_mut * ( Nr(j) * Nc(j) / 4.0 )\n",
    "    \n",
    "    for i,neighbours in d_coal.iteritems():\n",
    "        n = 2\n",
    "        p_coal = ( n-1 ) / (theta + n-1)\n",
    "        for j in neighbours:\n",
    "            A[i,j] = p_coal\n",
    "            \n",
    "    return A\n",
    "\n",
    "def inhomogeneity(bdr_cnd,zeroDim = 16):\n",
    "    return np.r_[bdr_cnd,np.zeros(zeroDim)]"
   ]
  },
  {
   "cell_type": "markdown",
   "metadata": {},
   "source": [
    "Using this, we can implement a map $(\\theta,\\pi) \\mapsto (x,A,b)$ s.t. $Ax = b$."
   ]
  },
  {
   "cell_type": "code",
   "execution_count": 6,
   "metadata": {
    "collapsed": false
   },
   "outputs": [],
   "source": [
    "def solve_GT_recursions(thetas,pis):\n",
    "    '''\n",
    "    Solve the Griffiths-and tavare-recursions explicitly for any (theta,pi) such that theta is an element of thetas,\n",
    "    and pi is an element of pis.\n",
    "    \n",
    "    Returns three dictionaries:\n",
    "      solutions,\n",
    "      Ms,\n",
    "      bs,\n",
    "    which are indexed by keysets thetas, pis and ((theta,pi) for theta in thetas for pi in pis) respectively.\n",
    "    There satisfy that the linear equation\n",
    "    \n",
    "      bs[pi] = Ms[theta] * solutions[(theta,pi)]\n",
    "    \n",
    "    holds for any choice of pi in pis and theta in thetas.\n",
    "    '''\n",
    "    solutions = {}\n",
    "    Ms = {}\n",
    "    bs = {}\n",
    "    for pi in pis:\n",
    "        b = inhomogeneity(pi)\n",
    "        bs[pi] = b\n",
    "        for theta in thetas:\n",
    "            M = coeficientMatrix(theta)\n",
    "            Ms[theta] = M\n",
    "            solutions[(theta,pi)] = np.linalg.solve(M,b)\n",
    "    return solutions,Ms,bs"
   ]
  },
  {
   "cell_type": "markdown",
   "metadata": {},
   "source": [
    "### Using the solver\n",
    "\n",
    "We now use the solver to explore how theta affects the relative likelihoods of different matricees."
   ]
  },
  {
   "cell_type": "code",
   "execution_count": 7,
   "metadata": {
    "collapsed": true
   },
   "outputs": [],
   "source": [
    "thetas = np.logspace(-4,3,num=100)\n",
    "pi1 = (0.25,0.25,0.25,0.25)\n",
    "pi2 = (1.0,0,0,0)\n",
    "pis = (pi1,pi2)\n",
    "\n",
    "solutions,Ms,bs = solve_GT_recursions(thetas,pis)"
   ]
  },
  {
   "cell_type": "markdown",
   "metadata": {},
   "source": [
    "We Proceed to produce plots and log-plots showing the likelihoods of $q_i$ for different values of $i$, as a function onf theta for $\\pi \\in \\{ \\delta_0 , \\frac{1}{4}(\\delta_0 + \\delta_1 + \\delta_2 + \\delta_3) \\}$. We do not plot $q_i$ for all values of $i$, but any value which is not plotted is identical to one which is (working out which index represents an index that is not plottet from the basic model is quite simple)."
   ]
  },
  {
   "cell_type": "code",
   "execution_count": 8,
   "metadata": {
    "collapsed": true
   },
   "outputs": [],
   "source": [
    "figurepath = '/home/mathias/Dropbox/doccuments/papers-in-progress/almost-infinite-sites-recursions/infinite-sites-model/graphics/'\n",
    "file_prefix = 'explicit_solutions_'\n",
    "file_extensions = ['.pdf','.png','.eps','.jpeg']\n",
    "def generate_figure_paths(figure_name):\n",
    "    '''Returns a full path for exporting figures'''\n",
    "    return ['%s%s%s%s'%(figurepath,file_prefix,figure_name,extension) for extension in file_extensions]"
   ]
  },
  {
   "cell_type": "code",
   "execution_count": 9,
   "metadata": {
    "collapsed": false
   },
   "outputs": [
    {
     "data": {
      "image/png": "[encoded data removed]",
      "text/plain": [
       "<matplotlib.figure.Figure at 0x7f640df3f910>"
      ]
     },
     "metadata": {},
     "output_type": "display_data"
    },
    {
     "data": {
      "image/png": "[encoded data removed]",
      "text/plain": [
       "<matplotlib.figure.Figure at 0x7f63ed5a9f10>"
      ]
     },
     "metadata": {},
     "output_type": "display_data"
    }
   ],
   "source": [
    "plt.figure(1)\n",
    "#plt.subplot(211)\n",
    "for i in (4,5,9):\n",
    "    likelihhods = [solutions[(theta,pi1)][i] for theta in thetas]\n",
    "    plt.plot(thetas,likelihhods, label = 'i = %i'%i)\n",
    "#plt.legendnd()\n",
    "plt.legend()\n",
    "plt.xscale('log')\n",
    "plt.xlabel('$\\\\theta$ (log-scale)')\n",
    "plt.title('$q_i$ for $i \\\\in \\\\{ 4,5,9\\\\}$, $\\pi = \\\\frac{1}{4}(\\delta_0 + \\delta_1 + \\delta_2 + \\delta_3)$')\n",
    "\n",
    "figure_paths = generate_figure_paths('FSM_symetric_boundary')\n",
    "for path in figure_paths:\n",
    "    plt.savefig(path)\n",
    "\n",
    "plt.show()\n",
    "plt.close()\n",
    "\n",
    "plt.figure(2)\n",
    "#plt.subplot(212)\n",
    "for i in (4,5,9):\n",
    "    likelihhods = [solutions[(theta,pi1)][i] for theta in thetas]\n",
    "    plt.plot(thetas,likelihhods, label = 'i = %i'%i)\n",
    "#plt.legendnd()\n",
    "plt.legend(bbox_to_anchor=(0.99, 0.30))\n",
    "plt.xscale('log')\n",
    "plt.yscale('log')\n",
    "plt.xlabel('$\\\\theta$ (log-scale)')\n",
    "plt.ylabel('(log-scale)')\n",
    "plt.title('$q_i$ for $i \\\\in \\\\{ 4,5,9\\\\}$, $\\pi = \\\\frac{1}{4}(\\delta_0 + \\delta_1 + \\delta_2 + \\delta_3)$')\n",
    "figure_paths = generate_figure_paths('FSM_symetric_boundary_log-log')\n",
    "for path in figure_paths:\n",
    "    plt.savefig(path)\n",
    "\n",
    "plt.show()\n",
    "plt.close()"
   ]
  },
  {
   "cell_type": "code",
   "execution_count": 10,
   "metadata": {
    "collapsed": false
   },
   "outputs": [
    {
     "data": {
      "image/png": "[encoded data removed]",
      "text/plain": [
       "<matplotlib.figure.Figure at 0x7f63ed3ffcd0>"
      ]
     },
     "metadata": {},
     "output_type": "display_data"
    },
    {
     "data": {
      "image/png": "[encoded data removed]",
      "text/plain": [
       "<matplotlib.figure.Figure at 0x7f640df0d2d0>"
      ]
     },
     "metadata": {},
     "output_type": "display_data"
    }
   ],
   "source": [
    "plt.figure(3)\n",
    "for i in (4,5,9,15,19):\n",
    "    likelihhods = [solutions[(theta,pi2)][i] for theta in thetas]\n",
    "    plt.plot(thetas,likelihhods, label = 'i = %i'%i)\n",
    "plt.xscale('log')\n",
    "plt.xlabel('$\\\\theta$ (log-scale)')\n",
    "plt.title('$q_i$ for $i \\\\in \\\\{ 4,5,9,15,19\\\\}$,  $\\pi = \\delta_0$')\n",
    "plt.legend()\n",
    "\n",
    "figure_paths = generate_figure_paths('FSM_non-symetric_boundary')\n",
    "for path in figure_paths:\n",
    "    plt.savefig(path)\n",
    "\n",
    "plt.show()\n",
    "plt.close()\n",
    "\n",
    "plt.figure(3)\n",
    "for i in (4,5,9,15,19):\n",
    "    likelihhods = [solutions[(theta,pi2)][i] for theta in thetas]\n",
    "    plt.plot(thetas,likelihhods, label = 'i = %i'%i)\n",
    "plt.xscale('log')\n",
    "plt.yscale('log')\n",
    "plt.xlabel('$\\\\theta$ (log-scale)')\n",
    "plt.ylabel('(log-scale)')\n",
    "plt.title('$q_i$ for $i \\\\in \\\\{ 4,5,9,15,19\\\\}$,  $\\pi = \\delta_0$')\n",
    "plt.legend(bbox_to_anchor=(0.99, 0.45))\n",
    "\n",
    "figure_paths = generate_figure_paths('FSM_non-symetric_boundary_log-log')\n",
    "for path in figure_paths:\n",
    "    plt.savefig(path)\n",
    "\n",
    "plt.show()\n",
    "plt.close()"
   ]
  },
  {
   "cell_type": "markdown",
   "metadata": {},
   "source": [
    "Below is an old function whuch I don't use anymore, but did not have the heart to throw out."
   ]
  },
  {
   "cell_type": "code",
   "execution_count": 11,
   "metadata": {
    "collapsed": false,
    "scrolled": false
   },
   "outputs": [],
   "source": [
    "def printOctaveCode(theta,bdr_cnd):\n",
    "    '''\n",
    "    Prints octave code, for solving the linear system.\n",
    "    Not used by me anymore, as I opted in the end for doing everything in python, but i kept it, as I might use it later.\n",
    "    '''\n",
    "    floatToStr = lambda x : \"%.16f\"%x\n",
    "    \n",
    "    b = np.r_[bdr_cnd[0],bdr_cnd[1],bdr_cnd[2],bdr_cnd[3],np.zeros(16)]\n",
    "    M = coeficientMatrix(theta, d_mut, d_coal, d_rows)\n",
    "    b_str = 'b = [%s]'%'\\n     '.join(map(floatToStr,b))\n",
    "    M_lines = [ ', '.join(map(floatToStr,[M[i,j] for j in range(M.shape[1])])) for i in range(M.shape[0])]\n",
    "    M_str = 'M = [%s]'%'\\n     '.join(M_lines)\n",
    "    solveStr = 'linsolve(M,b)'\n",
    "    \n",
    "    print b_str,'\\n'\n",
    "    print M_str,'\\n'\n",
    "    print solveStr\n",
    "#printOctaveCode(float(10**9),pi)"
   ]
  },
  {
   "cell_type": "markdown",
   "metadata": {},
   "source": [
    "## The Finite Sites model with distinguishable loci and indistinguishable individuals\n",
    "\n",
    "*Should I do this model as well? At the moment it does not have high priority.*"
   ]
  },
  {
   "cell_type": "markdown",
   "metadata": {},
   "source": [
    "## The Almost Infinite Sites model"
   ]
  },
  {
   "cell_type": "markdown",
   "metadata": {},
   "source": [
    "We may think of the Almost Infinite Sites model as a Finite Sites model with indistinguishable loci and individuals. Hence, we let $\\sim$ denote the following equivalence relation\n",
    "$$\n",
    "A \\sim B :\\Leftrightarrow \\exists \\sigma_1 \\sigma_2 \\in \\mathcal{S}_2: A = P_{\\sigma_1} B P_{\\sigma_2}\n",
    "$$\n",
    "Letting $[ \\, \\cdot \\, ]_\\sim$ denote equivalence-classes w.r.t. $\\sim$, e.g."
   ]
  },
  {
   "cell_type": "markdown",
   "metadata": {},
   "source": [
    "$$\n",
    "\\left[\n",
    "\\begin{bmatrix} 1 & 0 \\\\ 0 & 0 \\end{bmatrix}\n",
    "\\right]_\\sim\n",
    "=\n",
    "\\left\\{\n",
    "\\begin{bmatrix} 1 & 0 \\\\ 0 & 0 \\end{bmatrix} ,\n",
    "\\begin{bmatrix} 0 & 1 \\\\ 0 & 0 \\end{bmatrix} ,\n",
    "\\begin{bmatrix} 0 & 0 \\\\ 1 & 0 \\end{bmatrix} ,\n",
    "\\begin{bmatrix} 0 & 0 \\\\ 0 & 1 \\end{bmatrix}\n",
    "\\right\\}\n",
    "$$"
   ]
  },
  {
   "cell_type": "markdown",
   "metadata": {},
   "source": [
    "it follows, that we can enumerate the state-space of the Almost Infinite Sites modell as follows:"
   ]
  },
  {
   "cell_type": "markdown",
   "metadata": {},
   "source": [
    "$$\n",
    "0 : \\left[ \\begin{bmatrix} 0 & 0 \\end{bmatrix} \\right]_\\sim \\quad\n",
    "1 : \\left[ \\begin{bmatrix} 1 & 0 \\end{bmatrix} \\right]_\\sim \\quad\n",
    "2 : \\left[ \\begin{bmatrix} 1 & 1 \\end{bmatrix} \\right]_\\sim\n",
    "$$\n",
    "$$\n",
    "3 : \\left[ \\begin{bmatrix} 0 & 0 \\\\ 0 & 0 \\end{bmatrix} \\right]_\\sim\n",
    "$$\n",
    "$$\n",
    "4 : \\left[ \\begin{bmatrix} 1 & 0 \\\\ 0 & 0 \\end{bmatrix} \\right]_\\sim\n",
    "$$\n",
    "$$\n",
    "5 : \\left[ \\begin{bmatrix} 1 & 1 \\\\ 0 & 0 \\end{bmatrix} \\right]_\\sim \\quad\n",
    "6 : \\left[ \\begin{bmatrix} 1 & 0 \\\\ 1 & 0 \\end{bmatrix} \\right]_\\sim \\quad\n",
    "7 : \\left[ \\begin{bmatrix} 1 & 0 \\\\ 0 & 1 \\end{bmatrix} \\right]_\\sim\n",
    "$$\n",
    "$$\n",
    "8 : \\left[ \\begin{bmatrix} 1 & 1 \\\\ 1 & 0 \\end{bmatrix} \\right]_\\sim\n",
    "$$\n",
    "$$\n",
    "9 : \\left[ \\begin{bmatrix} 1 & 1 \\\\ 1 & 1 \\end{bmatrix} \\right]_\\sim\n",
    "$$"
   ]
  },
  {
   "cell_type": "markdown",
   "metadata": {},
   "source": [
    "We note that since the number of members of different equivalence-classes is different for different matrices, the coefficients in the recursion are not as straightforward. To compute them, we may use our Almost-infinite sites recursion-formula [see article], which in the case of a 2-letter alphabet with all mutations being state-changing reduces to:"
   ]
  },
  {
   "cell_type": "markdown",
   "metadata": {},
   "source": [
    "$$\n",
    "q_i\n",
    " =\n",
    " \\begin{cases}\n",
    " \\pi_i\n",
    " &\\text{ if $i < 3$}\n",
    " \\\\\n",
    " \\frac{2-1}{2-1+\\theta}\n",
    " \\sum_{\\substack{j < 3 \\\\ j = \\operatorname{coal}(i)}} q_j\n",
    " \\;\n",
    " +\n",
    " \\;\n",
    " \\frac{\\theta}{2 - 1 + \\theta}\n",
    " \\sum_{\\substack{3 \\leq j \\\\ d(i,j) = 1}}\n",
    " \\operatorname{multiplicity}(i \\rightarrow j)\n",
    " \\frac{ \\mathcal{N}^{\\mathrm{r}}_{j\\rightarrow i} }{2}\n",
    " \\frac{ \\mathcal{N}^{\\mathrm{c}}_{j\\rightarrow i} }{2}\n",
    " q_j\n",
    " &\\text{ if $3 \\leq i$}\n",
    " \\end{cases}\n",
    "$$"
   ]
  },
  {
   "cell_type": "markdown",
   "metadata": {},
   "source": [
    "Whereby\n",
    "$$ \\mathcal{N}^{\\mathrm{r}}_{j\\rightarrow i}\n",
    "=\n",
    "\\begin{cases}\n",
    "1 &\\text{ if $j$ has 2 different rows.}\\\\\n",
    "2 &\\text{ if $j$ has 2 identical rows.}\n",
    "\\end{cases}\n",
    "$$\n",
    "and\n",
    "$$ \\mathcal{N}^{\\mathrm{c}}_{j\\rightarrow i}\n",
    "=\n",
    "\\begin{cases}\n",
    "1 &\\text{ if $j$ has 2 different columns.}\\\\\n",
    "2 &\\text{ if $j$ has 2 identical columns.}\n",
    "\\end{cases}\n",
    "$$\n",
    "\n",
    "For purposes of clarification, we here point out that neither the rows or collumns of $\\begin{bmatrix} 1 & 0 \\\\ 0 & 1 \\end{bmatrix}$ are to be considered identical. $\\operatorname{multiplicity}(i \\rightarrow j)$ corresponds to the number of entries in matrix $i$ which can be flipped in order to obtain matrix $j$. In the 2x2 case, $\\operatorname{multiplicity}(i \\rightarrow j) = \\delta_{7,i}$ holds. Note that this factor does not appear in the formulation used in the article, as the index-set of the corresponding sum is expanded in a way, which obviates it."
   ]
  },
  {
   "cell_type": "markdown",
   "metadata": {},
   "source": [
    "### Building a solver"
   ]
  },
  {
   "cell_type": "code",
   "execution_count": 12,
   "metadata": {
    "collapsed": true
   },
   "outputs": [],
   "source": [
    "def Nr_AIS(j):\n",
    "#     return 1.0 + float(j in (3,6,9))\n",
    "    return 1.0 + float(j in (3,6,9,7)) # This is a HACK. The factor in front \n",
    "\n",
    "def Nc_AIS(j):\n",
    "    return 1.0 + float(j in (3,5,9))"
   ]
  },
  {
   "cell_type": "code",
   "execution_count": 13,
   "metadata": {
    "collapsed": true
   },
   "outputs": [],
   "source": [
    "d_coal_AIS = {\n",
    "    3:set([0]),\n",
    "    6:set([1]),\n",
    "    9:set([2])\n",
    "}"
   ]
  },
  {
   "cell_type": "code",
   "execution_count": 14,
   "metadata": {
    "collapsed": false
   },
   "outputs": [
    {
     "data": {
      "text/plain": [
       "True"
      ]
     },
     "execution_count": 14,
     "metadata": {},
     "output_type": "execute_result"
    }
   ],
   "source": [
    "d_mut_AIS = {\n",
    "    3:set([4]),\n",
    "    4:set([3,5,6,7]),\n",
    "    5:set([4,8]),\n",
    "    6:set([4,8]),\n",
    "    7:set([4,8]),\n",
    "    8:set([5,6,7,9]),\n",
    "    9:set([8])\n",
    "}\n",
    "checkSymmetry(d_mut_AIS)"
   ]
  },
  {
   "cell_type": "markdown",
   "metadata": {},
   "source": [
    "This is really all we need to implement the explicit solution of the almost infinite sites model."
   ]
  },
  {
   "cell_type": "code",
   "execution_count": 15,
   "metadata": {
    "collapsed": false
   },
   "outputs": [
    {
     "name": "stdout",
     "output_type": "stream",
     "text": [
      "[ 0.25        0.5         0.25        0.14583333  0.16666667  0.04166667\n",
      "  0.29166667  0.04166667  0.16666667  0.14583333] \n",
      "[ 1.          0.          0.          0.5375      0.3         0.04166667\n",
      "  0.04166667  0.04166667  0.03333333  0.00416667]\n",
      "1.0\n",
      "1.0\n"
     ]
    }
   ],
   "source": [
    "pi1_AIS = [0.25, 0.5, 0.25]\n",
    "pi2_AIS = [1.0 , 0.0 , 0.0]\n",
    "M1_AIS = coeficientMatrix(1.0, d_mut = d_mut_AIS, d_coal = d_coal_AIS, Nr = Nr_AIS, Nc = Nc_AIS)\n",
    "b1_AIS = inhomogeneity(pi1_AIS,7)\n",
    "b2_AIS = inhomogeneity(pi2_AIS,7)\n",
    "x1_AIS = np.linalg.solve(M1_AIS,b1_AIS)\n",
    "x2_AIS = np.linalg.solve(M1_AIS,b2_AIS)\n",
    "print x1_AIS,'\\n',x2_AIS\n",
    "print sum(x1_AIS[3:])\n",
    "print sum(x2_AIS[3:])"
   ]
  },
  {
   "cell_type": "markdown",
   "metadata": {},
   "source": [
    "We check the numerical error:"
   ]
  },
  {
   "cell_type": "code",
   "execution_count": 16,
   "metadata": {
    "collapsed": false
   },
   "outputs": [
    {
     "name": "stdout",
     "output_type": "stream",
     "text": [
      "1.24642829255e-16\n",
      "1.62962475355e-17\n"
     ]
    }
   ],
   "source": [
    "from math import sqrt\n",
    "err1 = np.dot(M1_AIS,x1_AIS) - b1_AIS\n",
    "err2 = np.dot(M1_AIS,x2_AIS) - b2_AIS\n",
    "print sqrt(sum(err1**2))/sqrt(sum(b1_AIS**2))\n",
    "print sqrt(sum(err2**2))/sqrt(sum(b2_AIS**2))"
   ]
  },
  {
   "cell_type": "markdown",
   "metadata": {},
   "source": [
    "The error seems to be on the order of machine precission; which is good."
   ]
  },
  {
   "cell_type": "markdown",
   "metadata": {},
   "source": [
    "We explore if the error is magnified/reduced when $\\theta$ is varied."
   ]
  },
  {
   "cell_type": "code",
   "execution_count": 17,
   "metadata": {
    "collapsed": false
   },
   "outputs": [
    {
     "name": "stdout",
     "output_type": "stream",
     "text": [
      "1.00000000000000022204\n"
     ]
    }
   ],
   "source": [
    "# Case: theta is small\n",
    "M0p001_AIS = coeficientMatrix(0.001, d_mut = d_mut_AIS, d_coal = d_coal_AIS, Nr = Nr_AIS, Nc = Nc_AIS)\n",
    "x3_AIS = np.linalg.solve(M0p001_AIS,b2_AIS)\n",
    "print \"%.20f\"%sum(x3_AIS[:2:-1])"
   ]
  },
  {
   "cell_type": "code",
   "execution_count": 18,
   "metadata": {
    "collapsed": false
   },
   "outputs": [
    {
     "name": "stdout",
     "output_type": "stream",
     "text": [
      "1.00000005174863271229\n",
      "[ 1.          0.          0.          0.0625      0.25000001  0.12500001\n",
      "  0.12500001  0.12500001  0.25000001  0.0625    ]\n"
     ]
    }
   ],
   "source": [
    "#Case: theta is large\n",
    "M10e9_AIS = coeficientMatrix(10.0**9, d_mut = d_mut_AIS, d_coal = d_coal_AIS, Nr = Nr_AIS, Nc = Nc_AIS)\n",
    "x4_AIS = np.linalg.solve(M10e9_AIS,b2_AIS)\n",
    "print \"%.20f\"%sum(x4_AIS[:2:-1])\n",
    "print x4_AIS"
   ]
  },
  {
   "cell_type": "markdown",
   "metadata": {},
   "source": [
    "Satisfies with these brief tests, we now *write* a solver, similar to for the Griffiths-tavare-case:"
   ]
  },
  {
   "cell_type": "code",
   "execution_count": 19,
   "metadata": {
    "collapsed": false
   },
   "outputs": [],
   "source": [
    "def solve_AIS_recursions(thetas,pis):\n",
    "    '''\n",
    "    Solve the Almost Infinite Sites-recursions explicitly for any (theta,pi) such that theta is an element of thetas,\n",
    "    and pi is an element of pis.\n",
    "    \n",
    "    Returns three dictionaries:\n",
    "      solutions,\n",
    "      Ms,\n",
    "      bs,\n",
    "    which are indexed by keysets thetas, pis and ((theta,pi) for theta in thetas for pi in pis) respectively.\n",
    "    There satisfy that the linear equation\n",
    "    \n",
    "      bs[pi] = Ms[theta] * solutions[(theta,pi)]\n",
    "    \n",
    "    holds for any choice of pi in pis and theta in thetas.\n",
    "    '''\n",
    "    solutions = {}\n",
    "    Ms = {}\n",
    "    bs = {}\n",
    "    for pi in pis:\n",
    "        b = inhomogeneity(pi,7)\n",
    "        bs[pi] = b\n",
    "        for theta in thetas:\n",
    "            M = coeficientMatrix(theta, d_mut = d_mut_AIS, d_coal = d_coal_AIS, Nr = Nr_AIS, Nc = Nc_AIS)\n",
    "            Ms[theta] = M\n",
    "            solutions[(theta,pi)] = np.linalg.solve(M,b)\n",
    "    return solutions,Ms,bs"
   ]
  },
  {
   "cell_type": "markdown",
   "metadata": {},
   "source": [
    "### PLOTS!"
   ]
  },
  {
   "cell_type": "markdown",
   "metadata": {},
   "source": [
    "As for the infinte-sites model, we proceed to produce plots and log-plots showing the likelihoods of $q_i$ for different values of $i$, as a function onf theta for $\\pi \\in \\{ \\delta_0 , \\frac{1}{4}(\\delta_0 + 2 \\delta_1 + \\delta_2) \\}$. We do not plot $q_i$ for all values of $i$, but any value which is not plotted is identical to one which is (working out which index represents an index that is not plottet from the basic model is quite simple)."
   ]
  },
  {
   "cell_type": "code",
   "execution_count": 20,
   "metadata": {
    "collapsed": false
   },
   "outputs": [],
   "source": [
    "#thetas = np.logspace(-4,3,num=100)\n",
    "pi1_AIS = (0.25, 0.5, 0.25)\n",
    "pi2_AIS = (1.0 , 0.0 , 0.0)\n",
    "pis_AIS = (pi1_AIS,pi2_AIS)\n",
    "\n",
    "solutions_AIS,Ms_AIS,bs_AIS = solve_AIS_recursions(thetas,pis_AIS)"
   ]
  },
  {
   "cell_type": "code",
   "execution_count": 23,
   "metadata": {
    "collapsed": false
   },
   "outputs": [
    {
     "data": {
      "image/png": "[encoded data removed]",
      "text/plain": [
       "<matplotlib.figure.Figure at 0x7f63ecf8fad0>"
      ]
     },
     "metadata": {},
     "output_type": "display_data"
    },
    {
     "data": {
      "image/png": "[encoded data removed]",
      "text/plain": [
       "<matplotlib.figure.Figure at 0x7f63ed4f3290>"
      ]
     },
     "metadata": {},
     "output_type": "display_data"
    }
   ],
   "source": [
    "labels = {\n",
    "    3: r'$q(\\psi_1)$',\n",
    "    4: r'$q(\\psi_2)$',\n",
    "    5: r'$q(\\psi_3)$',\n",
    "    6: r'$q(\\psi_4)$',\n",
    "    7: r'$q(\\psi_5)$',\n",
    "    8: r'$q(\\psi_6)$',\n",
    "    9: r'$q(\\psi_7)$'\n",
    "}\n",
    "'''\n",
    "[‘solid’ | ‘dashed’, ‘dashdot’, ‘dotted’ | (offset, on-off-dash-seq) | '-' | '--' | '-.' | ':' | 'None' | ' ' | '']\n",
    "'''\n",
    "styles = {\n",
    "    3: 'solid',\n",
    "    4: 'dashed',\n",
    "    5: 'dashdot',\n",
    "    6: 'dotted',\n",
    "    7: 'dashdot',\n",
    "    8: ':',\n",
    "    9: 'solid'    \n",
    "}\n",
    "\n",
    "colors ={\n",
    "    3: 'blue',\n",
    "    4: 'red',\n",
    "    5: 'darkgreen',\n",
    "    6: 'magenta',\n",
    "    7: 'brown',\n",
    "    8: 'darkorange',\n",
    "    9: 'orchid'\n",
    "}\n",
    "\n",
    "\n",
    "plt.figure(3)\n",
    "#plt.subplot(211)\n",
    "for i in (3,4,5,6):\n",
    "    likelihhods = [solutions_AIS[(theta,pi1_AIS)][i] for theta in thetas]\n",
    "    plt.plot(thetas,likelihhods, label = labels[i], linestyle = styles[i], color = colors[i])\n",
    "#plt.legendnd()\n",
    "plt.legend()\n",
    "plt.xscale('log')\n",
    "plt.xlabel('$\\\\theta$ (log-scale)')\n",
    "plt.title('$\\pi = \\\\frac{1}{4}(\\delta_{[0 , 0]} + 2\\delta_{[1 , 0]} + \\delta_{[1 , 1]})$')\n",
    "\n",
    "figure_paths = generate_figure_paths('AIS_symetric_boundary')\n",
    "for path in figure_paths:\n",
    "    plt.savefig(path)\n",
    "\n",
    "plt.show()\n",
    "plt.close()\n",
    "\n",
    "plt.figure(4)\n",
    "#plt.subplot(212)\n",
    "for i in (3,4,5,6):\n",
    "    likelihhods = [solutions_AIS[(theta,pi1_AIS)][i] for theta in thetas]\n",
    "    #plt.plot(thetas,likelihhods, label = 'i = %i'%i)\n",
    "    plt.plot(thetas,likelihhods, label = labels[i], linestyle = styles[i], color = colors[i])\n",
    "#plt.legendnd()\n",
    "plt.legend(bbox_to_anchor=(0.99, 0.50))\n",
    "plt.xscale('log')\n",
    "plt.yscale('log')\n",
    "plt.xlabel('$\\\\theta$ (log-scale)')\n",
    "plt.ylabel('(log-scale)')\n",
    "#plt.title('$q_i$ for $i \\\\in \\\\{ 3,4,5\\\\}$, $\\pi = \\\\frac{1}{4}(\\delta_0 + 2\\delta_1 + \\delta_2)$')\n",
    "plt.title('$\\pi = \\\\frac{1}{4}(\\delta_{[0 , 0]} + 2\\delta_{[1 , 0]} + \\delta_{[1 , 1]})$')\n",
    "\n",
    "figure_paths = generate_figure_paths('AIS_symetric_boundary_log-log')\n",
    "for path in figure_paths:\n",
    "    plt.savefig(path)\n",
    "\n",
    "plt.show()\n",
    "plt.close()"
   ]
  },
  {
   "cell_type": "code",
   "execution_count": 65,
   "metadata": {
    "collapsed": false
   },
   "outputs": [
    {
     "data": {
      "image/png": "[encoded data removed]",
      "text/plain": [
       "<matplotlib.figure.Figure at 0x7f37d60f0d90>"
      ]
     },
     "metadata": {},
     "output_type": "display_data"
    },
    {
     "data": {
      "image/png": "[encoded data removed]",
      "text/plain": [
       "<matplotlib.figure.Figure at 0x7f37d5b90d50>"
      ]
     },
     "metadata": {},
     "output_type": "display_data"
    }
   ],
   "source": [
    "plt.figure(3)\n",
    "for i in (3,4,5,8,9):\n",
    "    likelihhods = [solutions_AIS[(theta,pi2_AIS)][i] for theta in thetas]\n",
    "    plt.plot(thetas,likelihhods, label = labels[i], linestyle = styles[i], color = colors[i])\n",
    "plt.xscale('log')\n",
    "plt.xlabel(r'$\\theta$ (log-scale)')\n",
    "plt.title(r'$\\pi = \\delta_{[0, 0]}$')\n",
    "plt.legend()\n",
    "\n",
    "figure_paths = generate_figure_paths('AIS_non-symetric_boundary')\n",
    "for path in figure_paths:\n",
    "    plt.savefig(path)\n",
    "\n",
    "plt.show()\n",
    "plt.close()\n",
    "\n",
    "plt.figure(4)\n",
    "for i in (3,4,5,8,9):\n",
    "    likelihhods = [solutions_AIS[(theta,pi2_AIS)][i] for theta in thetas]\n",
    "    plt.plot(thetas,likelihhods, label = labels[i], linestyle = styles[i], color = colors[i])\n",
    "plt.xscale('log')\n",
    "plt.yscale('log')\n",
    "plt.xlabel(r'$\\theta$ (log-scale)')\n",
    "plt.ylabel('(log-scale)')\n",
    "plt.title(r'$\\pi = \\delta_{[0, 0]}$')\n",
    "plt.legend(bbox_to_anchor=(0.99, 0.725))\n",
    "\n",
    "figure_paths = generate_figure_paths('AIS_non-symetric_boundary_log-log')\n",
    "for path in figure_paths:\n",
    "    plt.savefig(path)\n",
    "\n",
    "plt.show()\n",
    "plt.close()"
   ]
  },
  {
   "cell_type": "markdown",
   "metadata": {},
   "source": [
    "## Comparing results of the two models"
   ]
  },
  {
   "cell_type": "markdown",
   "metadata": {},
   "source": [
    "One might note that we in the AIS-case do not observe all ptobabilities converging to the same value as is the case for the Finite-sites case. This is however simply due to the case that different equivalence-classes have different cardinalities. Hence, in order to compare the results of the two modells, we need to check if the equivalence class $A$ is assigned the same probability by the AIS-recursions as the sum of the probabilities assigned to its individual elements. We do this in the following:"
   ]
  },
  {
   "cell_type": "code",
   "execution_count": 22,
   "metadata": {
    "collapsed": true
   },
   "outputs": [],
   "source": [
    "def compareSolutions(x_GT,x_AIS):\n",
    "    correspondence = {3:(4,),\n",
    "                      4:(5,6,7,8),\n",
    "                      5:(9,14),\n",
    "                      6:(10,13),\n",
    "                      7:(11,12),\n",
    "                      8:(15,16,17,18),\n",
    "                      9:(19,)\n",
    "                     }\n",
    "    return np.array([x_AIS[key] - sum([x_GT[i] for i in val]) for key,val in correspondence.iteritems()])"
   ]
  },
  {
   "cell_type": "code",
   "execution_count": 23,
   "metadata": {
    "collapsed": false
   },
   "outputs": [
    {
     "name": "stdout",
     "output_type": "stream",
     "text": [
      "maximum L1-error\t= 7.86037901435e-14\n",
      "argmax\t\t\t= (1000.0, (0.25, 0.25, 0.25, 0.25), (0.25, 0.5, 0.25))\n"
     ]
    }
   ],
   "source": [
    "max_abs_err = 0.0\n",
    "argmax = (False,False)\n",
    "abs_errs = np.zeros(2*len(thetas))\n",
    "i = 0\n",
    "for theta in thetas:\n",
    "    for pi_GT,pi_AIS in ((pi1,pi1_AIS),(pi2,pi2_AIS)):\n",
    "        x_GT  = solutions[(theta,pi_GT)]\n",
    "        x_AIS = solutions_AIS[(theta,pi_AIS)]\n",
    "        abs_err = sum(abs(compareSolutions(x_GT,x_AIS)))\n",
    "        if max_abs_err < abs_err:\n",
    "            max_abs_err = abs_err\n",
    "            argmax = (theta,pi_GT,pi_AIS)\n",
    "        abs_errs[i] = abs_err\n",
    "        i += 1\n",
    "abs_errs_pi1 = abs_errs[[2*i for i in range(len(thetas))]]\n",
    "abs_errs_pi2 = abs_errs[[2*i + 1 for i in range(len(thetas))]]\n",
    "print 'maximum L1-error\\t= %s\\nargmax\\t\\t\\t= %s'%(str(max_abs_err),str(argmax))\n",
    "        "
   ]
  },
  {
   "cell_type": "markdown",
   "metadata": {},
   "source": [
    "This level of error seems to be on a tolerable level."
   ]
  },
  {
   "cell_type": "markdown",
   "metadata": {},
   "source": [
    "we may even print the L1-error as a function of theta:"
   ]
  },
  {
   "cell_type": "code",
   "execution_count": 24,
   "metadata": {
    "collapsed": false
   },
   "outputs": [
    {
     "data": {
      "image/png": "[encoded data removed]",
      "text/plain": [
       "<matplotlib.figure.Figure at 0x7f961ccddb10>"
      ]
     },
     "metadata": {},
     "output_type": "display_data"
    }
   ],
   "source": [
    "plt.figure(5)\n",
    "plt.plot(thetas,abs_errs_pi1, label = '$\\\\pi = \\\\frac{1}{4}(\\delta_0 + 2\\delta_1 + \\delta_2)$')\n",
    "plt.plot(thetas,abs_errs_pi2, label = '$\\\\pi = \\delta_0$')\n",
    "plt.legend(bbox_to_anchor=(0.99, 0.29))\n",
    "plt.show()\n",
    "plt.close()"
   ]
  },
  {
   "cell_type": "markdown",
   "metadata": {},
   "source": [
    "The error-pattern in the above figure seems reasonable, and does not cause me any great concern, and it does not seem unreasonable to ascriibe the small discrepancy detected between the two models to numerical error."
   ]
  }
 ],
 "metadata": {
  "kernelspec": {
   "display_name": "Python 2",
   "language": "python",
   "name": "python2"
  },
  "language_info": {
   "codemirror_mode": {
    "name": "ipython",
    "version": 2
   },
   "file_extension": ".py",
   "mimetype": "text/x-python",
   "name": "python",
   "nbconvert_exporter": "python",
   "pygments_lexer": "ipython2",
   "version": "2.7.6"
  }
 },
 "nbformat": 4,
 "nbformat_minor": 0
}
