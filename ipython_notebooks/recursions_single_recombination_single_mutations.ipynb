{
 "cells": [
  {
   "cell_type": "markdown",
   "metadata": {
    "collapsed": true
   },
   "source": [
    "# Background"
   ]
  },
  {
   "cell_type": "markdown",
   "metadata": {},
   "source": [
    "This is a slight modification of our earlier notebook.\n",
    "\n",
    "We now wish to compute the parobability of observing a recombination conditioned on observing a single mutation event on either marginal tree (we also exclude recombinations and mutations affecting non-ancestal material)."
   ]
  },
  {
   "cell_type": "markdown",
   "metadata": {},
   "source": [
    "$\\mathbb{P}\\left( \\Omega^{\\prime \\, \\text{vis}} | \\Omega' \\right)$ may be expressed as\n",
    "$\\mathbb{P}\\left( \\Omega^{\\prime \\, \\text{vis}} \\right) / \\mathbb{P}\\left( \\Omega' \\right)$\n",
    "whereby \n",
    "\n",
    "$\\mathbb{P}\\left( \\Omega' \\right) = p_{n}(1,1,1)$\n",
    "\n",
    "and\n",
    "\n",
    "$\n",
    "\\begin{aligned}\n",
    "\\mathbb{P}(\\Omega^{\\prime \\, \\text{vis}}) = p'_n &=  \\sum_{k=2}^{n} \\mathbb{P}(\\Omega^{\\prime \\, \\text{vis}}_k) \\\\\n",
    "  &= \\sum_{k=3}^{n} p^{\\neg \\rho, \\neg \\theta_1, \\neg \\theta_2}_{n,k} \\frac{\\rho}{k-1+ \\theta_1 + \\theta_2 +\\rho} q'_{k+1,(0,0)} \\\\\n",
    "\\end{aligned}\n",
    "$\n",
    "\n",
    "holds. Both of these expressions are in terms of auxiliary expressdions defined below."
   ]
  },
  {
   "cell_type": "markdown",
   "metadata": {},
   "source": [
    "$$\n",
    "p_n(m_l,m_r,r) =\n",
    "\\begin{cases}\n",
    "\\dfrac{ \\begin{aligned} &(n-1) \\, p_{n-1}(m_l,m_r,r)+ \\theta_1 \\, p_n(m_l-1,m_r,r) \\\\ &+ \\theta_2 \\, p_n(m_l,m_r -1,r) + \\rho \\, p_{n+1}(m_l,m_r,r-1) \\end{aligned}}{n-1 + \\theta_1 + \\theta_2 + \\rho}\n",
    "&\\text{ if }  n>1, m_l, m_r, r > 0 \n",
    "\\\\\n",
    "1\n",
    "&\\text{ if } n=1, m_l = m_r = r = 0\n",
    "\\\\\n",
    "0\n",
    "&\\text{ else}\n",
    "\\end{cases}\n",
    "$$"
   ]
  },
  {
   "cell_type": "markdown",
   "metadata": {},
   "source": [
    "$$\n",
    "p^{\\neg \\rho, \\neg \\theta_1, \\neg \\theta_2}_{n,k} = \\frac{p_n(0,0,0)}{p_{k}(0,0,0)} = \\prod_{i = 1}^{n - k} \\frac{n - i}{n-i + \\theta_1 + \\theta_2 + \\rho}\n",
    "$$"
   ]
  },
  {
   "cell_type": "markdown",
   "metadata": {},
   "source": [
    "The auxiliary probabilities $(q'_{k,{i,j}})_{k \\in \\mathbb{N}, i,j \\in \\lbrace 0,1,2 \\rbrace}$ satisfy the following recursive linear system (a slight modification on the earlier recursions to account for the fact that we prohibit any other mutations than those nessecary to reveal the incompatibility):"
   ]
  },
  {
   "cell_type": "markdown",
   "metadata": {},
   "source": [
    "\\begin{align}\n",
    "q'_{k, (0,0)}\n",
    "  &= \\frac{(k-2) ( q'_{k-1,(1,0)} + q'_{k-1,(0,1)}) + \\binom{k-2}{2} q'_{k-1,(0,0)} }{\\binom{k}{2} + \\frac{k}{2} (\\theta_1 + \\theta_2 + \\rho)}\n",
    "\\\\\n",
    "q'_{k, (0,1)}\n",
    "  &= \\frac{\\frac{1}{2} \\theta_2 \\, q'_{k,(0,2)} + (k-2) \\, q'_{k-1,(1,1)} + \\binom{k-1}{2} \\, q'_{k-1,(0,1)} }{\\binom{k}{2} + \\frac{k}{2} (\\theta_1 + \\theta_2 + \\rho)}\n",
    "\\\\\n",
    "q'_{k, (1,0)}\n",
    "  &= \\frac{\\frac{1}{2} \\theta_1 \\, q'_{k,(2,0)} + (k-2) \\, q'_{k-1,(1,1)} + \\binom{k-1}{2} \\, q'_{k-1,(1,0)} }{\\binom{k}{2} + \\frac{k}{2} (\\theta_1 + \\theta_2 + \\rho)}\n",
    "\\\\\n",
    "q'_{k, (0,2)} \n",
    "  &= \\frac{(k-2) q'_{k-1,(1,2)} + \\binom{k-1}{2} q'_{k-1,(0,2)} }{\\binom{k}{2} + \\frac{k}{2} (\\theta_1 + \\theta_2 + \\rho)}\n",
    "\\\\\n",
    "q'_{k, (2,0)}\n",
    "  &= \\frac{(k-2) q'_{k-1,(2,1)} + \\binom{k-1}{2} q'_{k-1,(2,1)} }{\\binom{k}{2} + \\frac{k}{2} (\\theta_1 + \\theta_2 + \\rho)}\n",
    "\\\\\n",
    "q'_{k, (1,1)}\n",
    "  &= \\frac{\\frac{1}{2} \\theta_1 \\, q'_{k,(2,1)} + \\frac{1}{2} \\theta_2 q'_{k,(1,2)} + \\left( \\binom{k}{2} - 1 \\right) \\, q'_{k-1,(1,1)} }{\\binom{k}{2} + \\frac{k}{2} (\\theta_1 + \\theta_2 + \\rho)}\n",
    "\\\\\n",
    "q'_{k, (1,2)}\n",
    "  &=\\frac{\\frac{1}{2} \\theta_1 q'_{k,(2,2)} + \\left( \\binom{k}{2} - 1 \\right) q'_{k-1,(1,2)}}{\\binom{k}{2} + \\frac{k}{2} (\\theta_1 + \\theta_2 + \\rho)}\n",
    "\\\\\n",
    "q'_{k, (2,1)}\n",
    "  &= \\frac{\\frac{1}{2} \\theta_2 q_{k,(2,2)} + \\left( \\binom{k}{2} - 1 \\right) q_{k-1,(2,1)}}{\\binom{k}{2} + \\frac{k}{2} (\\theta_1 + \\theta_2 + \\rho)}\n",
    "\\end{align}"
   ]
  },
  {
   "cell_type": "markdown",
   "metadata": {},
   "source": [
    "with boundary conditions:\n",
    "\\begin{align}\n",
    "q'_{k,(0,0)} &= 0 \\text{ if } k<4 \\\\\n",
    "q'_{k,(0,1)} &= 0 \\text{ if } k<3 \\\\\n",
    "q'_{k,(1,0)} &= 0 \\text{ if } k<3 \\\\\n",
    "q'_{k,(0,2)} &= 0 \\text{ if } k<3 \\\\\n",
    "q'_{k,(2,0)} &= 0 \\text{ if } k<3 \\\\\n",
    "q'_{k,(1,1)} &= 0 \\text{ if } k<2 \\\\\n",
    "q'_{k,(1,2)} &= 0 \\text{ if } k<2 \\\\\n",
    "q'_{k,(2,1)} &= 0 \\text{ if } k<2 \\\\\n",
    "q'_{k,(2,2)} &= p^{\\neg \\rho, \\neg \\theta_1, \\neg \\theta_2}_{k,1} = \\prod_{i = 2}^k \\frac{i-1}{i-1+ \\theta_1 + \\theta_2 +\\rho}\n",
    "\\end{align}"
   ]
  },
  {
   "cell_type": "markdown",
   "metadata": {},
   "source": [
    "The solution of this system will be a series of rational functions of integers $n \\geq k > 1$ and non-negative reals $\\rho, \\theta_1, \\theta_2$."
   ]
  },
  {
   "cell_type": "markdown",
   "metadata": {},
   "source": [
    "# Implementation"
   ]
  },
  {
   "cell_type": "code",
   "execution_count": 1,
   "metadata": {},
   "outputs": [],
   "source": [
    "def pn(n, m1, m2, r, theta1, theta2, rho, known_values = None):\n",
    "    'compute p_n(m1,m2,r) via memoization.'\n",
    "\n",
    "    assert all([isinstance(x,int) for x in (n,m1,m2,r)])\n",
    "    \n",
    "    if known_values == None:\n",
    "        known_values = dict()\n",
    "    \n",
    "    if (n,m1,m2,r) in known_values:\n",
    "        return known_values[(n,m1,m2,r)],known_values\n",
    "    \n",
    "    elif (n == 1 and m1 == 0 and m2 == 0 and r == 0):\n",
    "        return 1, known_values\n",
    "    \n",
    "    elif (n > 1 and m1 >= 0 and m2 >= 0 and r >= 0):\n",
    "        a, known_values = pn(n - 1, m1, m2, r, theta1, theta2, rho, known_values)\n",
    "        b, known_values = pn(n, m1 - 1, m2, r, theta1, theta2, rho, known_values)\n",
    "        c, known_values = pn(n, m1, m2 - 1, r, theta1, theta2, rho, known_values)\n",
    "        d, known_values = pn(n + 1, m1, m2, r - 1, theta1, theta2, rho, known_values)\n",
    "    \n",
    "        result = ( (n - 1) * a + theta1 * b + theta2 * c + rho * d ) / (n - 1 + theta1 + theta2 + rho)\n",
    "        known_values[(n,m1,m2,r)] = result\n",
    "        \n",
    "        return result, known_values\n",
    "    \n",
    "    else:\n",
    "        return 0, known_values"
   ]
  },
  {
   "cell_type": "code",
   "execution_count": 2,
   "metadata": {},
   "outputs": [],
   "source": [
    "def p_neg(n1,n2,theta1,theta2,rho):\n",
    "    '''The probability that a set of n1 lineages will coalesce to n2 lineages before experiencing\n",
    "recurison or mutation'''\n",
    "    assert n1 >= n2\n",
    "    assert n2 > 0\n",
    "\n",
    "    if isinstance(rho,int):\n",
    "        rho = float(rho)\n",
    "    if isinstance(rho,float):\n",
    "        assert rho >= 0\n",
    "    \n",
    "    return reduce( lambda x,y: x*y, [(k - 1)/(k - 1 + theta1 + theta2 + rho) for k in range(n1,n2,-1)], 1)"
   ]
  },
  {
   "cell_type": "code",
   "execution_count": 3,
   "metadata": {},
   "outputs": [],
   "source": [
    "def choose2(k):\n",
    "    return (k*(k-1))/2"
   ]
  },
  {
   "cell_type": "code",
   "execution_count": 4,
   "metadata": {},
   "outputs": [],
   "source": [
    "def q_recursive(k,i,j,theta1,theta2,rho):\n",
    "    'compute q_{k,(i,j)} using tail-recursion.'\n",
    "    \n",
    "    #convert integers to float (since a/b performs integer division if a and b are both integers)\n",
    "    if isinstance(rho,int):\n",
    "        rho = float(rho)\n",
    "    if isinstance(theta1,int):\n",
    "        theta1 = float(theta1)\n",
    "    if isinstance(theta2,int):\n",
    "        theta2 = float(theta2)\n",
    "    \n",
    "    theta = theta1 + theta2\n",
    "    \n",
    "    if   (i,j) == (0,0):\n",
    "        if k < 4:\n",
    "            return 0\n",
    "        else:\n",
    "            a = q_recursive(k-1, 1, 0, theta1,theta2,rho)\n",
    "            b = q_recursive(k-1, 0, 1, theta1,theta2,rho)\n",
    "            c = q_recursive(k-1, 0, 0, theta1,theta2,rho)\n",
    "            result = ( (k - 2)*(a+b) + choose2(k-2)*c ) / (choose2(k) + k/2 * (rho + theta) )\n",
    "            return result\n",
    "            \n",
    "    elif (i,j) == (0,1):\n",
    "        if k < 3:\n",
    "            return 0\n",
    "        else:\n",
    "            a = q_recursive(k  , 0, 2, theta1,theta2,rho)\n",
    "            b = q_recursive(k-1, 1, 1, theta1,theta2,rho)\n",
    "            c = q_recursive(k-1, 0, 1, theta1,theta2,rho)\n",
    "            result = ( a*theta2/2 + (k - 2)*b + choose2(k-1)*c ) / (choose2(k) + k/2 * (rho + theta) )\n",
    "            return result\n",
    "\n",
    "    elif (i,j) == (1,0):\n",
    "        if k < 3:\n",
    "            return 0\n",
    "        else:\n",
    "            a = q_recursive(k  , 2, 0, theta1,theta2,rho)\n",
    "            b = q_recursive(k-1, 1, 1, theta1,theta2,rho)\n",
    "            c = q_recursive(k-1, 1, 0, theta1,theta2,rho)\n",
    "            result = ( a*theta1/2 + (k - 2)*b + choose2(k-1)*c ) / (choose2(k) + k/2 * (rho + theta) )\n",
    "            return result\n",
    "\n",
    "    elif (i,j) == (0,2):\n",
    "        if k < 3:\n",
    "            return 0\n",
    "        else:\n",
    "            a = q_recursive(k-1, 1, 2, theta1,theta2,rho)\n",
    "            b = q_recursive(k-1, 0, 2, theta1,theta2,rho)\n",
    "            result = ( (k - 2)*a + choose2(k-1)*b ) / (choose2(k) + k/2 * (rho + theta) )\n",
    "            return result\n",
    "    \n",
    "    elif (i,j) == (2,0):\n",
    "        if k < 3:\n",
    "            return 0\n",
    "        else:\n",
    "            a = q_recursive(k-1, 2, 1, theta1,theta2,rho)\n",
    "            b = q_recursive(k-1, 2, 0, theta1,theta2,rho)\n",
    "            result = ( (k - 2)*a + choose2(k-1)*b ) / (choose2(k) + k/2 * (rho + theta) )\n",
    "            return result\n",
    "    \n",
    "    elif (i,j) == (1,1):\n",
    "        if k < 2:\n",
    "            return 0\n",
    "        else:\n",
    "            a = q_recursive(k  , 2, 1, theta1,theta2,rho)\n",
    "            b = q_recursive(k  , 1, 2, theta1,theta2,rho)\n",
    "            c = q_recursive(k-1, 1, 1, theta1,theta2,rho)\n",
    "            result = ( (theta1*a + theta2*b)/2 + (choose2(k) - 1)*c ) / (choose2(k) + k/2 * (rho + theta) )\n",
    "            return result\n",
    "    \n",
    "    elif (i,j) == (1,2):\n",
    "        if k < 2:\n",
    "            return 0\n",
    "        else:\n",
    "            a = q_recursive(k  , 2, 2, theta1,theta2,rho)\n",
    "            b = q_recursive(k-1, 1, 2, theta1,theta2,rho)\n",
    "            result = ( a*theta1/2 + (choose2(k) - 1)*b ) / (choose2(k) + k/2 * (rho + theta) )\n",
    "            return result\n",
    "    \n",
    "    elif (i,j) == (2,1):\n",
    "        if k < 2:\n",
    "            return 0\n",
    "        else:\n",
    "            a = q_recursive(k  , 2, 2, theta1,theta2,rho)\n",
    "            b = q_recursive(k-1, 2, 1, theta1,theta2,rho)\n",
    "            result = ( a*theta2/2 + (choose2(k) - 1)*b ) / (choose2(k) + k/2 * (rho + theta) )\n",
    "            return result\n",
    "    \n",
    "    elif (i,j) == (2,2):\n",
    "        result = p_neg(k,1,theta1,theta2,rho)\n",
    "        return result\n",
    "    \n",
    "    else:\n",
    "        raise ValueError('0 <= i,j <= 2 must hold; arguments here: i = %i, j=%i'%(i,j))"
   ]
  },
  {
   "cell_type": "code",
   "execution_count": 5,
   "metadata": {},
   "outputs": [],
   "source": [
    "def q_recursive_memorized(k,i,j,theta1,theta2,rho, known_values = None ):\n",
    "    '''compute q_{k,(i,j)} using tail-recursion and tableing of known values.\n",
    "    \n",
    "Returns q_{k,(i,j)} as well as a dictionary of other q-values computed in the\n",
    "process of determining q_{k,(i,j)}.'''\n",
    "    \n",
    "    if known_values == None:\n",
    "        known_values = dict()\n",
    "    \n",
    "    #check to see if we already know q_{k,(i,j)}\n",
    "    if (k,i,j) in known_values:\n",
    "        return known_values[(k,i,j)],known_values\n",
    "    \n",
    "    #convert integers to float (since a/b performs integer division if a and b are both integers)\n",
    "    if isinstance(rho,int):\n",
    "        rho = float(rho)\n",
    "    if isinstance(theta1,int):\n",
    "        theta1 = float(theta1)\n",
    "    if isinstance(theta2,int):\n",
    "        theta2 = float(theta2)   \n",
    "    \n",
    "    theta = theta1 + theta2\n",
    "        \n",
    "        \n",
    "    if   (i,j) == (0,0):\n",
    "        if k < 4:\n",
    "            result = 0\n",
    "        else:\n",
    "            a,known_values = q_recursive_memorized(k-1, 1, 0, theta1,theta2,rho, known_values)\n",
    "            b,known_values = q_recursive_memorized(k-1, 0, 1, theta1,theta2,rho, known_values)\n",
    "            c,known_values = q_recursive_memorized(k-1, 0, 0, theta1,theta2,rho, known_values)\n",
    "            result = ( (k - 2)*(a+b) + choose2(k-2)*c ) / (choose2(k) + k/2 * (rho + theta) )\n",
    "            \n",
    "    elif (i,j) == (0,1):\n",
    "        if k < 3:\n",
    "            result = 0\n",
    "        else:\n",
    "            a,known_values = q_recursive_memorized(k  , 0, 2, theta1,theta2,rho, known_values)\n",
    "            b,known_values = q_recursive_memorized(k-1, 1, 1, theta1,theta2,rho, known_values)\n",
    "            c,known_values = q_recursive_memorized(k-1, 0, 1, theta1,theta2,rho, known_values)\n",
    "            result = ( a*theta2/2 + (k - 2)*b + choose2(k-1)*c ) / (choose2(k) + k/2 * (rho + theta) )\n",
    "\n",
    "    elif (i,j) == (1,0):\n",
    "        if k < 3:\n",
    "            result = 0\n",
    "        else:\n",
    "            a,known_values = q_recursive_memorized(k  , 2, 0, theta1,theta2,rho, known_values)\n",
    "            b,known_values = q_recursive_memorized(k-1, 1, 1, theta1,theta2,rho, known_values)\n",
    "            c,known_values = q_recursive_memorized(k-1, 1, 0, theta1,theta2,rho, known_values)\n",
    "            result = ( a*theta1/2 + (k - 2)*b + choose2(k-1)*c ) / (choose2(k) + k/2 * (rho + theta) )\n",
    "\n",
    "    elif (i,j) == (0,2):\n",
    "        if k < 3:\n",
    "            result = 0\n",
    "        else:\n",
    "            a,known_values = q_recursive_memorized(k-1, 1, 2, theta1,theta2,rho, known_values)\n",
    "            b,known_values = q_recursive_memorized(k-1, 0, 2, theta1,theta2,rho, known_values)\n",
    "            result = ( (k - 2)*a + choose2(k-1)*b ) / (choose2(k) + k/2 * (rho + theta) )\n",
    "    \n",
    "    elif (i,j) == (2,0):\n",
    "        if k < 3:\n",
    "            result = 0\n",
    "        else:\n",
    "            a,known_values = q_recursive_memorized(k-1, 2, 1, theta1,theta2,rho, known_values)\n",
    "            b,known_values = q_recursive_memorized(k-1, 2, 0, theta1,theta2,rho, known_values)\n",
    "            result = ( (k - 2)*a + choose2(k-1)*b ) / (choose2(k) + k/2 * (rho + theta) )\n",
    "    \n",
    "    elif (i,j) == (1,1):\n",
    "        if k < 2:\n",
    "            result = 0\n",
    "        else:\n",
    "            a,known_values = q_recursive_memorized(k  , 2, 1, theta1,theta2,rho, known_values)\n",
    "            b,known_values = q_recursive_memorized(k  , 1, 2, theta1,theta2,rho, known_values)\n",
    "            c,known_values = q_recursive_memorized(k-1, 1, 1, theta1,theta2,rho, known_values)\n",
    "            result = ( (theta1*a + theta2*b)/2 + (choose2(k) - 1)*c ) / (choose2(k) + k/2 * (rho + theta) )\n",
    "    \n",
    "    elif (i,j) == (1,2):\n",
    "        if k < 2:\n",
    "            result = 0\n",
    "        else:\n",
    "            a,known_values = q_recursive_memorized(k  , 2, 2, theta1,theta2,rho, known_values)\n",
    "            b,known_values = q_recursive_memorized(k-1, 1, 2, theta1,theta2,rho, known_values)\n",
    "            result = ( a*theta1/2 + (choose2(k) - 1)*b ) / (choose2(k) + k/2 * (rho + theta) )\n",
    "    \n",
    "    elif (i,j) == (2,1):\n",
    "        if k < 2:\n",
    "            result = 0\n",
    "        else:\n",
    "            a,known_values = q_recursive_memorized(k  , 2, 2, theta1,theta2,rho, known_values)\n",
    "            b,known_values = q_recursive_memorized(k-1, 2, 1, theta1,theta2,rho, known_values)\n",
    "            result = ( a*theta2/2 + (choose2(k) - 1)*b ) / (choose2(k) + k/2 * (rho + theta) )\n",
    "    \n",
    "    elif (i,j) == (2,2):\n",
    "        result = p_neg(k,1,theta1,theta2,rho)\n",
    "    \n",
    "    else:\n",
    "        raise ValueError('0 <= i,j <= 2 must hold; arguments here: i = %i, j=%i'%(i,j))\n",
    "    \n",
    "    known_values[(k,i,j)] = result\n",
    "    return result, known_values"
   ]
  },
  {
   "cell_type": "code",
   "execution_count": 6,
   "metadata": {},
   "outputs": [
    {
     "data": {
      "text/plain": [
       "0.0"
      ]
     },
     "execution_count": 6,
     "metadata": {},
     "output_type": "execute_result"
    }
   ],
   "source": [
    "q_recursive_memorized(50,0,0,1.0,1.0,0.0)[0] - q_recursive(50,0,0,1.0,1.0,0.0)"
   ]
  },
  {
   "cell_type": "code",
   "execution_count": 7,
   "metadata": {},
   "outputs": [
    {
     "data": {
      "text/plain": [
       "{(1, 1, 1): 0,\n",
       " (1, 1, 2): 0,\n",
       " (1, 2, 1): 0,\n",
       " (2, 0, 1): 0,\n",
       " (2, 0, 2): 0,\n",
       " (2, 1, 0): 0,\n",
       " (2, 1, 1): 0.018518518518518517,\n",
       " (2, 1, 2): 0.05555555555555555,\n",
       " (2, 2, 0): 0,\n",
       " (2, 2, 1): 0.05555555555555555,\n",
       " (2, 2, 2): 0.3333333333333333,\n",
       " (3, 0, 0): 0,\n",
       " (3, 0, 1): 0.004814814814814815,\n",
       " (3, 0, 2): 0.01111111111111111,\n",
       " (3, 1, 0): 0.004814814814814815,\n",
       " (3, 1, 1): 0.015185185185185185,\n",
       " (3, 1, 2): 0.03888888888888888,\n",
       " (3, 2, 0): 0.01111111111111111,\n",
       " (3, 2, 1): 0.03888888888888888,\n",
       " (3, 2, 2): 0.16666666666666666,\n",
       " (4, 0, 0): 0.001925925925925926,\n",
       " (4, 0, 1): 0.005037037037037037,\n",
       " (4, 0, 2): 0.01111111111111111,\n",
       " (4, 1, 0): 0.005037037037037037,\n",
       " (4, 1, 1): 0.010037037037037035,\n",
       " (4, 1, 2): 0.024444444444444442,\n",
       " (4, 2, 0): 0.01111111111111111,\n",
       " (4, 2, 1): 0.024444444444444442,\n",
       " (4, 2, 2): 0.09999999999999999,\n",
       " (5, 0, 0): 0.0025714285714285713,\n",
       " (5, 0, 1): 0.004666666666666666,\n",
       " (5, 0, 2): 0.009999999999999998,\n",
       " (5, 1, 0): 0.004666666666666666,\n",
       " (5, 2, 0): 0.009999999999999998,\n",
       " (6, 0, 0): 0.0025124716553287982}"
      ]
     },
     "execution_count": 7,
     "metadata": {},
     "output_type": "execute_result"
    }
   ],
   "source": [
    "q_recursive_memorized(6,0,0,1.0,1.0,0.0)[1]"
   ]
  },
  {
   "cell_type": "markdown",
   "metadata": {},
   "source": [
    "# Symbolic computation"
   ]
  },
  {
   "cell_type": "markdown",
   "metadata": {},
   "source": [
    "The above implmentation also supports symbolic computation. We may use this to get exact formulas expressing $q_{k,(0,0)}$ as a rational function in the indeterminates $\\theta_1, \\theta_2$, and $\\rho$ (the below does just this using sympy):"
   ]
  },
  {
   "cell_type": "code",
   "execution_count": 8,
   "metadata": {},
   "outputs": [],
   "source": [
    "import sympy\n",
    "sympy.init_printing(use_latex=True)"
   ]
  },
  {
   "cell_type": "code",
   "execution_count": 9,
   "metadata": {},
   "outputs": [],
   "source": [
    "k = 4\n",
    "t, t1,t2,r = sympy.symbols(r'\\theta \\theta_1 \\theta_2 \\rho')\n",
    "f = q_recursive(k,0,0,t1,t2,r) # general formula\n",
    "g = f.subs(r,0) # f with \\rho = 0\n",
    "h = q_recursive(k,0,0,t/2,t/2,r) # f with theta1 = theta2 = theta/2"
   ]
  },
  {
   "cell_type": "code",
   "execution_count": 10,
   "metadata": {},
   "outputs": [
    {
     "name": "stdout",
     "output_type": "stream",
     "text": [
      "  ⎛                        \\theta₁⋅\\theta₂                                    \n",
      "4⋅⎜──────────────────────────────────────────────────────────────── + ────────\n",
      "  ⎜                                2                                          \n",
      "  ⎝4⋅(\\rho + \\theta₁ + \\theta₂ + 1) ⋅(\\rho + \\theta₁ + \\theta₂ + 3)   2⋅(\\rho \n",
      "──────────────────────────────────────────────────────────────────────────────\n",
      "                  (\\rho + \\theta₁ + \\theta₂ + 3)⋅(2⋅\\rho + 2⋅\\theta₁ + 2⋅\\thet\n",
      "\n",
      " \\theta₁⋅\\theta₂         ⎞\n",
      "─────────────────────────⎟\n",
      "                        3⎟\n",
      "+ \\theta₁ + \\theta₂ + 1) ⎠\n",
      "──────────────────────────\n",
      "a₂ + 6)                   \n",
      "4*(\\theta_1*\\theta_2/(4*(\\theta_1 + \\theta_2 + 1)**2*(\\theta_1 + \\theta_2 + 3)) + \\theta_1*\\theta_2/(2*(\\theta_1 + \\theta_2 + 1)**3))/((\\theta_1 + \\theta_2 + 3)*(2*\\theta_1 + 2*\\theta_2 + 6)) \n",
      "\n",
      "4*(\\theta**2/(16*(\\rho + \\theta + 1)**2*(\\rho + \\theta + 3)) + \\theta**2/(8*(\\rho + \\theta + 1)**3))/((\\rho + \\theta + 3)*(2*\\rho + 2*\\theta + 6)) \n",
      "\n"
     ]
    }
   ],
   "source": [
    "sympy.pprint(f)\n",
    "print g,'\\n'\n",
    "print h,'\\n'"
   ]
  },
  {
   "cell_type": "markdown",
   "metadata": {},
   "source": [
    "### We may also print these expressions in latex:"
   ]
  },
  {
   "cell_type": "code",
   "execution_count": 11,
   "metadata": {},
   "outputs": [
    {
     "name": "stdout",
     "output_type": "stream",
     "text": [
      "\\frac{4 \\left(\\frac{\\theta_1 \\theta_2}{4 \\left(\\rho + \\theta_1 + \\theta_2 + 1\\right)^{2} \\left(\\rho + \\theta_1 + \\theta_2 + 3\\right)} + \\frac{\\theta_1 \\theta_2}{2 \\left(\\rho + \\theta_1 + \\theta_2 + 1\\right)^{3}}\\right)}{\\left(\\rho + \\theta_1 + \\theta_2 + 3\\right) \\left(2 \\rho + 2 \\theta_1 + 2 \\theta_2 + 6\\right)} \n",
      "\n",
      "\\frac{\\theta_1 \\theta_2 \\left(3 \\rho + 3 \\theta_1 + 3 \\theta_2 + 7\\right)}{2 \\left(\\rho + \\theta_1 + \\theta_2 + 1\\right)^{3} \\left(\\rho + \\theta_1 + \\theta_2 + 3\\right)^{3}} \n",
      "\n",
      "\n",
      "\\frac{4 \\left(\\frac{\\theta_1 \\theta_2}{4 \\left(\\theta_1 + \\theta_2 + 1\\right)^{2} \\left(\\theta_1 + \\theta_2 + 3\\right)} + \\frac{\\theta_1 \\theta_2}{2 \\left(\\theta_1 + \\theta_2 + 1\\right)^{3}}\\right)}{\\left(\\theta_1 + \\theta_2 + 3\\right) \\left(2 \\theta_1 + 2 \\theta_2 + 6\\right)} \n",
      "\n",
      "\\frac{\\theta_1 \\theta_2 \\left(3 \\theta_1 + 3 \\theta_2 + 7\\right)}{2 \\left(\\theta_1 + \\theta_2 + 1\\right)^{3} \\left(\\theta_1 + \\theta_2 + 3\\right)^{3}} \n",
      "\n",
      "\n",
      "\\frac{4 \\left(\\frac{\\theta^{2}}{16 \\left(\\rho + \\theta + 1\\right)^{2} \\left(\\rho + \\theta + 3\\right)} + \\frac{\\theta^{2}}{8 \\left(\\rho + \\theta + 1\\right)^{3}}\\right)}{\\left(\\rho + \\theta + 3\\right) \\left(2 \\rho + 2 \\theta + 6\\right)} \n",
      "\n",
      "\\frac{\\theta^{2} \\left(3 \\rho + 3 \\theta + 7\\right)}{8 \\left(\\rho + \\theta + 1\\right)^{3} \\left(\\rho + \\theta + 3\\right)^{3}} \n",
      "\n",
      "\n"
     ]
    }
   ],
   "source": [
    "print sympy.latex(f),'\\n'\n",
    "print sympy.latex(f.simplify()),'\\n\\n'\n",
    "print sympy.latex(g),'\\n'\n",
    "print sympy.latex(g.simplify()),'\\n\\n'\n",
    "print sympy.latex(h),'\\n'\n",
    "print sympy.latex(h.simplify()),'\\n\\n'\n",
    "#print sympy.latex(g)"
   ]
  },
  {
   "cell_type": "markdown",
   "metadata": {},
   "source": [
    "this latex-source code can then be typeset:"
   ]
  },
  {
   "cell_type": "markdown",
   "metadata": {},
   "source": [
    "### *f* :\n",
    "$$\\frac{1}{2 \\rho + 6} \\left(\\frac{1}{\\frac{3 \\rho}{2} + \\frac{\\theta_2}{2} + 3} \\left(\\frac{\\theta_1 \\theta_2}{2 \\left(\\rho + 1\\right) \\left(\\frac{3 \\rho}{2} + 3\\right) \\left(\\rho + \\frac{\\theta_1}{2} + 1\\right)} + \\frac{1}{\\rho + \\frac{\\theta_1}{2} + \\frac{\\theta_2}{2} + 1} \\left(\\frac{\\theta_1 \\theta_2}{2 \\left(\\rho + 1\\right) \\left(\\rho + \\frac{\\theta_2}{2} + 1\\right)} + \\frac{\\theta_1 \\theta_2}{2 \\left(\\rho + 1\\right) \\left(\\rho + \\frac{\\theta_1}{2} + 1\\right)}\\right)\\right) + \\frac{1}{\\frac{3 \\rho}{2} + \\frac{\\theta_1}{2} + 3} \\left(\\frac{\\theta_1 \\theta_2}{2 \\left(\\rho + 1\\right) \\left(\\frac{3 \\rho}{2} + 3\\right) \\left(\\rho + \\frac{\\theta_2}{2} + 1\\right)} + \\frac{1}{\\rho + \\frac{\\theta_1}{2} + \\frac{\\theta_2}{2} + 1} \\left(\\frac{\\theta_1 \\theta_2}{2 \\left(\\rho + 1\\right) \\left(\\rho + \\frac{\\theta_2}{2} + 1\\right)} + \\frac{\\theta_1 \\theta_2}{2 \\left(\\rho + 1\\right) \\left(\\rho + \\frac{\\theta_1}{2} + 1\\right)}\\right)\\right)\\right)$$\n",
    "\n",
    "### *f* (simplified) :\n",
    "$$\\frac{2 \\theta_1 \\theta_2 \\left(\\left(3 \\left(\\rho + 2\\right) \\left(4 \\rho + \\theta_1 + \\theta_2 + 4\\right) + \\left(2 \\rho + \\theta_1 + 2\\right) \\left(2 \\rho + \\theta_1 + \\theta_2 + 2\\right)\\right) \\left(3 \\rho + \\theta_2 + 6\\right) + \\left(3 \\left(\\rho + 2\\right) \\left(4 \\rho + \\theta_1 + \\theta_2 + 4\\right) + \\left(2 \\rho + \\theta_2 + 2\\right) \\left(2 \\rho + \\theta_1 + \\theta_2 + 2\\right)\\right) \\left(3 \\rho + \\theta_1 + 6\\right)\\right)}{3 \\left(\\rho + 1\\right) \\left(\\rho + 2\\right) \\left(\\rho + 3\\right) \\left(2 \\rho + \\theta_1 + 2\\right) \\left(2 \\rho + \\theta_2 + 2\\right) \\left(3 \\rho + \\theta_1 + 6\\right) \\left(3 \\rho + \\theta_2 + 6\\right) \\left(2 \\rho + \\theta_1 + \\theta_2 + 2\\right)} $$"
   ]
  },
  {
   "cell_type": "markdown",
   "metadata": {},
   "source": [
    "### *g* :\n",
    "$$\n",
    "\\frac{1}{\\frac{3 \\theta_2}{2} + 9} \\left(\\frac{\\theta_1 \\theta_2}{6 \\theta_1 + 12} + \\frac{1}{\\frac{\\theta_1}{2} + \\frac{\\theta_2}{2} + 1} \\left(\\frac{\\theta_1 \\theta_2}{2 \\theta_2 + 4} + \\frac{\\theta_1 \\theta_2}{2 \\theta_1 + 4}\\right)\\right) + \\frac{1}{\\frac{3 \\theta_1}{2} + 9} \\left(\\frac{\\theta_1 \\theta_2}{6 \\theta_2 + 12} + \\frac{1}{\\frac{\\theta_1}{2} + \\frac{\\theta_2}{2} + 1} \\left(\\frac{\\theta_1 \\theta_2}{2 \\theta_2 + 4} + \\frac{\\theta_1 \\theta_2}{2 \\theta_1 + 4}\\right)\\right)$$\n",
    "\n",
    "### *g*  (simplified) :\n",
    "$$\n",
    "\\frac{\\theta_1 \\theta_2}{9 \\left(\\theta_1 + 2\\right) \\left(\\theta_1 + 6\\right) \\left(\\theta_2 + 2\\right) \\left(\\theta_2 + 6\\right) \\left(\\theta_1 + \\theta_2 + 2\\right)} \\left(\\left(\\theta_1 + 6\\right) \\left(6 \\theta_1 + 6 \\theta_2 + \\left(\\theta_2 + 2\\right) \\left(\\theta_1 + \\theta_2 + 2\\right) + 24\\right) + \\left(\\theta_2 + 6\\right) \\left(6 \\theta_1 + 6 \\theta_2 + \\left(\\theta_1 + 2\\right) \\left(\\theta_1 + \\theta_2 + 2\\right) + 24\\right)\\right) $$"
   ]
  },
  {
   "cell_type": "markdown",
   "metadata": {},
   "source": [
    "### *h* :\n",
    "$$\\frac{1}{\\left(2 \\rho + 6\\right) \\left(\\frac{3 \\rho}{2} + \\frac{\\theta}{4} + 3\\right)} \\left(\\frac{\\theta^{2}}{2 \\left(\\rho + 1\\right) \\left(\\rho + \\frac{\\theta}{4} + 1\\right) \\left(\\rho + \\frac{\\theta}{2} + 1\\right)} + \\frac{\\theta^{2}}{4 \\left(\\rho + 1\\right) \\left(\\frac{3 \\rho}{2} + 3\\right) \\left(\\rho + \\frac{\\theta}{4} + 1\\right)}\\right)$$\n",
    " ### *h* (simplified) :\n",
    " $$\n",
    "\\frac{4 \\theta^{2} \\left(8 \\rho + \\theta + 14\\right)}{3 \\left(\\rho + 1\\right) \\left(\\rho + 2\\right) \\left(\\rho + 3\\right) \\left(2 \\rho + \\theta + 2\\right) \\left(4 \\rho + \\theta + 4\\right) \\left(6 \\rho + \\theta + 12\\right)} \n",
    "$$"
   ]
  },
  {
   "cell_type": "markdown",
   "metadata": {},
   "source": [
    "## Towards conditionals"
   ]
  },
  {
   "cell_type": "markdown",
   "metadata": {},
   "source": [
    "We now write functions for computing the following qunatities"
   ]
  },
  {
   "cell_type": "markdown",
   "metadata": {},
   "source": [
    "$\\mathbb{P}\\left( \\Omega^{\\prime \\, \\text{vis}} | \\Omega' \\right)$ may be expressed as\n",
    "$\\mathbb{P}\\left( \\Omega^{\\prime \\, \\text{vis}} \\right) / \\mathbb{P}\\left( \\Omega' \\right)$\n",
    "whereby \n",
    "\n",
    "$\\mathbb{P}\\left( \\Omega' \\right) = p_{n}(1,1,1)$\n",
    "\n",
    "and\n",
    "\n",
    "$\n",
    "\\begin{aligned}\n",
    "\\mathbb{P}(\\Omega^{\\prime \\, \\text{vis}}) = p'_n &=  \\sum_{k=2}^{n} \\mathbb{P}(\\Omega^{\\prime \\, \\text{vis}}_k) \\\\\n",
    "  &= \\sum_{k=3}^{n} p^{\\neg \\rho, \\neg \\theta_1, \\neg \\theta_2}_{n,k} \\frac{\\rho}{k-1+ \\theta_1 + \\theta_2 +\\rho} q'_{k+1,(0,0)} \\\\\n",
    "\\end{aligned}\n",
    "$"
   ]
  },
  {
   "cell_type": "code",
   "execution_count": 12,
   "metadata": {},
   "outputs": [],
   "source": [
    "def precompute_q(k_max,theta1,theta2,rho):\n",
    "    known_values = dict()\n",
    "\n",
    "    #to avoid stack-overflows in recursion, we compute all q-values in chunks,\n",
    "    #i.e. we\n",
    "    #  * first compute q(k,i,j) for k <= 30\n",
    "    #  * then compute q(k,i,j) for k <= 60 (already knowing the values from the previous step)\n",
    "    #  * ...\n",
    "    # untill we have eveything we want.\n",
    "    k_range = range(3,k_max+3,30)\n",
    "    if k_range[-1] < k_max+2:\n",
    "        k_range.append(k_max+2)\n",
    "\n",
    "    for k in k_range:\n",
    "        known_values = q_recursive_memorized(k,0,0,theta1,theta2,rho,known_values)[1]\n",
    "\n",
    "    return known_values\n",
    "#     #return q_recursive_memorized(k_max+2,0,0,theta1,theta2,rho)[1]"
   ]
  },
  {
   "cell_type": "code",
   "execution_count": 13,
   "metadata": {},
   "outputs": [],
   "source": [
    "def P_omega_prime(n,theta1,theta2,rho, known_pn_values = None):\n",
    "    prob, aux_prob_table = pn(n, 1, 1, 1, theta1, theta2, rho, known_pn_values)\n",
    "    return prob\n",
    "\n",
    "def P_omega_prime_vis(n, theta1, theta2, rho, PRECOMPUTE = True):\n",
    "    k_range = range(3,n+1) if n>1 else []\n",
    "    q_precomputed = precompute_q(n+1,theta1,theta2,rho) if PRECOMPUTE else None\n",
    "    return sum([P_omega_prime_vis_k(k,n,theta1,theta2,rho,q_precomputed) for k in k_range])\n",
    "\n",
    "def P_omega_prime_vis_k(k,n,theta1,theta2,rho,q_precomputed = None):\n",
    "    a = p_neg(n, k, theta1, theta2, rho)\n",
    "    b = rho / (k - 1 + theta1 + theta2 + rho)\n",
    "    c = q_recursive_memorized(k + 1, 0, 0, theta1, theta2, rho, q_precomputed)[0]\n",
    "    return a*b*c\n",
    "\n",
    "def P_omega_prime_vis_conditioned(n,theta1,theta2,rho):\n",
    "    if n<3:\n",
    "        return 0\n",
    "    else:\n",
    "        numerator = P_omega_prime_vis(n,theta1,theta2,rho, True)\n",
    "        denominator = P_omega_prime(n, theta1, theta2, rho)\n",
    "        return numerator / denominator\n"
   ]
  },
  {
   "cell_type": "code",
   "execution_count": 14,
   "metadata": {},
   "outputs": [],
   "source": [
    "# def P_omega_k(k,n,rho):\n",
    "#     return p_neg(n,1,rho) * ( (rho*k) / ( (k-1+rho) * (k+rho) ) )\n",
    "\n",
    "# def P_omega_toN(n,rho):\n",
    "#     return p_neg(n,1,rho) * sum([(rho*k) / ( (k-1+rho) * (k+rho) ) for k in xrange(2,n)])\n",
    "\n",
    "# def P_omegea_vis_k(k,n,theta1,theta2,rho, q_precomputed = None):\n",
    "#     if q_precomputed != None:\n",
    "#         if (k+1,0,0) not in q_precomputed:\n",
    "#             print (k+1,0,0), q_precomputed[(k+1,0,0)]\n",
    "#         q = q_precomputed[(k+1,0,0)]\n",
    "#         return p_neg(n,k,rho) * ( rho / (k-1+rho) ) * q\n",
    "#     else:\n",
    "#         return p_neg(n,k,rho) * ( rho / (k-1+rho) ) * q_recursive(k+1,0,0,theta1,theta2,rho)\n",
    "\n",
    "# def P_omega_vis(n,theta1,theta2,rho, precompute = True):\n",
    "#     k_range = range(3,n+1) if n>1 else []\n",
    "#     q_precomputed = precompute_q(n+1,theta1,theta2,rho) if precompute else None\n",
    "#     return sum([P_omegea_vis_k(k,n,theta1,theta2,rho,q_precomputed) for k in k_range])\n",
    "\n",
    "# def P_omega_vis_conditioned(n,theta1,theta2,rho):\n",
    "#     if n<3:\n",
    "#         return 0\n",
    "#     else:\n",
    "#         numerator = P_omega_prime_vis(n,theta1,theta2,rho)\n",
    "#         denominator = P_omega_prime(n,rho)\n",
    "#         return numerator / denominator\n",
    "    \n",
    "# def P_2_mutations_1_recomb(n,theta,rho):\n",
    "#     p_neg(n,1,rho+theta) * sum([(rho*k) / ( (k-1+rho) * (k+rho) ) for k in xrange(2,n+1)]) * sum([ theta**2 / ( (k-1+theta)*(l-1+theta) ) for k in range(2,n+1) for l in range(2,k+1)])"
   ]
  },
  {
   "cell_type": "code",
   "execution_count": 15,
   "metadata": {},
   "outputs": [
    {
     "data": {
      "image/png": "[encoded data removed]",
      "text/latex": [
       "$$0.0$$"
      ],
      "text/plain": [
       "0.0"
      ]
     },
     "execution_count": 15,
     "metadata": {},
     "output_type": "execute_result"
    }
   ],
   "source": [
    "#verify that precomputing does not affect outcome\n",
    "P_omega_prime_vis(4,0.5,0.5,1.0,True) - P_omega_prime_vis(4,0.5,0.5,1.0,False)"
   ]
  },
  {
   "cell_type": "code",
   "execution_count": 16,
   "metadata": {},
   "outputs": [],
   "source": [
    "#D = precompute_q(100,0.5,0.5,1.0)"
   ]
  },
  {
   "cell_type": "markdown",
   "metadata": {},
   "source": [
    "#### A numerical example"
   ]
  },
  {
   "cell_type": "code",
   "execution_count": 17,
   "metadata": {},
   "outputs": [
    {
     "name": "stdout",
     "output_type": "stream",
     "text": [
      "0.0202627314815 \n",
      "\n",
      "0.00012037037037 \n",
      "\n",
      "0.00012037037037 \n",
      "\n",
      "0.00594048095048 \n",
      "\n"
     ]
    }
   ],
   "source": [
    "n = 3\n",
    "k = 3\n",
    "theta1, theta2 = 0.5,0.5\n",
    "rho = 1.0\n",
    "\n",
    "#print P_omega_k(k,n,rho),'\\n'\n",
    "print P_omega_prime(n,theta1,theta2,rho),'\\n'\n",
    "print P_omega_prime_vis_k(k,n,theta1,theta2,rho),'\\n'\n",
    "print P_omega_prime_vis(n,theta1,theta2,rho,PRECOMPUTE=False),'\\n'\n",
    "print P_omega_prime_vis_conditioned(n,theta1,theta2,rho),'\\n'"
   ]
  },
  {
   "cell_type": "markdown",
   "metadata": {},
   "source": [
    "#### A symbolic example"
   ]
  },
  {
   "cell_type": "code",
   "execution_count": 18,
   "metadata": {
    "scrolled": true
   },
   "outputs": [
    {
     "name": "stdout",
     "output_type": "stream",
     "text": [
      "  ⎛                                                                           \n",
      "  ⎜   ⎛                                                          ⎛            \n",
      "  ⎜   ⎜                                                        3⋅⎜────────────\n",
      "  ⎜   ⎜                                                          ⎜(r + t₁ + t₂\n",
      "  ⎜   ⎜                         6⋅t₂                             ⎝            \n",
      "  ⎜t₁⋅⎜───────────────────────────────────────────────────── + ───────────────\n",
      "  ⎜   ⎝(r + t₁ + t₂ + 1)⋅(r + t₁ + t₂ + 2)⋅(r + t₁ + t₂ + 3)                  \n",
      "r⋅⎜───────────────────────────────────────────────────────────────────────────\n",
      "  ⎝                                                     r + t₁ + t₂ + 3       \n",
      "──────────────────────────────────────────────────────────────────────────────\n",
      "                                                                              \n",
      "──────────────────────────────────────────────────────────────────────────────\n",
      "                                                                              \n",
      "\n",
      "                                                                              \n",
      "    2⋅t₂                         2⋅t₂       ⎞⎞      ⎛                         \n",
      "─────────────────────── + ──────────────────⎟⎟      ⎜                         \n",
      " + 1)⋅(r + t₁ + t₂ + 2)                    2⎟⎟      ⎜                         \n",
      "                          (r + t₁ + t₂ + 1) ⎠⎟      ⎜                         \n",
      "─────────────────────────────────────────────⎟   t₂⋅⎜─────────────────────────\n",
      "       r + t₁ + t₂ + 2                       ⎠      ⎝(r + t₁ + t₂ + 1)⋅(r + t₁\n",
      "────────────────────────────────────────────── + ─────────────────────────────\n",
      "                                                                              \n",
      "──────────────────────────────────────────────────────────────────────────────\n",
      "                                                                              \n",
      "──────────────────────────────────────────────────────────────────────────────\n",
      "                                                                              \n",
      "\n",
      "                                                                              \n",
      "                                 ⎛                2⋅t₁                        \n",
      "                               3⋅⎜─────────────────────────────────── + ──────\n",
      "                                 ⎜(r + t₁ + t₂ + 1)⋅(r + t₁ + t₂ + 2)         \n",
      "6⋅t₁                             ⎝                                      (r + t\n",
      "──────────────────────────── + ───────────────────────────────────────────────\n",
      " + t₂ + 2)⋅(r + t₁ + t₂ + 3)                         r + t₁ + t₂ + 2          \n",
      "──────────────────────────────────────────────────────────────────────────────\n",
      "                        r + t₁ + t₂ + 3                                       \n",
      "──────────────────────────────────────────────────────────────────────────────\n",
      "                                     r + t₁ + t₂ + 3                          \n",
      "──────────────────────────────────────────────────────────────────────────────\n",
      "                                                                              \n",
      "\n",
      "                   ⎛                        ⎛                2⋅t₂             \n",
      " 2⋅t₁       ⎞⎞     ⎜                     t₁⋅⎜─────────────────────────────────\n",
      "────────────⎟⎟     ⎜                        ⎜(r + t₁ + t₂ + 1)⋅(r + t₁ + t₂ + \n",
      "           2⎟⎟     ⎜     4⋅t₁⋅t₂            ⎝                                 \n",
      "₁ + t₂ + 1) ⎠⎟   3⋅⎜────────────────── + ─────────────────────────────────────\n",
      "─────────────⎟     ⎜                 3                          r + t₁ + t₂ + \n",
      "             ⎠     ⎝(r + t₁ + t₂ + 1)                                         \n",
      "────────────── + ─────────────────────────────────────────────────────────────\n",
      "                                                                              \n",
      "──────────────────────────────────────────────────────────────────────────────\n",
      "                                                                              \n",
      "──────────────────────────────────────────────────────────────────────────────\n",
      "                                                                              \n",
      "\n",
      "            2⋅t₂       ⎞      ⎛                2⋅t₁                         2⋅\n",
      "── + ──────────────────⎟   t₂⋅⎜─────────────────────────────────── + ─────────\n",
      "2)                    2⎟      ⎜(r + t₁ + t₂ + 1)⋅(r + t₁ + t₂ + 2)            \n",
      "     (r + t₁ + t₂ + 1) ⎠      ⎝                                      (r + t₁ +\n",
      "──────────────────────── + ───────────────────────────────────────────────────\n",
      "2                                                 r + t₁ + t₂ + 2             \n",
      "                                                                              \n",
      "──────────────────────────────────────────────────────────────────────────────\n",
      "      r + t₁ + t₂ + 2                                                         \n",
      "──────────────────────────────────────────────────────────────────────────────\n",
      "                                                                              \n",
      "──────────────────────────────────────────────────────────────────────────────\n",
      "                                                                              \n",
      "\n",
      "t₁       ⎞⎞⎞      ⎛                                                           \n",
      "─────────⎟⎟⎟      ⎜  ⎛                                                        \n",
      "        2⎟⎟⎟      ⎜  ⎜                                                        \n",
      " t₂ + 1) ⎠⎟⎟      ⎜  ⎜                                                        \n",
      "──────────⎟⎟      ⎜  ⎜                         6⋅t₂                           \n",
      "          ⎟⎟      ⎜r⋅⎜───────────────────────────────────────────────────── + \n",
      "          ⎠⎟      ⎜  ⎝(r + t₁ + t₂ + 1)⋅(r + t₁ + t₂ + 2)⋅(r + t₁ + t₂ + 3)   \n",
      "───────────⎟   t₁⋅⎜───────────────────────────────────────────────────────────\n",
      "           ⎠      ⎝                                                    r + t₁ \n",
      "──────────── + ───────────────────────────────────────────────────────────────\n",
      "                                                                              \n",
      "──────────────────────────────────────────────────────────────────────────────\n",
      "                                                                              \n",
      "\n",
      "                                                                              \n",
      "  ⎛                2⋅t₂                         2⋅t₂       ⎞⎞                 \n",
      "3⋅⎜─────────────────────────────────── + ──────────────────⎟⎟                 \n",
      "  ⎜(r + t₁ + t₂ + 1)⋅(r + t₁ + t₂ + 2)                    2⎟⎟      ⎛          \n",
      "  ⎝                                      (r + t₁ + t₂ + 1) ⎠⎟   t₂⋅⎜──────────\n",
      "────────────────────────────────────────────────────────────⎟      ⎜(r + t₁ + \n",
      "                      r + t₁ + t₂ + 2                       ⎠      ⎝          \n",
      "───────────────────────────────────────────────────────────── + ──────────────\n",
      "+ t₂ + 3                                                                      \n",
      "──────────────────────────────────────────────────────────────────────────────\n",
      "                                                                              \n",
      "──────────────────────────────────────────────────────────────────────────────\n",
      "                                                                              \n",
      "\n",
      "                                                                              \n",
      "                                                                              \n",
      "                                                                              \n",
      "               6⋅r                                            4⋅r             \n",
      "─────────────────────────────────────────── + ────────────────────────────────\n",
      "t₂ + 1)⋅(r + t₁ + t₂ + 2)⋅(r + t₁ + t₂ + 3)                    2              \n",
      "                                              (r + t₁ + t₂ + 1) ⋅(r + t₁ + t₂ \n",
      "──────────────────────────────────────────────────────────────────────────────\n",
      "                           r + t₁ + t₂ + 2                                    \n",
      "──────────────────────────────────────────────────────────────────────────────\n",
      "                 r + t₁ + t₂ + 2                                              \n",
      "──────────────────────────────────────────────────────────────────────────────\n",
      "                                                                              \n",
      "\n",
      "          ⎛                                         ⎛                2⋅t₂     \n",
      "          ⎜                                       r⋅⎜─────────────────────────\n",
      "          ⎜                                         ⎜(r + t₁ + t₂ + 1)⋅(r + t₁\n",
      "    ⎞     ⎜               2⋅r⋅t₂                    ⎝                         \n",
      "────⎟   2⋅⎜──────────────────────────────────── + ────────────────────────────\n",
      "    ⎟     ⎜                 2                                           r + t₁\n",
      "+ 2)⎠     ⎝(r + t₁ + t₂ + 1) ⋅(r + t₁ + t₂ + 2)                               \n",
      "───── + ──────────────────────────────────────────────────────────────────────\n",
      "                                                    r + t₁ + t₂ + 1           \n",
      "──────────────────────────────────────────────────────────────────────────────\n",
      "                                                                              \n",
      "──────────────────────────────────────────────────────────────────────────────\n",
      "                                                                              \n",
      "\n",
      "                    2⋅t₂       ⎞⎞⎞      ⎛                                     \n",
      "────────── + ──────────────────⎟⎟⎟      ⎜  ⎛                                  \n",
      " + t₂ + 2)                    2⎟⎟⎟      ⎜  ⎜                                  \n",
      "             (r + t₁ + t₂ + 1) ⎠⎟⎟      ⎜  ⎜                                  \n",
      "────────────────────────────────⎟⎟      ⎜  ⎜                         6⋅t₁     \n",
      " + t₂ + 2                       ⎟⎟      ⎜r⋅⎜──────────────────────────────────\n",
      "                                ⎠⎟      ⎜  ⎝(r + t₁ + t₂ + 1)⋅(r + t₁ + t₂ + 2\n",
      "─────────────────────────────────⎟   t₂⋅⎜─────────────────────────────────────\n",
      "                                 ⎠      ⎝                                     \n",
      "────────────────────────────────── + ─────────────────────────────────────────\n",
      "                                                                              \n",
      "──────────────────────────────────────────────────────────────────────────────\n",
      "           r + t₁ + t₂ + 2                                                    \n",
      "\n",
      "                                                                              \n",
      "                        ⎛                2⋅t₁                         2⋅t₁    \n",
      "                      3⋅⎜─────────────────────────────────── + ───────────────\n",
      "                        ⎜(r + t₁ + t₂ + 1)⋅(r + t₁ + t₂ + 2)                  \n",
      "                        ⎝                                      (r + t₁ + t₂ + \n",
      "─────────────────── + ────────────────────────────────────────────────────────\n",
      ")⋅(r + t₁ + t₂ + 3)                         r + t₁ + t₂ + 2                   \n",
      "──────────────────────────────────────────────────────────────────────────────\n",
      "               r + t₁ + t₂ + 3                                                \n",
      "──────────────────────────────────────────────────────────────────────────────\n",
      "                                                                              \n",
      "──────────────────────────────────────────────────────────────────────────────\n",
      "                                                                              \n",
      "\n",
      "                                                                              \n",
      "   ⎞⎞                                                                         \n",
      "───⎟⎟                                                                         \n",
      "  2⎟⎟      ⎛                         6⋅r                                      \n",
      "1) ⎠⎟   t₁⋅⎜───────────────────────────────────────────────────── + ──────────\n",
      "────⎟      ⎜(r + t₁ + t₂ + 1)⋅(r + t₁ + t₂ + 2)⋅(r + t₁ + t₂ + 3)             \n",
      "    ⎠      ⎝                                                        (r + t₁ + \n",
      "───── + ──────────────────────────────────────────────────────────────────────\n",
      "                                                 r + t₁ + t₂ + 2              \n",
      "──────────────────────────────────────────────────────────────────────────────\n",
      "                                       r + t₁ + t₂ + 2                        \n",
      "──────────────────────────────────────────────────────────────────────────────\n",
      "                                                                              \n",
      "\n",
      "                                ⎛                                         ⎛   \n",
      "                                ⎜                                       r⋅⎜───\n",
      "                                ⎜                                         ⎜(r \n",
      "      4⋅r                 ⎞     ⎜               2⋅r⋅t₁                    ⎝   \n",
      "──────────────────────────⎟   2⋅⎜──────────────────────────────────── + ──────\n",
      "       2                  ⎟     ⎜                 2                           \n",
      "t₂ + 1) ⋅(r + t₁ + t₂ + 2)⎠     ⎝(r + t₁ + t₂ + 1) ⋅(r + t₁ + t₂ + 2)         \n",
      "─────────────────────────── + ────────────────────────────────────────────────\n",
      "                                                                          r + \n",
      "──────────────────────────────────────────────────────────────────────────────\n",
      "                                                                              \n",
      "──────────────────────────────────────────────────────────────────────────────\n",
      "                                                                              \n",
      "\n",
      "             2⋅t₁                         2⋅t₁       ⎞⎞⎞     ⎛  ⎛             \n",
      "──────────────────────────────── + ──────────────────⎟⎟⎟     ⎜  ⎜             \n",
      "+ t₁ + t₂ + 1)⋅(r + t₁ + t₂ + 2)                    2⎟⎟⎟     ⎜  ⎜             \n",
      "                                   (r + t₁ + t₂ + 1) ⎠⎟⎟     ⎜  ⎜     4⋅t₁⋅t₂ \n",
      "──────────────────────────────────────────────────────⎟⎟     ⎜r⋅⎜─────────────\n",
      "                r + t₁ + t₂ + 2                       ⎟⎟     ⎜  ⎜             \n",
      "                                                      ⎠⎟     ⎜  ⎝(r + t₁ + t₂ \n",
      "───────────────────────────────────────────────────────⎟   2⋅⎜────────────────\n",
      "t₁ + t₂ + 1                                            ⎠     ⎝                \n",
      "──────────────────────────────────────────────────────── + ───────────────────\n",
      "                                                                              \n",
      "──────────────────────────────────────────────────────────────────────────────\n",
      "                                                                              \n",
      "\n",
      "           ⎛                2⋅t₂                         2⋅t₂       ⎞      ⎛  \n",
      "        t₁⋅⎜─────────────────────────────────── + ──────────────────⎟   t₂⋅⎜──\n",
      "           ⎜(r + t₁ + t₂ + 1)⋅(r + t₁ + t₂ + 2)                    2⎟      ⎜(r\n",
      "           ⎝                                      (r + t₁ + t₂ + 1) ⎠      ⎝  \n",
      "───── + ───────────────────────────────────────────────────────────── + ──────\n",
      "    3                          r + t₁ + t₂ + 2                                \n",
      "+ 1)                                                                          \n",
      "──────────────────────────────────────────────────────────────────────────────\n",
      "                                                   r + t₁ + t₂ + 2            \n",
      "──────────────────────────────────────────────────────────────────────────────\n",
      "                                                                              \n",
      "──────────────────────────────────────────────────────────────────────────────\n",
      "                                                                              \n",
      "\n",
      "              2⋅t₁                         2⋅t₁       ⎞⎞      ⎛               \n",
      "───────────────────────────────── + ──────────────────⎟⎟      ⎜               \n",
      " + t₁ + t₂ + 1)⋅(r + t₁ + t₂ + 2)                    2⎟⎟      ⎜               \n",
      "                                    (r + t₁ + t₂ + 1) ⎠⎟      ⎜               \n",
      "───────────────────────────────────────────────────────⎟   t₁⋅⎜───────────────\n",
      "                 r + t₁ + t₂ + 2                       ⎟      ⎜               \n",
      "                                                       ⎠      ⎝(r + t₁ + t₂ + \n",
      "──────────────────────────────────────────────────────── + ───────────────────\n",
      "                                                                              \n",
      "──────────────────────────────────────────────────────────────────────────────\n",
      "                                                                              \n",
      "──────────────────────────────────────────────────────────────────────────────\n",
      "                                                                              \n",
      "\n",
      "                          ⎛                2⋅t₂                         2⋅t₂  \n",
      "                        r⋅⎜─────────────────────────────────── + ─────────────\n",
      "                          ⎜(r + t₁ + t₂ + 1)⋅(r + t₁ + t₂ + 2)                \n",
      "2⋅r⋅t₂                    ⎝                                      (r + t₁ + t₂ \n",
      "───────────────────── + ──────────────────────────────────────────────────────\n",
      "  2                                           r + t₁ + t₂ + 2                 \n",
      "1) ⋅(r + t₁ + t₂ + 2)                                                         \n",
      "──────────────────────────────────────────────────────────────────────────────\n",
      "                         r + t₁ + t₂ + 1                                      \n",
      "──────────────────────────────────────────────────────────────────────────────\n",
      " r + t₁ + t₂ + 1                                                              \n",
      "──────────────────────────────────────────────────────────────────────────────\n",
      "                                                                              \n",
      "\n",
      "     ⎞⎞      ⎛                                         ⎛                2⋅t₁  \n",
      "─────⎟⎟      ⎜                                       r⋅⎜──────────────────────\n",
      "    2⎟⎟      ⎜                                         ⎜(r + t₁ + t₂ + 1)⋅(r +\n",
      "+ 1) ⎠⎟      ⎜               2⋅r⋅t₁                    ⎝                      \n",
      "──────⎟   t₂⋅⎜──────────────────────────────────── + ─────────────────────────\n",
      "      ⎟      ⎜                 2                                           r +\n",
      "      ⎠      ⎝(r + t₁ + t₂ + 1) ⋅(r + t₁ + t₂ + 2)                            \n",
      "─────── + ────────────────────────────────────────────────────────────────────\n",
      "                                                      r + t₁ + t₂ + 1         \n",
      "──────────────────────────────────────────────────────────────────────────────\n",
      "                                                                              \n",
      "──────────────────────────────────────────────────────────────────────────────\n",
      "                                                                              \n",
      "\n",
      "                       2⋅t₁       ⎞⎞⎞\n",
      "───────────── + ──────────────────⎟⎟⎟\n",
      " t₁ + t₂ + 2)                    2⎟⎟⎟\n",
      "                (r + t₁ + t₂ + 1) ⎠⎟⎟\n",
      "───────────────────────────────────⎟⎟\n",
      " t₁ + t₂ + 2                       ⎟⎟\n",
      "                                   ⎠⎟\n",
      "────────────────────────────────────⎟\n",
      "                                    ⎠\n",
      "─────────────────────────────────────\n",
      "                                     \n",
      "─────────────────────────────────────\n",
      "                                     \n",
      "\n",
      "\n"
     ]
    },
    {
     "name": "stdout",
     "output_type": "stream",
     "text": [
      "             r⋅t₁⋅t₂⋅(3⋅r + 3⋅t₁ + 3⋅t₂ + 7)             \n",
      "─────────────────────────────────────────────────────────\n",
      "                   3                                    3\n",
      "2⋅(r + t₁ + t₂ + 1) ⋅(r + t₁ + t₂ + 2)⋅(r + t₁ + t₂ + 3) \n",
      "\n",
      "\n",
      "             r⋅t₁⋅t₂⋅(3⋅r + 3⋅t₁ + 3⋅t₂ + 7)             \n",
      "─────────────────────────────────────────────────────────\n",
      "                   3                                    3\n",
      "2⋅(r + t₁ + t₂ + 1) ⋅(r + t₁ + t₂ + 2)⋅(r + t₁ + t₂ + 3) \n",
      "\n",
      "\n",
      "                                                                              \n",
      "                                                                              \n",
      "──────────────────────────────────────────────────────────────────────────────\n",
      "  ⎛  ⎛                                                                        \n",
      "8⋅⎝3⋅⎝((r + t₁ + t₂ + 1)⋅(r + t₁ + t₂ + 2) + (r + t₁ + t₂ + 3)⋅(2⋅r + 2⋅t₁ + 2\n",
      "\n",
      "                                                                              \n",
      "                                                                              \n",
      "──────────────────────────────────────────────────────────────────────────────\n",
      "                                                ⎛                             \n",
      "⋅t₂ + 3))⋅(r + t₁ + t₂ + 1)⋅(r + t₁ + t₂ + 2) + ⎝(r + t₁ + t₂ + 1)⋅(2⋅r + 2⋅t₁\n",
      "\n",
      "                                                                              \n",
      "                                                                              \n",
      "──────────────────────────────────────────────────────────────────────────────\n",
      "                                2⎞                  2⎞                     ⎛  \n",
      " + 2⋅t₂ + 3) + (r + t₁ + t₂ + 2) ⎠⋅(r + t₁ + t₂ + 3) ⎠⋅(r + t₁ + t₂ + 1) + ⎝3⋅\n",
      "\n",
      "                                                                             3\n",
      "                                          (r + t₁ + t₂ + 1)⋅(r + t₁ + t₂ + 2) \n",
      "──────────────────────────────────────────────────────────────────────────────\n",
      "                                                                              \n",
      "((r + t₁ + t₂ + 1)⋅(r + t₁ + t₂ + 2) + (r + t₁ + t₂ + 3)⋅(2⋅r + 2⋅t₁ + 2⋅t₂ + \n",
      "\n",
      "                                                                              \n",
      "⋅(3⋅r + 3⋅t₁ + 3⋅t₂ + 7)                                                      \n",
      "──────────────────────────────────────────────────────────────────────────────\n",
      "                                                                              \n",
      "3))⋅(r + t₁ + t₂ + 1) + (r + t₁ + t₂ + 1)⋅(r + t₁ + t₂ + 3)⋅(5⋅r + 5⋅t₁ + 5⋅t₂\n",
      "\n",
      "                                                                              \n",
      "                                                                              \n",
      "──────────────────────────────────────────────────────────────────────────────\n",
      "                           2                        ⎞                         \n",
      " + 9) + 2⋅(r + t₁ + t₂ + 3) ⋅(3⋅r + 3⋅t₁ + 3⋅t₂ + 5)⎠⋅(r + t₁ + t₂ + 1)⋅(r + t\n",
      "\n",
      "                                                                              \n",
      "                                                                              \n",
      "──────────────────────────────────────────────────────────────────────────────\n",
      "                ⎛                                                             \n",
      "₁ + t₂ + 3) + 2⋅⎝(r + t₁ + t₂ + 1)⋅(2⋅r + 2⋅t₁ + 2⋅t₂ + 3) + (r + t₁ + t₂ + 2)\n",
      "\n",
      "                                                                  \n",
      "                                                                  \n",
      "──────────────────────────────────────────────────────────────────\n",
      "2                                            ⎞                  3⎞\n",
      "  + (r + t₁ + t₂ + 2)⋅(3⋅r + 3⋅t₁ + 3⋅t₂ + 5)⎠⋅(r + t₁ + t₂ + 3) ⎠\n"
     ]
    }
   ],
   "source": [
    "n = 3\n",
    "k = 3\n",
    "theta, theta1, theta2, t1,t2 = sympy.symbols(r'\\theta \\theta_1 \\theta_2 t1 t2')\n",
    "r, rho = sympy.symbols(r'r \\rho')\n",
    "\n",
    "# sympy.pprint(P_omega_k(k,n,r))\n",
    "# print '\\n'\n",
    "sympy.pprint(P_omega_prime(n,t1,t2,r))\n",
    "print '\\n'\n",
    "sympy.pprint(sympy.simplify(P_omega_prime_vis_k(k,n,t1,t2,r)))\n",
    "print '\\n'\n",
    "sympy.pprint(sympy.simplify(P_omega_prime_vis(n,t1,t2,r)))\n",
    "print '\\n'\n",
    "sympy.pprint(sympy.simplify(P_omega_prime_vis_conditioned(n,t1,t2,r)))"
   ]
  },
  {
   "cell_type": "code",
   "execution_count": 19,
   "metadata": {},
   "outputs": [],
   "source": [
    "p_3 = P_omega_prime_vis(3,theta1,theta2,rho)\n",
    "p_3_star = P_omega_prime_vis_conditioned(3,theta1,theta2,rho)\n",
    "p_3_symm = P_omega_prime_vis(3,theta/2,theta/2,rho)\n",
    "p_3_star_symm = P_omega_prime_vis_conditioned(3,theta/2,theta/2,rho)"
   ]
  },
  {
   "cell_type": "code",
   "execution_count": 20,
   "metadata": {},
   "outputs": [
    {
     "name": "stdout",
     "output_type": "stream",
     "text": [
      "                         2                                     \n",
      "              \\rho⋅\\theta ⋅(3⋅\\rho + 3⋅\\theta + 7)             \n",
      "───────────────────────────────────────────────────────────────\n",
      "                     3                                        3\n",
      "8⋅(\\rho + \\theta + 1) ⋅(\\rho + \\theta + 2)⋅(\\rho + \\theta + 3) \n",
      "None \n",
      "\n",
      "\n",
      "\\frac{\\rho \\theta^{2} \\left(3 \\rho + 3 \\theta + 7\\right)}{8 \\left(\\rho + \\theta + 1\\right)^{3} \\left(\\rho + \\theta + 2\\right) \\left(\\rho + \\theta + 3\\right)^{3}} \n",
      "\n",
      "\n",
      "                                                                              \n",
      "                                                                              \n",
      "──────────────────────────────────────────────────────────────────────────────\n",
      "  ⎛  ⎛                                                                        \n",
      "8⋅⎝3⋅⎝((\\rho + \\theta + 1)⋅(\\rho + \\theta + 2) + (\\rho + \\theta + 3)⋅(2⋅\\rho +\n",
      "\n",
      "                                                                              \n",
      "                                                                              \n",
      "──────────────────────────────────────────────────────────────────────────────\n",
      "                                                          ⎛                   \n",
      " 2⋅\\theta + 3))⋅(\\rho + \\theta + 1)⋅(\\rho + \\theta + 2) + ⎝(\\rho + \\theta + 1)\n",
      "\n",
      "                                                                              \n",
      "                                                                              \n",
      "──────────────────────────────────────────────────────────────────────────────\n",
      "                                              2⎞                    2⎞        \n",
      "⋅(2⋅\\rho + 2⋅\\theta + 3) + (\\rho + \\theta + 2) ⎠⋅(\\rho + \\theta + 3) ⎠⋅(\\rho +\n",
      "\n",
      "                                                                              \n",
      "                                                              (\\rho + \\theta +\n",
      "──────────────────────────────────────────────────────────────────────────────\n",
      "                                                       ⎛                      \n",
      " \\theta + 1) + (\\rho + \\theta + 1)⋅(\\rho + \\theta + 3)⋅⎝3⋅((\\rho + \\theta + 1)\n",
      "\n",
      "                       3                                                      \n",
      " 1)⋅(\\rho + \\theta + 2) ⋅(3⋅\\rho + 3⋅\\theta + 7)                              \n",
      "──────────────────────────────────────────────────────────────────────────────\n",
      "                                                                              \n",
      "⋅(\\rho + \\theta + 2) + (\\rho + \\theta + 3)⋅(2⋅\\rho + 2⋅\\theta + 3))⋅(\\rho + \\t\n",
      "\n",
      "                                                                              \n",
      "                                                                              \n",
      "──────────────────────────────────────────────────────────────────────────────\n",
      "                                                                              \n",
      "heta + 1) + (\\rho + \\theta + 1)⋅(\\rho + \\theta + 3)⋅(5⋅\\rho + 5⋅\\theta + 9) + \n",
      "\n",
      "                                                                              \n",
      "                                                                              \n",
      "──────────────────────────────────────────────────────────────────────────────\n",
      "                     2                        ⎞                        3 ⎛    \n",
      "2⋅(\\rho + \\theta + 3) ⋅(3⋅\\rho + 3⋅\\theta + 5)⎠ + 2⋅(\\rho + \\theta + 3) ⋅⎝(\\rh\n",
      "\n",
      "                                                                              \n",
      "                                                                              \n",
      "──────────────────────────────────────────────────────────────────────────────\n",
      "                                                             2                \n",
      "o + \\theta + 1)⋅(2⋅\\rho + 2⋅\\theta + 3) + (\\rho + \\theta + 2)  + (\\rho + \\thet\n",
      "\n",
      "                                \n",
      "                                \n",
      "────────────────────────────────\n",
      "                              ⎞⎞\n",
      "a + 2)⋅(3⋅\\rho + 3⋅\\theta + 5)⎠⎠\n",
      "None \n",
      "\n",
      "\n",
      "\\frac{\\left(\\rho + \\theta + 1\\right) \\left(\\rho + \\theta + 2\\right)^{3} \\left(3 \\rho + 3 \\theta + 7\\right)}{8 \\left(3 \\left(\\left(\\left(\\rho + \\theta + 1\\right) \\left(\\rho + \\theta + 2\\right) + \\left(\\rho + \\theta + 3\\right) \\left(2 \\rho + 2 \\theta + 3\\right)\\right) \\left(\\rho + \\theta + 1\\right) \\left(\\rho + \\theta + 2\\right) + \\left(\\left(\\rho + \\theta + 1\\right) \\left(2 \\rho + 2 \\theta + 3\\right) + \\left(\\rho + \\theta + 2\\right)^{2}\\right) \\left(\\rho + \\theta + 3\\right)^{2}\\right) \\left(\\rho + \\theta + 1\\right) + \\left(\\rho + \\theta + 1\\right) \\left(\\rho + \\theta + 3\\right) \\left(3 \\left(\\left(\\rho + \\theta + 1\\right) \\left(\\rho + \\theta + 2\\right) + \\left(\\rho + \\theta + 3\\right) \\left(2 \\rho + 2 \\theta + 3\\right)\\right) \\left(\\rho + \\theta + 1\\right) + \\left(\\rho + \\theta + 1\\right) \\left(\\rho + \\theta + 3\\right) \\left(5 \\rho + 5 \\theta + 9\\right) + 2 \\left(\\rho + \\theta + 3\\right)^{2} \\left(3 \\rho + 3 \\theta + 5\\right)\\right) + 2 \\left(\\rho + \\theta + 3\\right)^{3} \\left(\\left(\\rho + \\theta + 1\\right) \\left(2 \\rho + 2 \\theta + 3\\right) + \\left(\\rho + \\theta + 2\\right)^{2} + \\left(\\rho + \\theta + 2\\right) \\left(3 \\rho + 3 \\theta + 5\\right)\\right)\\right)}\n"
     ]
    }
   ],
   "source": [
    "# print sympy.pprint(p_3),'\\n\\n'\n",
    "# print sympy.latex(p_3),'\\n\\n'\n",
    "\n",
    "# print sympy.pprint(p_3.simplify()),'\\n\\n'\n",
    "# print sympy.latex(p_3.simplify()),'\\n\\n'\n",
    "\n",
    "# print sympy.pprint(p_3_symm),'\\n\\n'\n",
    "# print sympy.latex(p_3_symm),'\\n\\n'\n",
    "\n",
    "print sympy.pprint(p_3_symm.simplify()),'\\n\\n'\n",
    "print sympy.latex(p_3_symm.simplify()),'\\n\\n'\n",
    "\n",
    "# print sympy.pprint(p_3_star.simplify()),'\\n\\n'\n",
    "# print sympy.latex(p_3_star.simplify()),'\\n\\n'\n",
    "\n",
    "print sympy.pprint(p_3_star_symm.simplify()),'\\n\\n'\n",
    "print sympy.latex(p_3_star_symm.simplify())"
   ]
  },
  {
   "cell_type": "markdown",
   "metadata": {},
   "source": [
    "### We compute values for a table of examples\n",
    "Like table 1 in my note."
   ]
  },
  {
   "cell_type": "code",
   "execution_count": 40,
   "metadata": {},
   "outputs": [
    {
     "name": "stdout",
     "output_type": "stream",
     "text": [
      "n = 3, r = 1,t1 = 0.5,t2 = 0.5\n",
      "P(Omega 2 to 3) :\t0.020263\n",
      "P(Omega_vis) :\t0.00012037\n",
      "P( Omega_vis | Omega 2 to 3) :\t0.0059405\n",
      "\n",
      "n = 3, r = 1,t1 = 0.01,t2 = 0.99\n",
      "P(Omega 2 to 3) :\t0.0008024\n",
      "P(Omega_vis) :\t4.7667e-06\n",
      "P( Omega_vis | Omega 2 to 3) :\t0.0059405\n",
      "\n",
      "n = 3, r = 1,t1 = 1,t2 = 1\n",
      "P(Omega 2 to 3) :\t0.018522\n",
      "P(Omega_vis) :\t0.00011574\n",
      "P( Omega_vis | Omega 2 to 3) :\t0.0062488\n",
      "\n",
      "n = 3, r = 1,t1 = 5,t2 = 5\n",
      "P(Omega 2 to 3) :\t0.0011572\n",
      "P(Omega_vis) :\t8.1115e-06\n",
      "P( Omega_vis | Omega 2 to 3) :\t0.0070098\n",
      "\n",
      "n = 3, r = 1,t1 = 9,t2 = 1\n",
      "P(Omega 2 to 3) :\t0.00041658\n",
      "P(Omega_vis) :\t2.9201e-06\n",
      "P( Omega_vis | Omega 2 to 3) :\t0.0070098\n",
      "\n",
      "n = 3, r = 1e-06,t1 = 1e+06,t2 = 1e+06\n",
      "P(Omega 2 to 3) :\t3.125e-30\n",
      "P(Omega_vis) :\t2.3437e-32\n",
      "P( Omega_vis | Omega 2 to 3) :\t0.0075\n",
      "\n",
      "n = 10, r = 1,t1 = 0.5,t2 = 0.5\n",
      "P(Omega 2 to 10) :\t0.017919\n",
      "P(Omega_vis) :\t0.00023439\n",
      "P( Omega_vis | Omega 2 to 10) :\t0.013081\n",
      "\n",
      "n = 10, r = 1,t1 = 0.01,t2 = 0.99\n",
      "P(Omega 2 to 10) :\t0.00070959\n",
      "P(Omega_vis) :\t9.282e-06\n",
      "P( Omega_vis | Omega 2 to 10) :\t0.013081\n",
      "\n",
      "n = 10, r = 1,t1 = 1,t2 = 1\n",
      "P(Omega 2 to 10) :\t0.0090252\n",
      "P(Omega_vis) :\t0.0001235\n",
      "P( Omega_vis | Omega 2 to 10) :\t0.013684\n",
      "\n",
      "n = 10, r = 1,t1 = 5,t2 = 5\n",
      "P(Omega 2 to 10) :\t1.4719e-05\n",
      "P(Omega_vis) :\t2.2392e-07\n",
      "P( Omega_vis | Omega 2 to 10) :\t0.015213\n",
      "\n",
      "n = 10, r = 1,t1 = 9,t2 = 1\n",
      "P(Omega 2 to 10) :\t5.2988e-06\n",
      "P(Omega_vis) :\t8.0611e-08\n",
      "P( Omega_vis | Omega 2 to 10) :\t0.015213\n",
      "\n",
      "n = 10, r = 1e-06,t1 = 1e+06,t2 = 1e+06\n",
      "P(Omega 2 to 10) :\t3.1574e-67\n",
      "P(Omega_vis) :\t5.1324e-69\n",
      "P( Omega_vis | Omega 2 to 10) :\t0.016255\n",
      "\n",
      "n = 20, r = 1,t1 = 0.5,t2 = 0.5\n",
      "P(Omega 2 to 20) :\t0.011652\n",
      "P(Omega_vis) :\t0.00014047\n",
      "P( Omega_vis | Omega 2 to 20) :\t0.012055\n",
      "\n",
      "n = 20, r = 1,t1 = 0.01,t2 = 0.99\n",
      "P(Omega 2 to 20) :\t0.00046143\n",
      "P(Omega_vis) :\t5.5626e-06\n",
      "P( Omega_vis | Omega 2 to 20) :\t0.012055\n",
      "\n",
      "n = 20, r = 1,t1 = 1,t2 = 1\n",
      "P(Omega 2 to 20) :\t0.0036718\n",
      "P(Omega_vis) :\t4.4995e-05\n",
      "P( Omega_vis | Omega 2 to 20) :\t0.012254\n",
      "\n",
      "n = 20, r = 1,t1 = 5,t2 = 5\n",
      "P(Omega 2 to 20) :\t2.2888e-07\n",
      "P(Omega_vis) :\t2.8288e-09\n",
      "P( Omega_vis | Omega 2 to 20) :\t0.012359\n",
      "\n",
      "n = 20, r = 1,t1 = 9,t2 = 1\n",
      "P(Omega 2 to 20) :\t8.2395e-08\n",
      "P(Omega_vis) :\t1.0184e-09\n",
      "P( Omega_vis | Omega 2 to 20) :\t0.012359\n",
      "\n",
      "n = 20, r = 1e-06,t1 = 1e+06,t2 = 1e+06\n",
      "P(Omega 2 to 20) :\t1.4e-117\n",
      "P(Omega_vis) :\t1.6526e-119\n",
      "P( Omega_vis | Omega 2 to 20) :\t0.011804\n",
      "\n",
      "n = 30, r = 1,t1 = 0.5,t2 = 0.5\n",
      "P(Omega 2 to 30) :\t0.0083095\n",
      "P(Omega_vis) :\t9.0842e-05\n",
      "P( Omega_vis | Omega 2 to 30) :\t0.010932\n",
      "\n",
      "n = 30, r = 1,t1 = 0.01,t2 = 0.99\n",
      "P(Omega 2 to 30) :\t0.00032906\n",
      "P(Omega_vis) :\t3.5973e-06\n",
      "P( Omega_vis | Omega 2 to 30) :\t0.010932\n",
      "\n",
      "n = 30, r = 1,t1 = 1,t2 = 1\n",
      "P(Omega 2 to 30) :\t0.0019236\n",
      "P(Omega_vis) :\t2.099e-05\n",
      "P( Omega_vis | Omega 2 to 30) :\t0.010912\n",
      "\n",
      "n = 30, r = 1,t1 = 5,t2 = 5\n",
      "P(Omega 2 to 30) :\t1.2341e-08\n",
      "P(Omega_vis) :\t1.2712e-10\n",
      "P( Omega_vis | Omega 2 to 30) :\t0.010301\n",
      "\n",
      "n = 30, r = 1,t1 = 9,t2 = 1\n",
      "P(Omega 2 to 30) :\t4.4428e-09\n",
      "P(Omega_vis) :\t4.5763e-11\n",
      "P( Omega_vis | Omega 2 to 30) :\t0.010301\n",
      "\n",
      "n = 30, r = 1e-06,t1 = 1e+06,t2 = 1e+06\n",
      "P(Omega 2 to 30) :\t4.7366e-166\n",
      "P(Omega_vis) :\t4.2063e-168\n",
      "P( Omega_vis | Omega 2 to 30) :\t0.0088804\n",
      "\n",
      "n = 40, r = 1,t1 = 0.5,t2 = 0.5\n",
      "P(Omega 2 to 40) :\t0.0063319\n",
      "P(Omega_vis) :\t6.3862e-05\n",
      "P( Omega_vis | Omega 2 to 40) :\t0.010086\n",
      "\n",
      "n = 40, r = 1,t1 = 0.01,t2 = 0.99\n",
      "P(Omega 2 to 40) :\t0.00025074\n",
      "P(Omega_vis) :\t2.5289e-06\n",
      "P( Omega_vis | Omega 2 to 40) :\t0.010086\n",
      "\n",
      "n = 40, r = 1,t1 = 1,t2 = 1\n",
      "P(Omega 2 to 40) :\t0.0011634\n",
      "P(Omega_vis) :\t1.1564e-05\n",
      "P( Omega_vis | Omega 2 to 40) :\t0.0099397\n",
      "\n",
      "n = 40, r = 1,t1 = 5,t2 = 5\n",
      "P(Omega 2 to 40) :\t1.2963e-09\n",
      "P(Omega_vis) :\t1.1591e-11\n",
      "P( Omega_vis | Omega 2 to 40) :\t0.0089414\n",
      "\n",
      "n = 40, r = 1,t1 = 9,t2 = 1\n",
      "P(Omega 2 to 40) :\t4.6667e-10\n",
      "P(Omega_vis) :\t4.1726e-12\n",
      "P( Omega_vis | Omega 2 to 40) :\t0.0089414\n",
      "\n",
      "n = 40, r = 1e-06,t1 = 1e+06,t2 = 1e+06\n",
      "P(Omega 2 to 40) :\t3.2691e-213\n",
      "P(Omega_vis) :\t2.3004e-215\n",
      "P( Omega_vis | Omega 2 to 40) :\t0.007037\n",
      "\n",
      "n = 50, r = 1,t1 = 0.5,t2 = 0.5\n",
      "P(Omega 2 to 50) :\t0.0050466\n",
      "P(Omega_vis) :\t4.763e-05\n",
      "P( Omega_vis | Omega 2 to 50) :\t0.0094382\n",
      "\n",
      "n = 50, r = 1,t1 = 0.01,t2 = 0.99\n",
      "P(Omega 2 to 50) :\t0.00019984\n",
      "P(Omega_vis) :\t1.8862e-06\n",
      "P( Omega_vis | Omega 2 to 50) :\t0.0094382\n",
      "\n",
      "n = 50, r = 1,t1 = 1,t2 = 1\n",
      "P(Omega 2 to 50) :\t0.00077061\n",
      "P(Omega_vis) :\t7.0994e-06\n",
      "P( Omega_vis | Omega 2 to 50) :\t0.0092126\n",
      "\n",
      "n = 50, r = 1,t1 = 5,t2 = 5\n",
      "P(Omega 2 to 50) :\t2.0647e-10\n",
      "P(Omega_vis) :\t1.6487e-12\n",
      "P( Omega_vis | Omega 2 to 50) :\t0.0079854\n",
      "\n",
      "n = 50, r = 1,t1 = 9,t2 = 1\n",
      "P(Omega 2 to 50) :\t7.4329e-11\n",
      "P(Omega_vis) :\t5.9354e-13\n",
      "P( Omega_vis | Omega 2 to 50) :\t0.0079854\n",
      "\n",
      "n = 50, r = 1e-06,t1 = 1e+06,t2 = 1e+06\n",
      "P(Omega 2 to 50) :\t2.2802e-259\n",
      "P(Omega_vis) :\t1.3205e-261\n",
      "P( Omega_vis | Omega 2 to 50) :\t0.0057911\n",
      "\n",
      "n = 500, r = 1,t1 = 0.5,t2 = 0.5\n",
      "P(Omega 2 to 500) :\t0.00027391\n",
      "P(Omega_vis) :\t1.2814e-06\n",
      "P( Omega_vis | Omega 2 to 500) :\t0.0046783\n",
      "\n",
      "n = 500, r = 1,t1 = 0.01,t2 = 0.99\n",
      "P(Omega 2 to 500) :\t1.0847e-05\n",
      "P(Omega_vis) :\t5.0744e-08\n",
      "P( Omega_vis | Omega 2 to 500) :\t0.0046783\n",
      "\n",
      "n = 500, r = 1,t1 = 1,t2 = 1\n",
      "P(Omega 2 to 500) :\t5.184e-06\n",
      "P(Omega_vis) :\t2.1935e-08\n",
      "P( Omega_vis | Omega 2 to 500) :\t0.0042313\n",
      "\n",
      "n = 500, r = 1,t1 = 5,t2 = 5\n",
      "P(Omega 2 to 500) :\t7.8088e-20\n",
      "P(Omega_vis) :\t2.1048e-22\n",
      "P( Omega_vis | Omega 2 to 500) :\t0.0026955\n",
      "\n",
      "n = 500, r = 1,t1 = 9,t2 = 1\n",
      "P(Omega 2 to 500) :\t2.8112e-20\n",
      "P(Omega_vis) :\t7.5774e-23\n",
      "P( Omega_vis | Omega 2 to 500) :\t0.0026955\n",
      "\n",
      "n = 500, r = 1e-06,t1 = 1e+06,t2 = 1e+06\n",
      "P(Omega 2 to 500) :\t0\n",
      "P(Omega_vis) :\t0\n"
     ]
    },
    {
     "ename": "ZeroDivisionError",
     "evalue": "float division by zero",
     "output_type": "error",
     "traceback": [
      "\u001b[0;31m---------------------------------------------------------------------------\u001b[0m",
      "\u001b[0;31mZeroDivisionError\u001b[0m                         Traceback (most recent call last)",
      "\u001b[0;32m<ipython-input-40-d93a164750ee>\u001b[0m in \u001b[0;36m<module>\u001b[0;34m()\u001b[0m\n\u001b[1;32m     13\u001b[0m     \u001b[0;32mprint\u001b[0m \u001b[0;34m'P(Omega_vis) :\\t%.5g'\u001b[0m\u001b[0;34m%\u001b[0m\u001b[0;34m(\u001b[0m\u001b[0mex_res\u001b[0m\u001b[0;34m[\u001b[0m\u001b[0;34m-\u001b[0m\u001b[0;36m1\u001b[0m\u001b[0;34m]\u001b[0m\u001b[0;34m)\u001b[0m\u001b[0;34m\u001b[0m\u001b[0m\n\u001b[1;32m     14\u001b[0m \u001b[0;34m\u001b[0m\u001b[0m\n\u001b[0;32m---> 15\u001b[0;31m     \u001b[0mex_res\u001b[0m\u001b[0;34m.\u001b[0m\u001b[0mappend\u001b[0m\u001b[0;34m(\u001b[0m\u001b[0mex_res\u001b[0m\u001b[0;34m[\u001b[0m\u001b[0;36m1\u001b[0m\u001b[0;34m]\u001b[0m\u001b[0;34m/\u001b[0m\u001b[0mex_res\u001b[0m\u001b[0;34m[\u001b[0m\u001b[0;36m0\u001b[0m\u001b[0;34m]\u001b[0m\u001b[0;34m)\u001b[0m\u001b[0;34m\u001b[0m\u001b[0m\n\u001b[0m\u001b[1;32m     16\u001b[0m     \u001b[0;32mprint\u001b[0m \u001b[0;34m'P( Omega_vis | Omega 2 to %i) :\\t%.5g'\u001b[0m\u001b[0;34m%\u001b[0m\u001b[0;34m(\u001b[0m\u001b[0mn\u001b[0m\u001b[0;34m,\u001b[0m\u001b[0mex_res\u001b[0m\u001b[0;34m[\u001b[0m\u001b[0;34m-\u001b[0m\u001b[0;36m1\u001b[0m\u001b[0;34m]\u001b[0m\u001b[0;34m)\u001b[0m\u001b[0;34m\u001b[0m\u001b[0m\n\u001b[1;32m     17\u001b[0m \u001b[0;34m\u001b[0m\u001b[0m\n",
      "\u001b[0;31mZeroDivisionError\u001b[0m: float division by zero"
     ]
    }
   ],
   "source": [
    "examples = [(n,r,t1,t2) for n in (3,10,20,30,40,50,500) for (r,t1,t2) in [(1.0,0.5,0.5),(1.0,0.01,0.99),(1.0,1.0,1.0),(1.0,5.0,5.0), (1.0, 9.0, 1.0),(1e-6,1e6,1e6)]]\n",
    "results = []\n",
    "for ex in examples:\n",
    "    n,r,t1,t2 = ex\n",
    "    print 'n = %i, r = %.3g,t1 = %.3g,t2 = %.3g'%ex\n",
    "\n",
    "    ex_res = []\n",
    "    \n",
    "    ex_res.append(P_omega_prime(n,t1,t2,r))\n",
    "    print 'P(Omega 2 to %i) :\\t%.5g'%(n,ex_res[-1])\n",
    "    \n",
    "    ex_res.append(P_omega_prime_vis(n,t1,t2,r))\n",
    "    print 'P(Omega_vis) :\\t%.5g'%(ex_res[-1])\n",
    "    \n",
    "    ex_res.append(ex_res[1]/ex_res[0])\n",
    "    print 'P( Omega_vis | Omega 2 to %i) :\\t%.5g'%(n,ex_res[-1])\n",
    "    \n",
    "    print ''\n",
    "    \n",
    "    results.append(ex_res)"
   ]
  },
  {
   "cell_type": "markdown",
   "metadata": {},
   "source": [
    "*format output as a latex-table:*"
   ]
  },
  {
   "cell_type": "code",
   "execution_count": 41,
   "metadata": {},
   "outputs": [
    {
     "name": "stdout",
     "output_type": "stream",
     "text": [
      "$n$ & $\\rho$ & $\\theta_1$ & $\\theta_2$ & $\\mathbb{P}\\left( \\Omega' \\right)$ & $\\mathbb{P}\\left( \\Omega^{\\prime \\, \\text{vis}} \\right)$ & $\\mathbb{P}\\left( \\Omega^{\\prime \\, \\text{vis}} \\vert \\Omega' \\right)$ \\\\\n",
      "3 & 1 & 0.5 & 0.5 & 0.0203 & 0.00012 & 0.00594 \\\\\n",
      "3 & 1 & 0.01 & 0.99 & 0.000802 & 4.77E-06 & 0.00594 \\\\\n",
      "3 & 1 & 1 & 1 & 0.0185 & 0.000116 & 0.00625 \\\\\n",
      "3 & 1 & 5 & 5 & 0.00116 & 8.11E-06 & 0.00701 \\\\\n",
      "3 & 1 & 9 & 1 & 0.000417 & 2.92E-06 & 0.00701 \\\\\n",
      "3 & 1E-06 & 1E+06 & 1E+06 & 3.12E-30 & 2.34E-32 & 0.0075 \\\\\n",
      "10 & 1 & 0.5 & 0.5 & 0.0179 & 0.000234 & 0.0131 \\\\\n",
      "10 & 1 & 0.01 & 0.99 & 0.00071 & 9.28E-06 & 0.0131 \\\\\n",
      "10 & 1 & 1 & 1 & 0.00903 & 0.000124 & 0.0137 \\\\\n",
      "10 & 1 & 5 & 5 & 1.47E-05 & 2.24E-07 & 0.0152 \\\\\n",
      "10 & 1 & 9 & 1 & 5.3E-06 & 8.06E-08 & 0.0152 \\\\\n",
      "10 & 1E-06 & 1E+06 & 1E+06 & 3.16E-67 & 5.13E-69 & 0.0163 \\\\\n",
      "20 & 1 & 0.5 & 0.5 & 0.0117 & 0.00014 & 0.0121 \\\\\n",
      "20 & 1 & 0.01 & 0.99 & 0.000461 & 5.56E-06 & 0.0121 \\\\\n",
      "20 & 1 & 1 & 1 & 0.00367 & 4.5E-05 & 0.0123 \\\\\n",
      "20 & 1 & 5 & 5 & 2.29E-07 & 2.83E-09 & 0.0124 \\\\\n",
      "20 & 1 & 9 & 1 & 8.24E-08 & 1.02E-09 & 0.0124 \\\\\n",
      "20 & 1E-06 & 1E+06 & 1E+06 & 1.4E-117 & 1.65E-119 & 0.0118 \\\\\n",
      "30 & 1 & 0.5 & 0.5 & 0.00831 & 9.08E-05 & 0.0109 \\\\\n",
      "30 & 1 & 0.01 & 0.99 & 0.000329 & 3.6E-06 & 0.0109 \\\\\n",
      "30 & 1 & 1 & 1 & 0.00192 & 2.1E-05 & 0.0109 \\\\\n",
      "30 & 1 & 5 & 5 & 1.23E-08 & 1.27E-10 & 0.0103 \\\\\n",
      "30 & 1 & 9 & 1 & 4.44E-09 & 4.58E-11 & 0.0103 \\\\\n",
      "30 & 1E-06 & 1E+06 & 1E+06 & 4.74E-166 & 4.21E-168 & 0.00888 \\\\\n",
      "40 & 1 & 0.5 & 0.5 & 0.00633 & 6.39E-05 & 0.0101 \\\\\n",
      "40 & 1 & 0.01 & 0.99 & 0.000251 & 2.53E-06 & 0.0101 \\\\\n",
      "40 & 1 & 1 & 1 & 0.00116 & 1.16E-05 & 0.00994 \\\\\n",
      "40 & 1 & 5 & 5 & 1.3E-09 & 1.16E-11 & 0.00894 \\\\\n",
      "40 & 1 & 9 & 1 & 4.67E-10 & 4.17E-12 & 0.00894 \\\\\n",
      "40 & 1E-06 & 1E+06 & 1E+06 & 3.27E-213 & 2.3E-215 & 0.00704 \\\\\n",
      "50 & 1 & 0.5 & 0.5 & 0.00505 & 4.76E-05 & 0.00944 \\\\\n",
      "50 & 1 & 0.01 & 0.99 & 0.0002 & 1.89E-06 & 0.00944 \\\\\n",
      "50 & 1 & 1 & 1 & 0.000771 & 7.1E-06 & 0.00921 \\\\\n",
      "50 & 1 & 5 & 5 & 2.06E-10 & 1.65E-12 & 0.00799 \\\\\n",
      "50 & 1 & 9 & 1 & 7.43E-11 & 5.94E-13 & 0.00799 \\\\\n",
      "50 & 1E-06 & 1E+06 & 1E+06 & 2.28E-259 & 1.32E-261 & 0.00579 \\\\\n",
      "500 & 1 & 0.5 & 0.5 & 0.000274 & 1.28E-06 & 0.00468 \\\\\n",
      "500 & 1 & 0.01 & 0.99 & 1.08E-05 & 5.07E-08 & 0.00468 \\\\\n",
      "500 & 1 & 1 & 1 & 5.18E-06 & 2.19E-08 & 0.00423 \\\\\n",
      "500 & 1 & 5 & 5 & 7.81E-20 & 2.1E-22 & 0.0027 \\\\\n",
      "500 & 1 & 9 & 1 & 2.81E-20 & 7.58E-23 & 0.0027 \\\\\n"
     ]
    }
   ],
   "source": [
    "print ' & '.join(map(lambda x: '%s'%x, [r'$n$', r'$\\rho$', r'$\\theta_1$', r'$\\theta_2$', r\"$\\mathbb{P}\\left( \\Omega' \\right)$\", r\"$\\mathbb{P}\\left( \\Omega^{\\prime \\, \\text{vis}} \\right)$\", r\"$\\mathbb{P}\\left( \\Omega^{\\prime \\, \\text{vis}} \\vert \\Omega' \\right)$\"]))+r' \\\\'\n",
    "for line in zip(examples,results):\n",
    "    line = line[0] + tuple(line[1])\n",
    "    print ' & '.join(map(lambda x: '%.3G'%x, line))+r' \\\\'"
   ]
  },
  {
   "cell_type": "code",
   "execution_count": 23,
   "metadata": {},
   "outputs": [],
   "source": [
    "l = []"
   ]
  },
  {
   "cell_type": "code",
   "execution_count": 24,
   "metadata": {},
   "outputs": [],
   "source": [
    "l.append(5)"
   ]
  },
  {
   "cell_type": "code",
   "execution_count": 25,
   "metadata": {},
   "outputs": [
    {
     "data": {
      "image/png": "[encoded data removed]",
      "text/latex": [
       "$$\\left [ 5\\right ]$$"
      ],
      "text/plain": [
       "[5]"
      ]
     },
     "execution_count": 25,
     "metadata": {},
     "output_type": "execute_result"
    }
   ],
   "source": [
    "l"
   ]
  },
  {
   "cell_type": "code",
   "execution_count": 26,
   "metadata": {},
   "outputs": [],
   "source": [
    "r = sympy.symbols('r')"
   ]
  },
  {
   "cell_type": "code",
   "execution_count": 27,
   "metadata": {},
   "outputs": [],
   "source": [
    "q = precompute_q(20,theta1,theta2,rho)"
   ]
  },
  {
   "cell_type": "code",
   "execution_count": 28,
   "metadata": {},
   "outputs": [
    {
     "name": "stdout",
     "output_type": "stream",
     "text": [
      "\\frac{\\theta_1 \\theta_2}{8 \\left(\\rho + \\theta_1 + \\theta_2 + 1\\right)^{3} \\left(\\rho + \\theta_1 + \\theta_2 + 2\\right) \\left(\\rho + \\theta_1 + \\theta_2 + 3\\right)^{3} \\left(\\rho + \\theta_1 + \\theta_2 + 5\\right)^{3}} \\left(8 \\left(10 \\left(\\rho + \\theta_1 + \\theta_2 + 1\\right) \\left(2 \\rho + 2 \\theta_1 + 2 \\theta_2 + 3\\right) + \\left(\\rho + \\theta_1 + \\theta_2 + 1\\right) \\left(13 \\rho + 13 \\theta_1 + 13 \\theta_2 + 18\\right) + 10 \\left(\\rho + \\theta_1 + \\theta_2 + 2\\right) \\left(\\rho + \\theta_1 + \\theta_2 + 3\\right)\\right) \\left(\\rho + \\theta_1 + \\theta_2 + 5\\right) + 48 \\left(\\rho + \\theta_1 + \\theta_2 + 1\\right) \\left(\\rho + \\theta_1 + \\theta_2 + 3\\right) \\left(2 \\rho + 2 \\theta_1 + 2 \\theta_2 + 3\\right) + 4 \\left(\\rho + \\theta_1 + \\theta_2 + 5\\right) \\left(16 \\left(\\rho + \\theta_1 + \\theta_2 + 1\\right) \\left(2 \\rho + 2 \\theta_1 + 2 \\theta_2 + 3\\right) + \\left(\\rho + \\theta_1 + \\theta_2 + 1\\right) \\left(11 \\rho + 11 \\theta_1 + 11 \\theta_2 + 18\\right) + 16 \\left(\\rho + \\theta_1 + \\theta_2 + 2\\right) \\left(\\rho + \\theta_1 + \\theta_2 + 3\\right) + 6 \\left(\\rho + \\theta_1 + \\theta_2 + 2\\right) \\left(3 \\rho + 3 \\theta_1 + 3 \\theta_2 + 7\\right)\\right) + 3 \\left(\\rho + \\theta_1 + \\theta_2 + 5\\right) \\left(16 \\left(\\rho + \\theta_1 + \\theta_2 + 1\\right) \\left(2 \\rho + 2 \\theta_1 + 2 \\theta_2 + 3\\right) + \\left(\\rho + \\theta_1 + \\theta_2 + 1\\right) \\left(11 \\rho + 11 \\theta_1 + 11 \\theta_2 + 18\\right) + 16 \\left(\\rho + \\theta_1 + \\theta_2 + 2\\right) \\left(\\rho + \\theta_1 + \\theta_2 + 3\\right) + 10 \\left(\\rho + \\theta_1 + \\theta_2 + 2\\right) \\left(3 \\rho + 3 \\theta_1 + 3 \\theta_2 + 7\\right)\\right)\\right)\n"
     ]
    }
   ],
   "source": [
    "print sympy.latex(sympy.simplify(q[(6,0,0)]))"
   ]
  },
  {
   "cell_type": "code",
   "execution_count": 29,
   "metadata": {},
   "outputs": [
    {
     "data": {
      "image/png": "[encoded data removed]",
      "text/latex": [
       "$$\\frac{\\theta_1 \\theta_2}{2 \\left(\\rho + \\theta_1 + \\theta_2 + 1\\right)^{3}}$$"
      ],
      "text/plain": [
       "         \\theta₁⋅\\theta₂         \n",
       "─────────────────────────────────\n",
       "                                3\n",
       "2⋅(\\rho + \\theta₁ + \\theta₂ + 1) "
      ]
     },
     "execution_count": 29,
     "metadata": {},
     "output_type": "execute_result"
    }
   ],
   "source": [
    "sympy.simplify(q[(2,1,1)])"
   ]
  },
  {
   "cell_type": "code",
   "execution_count": 30,
   "metadata": {},
   "outputs": [
    {
     "data": {
      "image/png": "[encoded data removed]",
      "text/latex": [
       "$$\\frac{1}{\\rho + \\theta_1 + \\theta_2 + 3} \\left(\\frac{\\theta_1 \\theta_2}{4 \\left(\\rho + \\theta_1 + \\theta_2 + 1\\right)^{2} \\left(\\rho + \\theta_1 + \\theta_2 + 3\\right)} + \\frac{\\theta_1 \\theta_2}{2 \\left(\\rho + \\theta_1 + \\theta_2 + 1\\right)^{3}}\\right)$$"
      ],
      "text/plain": [
       "                        \\theta₁⋅\\theta₂                                     \\t\n",
       "──────────────────────────────────────────────────────────────── + ───────────\n",
       "                                2                                             \n",
       "4⋅(\\rho + \\theta₁ + \\theta₂ + 1) ⋅(\\rho + \\theta₁ + \\theta₂ + 3)   2⋅(\\rho + \\\n",
       "──────────────────────────────────────────────────────────────────────────────\n",
       "                                    \\rho + \\theta₁ + \\theta₂ + 3              \n",
       "\n",
       "heta₁⋅\\theta₂         \n",
       "──────────────────────\n",
       "                     3\n",
       "theta₁ + \\theta₂ + 1) \n",
       "──────────────────────\n",
       "                      "
      ]
     },
     "execution_count": 30,
     "metadata": {},
     "output_type": "execute_result"
    }
   ],
   "source": [
    "q[(3,1,0)]"
   ]
  },
  {
   "cell_type": "code",
   "execution_count": 31,
   "metadata": {},
   "outputs": [
    {
     "data": {
      "image/png": "[encoded data removed]",
      "text/latex": [
       "$$\\frac{\\theta_1 \\theta_2 \\left(3 \\rho + 3 \\theta_1 + 3 \\theta_2 + 7\\right)}{4 \\left(\\rho + \\theta_1 + \\theta_2 + 1\\right)^{3} \\left(\\rho + \\theta_1 + \\theta_2 + 3\\right)^{2}}$$"
      ],
      "text/plain": [
       "       \\theta₁⋅\\theta₂⋅(3⋅\\rho + 3⋅\\theta₁ + 3⋅\\theta₂ + 7)      \n",
       "─────────────────────────────────────────────────────────────────\n",
       "                                3                               2\n",
       "4⋅(\\rho + \\theta₁ + \\theta₂ + 1) ⋅(\\rho + \\theta₁ + \\theta₂ + 3) "
      ]
     },
     "execution_count": 31,
     "metadata": {},
     "output_type": "execute_result"
    }
   ],
   "source": [
    "sympy.simplify(q[(3,1,0)])"
   ]
  },
  {
   "cell_type": "code",
   "execution_count": 32,
   "metadata": {},
   "outputs": [
    {
     "data": {
      "image/png": "[encoded data removed]",
      "text/latex": [
       "$$\\frac{1}{\\rho + \\theta_1 + \\theta_2 + 3} \\left(\\frac{\\theta_1 \\theta_2}{4 \\left(\\rho + \\theta_1 + \\theta_2 + 1\\right)^{2} \\left(\\rho + \\theta_1 + \\theta_2 + 3\\right)} + \\frac{\\theta_1 \\theta_2}{2 \\left(\\rho + \\theta_1 + \\theta_2 + 1\\right)^{3}}\\right)$$"
      ],
      "text/plain": [
       "                        \\theta₁⋅\\theta₂                                     \\t\n",
       "──────────────────────────────────────────────────────────────── + ───────────\n",
       "                                2                                             \n",
       "4⋅(\\rho + \\theta₁ + \\theta₂ + 1) ⋅(\\rho + \\theta₁ + \\theta₂ + 3)   2⋅(\\rho + \\\n",
       "──────────────────────────────────────────────────────────────────────────────\n",
       "                                    \\rho + \\theta₁ + \\theta₂ + 3              \n",
       "\n",
       "heta₁⋅\\theta₂         \n",
       "──────────────────────\n",
       "                     3\n",
       "theta₁ + \\theta₂ + 1) \n",
       "──────────────────────\n",
       "                      "
      ]
     },
     "execution_count": 32,
     "metadata": {},
     "output_type": "execute_result"
    }
   ],
   "source": [
    "q[(3,0,1)]"
   ]
  },
  {
   "cell_type": "code",
   "execution_count": 33,
   "metadata": {},
   "outputs": [
    {
     "data": {
      "image/png": "[encoded data removed]",
      "text/latex": [
       "$$\\frac{\\theta_1 \\theta_2 \\left(3 \\rho + 3 \\theta_1 + 3 \\theta_2 + 7\\right)}{4 \\left(\\rho + \\theta_1 + \\theta_2 + 1\\right)^{3} \\left(\\rho + \\theta_1 + \\theta_2 + 3\\right)^{2}}$$"
      ],
      "text/plain": [
       "       \\theta₁⋅\\theta₂⋅(3⋅\\rho + 3⋅\\theta₁ + 3⋅\\theta₂ + 7)      \n",
       "─────────────────────────────────────────────────────────────────\n",
       "                                3                               2\n",
       "4⋅(\\rho + \\theta₁ + \\theta₂ + 1) ⋅(\\rho + \\theta₁ + \\theta₂ + 3) "
      ]
     },
     "execution_count": 33,
     "metadata": {},
     "output_type": "execute_result"
    }
   ],
   "source": [
    "sympy.simplify(q[(3,0,1)])"
   ]
  },
  {
   "cell_type": "code",
   "execution_count": 34,
   "metadata": {},
   "outputs": [
    {
     "data": {
      "image/png": "[encoded data removed]",
      "text/latex": [
       "$$\\frac{4 \\left(\\frac{\\theta_1 \\theta_2}{4 \\left(\\rho + \\theta_1 + \\theta_2 + 1\\right)^{2} \\left(\\rho + \\theta_1 + \\theta_2 + 3\\right)} + \\frac{\\theta_1 \\theta_2}{2 \\left(\\rho + \\theta_1 + \\theta_2 + 1\\right)^{3}}\\right)}{\\left(\\rho + \\theta_1 + \\theta_2 + 3\\right) \\left(2 \\rho + 2 \\theta_1 + 2 \\theta_2 + 6\\right)}$$"
      ],
      "text/plain": [
       "  ⎛                        \\theta₁⋅\\theta₂                                    \n",
       "4⋅⎜──────────────────────────────────────────────────────────────── + ────────\n",
       "  ⎜                                2                                          \n",
       "  ⎝4⋅(\\rho + \\theta₁ + \\theta₂ + 1) ⋅(\\rho + \\theta₁ + \\theta₂ + 3)   2⋅(\\rho \n",
       "──────────────────────────────────────────────────────────────────────────────\n",
       "                  (\\rho + \\theta₁ + \\theta₂ + 3)⋅(2⋅\\rho + 2⋅\\theta₁ + 2⋅\\thet\n",
       "\n",
       " \\theta₁⋅\\theta₂         ⎞\n",
       "─────────────────────────⎟\n",
       "                        3⎟\n",
       "+ \\theta₁ + \\theta₂ + 1) ⎠\n",
       "──────────────────────────\n",
       "a₂ + 6)                   "
      ]
     },
     "execution_count": 34,
     "metadata": {},
     "output_type": "execute_result"
    }
   ],
   "source": [
    "q[(4,0,0)]"
   ]
  },
  {
   "cell_type": "code",
   "execution_count": 35,
   "metadata": {},
   "outputs": [
    {
     "data": {
      "image/png": "[encoded data removed]",
      "text/latex": [
       "$$\\frac{\\theta_1 \\theta_2 \\left(3 \\rho + 3 \\theta_1 + 3 \\theta_2 + 7\\right)}{2 \\left(\\rho + \\theta_1 + \\theta_2 + 1\\right)^{3} \\left(\\rho + \\theta_1 + \\theta_2 + 3\\right)^{3}}$$"
      ],
      "text/plain": [
       "       \\theta₁⋅\\theta₂⋅(3⋅\\rho + 3⋅\\theta₁ + 3⋅\\theta₂ + 7)      \n",
       "─────────────────────────────────────────────────────────────────\n",
       "                                3                               3\n",
       "2⋅(\\rho + \\theta₁ + \\theta₂ + 1) ⋅(\\rho + \\theta₁ + \\theta₂ + 3) "
      ]
     },
     "execution_count": 35,
     "metadata": {},
     "output_type": "execute_result"
    }
   ],
   "source": [
    "sympy.simplify(q[(4,0,0)])"
   ]
  },
  {
   "cell_type": "code",
   "execution_count": null,
   "metadata": {},
   "outputs": [],
   "source": []
  }
 ],
 "metadata": {
  "kernelspec": {
   "display_name": "Python 2",
   "language": "python",
   "name": "python2"
  },
  "language_info": {
   "codemirror_mode": {
    "name": "ipython",
    "version": 2
   },
   "file_extension": ".py",
   "mimetype": "text/x-python",
   "name": "python",
   "nbconvert_exporter": "python",
   "pygments_lexer": "ipython2",
   "version": "2.7.13"
  }
 },
 "nbformat": 4,
 "nbformat_minor": 2
}
